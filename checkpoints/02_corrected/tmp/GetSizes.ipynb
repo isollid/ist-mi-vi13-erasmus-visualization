{
 "cells": [
  {
   "cell_type": "code",
   "execution_count": 1,
   "metadata": {
    "ExecuteTime": {
     "end_time": "2019-10-22T11:18:03.408790Z",
     "start_time": "2019-10-22T11:18:02.513429Z"
    }
   },
   "outputs": [],
   "source": [
    "import numpy as np\n",
    "import pandas as pd"
   ]
  },
  {
   "cell_type": "markdown",
   "metadata": {},
   "source": [
    "### Cost of living\n",
    "- 576 entries\n",
    "- 21 columns"
   ]
  },
  {
   "cell_type": "code",
   "execution_count": 2,
   "metadata": {
    "ExecuteTime": {
     "end_time": "2019-10-22T11:18:21.859658Z",
     "start_time": "2019-10-22T11:18:21.841810Z"
    }
   },
   "outputs": [],
   "source": [
    "df = pd.read_csv(\"../data_submission/original_datasets/cost-of-living-2016.csv\")"
   ]
  },
  {
   "cell_type": "code",
   "execution_count": 4,
   "metadata": {
    "ExecuteTime": {
     "end_time": "2019-10-22T11:18:32.705009Z",
     "start_time": "2019-10-22T11:18:32.694610Z"
    }
   },
   "outputs": [
    {
     "name": "stdout",
     "output_type": "stream",
     "text": [
      "<class 'pandas.core.frame.DataFrame'>\n",
      "RangeIndex: 576 entries, 0 to 575\n",
      "Data columns (total 21 columns):\n",
      "City                                                               576 non-null object\n",
      "Country                                                            576 non-null object\n",
      "Cost.of.Living.Index                                               576 non-null float64\n",
      "Rent.Index                                                         576 non-null float64\n",
      "Cost.of.Living.Plus.Rent.Index                                     576 non-null float64\n",
      "Groceries.Index                                                    576 non-null float64\n",
      "Restaurant.Price.Index                                             576 non-null float64\n",
      "Local.Purchasing.Power.Index                                       576 non-null float64\n",
      "Milk(regular)(1 liter)                                             576 non-null float64\n",
      "Monthly.Pass                                                       576 non-null float64\n",
      "Apartment(1.bedroom).in.City.Centre                                576 non-null float64\n",
      "Internet(10 Mbps, Unlimited Data, Cable/ADSL)                      576 non-null float64\n",
      "Cappuccino(regular)                                                576 non-null float64\n",
      "Water(0.33 liter bottle)                                           576 non-null float64\n",
      "Eggs(12)                                                           576 non-null float64\n",
      "Water(1.5 liter bottle)                                            576 non-null float64\n",
      "Domestic Beer (0.5 liter bottle)                                   563 non-null float64\n",
      "One-way Ticket (Local Transport)                                   576 non-null float64\n",
      "Basic (Electricity, Heating, Water, Garbage) for 85m2 Apartment    576 non-null float64\n",
      "Cinema, International Release, 1 Seat                              576 non-null float64\n",
      "Apples (1kg)                                                       576 non-null float64\n",
      "dtypes: float64(19), object(2)\n",
      "memory usage: 94.6+ KB\n"
     ]
    }
   ],
   "source": [
    "df.info()"
   ]
  },
  {
   "cell_type": "markdown",
   "metadata": {},
   "source": [
    "### CountryInfo\n",
    "- 252 entries\n",
    "- 19 columns"
   ]
  },
  {
   "cell_type": "code",
   "execution_count": 6,
   "metadata": {
    "ExecuteTime": {
     "end_time": "2019-10-22T11:19:40.416017Z",
     "start_time": "2019-10-22T11:19:40.406214Z"
    }
   },
   "outputs": [],
   "source": [
    "df = pd.read_csv(\"../data_submission/original_datasets/countryInfo.txt\", sep=\"\\t\")"
   ]
  },
  {
   "cell_type": "code",
   "execution_count": 8,
   "metadata": {
    "ExecuteTime": {
     "end_time": "2019-10-22T11:19:56.607819Z",
     "start_time": "2019-10-22T11:19:56.599348Z"
    }
   },
   "outputs": [
    {
     "name": "stdout",
     "output_type": "stream",
     "text": [
      "<class 'pandas.core.frame.DataFrame'>\n",
      "RangeIndex: 252 entries, 0 to 251\n",
      "Data columns (total 19 columns):\n",
      "ISO                   251 non-null object\n",
      "ISO3                  252 non-null object\n",
      "ISO-Numeric           252 non-null int64\n",
      "fips                  249 non-null object\n",
      "Country               252 non-null object\n",
      "Capital               246 non-null object\n",
      "Area(in sq km)        252 non-null float64\n",
      "Population            252 non-null int64\n",
      "Continent             210 non-null object\n",
      "tld                   250 non-null object\n",
      "CurrencyCode          251 non-null object\n",
      "CurrencyName          251 non-null object\n",
      "Phone                 247 non-null object\n",
      "Postal Code Format    160 non-null object\n",
      "Postal Code Regex     160 non-null object\n",
      "Languages             249 non-null object\n",
      "geonameid             252 non-null int64\n",
      "neighbours            165 non-null object\n",
      "EquivalentFipsCode    1 non-null object\n",
      "dtypes: float64(1), int64(3), object(15)\n",
      "memory usage: 37.5+ KB\n"
     ]
    }
   ],
   "source": [
    "df.info()"
   ]
  },
  {
   "cell_type": "markdown",
   "metadata": {},
   "source": [
    "### Student_Mobility_2013-14.xlsx\n",
    "- 272497 entries\n",
    "- 27 columns"
   ]
  },
  {
   "cell_type": "code",
   "execution_count": 9,
   "metadata": {
    "ExecuteTime": {
     "end_time": "2019-10-22T11:21:39.152791Z",
     "start_time": "2019-10-22T11:20:36.380239Z"
    }
   },
   "outputs": [],
   "source": [
    "df = pd.read_excel(\"../data_submission/original_datasets/Student_Mobility_2013-14.xlsx\")"
   ]
  },
  {
   "cell_type": "code",
   "execution_count": 10,
   "metadata": {
    "ExecuteTime": {
     "end_time": "2019-10-22T11:21:39.770479Z",
     "start_time": "2019-10-22T11:21:39.434812Z"
    }
   },
   "outputs": [
    {
     "name": "stdout",
     "output_type": "stream",
     "text": [
      "<class 'pandas.core.frame.DataFrame'>\n",
      "RangeIndex: 272497 entries, 0 to 272496\n",
      "Data columns (total 27 columns):\n",
      "Action                     272497 non-null object\n",
      "CallYear                   272497 non-null int64\n",
      "ProjectNumber              272497 non-null object\n",
      "MobiilityID                272497 non-null object\n",
      "SendingCountry             272497 non-null object\n",
      "ReceivingCountry           272497 non-null object\n",
      "MobilityType               272497 non-null object\n",
      "SpecialNeeds               272497 non-null float64\n",
      "SubjectAreaCode            272497 non-null int64\n",
      "SubjectAreaName            272497 non-null object\n",
      "CombinedMobilityYesNo      212208 non-null object\n",
      "StartDate                  272497 non-null object\n",
      "EndDate                    272497 non-null object\n",
      "DurationInMonths           272497 non-null int64\n",
      "DurationInDays             272497 non-null int64\n",
      "SubsistenceTravel          272497 non-null float64\n",
      "LevelOfStudy               272497 non-null object\n",
      "ParticipantID              222033 non-null object\n",
      "ParticipantGender          272497 non-null object\n",
      "ParticipantType            272497 non-null object\n",
      "Language                   272497 non-null object\n",
      "SendingPartnerErasmusID    272497 non-null object\n",
      "SendingPartnerName         272497 non-null object\n",
      "HostingPartnerErasmusID    218225 non-null object\n",
      "HostingPartnerName         272497 non-null object\n",
      "HostingPartnerCountry      272497 non-null object\n",
      "HostingPartnerCity         272484 non-null object\n",
      "dtypes: float64(2), int64(4), object(21)\n",
      "memory usage: 56.1+ MB\n"
     ]
    }
   ],
   "source": [
    "df.info()"
   ]
  },
  {
   "cell_type": "markdown",
   "metadata": {},
   "source": [
    "### EUC_ for_the_academic_year_2013_2014.xls\n",
    "- 4919 entries\n",
    "- 6 columns"
   ]
  },
  {
   "cell_type": "code",
   "execution_count": 11,
   "metadata": {
    "ExecuteTime": {
     "end_time": "2019-10-22T11:22:46.388428Z",
     "start_time": "2019-10-22T11:22:46.094198Z"
    }
   },
   "outputs": [],
   "source": [
    "df = pd.read_excel(\"../data_submission/original_datasets/EUC_ for_the_academic_year_2013_2014.xls\")"
   ]
  },
  {
   "cell_type": "code",
   "execution_count": 12,
   "metadata": {
    "ExecuteTime": {
     "end_time": "2019-10-22T11:22:50.031968Z",
     "start_time": "2019-10-22T11:22:50.021695Z"
    }
   },
   "outputs": [
    {
     "name": "stdout",
     "output_type": "stream",
     "text": [
      "<class 'pandas.core.frame.DataFrame'>\n",
      "RangeIndex: 4919 entries, 0 to 4918\n",
      "Data columns (total 6 columns):\n",
      "Institutional code              4919 non-null object\n",
      "Application Reference Number    4919 non-null object\n",
      "Name of Organisation            4919 non-null object\n",
      "Country                         4919 non-null object\n",
      "City                            4919 non-null object\n",
      "Code                            4919 non-null object\n",
      "dtypes: object(6)\n",
      "memory usage: 230.7+ KB\n"
     ]
    }
   ],
   "source": [
    "df.info()"
   ]
  },
  {
   "cell_type": "code",
   "execution_count": null,
   "metadata": {},
   "outputs": [],
   "source": []
  }
 ],
 "metadata": {
  "kernelspec": {
   "display_name": "Python 3",
   "language": "python",
   "name": "python3"
  },
  "language_info": {
   "codemirror_mode": {
    "name": "ipython",
    "version": 3
   },
   "file_extension": ".py",
   "mimetype": "text/x-python",
   "name": "python",
   "nbconvert_exporter": "python",
   "pygments_lexer": "ipython3",
   "version": "3.6.1"
  }
 },
 "nbformat": 4,
 "nbformat_minor": 2
}
