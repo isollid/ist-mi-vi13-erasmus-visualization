{
 "cells": [
  {
   "cell_type": "code",
   "execution_count": 1,
   "metadata": {
    "ExecuteTime": {
     "end_time": "2019-10-22T11:18:03.408790Z",
     "start_time": "2019-10-22T11:18:02.513429Z"
    }
   },
   "outputs": [],
   "source": [
    "import numpy as np\n",
    "import pandas as pd"
   ]
  },
  {
   "cell_type": "markdown",
   "metadata": {},
   "source": [
    "### Cost of living\n",
    "- 576 entries\n",
    "- 21 columns"
   ]
  },
  {
   "cell_type": "code",
   "execution_count": 2,
   "metadata": {
    "ExecuteTime": {
     "end_time": "2019-10-22T11:18:21.859658Z",
     "start_time": "2019-10-22T11:18:21.841810Z"
    }
   },
   "outputs": [],
   "source": [
    "df = pd.read_csv(\"../data_submission/original_datasets/cost-of-living-2016.csv\")"
   ]
  },
  {
   "cell_type": "code",
   "execution_count": 4,
   "metadata": {
    "ExecuteTime": {
     "end_time": "2019-10-22T11:18:32.705009Z",
     "start_time": "2019-10-22T11:18:32.694610Z"
    }
   },
   "outputs": [
    {
     "name": "stdout",
     "output_type": "stream",
     "text": [
      "<class 'pandas.core.frame.DataFrame'>\n",
      "RangeIndex: 576 entries, 0 to 575\n",
      "Data columns (total 21 columns):\n",
      "City                                                               576 non-null object\n",
      "Country                                                            576 non-null object\n",
      "Cost.of.Living.Index                                               576 non-null float64\n",
      "Rent.Index                                                         576 non-null float64\n",
      "Cost.of.Living.Plus.Rent.Index                                     576 non-null float64\n",
      "Groceries.Index                                                    576 non-null float64\n",
      "Restaurant.Price.Index                                             576 non-null float64\n",
      "Local.Purchasing.Power.Index                                       576 non-null float64\n",
      "Milk(regular)(1 liter)                                             576 non-null float64\n",
      "Monthly.Pass                                                       576 non-null float64\n",
      "Apartment(1.bedroom).in.City.Centre                                576 non-null float64\n",
      "Internet(10 Mbps, Unlimited Data, Cable/ADSL)                      576 non-null float64\n",
      "Cappuccino(regular)                                                576 non-null float64\n",
      "Water(0.33 liter bottle)                                           576 non-null float64\n",
      "Eggs(12)                                                           576 non-null float64\n",
      "Water(1.5 liter bottle)                                            576 non-null float64\n",
      "Domestic Beer (0.5 liter bottle)                                   563 non-null float64\n",
      "One-way Ticket (Local Transport)                                   576 non-null float64\n",
      "Basic (Electricity, Heating, Water, Garbage) for 85m2 Apartment    576 non-null float64\n",
      "Cinema, International Release, 1 Seat                              576 non-null float64\n",
      "Apples (1kg)                                                       576 non-null float64\n",
      "dtypes: float64(19), object(2)\n",
      "memory usage: 94.6+ KB\n"
     ]
    }
   ],
   "source": [
    "df.info()"
   ]
  },
  {
   "cell_type": "markdown",
   "metadata": {},
   "source": [
    "### CountryInfo\n",
    "- 252 entries\n",
    "- 19 columns"
   ]
  },
  {
   "cell_type": "code",
   "execution_count": 6,
   "metadata": {
    "ExecuteTime": {
     "end_time": "2019-10-22T11:19:40.416017Z",
     "start_time": "2019-10-22T11:19:40.406214Z"
    }
   },
   "outputs": [],
   "source": [
    "df = pd.read_csv(\"../data_submission/original_datasets/countryInfo.txt\", sep=\"\\t\")"
   ]
  },
  {
   "cell_type": "code",
   "execution_count": 8,
   "metadata": {
    "ExecuteTime": {
     "end_time": "2019-10-22T11:19:56.607819Z",
     "start_time": "2019-10-22T11:19:56.599348Z"
    }
   },
   "outputs": [
    {
     "name": "stdout",
     "output_type": "stream",
     "text": [
      "<class 'pandas.core.frame.DataFrame'>\n",
      "RangeIndex: 252 entries, 0 to 251\n",
      "Data columns (total 19 columns):\n",
      "ISO                   251 non-null object\n",
      "ISO3                  252 non-null object\n",
      "ISO-Numeric           252 non-null int64\n",
      "fips                  249 non-null object\n",
      "Country               252 non-null object\n",
      "Capital               246 non-null object\n",
      "Area(in sq km)        252 non-null float64\n",
      "Population            252 non-null int64\n",
      "Continent             210 non-null object\n",
      "tld                   250 non-null object\n",
      "CurrencyCode          251 non-null object\n",
      "CurrencyName          251 non-null object\n",
      "Phone                 247 non-null object\n",
      "Postal Code Format    160 non-null object\n",
      "Postal Code Regex     160 non-null object\n",
      "Languages             249 non-null object\n",
      "geonameid             252 non-null int64\n",
      "neighbours            165 non-null object\n",
      "EquivalentFipsCode    1 non-null object\n",
      "dtypes: float64(1), int64(3), object(15)\n",
      "memory usage: 37.5+ KB\n"
     ]
    }
   ],
   "source": [
    "df.info()"
   ]
  },
  {
   "cell_type": "markdown",
   "metadata": {},
   "source": [
    "### Student_Mobility_2013-14.xlsx\n",
    "- 272497 entries\n",
    "- 27 columns"
   ]
  },
  {
   "cell_type": "code",
   "execution_count": 9,
   "metadata": {
    "ExecuteTime": {
     "end_time": "2019-10-22T11:21:39.152791Z",
     "start_time": "2019-10-22T11:20:36.380239Z"
    }
   },
   "outputs": [],
   "source": [
    "df = pd.read_excel(\"../data_submission/original_datasets/Student_Mobility_2013-14.xlsx\")"
   ]
  },
  {
   "cell_type": "code",
   "execution_count": 10,
   "metadata": {
    "ExecuteTime": {
     "end_time": "2019-10-22T11:21:39.770479Z",
     "start_time": "2019-10-22T11:21:39.434812Z"
    }
   },
   "outputs": [
    {
     "name": "stdout",
     "output_type": "stream",
     "text": [
      "<class 'pandas.core.frame.DataFrame'>\n",
      "RangeIndex: 272497 entries, 0 to 272496\n",
      "Data columns (total 27 columns):\n",
      "Action                     272497 non-null object\n",
      "CallYear                   272497 non-null int64\n",
      "ProjectNumber              272497 non-null object\n",
      "MobiilityID                272497 non-null object\n",
      "SendingCountry             272497 non-null object\n",
      "ReceivingCountry           272497 non-null object\n",
      "MobilityType               272497 non-null object\n",
      "SpecialNeeds               272497 non-null float64\n",
      "SubjectAreaCode            272497 non-null int64\n",
      "SubjectAreaName            272497 non-null object\n",
      "CombinedMobilityYesNo      212208 non-null object\n",
      "StartDate                  272497 non-null object\n",
      "EndDate                    272497 non-null object\n",
      "DurationInMonths           272497 non-null int64\n",
      "DurationInDays             272497 non-null int64\n",
      "SubsistenceTravel          272497 non-null float64\n",
      "LevelOfStudy               272497 non-null object\n",
      "ParticipantID              222033 non-null object\n",
      "ParticipantGender          272497 non-null object\n",
      "ParticipantType            272497 non-null object\n",
      "Language                   272497 non-null object\n",
      "SendingPartnerErasmusID    272497 non-null object\n",
      "SendingPartnerName         272497 non-null object\n",
      "HostingPartnerErasmusID    218225 non-null object\n",
      "HostingPartnerName         272497 non-null object\n",
      "HostingPartnerCountry      272497 non-null object\n",
      "HostingPartnerCity         272484 non-null object\n",
      "dtypes: float64(2), int64(4), object(21)\n",
      "memory usage: 56.1+ MB\n"
     ]
    }
   ],
   "source": [
    "df.info()"
   ]
  },
  {
   "cell_type": "markdown",
   "metadata": {},
   "source": [
    "### EUC_ for_the_academic_year_2013_2014.xls\n",
    "- 4919 entries\n",
    "- 6 columns"
   ]
  },
  {
   "cell_type": "code",
   "execution_count": 11,
   "metadata": {
    "ExecuteTime": {
     "end_time": "2019-10-22T11:22:46.388428Z",
     "start_time": "2019-10-22T11:22:46.094198Z"
    }
   },
   "outputs": [],
   "source": [
    "df = pd.read_excel(\"../data_submission/original_datasets/EUC_ for_the_academic_year_2013_2014.xls\")"
   ]
  },
  {
   "cell_type": "code",
   "execution_count": 12,
   "metadata": {
    "ExecuteTime": {
     "end_time": "2019-10-22T11:22:50.031968Z",
     "start_time": "2019-10-22T11:22:50.021695Z"
    }
   },
   "outputs": [
    {
     "name": "stdout",
     "output_type": "stream",
     "text": [
      "<class 'pandas.core.frame.DataFrame'>\n",
      "RangeIndex: 4919 entries, 0 to 4918\n",
      "Data columns (total 6 columns):\n",
      "Institutional code              4919 non-null object\n",
      "Application Reference Number    4919 non-null object\n",
      "Name of Organisation            4919 non-null object\n",
      "Country                         4919 non-null object\n",
      "City                            4919 non-null object\n",
      "Code                            4919 non-null object\n",
      "dtypes: object(6)\n",
      "memory usage: 230.7+ KB\n"
     ]
    }
   ],
   "source": [
    "df.info()"
   ]
  },
  {
   "cell_type": "code",
   "execution_count": 4,
   "metadata": {
    "ExecuteTime": {
     "end_time": "2019-10-22T11:55:14.286573Z",
     "start_time": "2019-10-22T11:55:13.520238Z"
    }
   },
   "outputs": [],
   "source": [
    "import glob\n",
    "import pandas as pd"
   ]
  },
  {
   "cell_type": "code",
   "execution_count": 5,
   "metadata": {
    "ExecuteTime": {
     "end_time": "2019-10-22T11:55:14.292866Z",
     "start_time": "2019-10-22T11:55:14.289513Z"
    }
   },
   "outputs": [],
   "source": [
    "dataset_paths = glob.glob(\"../data_submission/final_datasets/*.csv\")"
   ]
  },
  {
   "cell_type": "code",
   "execution_count": 14,
   "metadata": {
    "ExecuteTime": {
     "end_time": "2019-10-22T11:57:59.776039Z",
     "start_time": "2019-10-22T11:57:59.404200Z"
    }
   },
   "outputs": [
    {
     "name": "stdout",
     "output_type": "stream",
     "text": [
      "favourite_20191018.csv \n",
      "\t- length:  33\n",
      "gender_20191018.csv \n",
      "\t- length:  66\n",
      "favourit_in_out_20191018.csv \n",
      "\t- length:  33\n",
      "flow_coordinates_20191018.csv \n",
      "\t- failed to read\n",
      "geocodedMobility.csv \n",
      "\t- length:  207790\n",
      "favourite_degree_20191018.csv \n",
      "\t- length:  32\n",
      "flow_20191018.csv \n",
      "\t- length:  928\n"
     ]
    }
   ],
   "source": [
    "for path in dataset_paths:\n",
    "    filename = path.split(\"/\")[-1]\n",
    "    try:\n",
    "        df = pd.read_csv(path)\n",
    "        print(filename, \"\\n\\t- length: \", len(df))\n",
    "    except:\n",
    "        print(filename, \"\\n\\t-\", \"failed to read\")"
   ]
  },
  {
   "cell_type": "code",
   "execution_count": 21,
   "metadata": {
    "ExecuteTime": {
     "end_time": "2019-10-22T12:00:06.870402Z",
     "start_time": "2019-10-22T12:00:06.847418Z"
    }
   },
   "outputs": [
    {
     "ename": "ParserError",
     "evalue": "Error tokenizing data. C error: Expected 3 fields in line 5, saw 4\n",
     "output_type": "error",
     "traceback": [
      "\u001b[0;31m---------------------------------------------------------------------------\u001b[0m",
      "\u001b[0;31mParserError\u001b[0m                               Traceback (most recent call last)",
      "\u001b[0;32m<ipython-input-21-730d2931a93e>\u001b[0m in \u001b[0;36m<module>\u001b[0;34m()\u001b[0m\n\u001b[0;32m----> 1\u001b[0;31m \u001b[0mpd\u001b[0m\u001b[0;34m.\u001b[0m\u001b[0mread_csv\u001b[0m\u001b[0;34m(\u001b[0m\u001b[0;34m\"../data_submission/final_datasets/flow_coordinates_20191018.csv\"\u001b[0m\u001b[0;34m)\u001b[0m\u001b[0;34m\u001b[0m\u001b[0m\n\u001b[0m",
      "\u001b[0;32m/Library/Frameworks/Python.framework/Versions/3.6/lib/python3.6/site-packages/pandas/io/parsers.py\u001b[0m in \u001b[0;36mparser_f\u001b[0;34m(filepath_or_buffer, sep, delimiter, header, names, index_col, usecols, squeeze, prefix, mangle_dupe_cols, dtype, engine, converters, true_values, false_values, skipinitialspace, skiprows, skipfooter, nrows, na_values, keep_default_na, na_filter, verbose, skip_blank_lines, parse_dates, infer_datetime_format, keep_date_col, date_parser, dayfirst, cache_dates, iterator, chunksize, compression, thousands, decimal, lineterminator, quotechar, quoting, doublequote, escapechar, comment, encoding, dialect, error_bad_lines, warn_bad_lines, delim_whitespace, low_memory, memory_map, float_precision)\u001b[0m\n\u001b[1;32m    683\u001b[0m         )\n\u001b[1;32m    684\u001b[0m \u001b[0;34m\u001b[0m\u001b[0m\n\u001b[0;32m--> 685\u001b[0;31m         \u001b[0;32mreturn\u001b[0m \u001b[0m_read\u001b[0m\u001b[0;34m(\u001b[0m\u001b[0mfilepath_or_buffer\u001b[0m\u001b[0;34m,\u001b[0m \u001b[0mkwds\u001b[0m\u001b[0;34m)\u001b[0m\u001b[0;34m\u001b[0m\u001b[0m\n\u001b[0m\u001b[1;32m    686\u001b[0m \u001b[0;34m\u001b[0m\u001b[0m\n\u001b[1;32m    687\u001b[0m     \u001b[0mparser_f\u001b[0m\u001b[0;34m.\u001b[0m\u001b[0m__name__\u001b[0m \u001b[0;34m=\u001b[0m \u001b[0mname\u001b[0m\u001b[0;34m\u001b[0m\u001b[0m\n",
      "\u001b[0;32m/Library/Frameworks/Python.framework/Versions/3.6/lib/python3.6/site-packages/pandas/io/parsers.py\u001b[0m in \u001b[0;36m_read\u001b[0;34m(filepath_or_buffer, kwds)\u001b[0m\n\u001b[1;32m    461\u001b[0m \u001b[0;34m\u001b[0m\u001b[0m\n\u001b[1;32m    462\u001b[0m     \u001b[0;32mtry\u001b[0m\u001b[0;34m:\u001b[0m\u001b[0;34m\u001b[0m\u001b[0m\n\u001b[0;32m--> 463\u001b[0;31m         \u001b[0mdata\u001b[0m \u001b[0;34m=\u001b[0m \u001b[0mparser\u001b[0m\u001b[0;34m.\u001b[0m\u001b[0mread\u001b[0m\u001b[0;34m(\u001b[0m\u001b[0mnrows\u001b[0m\u001b[0;34m)\u001b[0m\u001b[0;34m\u001b[0m\u001b[0m\n\u001b[0m\u001b[1;32m    464\u001b[0m     \u001b[0;32mfinally\u001b[0m\u001b[0;34m:\u001b[0m\u001b[0;34m\u001b[0m\u001b[0m\n\u001b[1;32m    465\u001b[0m         \u001b[0mparser\u001b[0m\u001b[0;34m.\u001b[0m\u001b[0mclose\u001b[0m\u001b[0;34m(\u001b[0m\u001b[0;34m)\u001b[0m\u001b[0;34m\u001b[0m\u001b[0m\n",
      "\u001b[0;32m/Library/Frameworks/Python.framework/Versions/3.6/lib/python3.6/site-packages/pandas/io/parsers.py\u001b[0m in \u001b[0;36mread\u001b[0;34m(self, nrows)\u001b[0m\n\u001b[1;32m   1152\u001b[0m     \u001b[0;32mdef\u001b[0m \u001b[0mread\u001b[0m\u001b[0;34m(\u001b[0m\u001b[0mself\u001b[0m\u001b[0;34m,\u001b[0m \u001b[0mnrows\u001b[0m\u001b[0;34m=\u001b[0m\u001b[0;32mNone\u001b[0m\u001b[0;34m)\u001b[0m\u001b[0;34m:\u001b[0m\u001b[0;34m\u001b[0m\u001b[0m\n\u001b[1;32m   1153\u001b[0m         \u001b[0mnrows\u001b[0m \u001b[0;34m=\u001b[0m \u001b[0m_validate_integer\u001b[0m\u001b[0;34m(\u001b[0m\u001b[0;34m\"nrows\"\u001b[0m\u001b[0;34m,\u001b[0m \u001b[0mnrows\u001b[0m\u001b[0;34m)\u001b[0m\u001b[0;34m\u001b[0m\u001b[0m\n\u001b[0;32m-> 1154\u001b[0;31m         \u001b[0mret\u001b[0m \u001b[0;34m=\u001b[0m \u001b[0mself\u001b[0m\u001b[0;34m.\u001b[0m\u001b[0m_engine\u001b[0m\u001b[0;34m.\u001b[0m\u001b[0mread\u001b[0m\u001b[0;34m(\u001b[0m\u001b[0mnrows\u001b[0m\u001b[0;34m)\u001b[0m\u001b[0;34m\u001b[0m\u001b[0m\n\u001b[0m\u001b[1;32m   1155\u001b[0m \u001b[0;34m\u001b[0m\u001b[0m\n\u001b[1;32m   1156\u001b[0m         \u001b[0;31m# May alter columns / col_dict\u001b[0m\u001b[0;34m\u001b[0m\u001b[0;34m\u001b[0m\u001b[0m\n",
      "\u001b[0;32m/Library/Frameworks/Python.framework/Versions/3.6/lib/python3.6/site-packages/pandas/io/parsers.py\u001b[0m in \u001b[0;36mread\u001b[0;34m(self, nrows)\u001b[0m\n\u001b[1;32m   2057\u001b[0m     \u001b[0;32mdef\u001b[0m \u001b[0mread\u001b[0m\u001b[0;34m(\u001b[0m\u001b[0mself\u001b[0m\u001b[0;34m,\u001b[0m \u001b[0mnrows\u001b[0m\u001b[0;34m=\u001b[0m\u001b[0;32mNone\u001b[0m\u001b[0;34m)\u001b[0m\u001b[0;34m:\u001b[0m\u001b[0;34m\u001b[0m\u001b[0m\n\u001b[1;32m   2058\u001b[0m         \u001b[0;32mtry\u001b[0m\u001b[0;34m:\u001b[0m\u001b[0;34m\u001b[0m\u001b[0m\n\u001b[0;32m-> 2059\u001b[0;31m             \u001b[0mdata\u001b[0m \u001b[0;34m=\u001b[0m \u001b[0mself\u001b[0m\u001b[0;34m.\u001b[0m\u001b[0m_reader\u001b[0m\u001b[0;34m.\u001b[0m\u001b[0mread\u001b[0m\u001b[0;34m(\u001b[0m\u001b[0mnrows\u001b[0m\u001b[0;34m)\u001b[0m\u001b[0;34m\u001b[0m\u001b[0m\n\u001b[0m\u001b[1;32m   2060\u001b[0m         \u001b[0;32mexcept\u001b[0m \u001b[0mStopIteration\u001b[0m\u001b[0;34m:\u001b[0m\u001b[0;34m\u001b[0m\u001b[0m\n\u001b[1;32m   2061\u001b[0m             \u001b[0;32mif\u001b[0m \u001b[0mself\u001b[0m\u001b[0;34m.\u001b[0m\u001b[0m_first_chunk\u001b[0m\u001b[0;34m:\u001b[0m\u001b[0;34m\u001b[0m\u001b[0m\n",
      "\u001b[0;32mpandas/_libs/parsers.pyx\u001b[0m in \u001b[0;36mpandas._libs.parsers.TextReader.read\u001b[0;34m()\u001b[0m\n",
      "\u001b[0;32mpandas/_libs/parsers.pyx\u001b[0m in \u001b[0;36mpandas._libs.parsers.TextReader._read_low_memory\u001b[0;34m()\u001b[0m\n",
      "\u001b[0;32mpandas/_libs/parsers.pyx\u001b[0m in \u001b[0;36mpandas._libs.parsers.TextReader._read_rows\u001b[0;34m()\u001b[0m\n",
      "\u001b[0;32mpandas/_libs/parsers.pyx\u001b[0m in \u001b[0;36mpandas._libs.parsers.TextReader._tokenize_rows\u001b[0;34m()\u001b[0m\n",
      "\u001b[0;32mpandas/_libs/parsers.pyx\u001b[0m in \u001b[0;36mpandas._libs.parsers.raise_parser_error\u001b[0;34m()\u001b[0m\n",
      "\u001b[0;31mParserError\u001b[0m: Error tokenizing data. C error: Expected 3 fields in line 5, saw 4\n"
     ]
    }
   ],
   "source": [
    "pd.read_csv(\"../data_submission/final_datasets/flow_coordinates_20191018.csv\")"
   ]
  },
  {
   "cell_type": "code",
   "execution_count": null,
   "metadata": {},
   "outputs": [],
   "source": []
  }
 ],
 "metadata": {
  "kernelspec": {
   "display_name": "Python 3",
   "language": "python",
   "name": "python3"
  },
  "language_info": {
   "codemirror_mode": {
    "name": "ipython",
    "version": 3
   },
   "file_extension": ".py",
   "mimetype": "text/x-python",
   "name": "python",
   "nbconvert_exporter": "python",
   "pygments_lexer": "ipython3",
   "version": "3.6.1"
  }
 },
 "nbformat": 4,
 "nbformat_minor": 2
}
