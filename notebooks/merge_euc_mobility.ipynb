{
 "cells": [
  {
   "cell_type": "markdown",
   "metadata": {
    "ExecuteTime": {
     "end_time": "2019-10-14T15:11:45.306144Z",
     "start_time": "2019-10-14T15:11:45.303251Z"
    }
   },
   "source": [
    "# Merge the geocoded EUC and the mobility dataframe"
   ]
  },
  {
   "cell_type": "code",
   "execution_count": 180,
   "metadata": {
    "ExecuteTime": {
     "end_time": "2019-10-14T15:01:52.495433Z",
     "start_time": "2019-10-14T15:01:52.490953Z"
    }
   },
   "outputs": [],
   "source": [
    "import pandas as pd\n",
    "import numpy as np\n",
    "import matplotlib.pyplot as plt\n",
    "%matplotlib inline"
   ]
  },
  {
   "cell_type": "code",
   "execution_count": 134,
   "metadata": {
    "ExecuteTime": {
     "end_time": "2019-10-14T14:46:38.369455Z",
     "start_time": "2019-10-14T14:45:35.957753Z"
    }
   },
   "outputs": [],
   "source": [
    "euc = pd.read_csv(\"datasets/EUC_geocoded_clean.csv\")\n",
    "mob = pd.read_excel(\"datasets/Student_Mobility_2013-14.xlsx\")"
   ]
  },
  {
   "cell_type": "code",
   "execution_count": 135,
   "metadata": {
    "ExecuteTime": {
     "end_time": "2019-10-14T14:46:38.469700Z",
     "start_time": "2019-10-14T14:46:38.372134Z"
    }
   },
   "outputs": [],
   "source": [
    "# Select only the students that are SMS mobility type\n",
    "mob = mob[mob.MobilityType == \"Mob-SMS\"]"
   ]
  },
  {
   "cell_type": "code",
   "execution_count": 136,
   "metadata": {
    "ExecuteTime": {
     "end_time": "2019-10-14T14:46:38.988189Z",
     "start_time": "2019-10-14T14:46:38.472787Z"
    }
   },
   "outputs": [
    {
     "data": {
      "text/plain": [
       "False    212208\n",
       "dtype: int64"
      ]
     },
     "execution_count": 136,
     "metadata": {},
     "output_type": "execute_result"
    }
   ],
   "source": [
    "# There are no duplicates\n",
    "mob.duplicated().value_counts()"
   ]
  },
  {
   "cell_type": "code",
   "execution_count": 137,
   "metadata": {
    "ExecuteTime": {
     "end_time": "2019-10-14T14:46:39.036301Z",
     "start_time": "2019-10-14T14:46:38.991527Z"
    }
   },
   "outputs": [],
   "source": [
    "# Select only the columns which need to be used\n",
    "mob = mob[[\"ParticipantGender\", \"SendingPartnerErasmusID\", \"HostingPartnerErasmusID\"]]"
   ]
  },
  {
   "cell_type": "code",
   "execution_count": 138,
   "metadata": {
    "ExecuteTime": {
     "end_time": "2019-10-14T14:46:39.082461Z",
     "start_time": "2019-10-14T14:46:39.038542Z"
    }
   },
   "outputs": [],
   "source": [
    "merge = mob.merge(euc, left_on=\"SendingPartnerErasmusID\", right_on=\"Institutional code\", how=\"inner\")"
   ]
  },
  {
   "cell_type": "code",
   "execution_count": 139,
   "metadata": {
    "ExecuteTime": {
     "end_time": "2019-10-14T14:46:39.153344Z",
     "start_time": "2019-10-14T14:46:39.084574Z"
    }
   },
   "outputs": [],
   "source": [
    "merge = merge.merge(euc, left_on=\"HostingPartnerErasmusID\", right_on=\"Institutional code\", how=\"inner\", \n",
    "                    suffixes={\"Sending\", \"Hosting\"})"
   ]
  },
  {
   "cell_type": "code",
   "execution_count": 140,
   "metadata": {
    "ExecuteTime": {
     "end_time": "2019-10-14T14:46:39.158645Z",
     "start_time": "2019-10-14T14:46:39.155657Z"
    }
   },
   "outputs": [
    {
     "name": "stdout",
     "output_type": "stream",
     "text": [
      "Lost 2.082% in the merging.\n"
     ]
    }
   ],
   "source": [
    "print(\"Lost {:0.3f}% in the merging.\".format((100 - (len(merge) / len(mob))*100)))"
   ]
  },
  {
   "cell_type": "code",
   "execution_count": 141,
   "metadata": {
    "ExecuteTime": {
     "end_time": "2019-10-14T14:46:39.236547Z",
     "start_time": "2019-10-14T14:46:39.160788Z"
    }
   },
   "outputs": [],
   "source": [
    "merge = merge[[\"ParticipantGender\", \"CountryHosting\", \"CountrySending\" ,\"coordinatesHosting\", \"coordinatesSending\"]]"
   ]
  },
  {
   "cell_type": "code",
   "execution_count": 170,
   "metadata": {
    "ExecuteTime": {
     "end_time": "2019-10-14T14:56:11.540612Z",
     "start_time": "2019-10-14T14:56:11.533622Z"
    }
   },
   "outputs": [],
   "source": [
    "cmerge = merge.copy()"
   ]
  },
  {
   "cell_type": "code",
   "execution_count": 171,
   "metadata": {
    "ExecuteTime": {
     "end_time": "2019-10-14T14:56:12.619576Z",
     "start_time": "2019-10-14T14:56:11.870142Z"
    }
   },
   "outputs": [],
   "source": [
    "cmerge.coordinatesHosting = cmerge.coordinatesHosting.str.strip(\"()\").str.split(\",\")\n",
    "cmerge.coordinatesSending = cmerge.coordinatesSending.str.strip(\"()\").str.split(\",\")"
   ]
  },
  {
   "cell_type": "code",
   "execution_count": 172,
   "metadata": {
    "ExecuteTime": {
     "end_time": "2019-10-14T14:56:12.861292Z",
     "start_time": "2019-10-14T14:56:12.622325Z"
    }
   },
   "outputs": [],
   "source": [
    "cmerge[\"latHosting\"] = cmerge.coordinatesHosting.apply(lambda x: float(x[0]))\n",
    "cmerge[\"lonHosting\"] = cmerge.coordinatesHosting.apply(lambda x: float(x[1]))\n",
    "cmerge[\"latSending\"] = cmerge.coordinatesSending.apply(lambda x: float(x[0]))\n",
    "cmerge[\"lonSending\"] = cmerge.coordinatesSending.apply(lambda x: float(x[1]))"
   ]
  },
  {
   "cell_type": "code",
   "execution_count": 178,
   "metadata": {
    "ExecuteTime": {
     "end_time": "2019-10-14T15:00:51.076048Z",
     "start_time": "2019-10-14T14:59:32.831044Z"
    }
   },
   "outputs": [],
   "source": [
    "from geopy import distance\n",
    "\n",
    "cmerge['km'] = cmerge.apply(lambda row: distance.distance(\n",
    "        (row[\"latHosting\"], row[\"lonHosting\"]), (row[\"latSending\"], row[\"lonSending\"])).km, axis=1\n",
    ")"
   ]
  },
  {
   "cell_type": "code",
   "execution_count": 192,
   "metadata": {
    "ExecuteTime": {
     "end_time": "2019-10-14T15:06:29.695581Z",
     "start_time": "2019-10-14T15:06:28.624918Z"
    }
   },
   "outputs": [
    {
     "data": {
      "text/plain": [
       "<matplotlib.axes._subplots.AxesSubplot at 0x12ac87c88>"
      ]
     },
     "execution_count": 192,
     "metadata": {},
     "output_type": "execute_result"
    },
    {
     "data": {
      "image/png": "[encoded data removed]",
      "text/plain": [
       "<Figure size 1152x432 with 1 Axes>"
      ]
     },
     "metadata": {
      "needs_background": "light"
     },
     "output_type": "display_data"
    }
   ],
   "source": [
    "fig, ax = plt.subplots(figsize=(16, 6))\n",
    "ax.set_xlim(0, 5000)\n",
    "ax.set_title(\"Distance traveled by participants\")\n",
    "ax.set_xlabel(\"Distance traveled\")\n",
    "ax.set_ylabel(\"Number of participants\")\n",
    "cmerge.km.hist(bins=300, ax=ax)"
   ]
  },
  {
   "cell_type": "code",
   "execution_count": 198,
   "metadata": {
    "ExecuteTime": {
     "end_time": "2019-10-14T15:21:12.396418Z",
     "start_time": "2019-10-14T15:21:12.378304Z"
    }
   },
   "outputs": [],
   "source": [
    "cmerge = cmerge.drop(columns=[\"coordinatesHosting\", \"coordinatesSending\"])"
   ]
  },
  {
   "cell_type": "code",
   "execution_count": 200,
   "metadata": {
    "ExecuteTime": {
     "end_time": "2019-10-14T15:24:30.218258Z",
     "start_time": "2019-10-14T15:24:28.451861Z"
    }
   },
   "outputs": [],
   "source": [
    "cmerge.to_csv(\"finished_questions/travel_distance/distance_raw.csv\", index=False)"
   ]
  },
  {
   "cell_type": "code",
   "execution_count": 201,
   "metadata": {
    "ExecuteTime": {
     "end_time": "2019-10-14T15:24:39.149969Z",
     "start_time": "2019-10-14T15:24:39.139415Z"
    }
   },
   "outputs": [],
   "source": [
    "production = cmerge.copy()"
   ]
  },
  {
   "cell_type": "code",
   "execution_count": 203,
   "metadata": {
    "ExecuteTime": {
     "end_time": "2019-10-14T15:25:05.067298Z",
     "start_time": "2019-10-14T15:25:05.060112Z"
    }
   },
   "outputs": [],
   "source": [
    "production = production[[\"CountrySending\", \"km\"]]"
   ]
  },
  {
   "cell_type": "code",
   "execution_count": 217,
   "metadata": {
    "ExecuteTime": {
     "end_time": "2019-10-14T15:30:00.063502Z",
     "start_time": "2019-10-14T15:30:00.060445Z"
    }
   },
   "outputs": [],
   "source": [
    "from matplotlib import cm"
   ]
  },
  {
   "cell_type": "code",
   "execution_count": 219,
   "metadata": {
    "ExecuteTime": {
     "end_time": "2019-10-14T15:30:17.210947Z",
     "start_time": "2019-10-14T15:30:17.204359Z"
    }
   },
   "outputs": [
    {
     "data": {
      "text/plain": [
       "(0.0, 0.0, 0.517825311942959, 1.0)"
      ]
     },
     "execution_count": 219,
     "metadata": {},
     "output_type": "execute_result"
    }
   ],
   "source": [
    "cm.jet(len)"
   ]
  },
  {
   "cell_type": "code",
   "execution_count": 221,
   "metadata": {
    "ExecuteTime": {
     "end_time": "2019-10-14T15:30:47.160874Z",
     "start_time": "2019-10-14T15:30:47.144674Z"
    }
   },
   "outputs": [],
   "source": [
    "gb = production.groupby(by=\"CountrySending\").mean().sort_values(by=\"km\")"
   ]
  },
  {
   "cell_type": "code",
   "execution_count": 226,
   "metadata": {
    "ExecuteTime": {
     "end_time": "2019-10-14T15:32:10.265643Z",
     "start_time": "2019-10-14T15:32:10.260834Z"
    }
   },
   "outputs": [],
   "source": [
    "cols = []\n",
    "for i in range(len(gb)):\n",
    "    cols.append(cm.jet(i))"
   ]
  },
  {
   "cell_type": "code",
   "execution_count": 240,
   "metadata": {
    "ExecuteTime": {
     "end_time": "2019-10-14T15:40:14.581237Z",
     "start_time": "2019-10-14T15:40:14.057317Z"
    }
   },
   "outputs": [
    {
     "data": {
      "text/plain": [
       "<matplotlib.axes._subplots.AxesSubplot at 0x146e9af98>"
      ]
     },
     "execution_count": 240,
     "metadata": {},
     "output_type": "execute_result"
    },
    {
     "data": {
      "image/png": "[encoded data removed]",
      "text/plain": [
       "<Figure size 864x432 with 1 Axes>"
      ]
     },
     "metadata": {
      "needs_background": "light"
     },
     "output_type": "display_data"
    }
   ],
   "source": [
    "fig, ax = plt.subplots(figsize=(12, 6))\n",
    "production.groupby(by=\"CountrySending\").mean().sort_values(by=\"km\").plot(kind=\"bar\", ax=ax, colormap='summer')"
   ]
  },
  {
   "cell_type": "code",
   "execution_count": 249,
   "metadata": {
    "ExecuteTime": {
     "end_time": "2019-10-14T16:11:48.578355Z",
     "start_time": "2019-10-14T16:11:47.552960Z"
    }
   },
   "outputs": [
    {
     "data": {
      "image/png": "[encoded data removed]",
      "text/plain": [
       "<Figure size 864x432 with 1 Axes>"
      ]
     },
     "metadata": {
      "needs_background": "light"
     },
     "output_type": "display_data"
    }
   ],
   "source": [
    "fig, ax = plt.subplots(figsize=(12, 6))\n",
    "production.boxplot(column=\"km\", by=\"CountrySending\", ax=ax)\n",
    "fig.suptitle('')\n",
    "ax.set_title(\"Distance travelede from home to target university\")\n",
    "ax.set_xlabel(\"Sending country\")\n",
    "ax.set_ylabel(\"Distance from home to target university\")\n",
    "plt.show()"
   ]
  },
  {
   "cell_type": "code",
   "execution_count": null,
   "metadata": {},
   "outputs": [],
   "source": []
  }
 ],
 "metadata": {
  "kernelspec": {
   "display_name": "Python 3",
   "language": "python",
   "name": "python3"
  },
  "language_info": {
   "codemirror_mode": {
    "name": "ipython",
    "version": 3
   },
   "file_extension": ".py",
   "mimetype": "text/x-python",
   "name": "python",
   "nbconvert_exporter": "python",
   "pygments_lexer": "ipython3",
   "version": "3.6.1"
  }
 },
 "nbformat": 4,
 "nbformat_minor": 2
}
