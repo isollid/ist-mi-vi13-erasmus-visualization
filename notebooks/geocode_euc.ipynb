{
 "cells": [
  {
   "cell_type": "markdown",
   "metadata": {},
   "source": [
    "# Geocode the EUC dataframe"
   ]
  },
  {
   "cell_type": "code",
   "execution_count": 1,
   "metadata": {
    "ExecuteTime": {
     "end_time": "2019-10-14T11:36:55.764913Z",
     "start_time": "2019-10-14T11:36:54.742490Z"
    }
   },
   "outputs": [],
   "source": [
    "import pandas as pd\n",
    "import numpy as np"
   ]
  },
  {
   "cell_type": "code",
   "execution_count": 88,
   "metadata": {
    "ExecuteTime": {
     "end_time": "2019-10-14T15:19:56.663647Z",
     "start_time": "2019-10-14T15:19:56.659543Z"
    }
   },
   "outputs": [],
   "source": [
    "# API key is stored separately due to security concerns (google_api.key is in gitignore)\n",
    "file1 = open(\"google_api.key\",\"r\")\n",
    "API_KEY_ = file1.read().rstrip()\n",
    "file1.close()"
   ]
  },
  {
   "cell_type": "code",
   "execution_count": 2,
   "metadata": {
    "ExecuteTime": {
     "end_time": "2019-10-14T11:37:05.571023Z",
     "start_time": "2019-10-14T11:37:05.366854Z"
    }
   },
   "outputs": [],
   "source": [
    "import googlemaps\n",
    "gmaps = googlemaps.Client(key=API_KEY)\n",
    "\n",
    "from geopy.geocoders import Nominatim\n",
    "geolocator = Nominatim(user_agent=\"VI13\")"
   ]
  },
  {
   "cell_type": "code",
   "execution_count": 3,
   "metadata": {
    "ExecuteTime": {
     "end_time": "2019-10-14T11:37:20.417971Z",
     "start_time": "2019-10-14T11:37:20.116780Z"
    }
   },
   "outputs": [],
   "source": [
    "df_euc = pd.read_excel(\"datasets/EUC_ for_the_academic_year_2013_2014.xls\")\n",
    "df = df_euc.sample(100)"
   ]
  },
  {
   "cell_type": "code",
   "execution_count": 45,
   "metadata": {
    "ExecuteTime": {
     "end_time": "2019-10-14T12:08:55.729275Z",
     "start_time": "2019-10-14T12:08:55.717207Z"
    }
   },
   "outputs": [],
   "source": [
    "import time\n",
    "\n",
    "def google_search(institution, city, country):\n",
    "    geocode_result = gmaps.geocode(institution + \", \" + city + \", \" + country)\n",
    "    if len(geocode_result) > 0:\n",
    "        try:\n",
    "            city_name = geocode_result[0][\"address_components\"][2][\"long_name\"]\n",
    "        except:\n",
    "            city_name = None\n",
    "        coordinates = tuple(geocode_result[0][\"geometry\"][\"location\"].values())\n",
    "        return tuple(list([\"org\", city_name, coordinates]))\n",
    "    \n",
    "    geocode_result = gmaps.geocode(city + \", \" + country)\n",
    "    if len(geocode_result) > 0:\n",
    "        city_name = None\n",
    "        try:\n",
    "            city_name = geocode_result[0][\"address_components\"][2][\"long_name\"]\n",
    "        except:\n",
    "            city_name = None\n",
    "        coordinates = tuple(geocode_result[0][\"geometry\"][\"location\"].values())\n",
    "        return tuple(list([\"cit\", city_name, coordinates]))\n",
    "    return None"
   ]
  },
  {
   "cell_type": "code",
   "execution_count": 46,
   "metadata": {
    "ExecuteTime": {
     "end_time": "2019-10-14T12:52:05.245992Z",
     "start_time": "2019-10-14T12:08:56.846390Z"
    }
   },
   "outputs": [],
   "source": [
    "df_euc[\"query\"] = df_euc.apply(lambda x: google_search(x[\"Name of Organisation\"], x[\"City\"], x[\"Country\"]), axis=1)"
   ]
  },
  {
   "cell_type": "code",
   "execution_count": 47,
   "metadata": {
    "ExecuteTime": {
     "end_time": "2019-10-14T12:52:52.471881Z",
     "start_time": "2019-10-14T12:52:52.422927Z"
    }
   },
   "outputs": [],
   "source": [
    "df_euc.to_csv(\"datasets/EUC_google_geocoded.csv\", index=False)"
   ]
  },
  {
   "cell_type": "code",
   "execution_count": 59,
   "metadata": {
    "ExecuteTime": {
     "end_time": "2019-10-14T13:00:32.577902Z",
     "start_time": "2019-10-14T13:00:32.571819Z"
    }
   },
   "outputs": [],
   "source": [
    "df_euc[\"coordinates\"] = df_euc[\"query\"].apply(lambda x: x[2])\n",
    "df_euc[\"coord_type\"] = df_euc[\"query\"].apply(lambda x: x[0])\n",
    "df_euc[\"coord_city\"] = df_euc[\"query\"].apply(lambda x: x[1])"
   ]
  },
  {
   "cell_type": "code",
   "execution_count": 69,
   "metadata": {
    "ExecuteTime": {
     "end_time": "2019-10-14T13:04:29.830351Z",
     "start_time": "2019-10-14T13:04:29.825536Z"
    }
   },
   "outputs": [],
   "source": [
    "euc_clean = df_euc[[\"Institutional code\", \"Name of Organisation\", \"Country\", \"City\", \"coordinates\"]]"
   ]
  },
  {
   "cell_type": "code",
   "execution_count": null,
   "metadata": {
    "ExecuteTime": {
     "end_time": "2019-10-14T13:07:41.848432Z",
     "start_time": "2019-10-14T13:07:41.838775Z"
    }
   },
   "outputs": [],
   "source": [
    "# Are there any duplicates?\n",
    "euc_clean[\"Institutional code\"].duplicated().value_counts()"
   ]
  },
  {
   "cell_type": "code",
   "execution_count": 75,
   "metadata": {
    "ExecuteTime": {
     "end_time": "2019-10-14T13:05:21.303269Z",
     "start_time": "2019-10-14T13:05:21.271064Z"
    }
   },
   "outputs": [],
   "source": [
    "euc_clean = euc_clean.to_csv(\"datasets/EUC_geocoded_clean.csv\", index=False)"
   ]
  },
  {
   "cell_type": "code",
   "execution_count": 79,
   "metadata": {
    "ExecuteTime": {
     "end_time": "2019-10-14T13:08:13.606681Z",
     "start_time": "2019-10-14T13:08:13.589893Z"
    }
   },
   "outputs": [],
   "source": [
    "euc_clean = pd.read_csv(\"datasets/EUC_geocoded_clean.csv\")"
   ]
  },
  {
   "cell_type": "code",
   "execution_count": 80,
   "metadata": {
    "ExecuteTime": {
     "end_time": "2019-10-14T13:08:16.283563Z",
     "start_time": "2019-10-14T13:08:16.269298Z"
    }
   },
   "outputs": [
    {
     "data": {
      "text/html": [
       "<div>\n",
       "<style scoped>\n",
       "    .dataframe tbody tr th:only-of-type {\n",
       "        vertical-align: middle;\n",
       "    }\n",
       "\n",
       "    .dataframe tbody tr th {\n",
       "        vertical-align: top;\n",
       "    }\n",
       "\n",
       "    .dataframe thead th {\n",
       "        text-align: right;\n",
       "    }\n",
       "</style>\n",
       "<table border=\"1\" class=\"dataframe\">\n",
       "  <thead>\n",
       "    <tr style=\"text-align: right;\">\n",
       "      <th></th>\n",
       "      <th>Institutional code</th>\n",
       "      <th>Name of Organisation</th>\n",
       "      <th>Country</th>\n",
       "      <th>City</th>\n",
       "      <th>coordinates</th>\n",
       "    </tr>\n",
       "  </thead>\n",
       "  <tbody>\n",
       "    <tr>\n",
       "      <td>0</td>\n",
       "      <td>A  BADEN01</td>\n",
       "      <td>PAEDAGOGISCHE HOCHSCHULE NIEDEROESTERREICH</td>\n",
       "      <td>AT</td>\n",
       "      <td>Baden</td>\n",
       "      <td>(48.00849239999999, 16.2552558)</td>\n",
       "    </tr>\n",
       "    <tr>\n",
       "      <td>1</td>\n",
       "      <td>A  DORNBIR01</td>\n",
       "      <td>FACHHOCHSCHULE VORARLBERG GMBH</td>\n",
       "      <td>AT</td>\n",
       "      <td>Dornbirn</td>\n",
       "      <td>(47.4067642, 9.744422300000002)</td>\n",
       "    </tr>\n",
       "    <tr>\n",
       "      <td>2</td>\n",
       "      <td>A  EISENST01</td>\n",
       "      <td>STIFTUNG PRIVATE PÄDAGOGISCHE HOCHSCHULE BURGE...</td>\n",
       "      <td>AT</td>\n",
       "      <td>Eisenstadt</td>\n",
       "      <td>(47.8295268, 16.5337338)</td>\n",
       "    </tr>\n",
       "    <tr>\n",
       "      <td>3</td>\n",
       "      <td>A  EISENST02</td>\n",
       "      <td>Fachhochschulstudiengaenge Burgenland Gesellsc...</td>\n",
       "      <td>AT</td>\n",
       "      <td>Eisenstadt</td>\n",
       "      <td>(47.8294118, 16.5350525)</td>\n",
       "    </tr>\n",
       "    <tr>\n",
       "      <td>4</td>\n",
       "      <td>A  EISENST05</td>\n",
       "      <td>JOSEPH HAYDN KONSERVATORIUM DES LANDES BURGENLAND</td>\n",
       "      <td>AT</td>\n",
       "      <td>Eisenstadt</td>\n",
       "      <td>(47.8500376, 16.514385)</td>\n",
       "    </tr>\n",
       "    <tr>\n",
       "      <td>...</td>\n",
       "      <td>...</td>\n",
       "      <td>...</td>\n",
       "      <td>...</td>\n",
       "      <td>...</td>\n",
       "      <td>...</td>\n",
       "    </tr>\n",
       "    <tr>\n",
       "      <td>4914</td>\n",
       "      <td>UK WOLVERH01</td>\n",
       "      <td>UNIVERSITY OF WOLVERHAMPTON</td>\n",
       "      <td>UK</td>\n",
       "      <td>WOLVERHAMPTON</td>\n",
       "      <td>(52.58817699999999, -2.1274393)</td>\n",
       "    </tr>\n",
       "    <tr>\n",
       "      <td>4915</td>\n",
       "      <td>UK WORCEST01</td>\n",
       "      <td>UNIVERSITY OF WORCESTER</td>\n",
       "      <td>UK</td>\n",
       "      <td>Worcester</td>\n",
       "      <td>(52.1970053, -2.2428253)</td>\n",
       "    </tr>\n",
       "    <tr>\n",
       "      <td>4916</td>\n",
       "      <td>UK YORK01</td>\n",
       "      <td>UNIVERSITY OF YORK</td>\n",
       "      <td>UK</td>\n",
       "      <td>YORK</td>\n",
       "      <td>(53.9626623, -1.0864513)</td>\n",
       "    </tr>\n",
       "    <tr>\n",
       "      <td>4917</td>\n",
       "      <td>UK YORK03</td>\n",
       "      <td>YORK ST JOHN UNIVERSITY</td>\n",
       "      <td>UK</td>\n",
       "      <td>YORK</td>\n",
       "      <td>(53.9670826, -1.0821198)</td>\n",
       "    </tr>\n",
       "    <tr>\n",
       "      <td>4918</td>\n",
       "      <td>UK YORK07</td>\n",
       "      <td>CRAVEN COLLEGE</td>\n",
       "      <td>UK</td>\n",
       "      <td>SKIPTON</td>\n",
       "      <td>(53.9633633, -2.0368324)</td>\n",
       "    </tr>\n",
       "  </tbody>\n",
       "</table>\n",
       "<p>4919 rows × 5 columns</p>\n",
       "</div>"
      ],
      "text/plain": [
       "     Institutional code                               Name of Organisation  \\\n",
       "0            A  BADEN01         PAEDAGOGISCHE HOCHSCHULE NIEDEROESTERREICH   \n",
       "1          A  DORNBIR01                     FACHHOCHSCHULE VORARLBERG GMBH   \n",
       "2          A  EISENST01  STIFTUNG PRIVATE PÄDAGOGISCHE HOCHSCHULE BURGE...   \n",
       "3          A  EISENST02  Fachhochschulstudiengaenge Burgenland Gesellsc...   \n",
       "4          A  EISENST05  JOSEPH HAYDN KONSERVATORIUM DES LANDES BURGENLAND   \n",
       "...                 ...                                                ...   \n",
       "4914       UK WOLVERH01                        UNIVERSITY OF WOLVERHAMPTON   \n",
       "4915       UK WORCEST01                            UNIVERSITY OF WORCESTER   \n",
       "4916          UK YORK01                                UNIVERSITY OF YORK    \n",
       "4917          UK YORK03                            YORK ST JOHN UNIVERSITY   \n",
       "4918          UK YORK07                                     CRAVEN COLLEGE   \n",
       "\n",
       "     Country           City                      coordinates  \n",
       "0         AT          Baden  (48.00849239999999, 16.2552558)  \n",
       "1         AT       Dornbirn  (47.4067642, 9.744422300000002)  \n",
       "2         AT     Eisenstadt         (47.8295268, 16.5337338)  \n",
       "3         AT     Eisenstadt         (47.8294118, 16.5350525)  \n",
       "4         AT     Eisenstadt          (47.8500376, 16.514385)  \n",
       "...      ...            ...                              ...  \n",
       "4914      UK  WOLVERHAMPTON  (52.58817699999999, -2.1274393)  \n",
       "4915      UK      Worcester         (52.1970053, -2.2428253)  \n",
       "4916      UK           YORK         (53.9626623, -1.0864513)  \n",
       "4917      UK           YORK         (53.9670826, -1.0821198)  \n",
       "4918      UK        SKIPTON         (53.9633633, -2.0368324)  \n",
       "\n",
       "[4919 rows x 5 columns]"
      ]
     },
     "execution_count": 80,
     "metadata": {},
     "output_type": "execute_result"
    }
   ],
   "source": [
    "euc_clean"
   ]
  }
 ],
 "metadata": {
  "kernelspec": {
   "display_name": "Python 3",
   "language": "python",
   "name": "python3"
  },
  "language_info": {
   "codemirror_mode": {
    "name": "ipython",
    "version": 3
   },
   "file_extension": ".py",
   "mimetype": "text/x-python",
   "name": "python",
   "nbconvert_exporter": "python",
   "pygments_lexer": "ipython3",
   "version": "3.6.1"
  }
 },
 "nbformat": 4,
 "nbformat_minor": 2
}
