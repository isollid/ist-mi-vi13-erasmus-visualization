{
 "cells": [
  {
   "cell_type": "code",
   "execution_count": 1,
   "metadata": {
    "ExecuteTime": {
     "end_time": "2019-10-15T00:36:15.627566Z",
     "start_time": "2019-10-15T00:36:14.819722Z"
    }
   },
   "outputs": [],
   "source": [
    "import pandas as pd\n",
    "import numpy as np"
   ]
  },
  {
   "cell_type": "code",
   "execution_count": 19,
   "metadata": {
    "ExecuteTime": {
     "end_time": "2019-10-15T00:42:51.048889Z",
     "start_time": "2019-10-15T00:41:51.981649Z"
    }
   },
   "outputs": [],
   "source": [
    "mob = pd.read_excel(\"../datasets/Student_Mobility_2013-14.xlsx\")"
   ]
  },
  {
   "cell_type": "code",
   "execution_count": 20,
   "metadata": {
    "ExecuteTime": {
     "end_time": "2019-10-15T00:42:51.072010Z",
     "start_time": "2019-10-15T00:42:51.051788Z"
    }
   },
   "outputs": [],
   "source": [
    "euc = pd.read_csv(\"../datasets/EUC_geocoded_clean.csv\")"
   ]
  },
  {
   "cell_type": "code",
   "execution_count": 21,
   "metadata": {
    "ExecuteTime": {
     "end_time": "2019-10-15T00:42:51.174849Z",
     "start_time": "2019-10-15T00:42:51.075004Z"
    }
   },
   "outputs": [],
   "source": [
    "mob = mob[mob.MobilityType == \"Mob-SMS\"]"
   ]
  },
  {
   "cell_type": "code",
   "execution_count": 22,
   "metadata": {
    "ExecuteTime": {
     "end_time": "2019-10-15T00:42:51.200982Z",
     "start_time": "2019-10-15T00:42:51.177701Z"
    }
   },
   "outputs": [],
   "source": [
    "mob = mob[[\"SendingPartnerErasmusID\", \"HostingPartnerErasmusID\", \"SendingCountry\", \"ReceivingCountry\"]]"
   ]
  },
  {
   "cell_type": "code",
   "execution_count": 24,
   "metadata": {
    "ExecuteTime": {
     "end_time": "2019-10-15T00:43:05.855753Z",
     "start_time": "2019-10-15T00:43:05.851432Z"
    }
   },
   "outputs": [],
   "source": [
    "euc = euc[[\"Institutional code\", \"coordinates\", \"Name of Organisation\"]]"
   ]
  },
  {
   "cell_type": "code",
   "execution_count": 25,
   "metadata": {
    "ExecuteTime": {
     "end_time": "2019-10-15T00:43:09.224755Z",
     "start_time": "2019-10-15T00:43:09.143407Z"
    }
   },
   "outputs": [],
   "source": [
    "mob = mob.merge(euc, left_on=\"SendingPartnerErasmusID\", right_on=\"Institutional code\").drop(columns=[\"Institutional code\"])"
   ]
  },
  {
   "cell_type": "code",
   "execution_count": 26,
   "metadata": {
    "ExecuteTime": {
     "end_time": "2019-10-15T00:43:11.069372Z",
     "start_time": "2019-10-15T00:43:10.967266Z"
    }
   },
   "outputs": [],
   "source": [
    "mob = mob.merge(euc, left_on=\"HostingPartnerErasmusID\", right_on=\"Institutional code\", suffixes=(\"_send\", \"_host\")).drop(columns=[\"Institutional code\"])"
   ]
  },
  {
   "cell_type": "code",
   "execution_count": 27,
   "metadata": {
    "ExecuteTime": {
     "end_time": "2019-10-15T00:43:13.592746Z",
     "start_time": "2019-10-15T00:43:13.575414Z"
    }
   },
   "outputs": [],
   "source": [
    "mob = mob.drop(columns=[\"SendingPartnerErasmusID\", \"HostingPartnerErasmusID\"])"
   ]
  },
  {
   "cell_type": "code",
   "execution_count": 29,
   "metadata": {
    "ExecuteTime": {
     "end_time": "2019-10-15T00:43:28.571794Z",
     "start_time": "2019-10-15T00:43:27.615794Z"
    }
   },
   "outputs": [],
   "source": [
    "mob.to_csv(\"../datasets/student_flow_coordinates.csv\", index=False)"
   ]
  },
  {
   "cell_type": "code",
   "execution_count": null,
   "metadata": {},
   "outputs": [],
   "source": []
  }
 ],
 "metadata": {
  "kernelspec": {
   "display_name": "Python 3",
   "language": "python",
   "name": "python3"
  },
  "language_info": {
   "codemirror_mode": {
    "name": "ipython",
    "version": 3
   },
   "file_extension": ".py",
   "mimetype": "text/x-python",
   "name": "python",
   "nbconvert_exporter": "python",
   "pygments_lexer": "ipython3",
   "version": "3.6.1"
  }
 },
 "nbformat": 4,
 "nbformat_minor": 2
}
