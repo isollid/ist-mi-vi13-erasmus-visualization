{
 "cells": [
  {
   "cell_type": "code",
   "execution_count": 2,
   "metadata": {
    "collapsed": true
   },
   "outputs": [],
   "source": [
    "import pandas as pd;"
   ]
  },
  {
   "cell_type": "code",
   "execution_count": 3,
   "metadata": {
    "collapsed": true
   },
   "outputs": [],
   "source": [
    "df = pd.read_csv(\"../datasets/parallel_sets.csv\")"
   ]
  },
  {
   "cell_type": "code",
   "execution_count": 4,
   "metadata": {},
   "outputs": [
    {
     "data": {
      "text/html": [
       "<div>\n",
       "<style>\n",
       "    .dataframe thead tr:only-child th {\n",
       "        text-align: right;\n",
       "    }\n",
       "\n",
       "    .dataframe thead th {\n",
       "        text-align: left;\n",
       "    }\n",
       "\n",
       "    .dataframe tbody tr th {\n",
       "        vertical-align: top;\n",
       "    }\n",
       "</style>\n",
       "<table border=\"1\" class=\"dataframe\">\n",
       "  <thead>\n",
       "    <tr style=\"text-align: right;\">\n",
       "      <th></th>\n",
       "      <th>country</th>\n",
       "      <th>sending_first</th>\n",
       "      <th>sending_second</th>\n",
       "      <th>sending_short</th>\n",
       "      <th>sending_third</th>\n",
       "      <th>receiving_first</th>\n",
       "      <th>receiving_second</th>\n",
       "      <th>receiving_short</th>\n",
       "      <th>receiving_third</th>\n",
       "    </tr>\n",
       "  </thead>\n",
       "  <tbody>\n",
       "    <tr>\n",
       "      <th>0</th>\n",
       "      <td>AT</td>\n",
       "      <td>3378.0</td>\n",
       "      <td>2352.0</td>\n",
       "      <td>0.0</td>\n",
       "      <td>63.0</td>\n",
       "      <td>3862.0</td>\n",
       "      <td>2159.0</td>\n",
       "      <td>60.0</td>\n",
       "      <td>107.0</td>\n",
       "    </tr>\n",
       "    <tr>\n",
       "      <th>1</th>\n",
       "      <td>BE</td>\n",
       "      <td>5051.0</td>\n",
       "      <td>2683.0</td>\n",
       "      <td>1.0</td>\n",
       "      <td>19.0</td>\n",
       "      <td>5819.0</td>\n",
       "      <td>3191.0</td>\n",
       "      <td>200.0</td>\n",
       "      <td>111.0</td>\n",
       "    </tr>\n",
       "    <tr>\n",
       "      <th>2</th>\n",
       "      <td>BG</td>\n",
       "      <td>1128.0</td>\n",
       "      <td>565.0</td>\n",
       "      <td>0.0</td>\n",
       "      <td>64.0</td>\n",
       "      <td>605.0</td>\n",
       "      <td>226.0</td>\n",
       "      <td>55.0</td>\n",
       "      <td>8.0</td>\n",
       "    </tr>\n",
       "    <tr>\n",
       "      <th>3</th>\n",
       "      <td>CH</td>\n",
       "      <td>1996.0</td>\n",
       "      <td>978.0</td>\n",
       "      <td>9.0</td>\n",
       "      <td>53.0</td>\n",
       "      <td>2226.0</td>\n",
       "      <td>1907.0</td>\n",
       "      <td>41.0</td>\n",
       "      <td>61.0</td>\n",
       "    </tr>\n",
       "    <tr>\n",
       "      <th>4</th>\n",
       "      <td>CY</td>\n",
       "      <td>355.0</td>\n",
       "      <td>10.0</td>\n",
       "      <td>12.0</td>\n",
       "      <td>18.0</td>\n",
       "      <td>655.0</td>\n",
       "      <td>123.0</td>\n",
       "      <td>16.0</td>\n",
       "      <td>9.0</td>\n",
       "    </tr>\n",
       "  </tbody>\n",
       "</table>\n",
       "</div>"
      ],
      "text/plain": [
       "  country  sending_first  sending_second  sending_short  sending_third  \\\n",
       "0      AT         3378.0          2352.0            0.0           63.0   \n",
       "1      BE         5051.0          2683.0            1.0           19.0   \n",
       "2      BG         1128.0           565.0            0.0           64.0   \n",
       "3      CH         1996.0           978.0            9.0           53.0   \n",
       "4      CY          355.0            10.0           12.0           18.0   \n",
       "\n",
       "   receiving_first  receiving_second  receiving_short  receiving_third  \n",
       "0           3862.0            2159.0             60.0            107.0  \n",
       "1           5819.0            3191.0            200.0            111.0  \n",
       "2            605.0             226.0             55.0              8.0  \n",
       "3           2226.0            1907.0             41.0             61.0  \n",
       "4            655.0             123.0             16.0              9.0  "
      ]
     },
     "execution_count": 4,
     "metadata": {},
     "output_type": "execute_result"
    }
   ],
   "source": [
    "df.head()\n"
   ]
  },
  {
   "cell_type": "code",
   "execution_count": 7,
   "metadata": {},
   "outputs": [
    {
     "name": "stdout",
     "output_type": "stream",
     "text": [
      "{0: 'AT', 1: 'BE', 2: 'BG', 3: 'CH', 4: 'CY', 5: 'CZ', 6: 'DE', 7: 'DK', 8: 'EE', 9: 'ES', 10: 'FI', 11: 'FR', 12: 'GB', 13: 'GR', 14: 'HR', 15: 'HU', 16: 'IE', 17: 'IS', 18: 'IT', 19: 'LI', 20: 'LT', 21: 'LU', 22: 'LV', 23: 'MK', 24: 'MT', 25: 'NL', 26: 'NO', 27: 'PL', 28: 'PT', 29: 'RO', 30: 'SE', 31: 'SI', 32: 'SK', 33: 'TR'}\n"
     ]
    }
   ],
   "source": [
    "d = df['country'].to_dict()\n",
    "print(d)"
   ]
  },
  {
   "cell_type": "code",
   "execution_count": 5,
   "metadata": {
    "collapsed": true
   },
   "outputs": [],
   "source": [
    "dict = {'source': [], 'target': [], 'value': []}\n",
    "\n",
    "#'source': [], 'target': [], 'value': []}\n",
    "source_nodes = []\n",
    "target_nodes = []\n",
    "\n",
    "for index, row in df.iterrows():\n",
    "    #sending\n",
    "    source_nodes.append(row[\"country\"])\n",
    "    dict.get('source').append(row[\"country\"])\n",
    "    dict.get('target').append(\"sending_first\")\n",
    "    dict.get('value').append(int(row[\"sending_first\"]))\n",
    "    dict.get('source').append(row[\"country\"])\n",
    "    dict.get('target').append(\"sending_second\")\n",
    "    dict.get('value').append(int(row[\"sending_second\"]))\n",
    "    dict.get('source').append(row[\"country\"])\n",
    "    dict.get('target').append(\"sending_third\")\n",
    "    dict.get('value').append(int(row[\"sending_third\"]))\n",
    "    \n",
    "    #receiving\n",
    "    #dict.get('source').append(\"receiving_first\")\n",
    "    #dict.get('target').append(row[\"country\"])\n",
    "    #dict.get('value').append(int(row['receiving_first']))\n",
    "   # dict.get('source').append(\"receiving_second\")\n",
    "    #dict.get('target').append(row[\"country\"])\n",
    "    #dict.get('value').append(int(row['receiving_second']))\n",
    "    #dict.get('source').append(\"receiving_third\")\n",
    "    #dict.get('target').append(row[\"country\"])\n",
    "    #dict.get('value').append(int(row['receiving_third']))\n",
    "\n"
   ]
  },
  {
   "cell_type": "code",
   "execution_count": 6,
   "metadata": {
    "scrolled": true
   },
   "outputs": [
    {
     "name": "stdout",
     "output_type": "stream",
     "text": [
      "{'source': ['AT', 'AT', 'AT', 'BE', 'BE', 'BE', 'BG', 'BG', 'BG', 'CH', 'CH', 'CH', 'CY', 'CY', 'CY', 'CZ', 'CZ', 'CZ', 'DE', 'DE', 'DE', 'DK', 'DK', 'DK', 'EE', 'EE', 'EE', 'ES', 'ES', 'ES', 'FI', 'FI', 'FI', 'FR', 'FR', 'FR', 'GB', 'GB', 'GB', 'GR', 'GR', 'GR', 'HR', 'HR', 'HR', 'HU', 'HU', 'HU', 'IE', 'IE', 'IE', 'IS', 'IS', 'IS', 'IT', 'IT', 'IT', 'LI', 'LI', 'LI', 'LT', 'LT', 'LT', 'LU', 'LU', 'LU', 'LV', 'LV', 'LV', 'MK', 'MK', 'MK', 'MT', 'MT', 'MT', 'NL', 'NL', 'NL', 'NO', 'NO', 'NO', 'PL', 'PL', 'PL', 'PT', 'PT', 'PT', 'RO', 'RO', 'RO', 'SE', 'SE', 'SE', 'SI', 'SI', 'SI', 'SK', 'SK', 'SK', 'TR', 'TR', 'TR'], 'target': ['sending_first', 'sending_second', 'sending_third', 'sending_first', 'sending_second', 'sending_third', 'sending_first', 'sending_second', 'sending_third', 'sending_first', 'sending_second', 'sending_third', 'sending_first', 'sending_second', 'sending_third', 'sending_first', 'sending_second', 'sending_third', 'sending_first', 'sending_second', 'sending_third', 'sending_first', 'sending_second', 'sending_third', 'sending_first', 'sending_second', 'sending_third', 'sending_first', 'sending_second', 'sending_third', 'sending_first', 'sending_second', 'sending_third', 'sending_first', 'sending_second', 'sending_third', 'sending_first', 'sending_second', 'sending_third', 'sending_first', 'sending_second', 'sending_third', 'sending_first', 'sending_second', 'sending_third', 'sending_first', 'sending_second', 'sending_third', 'sending_first', 'sending_second', 'sending_third', 'sending_first', 'sending_second', 'sending_third', 'sending_first', 'sending_second', 'sending_third', 'sending_first', 'sending_second', 'sending_third', 'sending_first', 'sending_second', 'sending_third', 'sending_first', 'sending_second', 'sending_third', 'sending_first', 'sending_second', 'sending_third', 'sending_first', 'sending_second', 'sending_third', 'sending_first', 'sending_second', 'sending_third', 'sending_first', 'sending_second', 'sending_third', 'sending_first', 'sending_second', 'sending_third', 'sending_first', 'sending_second', 'sending_third', 'sending_first', 'sending_second', 'sending_third', 'sending_first', 'sending_second', 'sending_third', 'sending_first', 'sending_second', 'sending_third', 'sending_first', 'sending_second', 'sending_third', 'sending_first', 'sending_second', 'sending_third', 'sending_first', 'sending_second', 'sending_third'], 'value': [3378, 2352, 63, 5051, 2683, 19, 1128, 565, 64, 1996, 978, 53, 355, 10, 18, 2725, 4465, 319, 27517, 8615, 67, 2483, 1008, 3, 664, 337, 9, 30896, 3063, 145, 4679, 871, 19, 15847, 16869, 110, 14888, 525, 184, 4224, 189, 57, 540, 833, 30, 2382, 1542, 84, 2838, 130, 4, 144, 79, 14, 11809, 14020, 499, 11, 19, 0, 2897, 439, 87, 432, 2, 0, 1633, 417, 58, 80, 8, 1, 191, 27, 2, 9051, 1533, 54, 976, 686, 4, 7533, 7674, 312, 4829, 2105, 21, 4083, 1482, 174, 2517, 1191, 10, 938, 681, 64, 1081, 1922, 174, 13357, 1042, 469]}\n"
     ]
    }
   ],
   "source": [
    "print(dict)"
   ]
  },
  {
   "cell_type": "code",
   "execution_count": 7,
   "metadata": {
    "collapsed": true
   },
   "outputs": [],
   "source": [
    "datafr = pd.DataFrame.from_dict(dict)"
   ]
  },
  {
   "cell_type": "code",
   "execution_count": 8,
   "metadata": {},
   "outputs": [
    {
     "data": {
      "text/html": [
       "<div>\n",
       "<style>\n",
       "    .dataframe thead tr:only-child th {\n",
       "        text-align: right;\n",
       "    }\n",
       "\n",
       "    .dataframe thead th {\n",
       "        text-align: left;\n",
       "    }\n",
       "\n",
       "    .dataframe tbody tr th {\n",
       "        vertical-align: top;\n",
       "    }\n",
       "</style>\n",
       "<table border=\"1\" class=\"dataframe\">\n",
       "  <thead>\n",
       "    <tr style=\"text-align: right;\">\n",
       "      <th></th>\n",
       "      <th>source</th>\n",
       "      <th>target</th>\n",
       "      <th>value</th>\n",
       "    </tr>\n",
       "  </thead>\n",
       "  <tbody>\n",
       "    <tr>\n",
       "      <th>0</th>\n",
       "      <td>AT</td>\n",
       "      <td>sending_first</td>\n",
       "      <td>3378</td>\n",
       "    </tr>\n",
       "    <tr>\n",
       "      <th>1</th>\n",
       "      <td>AT</td>\n",
       "      <td>sending_second</td>\n",
       "      <td>2352</td>\n",
       "    </tr>\n",
       "    <tr>\n",
       "      <th>2</th>\n",
       "      <td>AT</td>\n",
       "      <td>sending_third</td>\n",
       "      <td>63</td>\n",
       "    </tr>\n",
       "    <tr>\n",
       "      <th>3</th>\n",
       "      <td>BE</td>\n",
       "      <td>sending_first</td>\n",
       "      <td>5051</td>\n",
       "    </tr>\n",
       "    <tr>\n",
       "      <th>4</th>\n",
       "      <td>BE</td>\n",
       "      <td>sending_second</td>\n",
       "      <td>2683</td>\n",
       "    </tr>\n",
       "  </tbody>\n",
       "</table>\n",
       "</div>"
      ],
      "text/plain": [
       "  source          target  value\n",
       "0     AT   sending_first   3378\n",
       "1     AT  sending_second   2352\n",
       "2     AT   sending_third     63\n",
       "3     BE   sending_first   5051\n",
       "4     BE  sending_second   2683"
      ]
     },
     "execution_count": 8,
     "metadata": {},
     "output_type": "execute_result"
    }
   ],
   "source": [
    "datafr.head()"
   ]
  },
  {
   "cell_type": "code",
   "execution_count": 9,
   "metadata": {
    "collapsed": true
   },
   "outputs": [],
   "source": [
    "datafr.to_csv(\"/Users/ingeborgsollid/Downloads/sending2.csv\", index=False)\n"
   ]
  },
  {
   "cell_type": "code",
   "execution_count": 10,
   "metadata": {
    "collapsed": true
   },
   "outputs": [],
   "source": [
    "json_dict = {\"nodes\": [], \"links\": []}\n",
    "\n",
    "count = 0\n",
    "for source in source_nodes:\n",
    "    json_dict[\"nodes\"].append({\"node\": count, \"name\": source})\n",
    "    count+=1\n",
    "\n",
    "json_dict[\"nodes\"].append({\"node\": 34, \"name\": \"Bachelor\"})\n",
    "json_dict[\"nodes\"].append({\"node\": 35, \"name\": \"Master\"})\n",
    "json_dict[\"nodes\"].append({\"node\": 36, \"name\": \"PhD\"})"
   ]
  },
  {
   "cell_type": "code",
   "execution_count": 11,
   "metadata": {},
   "outputs": [
    {
     "name": "stdout",
     "output_type": "stream",
     "text": [
      "{'nodes': [{'node': 0, 'name': 'AT'}, {'node': 1, 'name': 'BE'}, {'node': 2, 'name': 'BG'}, {'node': 3, 'name': 'CH'}, {'node': 4, 'name': 'CY'}, {'node': 5, 'name': 'CZ'}, {'node': 6, 'name': 'DE'}, {'node': 7, 'name': 'DK'}, {'node': 8, 'name': 'EE'}, {'node': 9, 'name': 'ES'}, {'node': 10, 'name': 'FI'}, {'node': 11, 'name': 'FR'}, {'node': 12, 'name': 'GB'}, {'node': 13, 'name': 'GR'}, {'node': 14, 'name': 'HR'}, {'node': 15, 'name': 'HU'}, {'node': 16, 'name': 'IE'}, {'node': 17, 'name': 'IS'}, {'node': 18, 'name': 'IT'}, {'node': 19, 'name': 'LI'}, {'node': 20, 'name': 'LT'}, {'node': 21, 'name': 'LU'}, {'node': 22, 'name': 'LV'}, {'node': 23, 'name': 'MK'}, {'node': 24, 'name': 'MT'}, {'node': 25, 'name': 'NL'}, {'node': 26, 'name': 'NO'}, {'node': 27, 'name': 'PL'}, {'node': 28, 'name': 'PT'}, {'node': 29, 'name': 'RO'}, {'node': 30, 'name': 'SE'}, {'node': 31, 'name': 'SI'}, {'node': 32, 'name': 'SK'}, {'node': 33, 'name': 'TR'}, {'node': 34, 'name': 'Bachelor'}, {'node': 35, 'name': 'Master'}, {'node': 36, 'name': 'PhD'}], 'links': []}\n"
     ]
    }
   ],
   "source": [
    "print(json_dict)"
   ]
  },
  {
   "cell_type": "code",
   "execution_count": 12,
   "metadata": {
    "collapsed": true
   },
   "outputs": [],
   "source": [
    "for index, row in datafr.iterrows():\n",
    "    source_nr = source_nodes.index(row[\"source\"])\n",
    "    if (row[\"target\"]==\"sending_first\"):\n",
    "        json_dict[\"links\"].append({\"source\": source_nr,\"target\":34,\"value\": row[\"value\"]})\n",
    "    elif (row[\"target\"]==\"sending_second\"):\n",
    "        json_dict[\"links\"].append({\"source\": source_nr,\"target\":35,\"value\": row[\"value\"]})\n",
    "    elif (row[\"target\"]==\"sending_third\"):\n",
    "        json_dict[\"links\"].append({\"source\": source_nr,\"target\":36,\"value\": row[\"value\"]})\n"
   ]
  },
  {
   "cell_type": "code",
   "execution_count": 13,
   "metadata": {
    "scrolled": true
   },
   "outputs": [
    {
     "name": "stdout",
     "output_type": "stream",
     "text": [
      "{'nodes': [{'node': 0, 'name': 'AT'}, {'node': 1, 'name': 'BE'}, {'node': 2, 'name': 'BG'}, {'node': 3, 'name': 'CH'}, {'node': 4, 'name': 'CY'}, {'node': 5, 'name': 'CZ'}, {'node': 6, 'name': 'DE'}, {'node': 7, 'name': 'DK'}, {'node': 8, 'name': 'EE'}, {'node': 9, 'name': 'ES'}, {'node': 10, 'name': 'FI'}, {'node': 11, 'name': 'FR'}, {'node': 12, 'name': 'GB'}, {'node': 13, 'name': 'GR'}, {'node': 14, 'name': 'HR'}, {'node': 15, 'name': 'HU'}, {'node': 16, 'name': 'IE'}, {'node': 17, 'name': 'IS'}, {'node': 18, 'name': 'IT'}, {'node': 19, 'name': 'LI'}, {'node': 20, 'name': 'LT'}, {'node': 21, 'name': 'LU'}, {'node': 22, 'name': 'LV'}, {'node': 23, 'name': 'MK'}, {'node': 24, 'name': 'MT'}, {'node': 25, 'name': 'NL'}, {'node': 26, 'name': 'NO'}, {'node': 27, 'name': 'PL'}, {'node': 28, 'name': 'PT'}, {'node': 29, 'name': 'RO'}, {'node': 30, 'name': 'SE'}, {'node': 31, 'name': 'SI'}, {'node': 32, 'name': 'SK'}, {'node': 33, 'name': 'TR'}, {'node': 34, 'name': 'Bachelor'}, {'node': 35, 'name': 'Master'}, {'node': 36, 'name': 'PhD'}], 'links': [{'source': 0, 'target': 34, 'value': 3378}, {'source': 0, 'target': 35, 'value': 2352}, {'source': 0, 'target': 36, 'value': 63}, {'source': 1, 'target': 34, 'value': 5051}, {'source': 1, 'target': 35, 'value': 2683}, {'source': 1, 'target': 36, 'value': 19}, {'source': 2, 'target': 34, 'value': 1128}, {'source': 2, 'target': 35, 'value': 565}, {'source': 2, 'target': 36, 'value': 64}, {'source': 3, 'target': 34, 'value': 1996}, {'source': 3, 'target': 35, 'value': 978}, {'source': 3, 'target': 36, 'value': 53}, {'source': 4, 'target': 34, 'value': 355}, {'source': 4, 'target': 35, 'value': 10}, {'source': 4, 'target': 36, 'value': 18}, {'source': 5, 'target': 34, 'value': 2725}, {'source': 5, 'target': 35, 'value': 4465}, {'source': 5, 'target': 36, 'value': 319}, {'source': 6, 'target': 34, 'value': 27517}, {'source': 6, 'target': 35, 'value': 8615}, {'source': 6, 'target': 36, 'value': 67}, {'source': 7, 'target': 34, 'value': 2483}, {'source': 7, 'target': 35, 'value': 1008}, {'source': 7, 'target': 36, 'value': 3}, {'source': 8, 'target': 34, 'value': 664}, {'source': 8, 'target': 35, 'value': 337}, {'source': 8, 'target': 36, 'value': 9}, {'source': 9, 'target': 34, 'value': 30896}, {'source': 9, 'target': 35, 'value': 3063}, {'source': 9, 'target': 36, 'value': 145}, {'source': 10, 'target': 34, 'value': 4679}, {'source': 10, 'target': 35, 'value': 871}, {'source': 10, 'target': 36, 'value': 19}, {'source': 11, 'target': 34, 'value': 15847}, {'source': 11, 'target': 35, 'value': 16869}, {'source': 11, 'target': 36, 'value': 110}, {'source': 12, 'target': 34, 'value': 14888}, {'source': 12, 'target': 35, 'value': 525}, {'source': 12, 'target': 36, 'value': 184}, {'source': 13, 'target': 34, 'value': 4224}, {'source': 13, 'target': 35, 'value': 189}, {'source': 13, 'target': 36, 'value': 57}, {'source': 14, 'target': 34, 'value': 540}, {'source': 14, 'target': 35, 'value': 833}, {'source': 14, 'target': 36, 'value': 30}, {'source': 15, 'target': 34, 'value': 2382}, {'source': 15, 'target': 35, 'value': 1542}, {'source': 15, 'target': 36, 'value': 84}, {'source': 16, 'target': 34, 'value': 2838}, {'source': 16, 'target': 35, 'value': 130}, {'source': 16, 'target': 36, 'value': 4}, {'source': 17, 'target': 34, 'value': 144}, {'source': 17, 'target': 35, 'value': 79}, {'source': 17, 'target': 36, 'value': 14}, {'source': 18, 'target': 34, 'value': 11809}, {'source': 18, 'target': 35, 'value': 14020}, {'source': 18, 'target': 36, 'value': 499}, {'source': 19, 'target': 34, 'value': 11}, {'source': 19, 'target': 35, 'value': 19}, {'source': 19, 'target': 36, 'value': 0}, {'source': 20, 'target': 34, 'value': 2897}, {'source': 20, 'target': 35, 'value': 439}, {'source': 20, 'target': 36, 'value': 87}, {'source': 21, 'target': 34, 'value': 432}, {'source': 21, 'target': 35, 'value': 2}, {'source': 21, 'target': 36, 'value': 0}, {'source': 22, 'target': 34, 'value': 1633}, {'source': 22, 'target': 35, 'value': 417}, {'source': 22, 'target': 36, 'value': 58}, {'source': 23, 'target': 34, 'value': 80}, {'source': 23, 'target': 35, 'value': 8}, {'source': 23, 'target': 36, 'value': 1}, {'source': 24, 'target': 34, 'value': 191}, {'source': 24, 'target': 35, 'value': 27}, {'source': 24, 'target': 36, 'value': 2}, {'source': 25, 'target': 34, 'value': 9051}, {'source': 25, 'target': 35, 'value': 1533}, {'source': 25, 'target': 36, 'value': 54}, {'source': 26, 'target': 34, 'value': 976}, {'source': 26, 'target': 35, 'value': 686}, {'source': 26, 'target': 36, 'value': 4}, {'source': 27, 'target': 34, 'value': 7533}, {'source': 27, 'target': 35, 'value': 7674}, {'source': 27, 'target': 36, 'value': 312}, {'source': 28, 'target': 34, 'value': 4829}, {'source': 28, 'target': 35, 'value': 2105}, {'source': 28, 'target': 36, 'value': 21}, {'source': 29, 'target': 34, 'value': 4083}, {'source': 29, 'target': 35, 'value': 1482}, {'source': 29, 'target': 36, 'value': 174}, {'source': 30, 'target': 34, 'value': 2517}, {'source': 30, 'target': 35, 'value': 1191}, {'source': 30, 'target': 36, 'value': 10}, {'source': 31, 'target': 34, 'value': 938}, {'source': 31, 'target': 35, 'value': 681}, {'source': 31, 'target': 36, 'value': 64}, {'source': 32, 'target': 34, 'value': 1081}, {'source': 32, 'target': 35, 'value': 1922}, {'source': 32, 'target': 36, 'value': 174}, {'source': 33, 'target': 34, 'value': 13357}, {'source': 33, 'target': 35, 'value': 1042}, {'source': 33, 'target': 36, 'value': 469}]}\n"
     ]
    }
   ],
   "source": [
    "print(json_dict)"
   ]
  },
  {
   "cell_type": "code",
   "execution_count": null,
   "metadata": {
    "collapsed": true
   },
   "outputs": [],
   "source": []
  },
  {
   "cell_type": "code",
   "execution_count": 14,
   "metadata": {
    "collapsed": true
   },
   "outputs": [],
   "source": [
    "import json"
   ]
  },
  {
   "cell_type": "code",
   "execution_count": 15,
   "metadata": {
    "collapsed": true
   },
   "outputs": [],
   "source": [
    "with open('degree.json', 'w') as fp:\n",
    "    json.dump(json_dict, fp)"
   ]
  },
  {
   "cell_type": "code",
   "execution_count": null,
   "metadata": {
    "collapsed": true
   },
   "outputs": [],
   "source": []
  },
  {
   "cell_type": "code",
   "execution_count": null,
   "metadata": {
    "collapsed": true
   },
   "outputs": [],
   "source": []
  }
 ],
 "metadata": {
  "kernelspec": {
   "display_name": "Python 3",
   "language": "python",
   "name": "python3"
  },
  "language_info": {
   "codemirror_mode": {
    "name": "ipython",
    "version": 3
   },
   "file_extension": ".py",
   "mimetype": "text/x-python",
   "name": "python",
   "nbconvert_exporter": "python",
   "pygments_lexer": "ipython3",
   "version": "3.6.1"
  }
 },
 "nbformat": 4,
 "nbformat_minor": 2
}
