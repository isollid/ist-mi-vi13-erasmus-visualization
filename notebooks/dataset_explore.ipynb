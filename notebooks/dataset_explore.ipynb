{
 "cells": [
  {
   "cell_type": "markdown",
   "metadata": {},
   "source": [
    "### Read the dataframes"
   ]
  },
  {
   "cell_type": "code",
   "execution_count": 2,
   "metadata": {
    "ExecuteTime": {
     "end_time": "2019-10-14T21:18:56.539495Z",
     "start_time": "2019-10-14T21:18:55.735274Z"
    }
   },
   "outputs": [],
   "source": [
    "import numpy as np\n",
    "import pandas as pd\n",
    "import sys"
   ]
  },
  {
   "cell_type": "code",
   "execution_count": 18,
   "metadata": {
    "ExecuteTime": {
     "end_time": "2019-10-14T22:05:31.369457Z",
     "start_time": "2019-10-14T22:04:28.471988Z"
    }
   },
   "outputs": [],
   "source": [
    "df_student_mobility = pd.read_excel(\"../datasets/Student_Mobility_2013-14.xlsx\")"
   ]
  },
  {
   "cell_type": "code",
   "execution_count": 19,
   "metadata": {
    "ExecuteTime": {
     "end_time": "2019-10-14T22:05:31.769189Z",
     "start_time": "2019-10-14T22:05:31.741833Z"
    }
   },
   "outputs": [
    {
     "data": {
      "text/plain": [
       "Mob-SMS    212208\n",
       "Mob-SMP     60289\n",
       "Name: MobilityType, dtype: int64"
      ]
     },
     "execution_count": 19,
     "metadata": {},
     "output_type": "execute_result"
    }
   ],
   "source": [
    "df_student_mobility.MobilityType.value_counts()"
   ]
  },
  {
   "cell_type": "code",
   "execution_count": 17,
   "metadata": {
    "ExecuteTime": {
     "end_time": "2019-10-14T21:43:30.465732Z",
     "start_time": "2019-10-14T21:43:30.460964Z"
    }
   },
   "outputs": [
    {
     "data": {
      "text/plain": [
       "'Action, CallYear, ProjectNumber, MobiilityID, SendingCountry, ReceivingCountry, MobilityType, SpecialNeeds, SubjectAreaCode, SubjectAreaName, CombinedMobilityYesNo, StartDate, EndDate, DurationInMonths, DurationInDays, SubsistenceTravel, LevelOfStudy, ParticipantID, ParticipantGender, ParticipantType, Language, SendingPartnerErasmusID, SendingPartnerName, HostingPartnerErasmusID, HostingPartnerName, HostingPartnerCountry, HostingPartnerCity'"
      ]
     },
     "execution_count": 17,
     "metadata": {},
     "output_type": "execute_result"
    }
   ],
   "source": [
    "\", \".join(df_student_mobility.columns.values)"
   ]
  },
  {
   "cell_type": "code",
   "execution_count": 8,
   "metadata": {
    "ExecuteTime": {
     "end_time": "2019-10-14T21:22:20.708197Z",
     "start_time": "2019-10-14T21:22:20.623328Z"
    }
   },
   "outputs": [],
   "source": [
    "df_student_mobility = df_student_mobility[df_student_mobility.MobilityType == \"Mob-SMS\"]"
   ]
  },
  {
   "cell_type": "code",
   "execution_count": 15,
   "metadata": {
    "ExecuteTime": {
     "end_time": "2019-10-14T21:27:06.434472Z",
     "start_time": "2019-10-14T21:27:06.069609Z"
    }
   },
   "outputs": [],
   "source": [
    "df_student_mobility[[\"SendingCountry\", \"ReceivingCountry\", \"SubjectAreaName\", \"LevelOfStudy\", \"SendingPartnerErasmusID\", \"HostingPartnerErasmusID\"]].sample(5).to_excel(\"../sample.xlsx\", index=False)"
   ]
  },
  {
   "cell_type": "markdown",
   "metadata": {},
   "source": [
    "---"
   ]
  },
  {
   "cell_type": "code",
   "execution_count": 25,
   "metadata": {
    "ExecuteTime": {
     "end_time": "2019-10-13T17:29:19.443715Z",
     "start_time": "2019-10-13T17:29:12.203076Z"
    }
   },
   "outputs": [
    {
     "name": "stderr",
     "output_type": "stream",
     "text": [
      "/Library/Frameworks/Python.framework/Versions/3.6/lib/python3.6/site-packages/IPython/core/interactiveshell.py:2705: DtypeWarning: Columns (9,10,11,12,13) have mixed types. Specify dtype option on import or set low_memory=False.\n",
      "  interactivity=interactivity, compiler=compiler, result=result)\n"
     ]
    }
   ],
   "source": [
    "df_all_countries = pd.read_csv(\"datasets/geonames.org/allCountries_europe.csv\")"
   ]
  },
  {
   "cell_type": "code",
   "execution_count": 7,
   "metadata": {
    "ExecuteTime": {
     "end_time": "2019-10-13T17:20:58.845497Z",
     "start_time": "2019-10-13T17:20:58.819000Z"
    }
   },
   "outputs": [],
   "source": [
    "df_country_info = pd.read_csv(\"datasets/geonames.org/countryInfo.txt\", delimiter=\"\\t\")"
   ]
  },
  {
   "cell_type": "code",
   "execution_count": 8,
   "metadata": {
    "ExecuteTime": {
     "end_time": "2019-10-13T17:20:58.863319Z",
     "start_time": "2019-10-13T17:20:58.847886Z"
    }
   },
   "outputs": [],
   "source": [
    "df_cost_of_living = pd.read_csv(\"datasets/cost-of-living/cost-of-living-2016.csv\")"
   ]
  },
  {
   "cell_type": "code",
   "execution_count": 9,
   "metadata": {
    "ExecuteTime": {
     "end_time": "2019-10-13T17:20:59.149245Z",
     "start_time": "2019-10-13T17:20:58.865779Z"
    }
   },
   "outputs": [],
   "source": [
    "df_euc = pd.read_excel(\"datasets/EUC_ for_the_academic_year_2013_2014.xls\")"
   ]
  },
  {
   "cell_type": "markdown",
   "metadata": {},
   "source": [
    "1. What is the flow of students doing Erasmus between countries?\n",
    "    - To which countries do like Czech students to go?\n",
    "2. Which countries are popular for being an Erasmus destination? \n",
    "    - What are the most popular countries for erasmus (biggest number of incoming per capita)\n",
    "3. +What countries have the biggest difference between the number of incoming/outgoing students?\n",
    "3. Is there any difference between bachelor and master’s degrees?\n",
    "    - Are the most popular countries for bachelors different than for masters?\n",
    "4. Does gender effects the choice?\n",
    "    - Are the most popular countries for girl different than for boys?\n",
    "5. Does distance from the city of home university to the city of receiving university matter?\n",
    "    - Do Czechs like travel far? What about Germans?\n",
    "6. ~~Does the city size of receiving and home university matter?~~\n",
    "7. How does difference in cost of living in home and target country effect the selection?\n",
    "    - should be possible (Joining based on the country name)"
   ]
  },
  {
   "cell_type": "markdown",
   "metadata": {},
   "source": [
    "#### 5. Does distance from the city of home university to the city of receiving university matter?\n",
    "    - How far do Czech students like to travel? What about Germans?"
   ]
  },
  {
   "cell_type": "code",
   "execution_count": 385,
   "metadata": {
    "ExecuteTime": {
     "end_time": "2019-10-12T23:30:16.093841Z",
     "start_time": "2019-10-12T23:30:16.089637Z"
    }
   },
   "outputs": [
    {
     "data": {
      "text/plain": [
       "0.2486974452972849"
      ]
     },
     "execution_count": 385,
     "metadata": {},
     "output_type": "execute_result"
    }
   ],
   "source": [
    "54272 / 218225"
   ]
  },
  {
   "cell_type": "code",
   "execution_count": 386,
   "metadata": {
    "ExecuteTime": {
     "end_time": "2019-10-12T23:30:16.114439Z",
     "start_time": "2019-10-12T23:30:16.096159Z"
    }
   },
   "outputs": [
    {
     "data": {
      "text/plain": [
       "False    218225\n",
       "True      54272\n",
       "Name: HostingPartnerErasmusID, dtype: int64"
      ]
     },
     "execution_count": 386,
     "metadata": {},
     "output_type": "execute_result"
    }
   ],
   "source": [
    "df_student_mobility.HostingPartnerErasmusID.isnull().value_counts()"
   ]
  },
  {
   "cell_type": "code",
   "execution_count": 387,
   "metadata": {
    "ExecuteTime": {
     "end_time": "2019-10-12T23:30:16.484379Z",
     "start_time": "2019-10-12T23:30:16.116223Z"
    }
   },
   "outputs": [
    {
     "data": {
      "text/html": [
       "<div>\n",
       "<style scoped>\n",
       "    .dataframe tbody tr th:only-of-type {\n",
       "        vertical-align: middle;\n",
       "    }\n",
       "\n",
       "    .dataframe tbody tr th {\n",
       "        vertical-align: top;\n",
       "    }\n",
       "\n",
       "    .dataframe thead th {\n",
       "        text-align: right;\n",
       "    }\n",
       "</style>\n",
       "<table border=\"1\" class=\"dataframe\">\n",
       "  <thead>\n",
       "    <tr style=\"text-align: right;\">\n",
       "      <th></th>\n",
       "      <th>Action</th>\n",
       "      <th>CallYear</th>\n",
       "      <th>ProjectNumber</th>\n",
       "      <th>MobiilityID</th>\n",
       "      <th>SendingCountry</th>\n",
       "      <th>ReceivingCountry</th>\n",
       "      <th>MobilityType</th>\n",
       "      <th>SpecialNeeds</th>\n",
       "      <th>SubjectAreaCode</th>\n",
       "      <th>SubjectAreaName</th>\n",
       "      <th>...</th>\n",
       "      <th>ParticipantID</th>\n",
       "      <th>ParticipantGender</th>\n",
       "      <th>ParticipantType</th>\n",
       "      <th>Language</th>\n",
       "      <th>SendingPartnerErasmusID</th>\n",
       "      <th>SendingPartnerName</th>\n",
       "      <th>HostingPartnerErasmusID</th>\n",
       "      <th>HostingPartnerName</th>\n",
       "      <th>HostingPartnerCountry</th>\n",
       "      <th>HostingPartnerCity</th>\n",
       "    </tr>\n",
       "  </thead>\n",
       "  <tbody>\n",
       "    <tr>\n",
       "      <td>107</td>\n",
       "      <td>ERA02</td>\n",
       "      <td>2013</td>\n",
       "      <td>2013-1-AT1-ERA02-09564</td>\n",
       "      <td>GR0057-SMP-1314</td>\n",
       "      <td>AT</td>\n",
       "      <td>DE</td>\n",
       "      <td>Mob-SMP</td>\n",
       "      <td>0.0</td>\n",
       "      <td>212</td>\n",
       "      <td>Music and performing arts</td>\n",
       "      <td>...</td>\n",
       "      <td>95520</td>\n",
       "      <td>F</td>\n",
       "      <td>Students</td>\n",
       "      <td>DE</td>\n",
       "      <td>A  GRAZ03</td>\n",
       "      <td>UniversitÃ¤t fÃ¼r Musik und darstellende Kunst...</td>\n",
       "      <td>NaN</td>\n",
       "      <td>K.G.I. Schauspieltruppe am BAT/StudiobÃ¼hne de...</td>\n",
       "      <td>DE</td>\n",
       "      <td>Berlin</td>\n",
       "    </tr>\n",
       "    <tr>\n",
       "      <td>108</td>\n",
       "      <td>ERA02</td>\n",
       "      <td>2013</td>\n",
       "      <td>2013-1-AT1-ERA02-09564</td>\n",
       "      <td>GR0091-SMP-1314</td>\n",
       "      <td>AT</td>\n",
       "      <td>DE</td>\n",
       "      <td>Mob-SMP</td>\n",
       "      <td>0.0</td>\n",
       "      <td>522</td>\n",
       "      <td>Electricity and energy</td>\n",
       "      <td>...</td>\n",
       "      <td>95918</td>\n",
       "      <td>M</td>\n",
       "      <td>Students</td>\n",
       "      <td>DE</td>\n",
       "      <td>A  GRAZ03</td>\n",
       "      <td>UniversitÃ¤t fÃ¼r Musik und darstellende Kunst...</td>\n",
       "      <td>NaN</td>\n",
       "      <td>Schalltechnik Dr.-Ing.Schoeps GmbH</td>\n",
       "      <td>DE</td>\n",
       "      <td>Karlsruhe</td>\n",
       "    </tr>\n",
       "    <tr>\n",
       "      <td>109</td>\n",
       "      <td>ERA02</td>\n",
       "      <td>2013</td>\n",
       "      <td>2013-1-AT1-ERA02-09564</td>\n",
       "      <td>GR0098-SMP-1314</td>\n",
       "      <td>AT</td>\n",
       "      <td>DE</td>\n",
       "      <td>Mob-SMP</td>\n",
       "      <td>0.0</td>\n",
       "      <td>212</td>\n",
       "      <td>Music and performing arts</td>\n",
       "      <td>...</td>\n",
       "      <td>96116</td>\n",
       "      <td>M</td>\n",
       "      <td>Students</td>\n",
       "      <td>DE</td>\n",
       "      <td>A  GRAZ03</td>\n",
       "      <td>UniversitÃ¤t fÃ¼r Musik und darstellende Kunst...</td>\n",
       "      <td>NaN</td>\n",
       "      <td>GÃ¶ttinger Symphonie Orchester</td>\n",
       "      <td>DE</td>\n",
       "      <td>GÃ¶ttingen</td>\n",
       "    </tr>\n",
       "    <tr>\n",
       "      <td>139</td>\n",
       "      <td>ERA02</td>\n",
       "      <td>2013</td>\n",
       "      <td>2013-1-AT1-ERA02-09712</td>\n",
       "      <td>GR0014-SMP-1314</td>\n",
       "      <td>AT</td>\n",
       "      <td>ES</td>\n",
       "      <td>Mob-SMP</td>\n",
       "      <td>0.0</td>\n",
       "      <td>223</td>\n",
       "      <td>Mother tongue</td>\n",
       "      <td>...</td>\n",
       "      <td>89706</td>\n",
       "      <td>F</td>\n",
       "      <td>Students</td>\n",
       "      <td>ES</td>\n",
       "      <td>A  GRAZ01</td>\n",
       "      <td>Karl-Franzens-UniversitÃ¤t Graz</td>\n",
       "      <td>NaN</td>\n",
       "      <td>Buceo Puerto Javea</td>\n",
       "      <td>ES</td>\n",
       "      <td>Javea (Alicante)</td>\n",
       "    </tr>\n",
       "    <tr>\n",
       "      <td>145</td>\n",
       "      <td>ERA02</td>\n",
       "      <td>2013</td>\n",
       "      <td>2013-1-AT1-ERA02-09712</td>\n",
       "      <td>GR0020-SMP-1314</td>\n",
       "      <td>AT</td>\n",
       "      <td>ES</td>\n",
       "      <td>Mob-SMP</td>\n",
       "      <td>0.0</td>\n",
       "      <td>34</td>\n",
       "      <td>Business and administration</td>\n",
       "      <td>...</td>\n",
       "      <td>89707</td>\n",
       "      <td>M</td>\n",
       "      <td>Students</td>\n",
       "      <td>ES</td>\n",
       "      <td>A  GRAZ01</td>\n",
       "      <td>Karl-Franzens-UniversitÃ¤t Graz</td>\n",
       "      <td>NaN</td>\n",
       "      <td>Robert Bosch EspaaÂ±a FaÂ¡brica Madrid, S.A.</td>\n",
       "      <td>ES</td>\n",
       "      <td>Madrid</td>\n",
       "    </tr>\n",
       "    <tr>\n",
       "      <td>...</td>\n",
       "      <td>...</td>\n",
       "      <td>...</td>\n",
       "      <td>...</td>\n",
       "      <td>...</td>\n",
       "      <td>...</td>\n",
       "      <td>...</td>\n",
       "      <td>...</td>\n",
       "      <td>...</td>\n",
       "      <td>...</td>\n",
       "      <td>...</td>\n",
       "      <td>...</td>\n",
       "      <td>...</td>\n",
       "      <td>...</td>\n",
       "      <td>...</td>\n",
       "      <td>...</td>\n",
       "      <td>...</td>\n",
       "      <td>...</td>\n",
       "      <td>...</td>\n",
       "      <td>...</td>\n",
       "      <td>...</td>\n",
       "      <td>...</td>\n",
       "    </tr>\n",
       "    <tr>\n",
       "      <td>272360</td>\n",
       "      <td>ERA02</td>\n",
       "      <td>2013</td>\n",
       "      <td>2013-1-TR1-ERA02-51208</td>\n",
       "      <td>51208-MOB-00055</td>\n",
       "      <td>TR</td>\n",
       "      <td>DE</td>\n",
       "      <td>Mob-SMP</td>\n",
       "      <td>0.0</td>\n",
       "      <td>52</td>\n",
       "      <td>Engineering and engineering trades</td>\n",
       "      <td>...</td>\n",
       "      <td>29024209558</td>\n",
       "      <td>M</td>\n",
       "      <td>Students</td>\n",
       "      <td>EN</td>\n",
       "      <td>TR ISTANBU25</td>\n",
       "      <td>Ä°STANBUL AYDIN ÃœNÄ°VERSÄ°TESÄ°</td>\n",
       "      <td>NaN</td>\n",
       "      <td>Avance Bau GmbH</td>\n",
       "      <td>DE</td>\n",
       "      <td>Offenbach-Bieber</td>\n",
       "    </tr>\n",
       "    <tr>\n",
       "      <td>272361</td>\n",
       "      <td>ERA02</td>\n",
       "      <td>2013</td>\n",
       "      <td>2013-1-TR1-ERA02-51208</td>\n",
       "      <td>51208-MOB-00056</td>\n",
       "      <td>TR</td>\n",
       "      <td>GB</td>\n",
       "      <td>Mob-SMP</td>\n",
       "      <td>0.0</td>\n",
       "      <td>34</td>\n",
       "      <td>Business and administration</td>\n",
       "      <td>...</td>\n",
       "      <td>16051449606</td>\n",
       "      <td>M</td>\n",
       "      <td>Students</td>\n",
       "      <td>EN</td>\n",
       "      <td>TR ISTANBU25</td>\n",
       "      <td>Ä°STANBUL AYDIN ÃœNÄ°VERSÄ°TESÄ°</td>\n",
       "      <td>NaN</td>\n",
       "      <td>The British International School</td>\n",
       "      <td>GB</td>\n",
       "      <td>LONDON</td>\n",
       "    </tr>\n",
       "    <tr>\n",
       "      <td>272362</td>\n",
       "      <td>ERA02</td>\n",
       "      <td>2013</td>\n",
       "      <td>2013-1-TR1-ERA02-51208</td>\n",
       "      <td>51208-MOB-00057</td>\n",
       "      <td>TR</td>\n",
       "      <td>GB</td>\n",
       "      <td>Mob-SMP</td>\n",
       "      <td>0.0</td>\n",
       "      <td>34</td>\n",
       "      <td>Business and administration</td>\n",
       "      <td>...</td>\n",
       "      <td>10910950500</td>\n",
       "      <td>M</td>\n",
       "      <td>Students</td>\n",
       "      <td>EN</td>\n",
       "      <td>TR ISTANBU25</td>\n",
       "      <td>Ä°STANBUL AYDIN ÃœNÄ°VERSÄ°TESÄ°</td>\n",
       "      <td>NaN</td>\n",
       "      <td>Mel Bookkeeping Services</td>\n",
       "      <td>GB</td>\n",
       "      <td>Edinburgh</td>\n",
       "    </tr>\n",
       "    <tr>\n",
       "      <td>272485</td>\n",
       "      <td>ERA02</td>\n",
       "      <td>2013</td>\n",
       "      <td>2013-1-TR1-ERA02-51208</td>\n",
       "      <td>51208-MOB-00184</td>\n",
       "      <td>TR</td>\n",
       "      <td>MT</td>\n",
       "      <td>Mob-SMP</td>\n",
       "      <td>0.0</td>\n",
       "      <td>34</td>\n",
       "      <td>Business and administration</td>\n",
       "      <td>...</td>\n",
       "      <td>28904293502</td>\n",
       "      <td>M</td>\n",
       "      <td>Students</td>\n",
       "      <td>EN</td>\n",
       "      <td>TR ISTANBU25</td>\n",
       "      <td>Ä°STANBUL AYDIN ÃœNÄ°VERSÄ°TESÄ°</td>\n",
       "      <td>NaN</td>\n",
       "      <td>STAGE MALTA</td>\n",
       "      <td>MT</td>\n",
       "      <td>BIRKIRKARA</td>\n",
       "    </tr>\n",
       "    <tr>\n",
       "      <td>272495</td>\n",
       "      <td>ERA02</td>\n",
       "      <td>2013</td>\n",
       "      <td>2013-1-TR1-ERA02-51208</td>\n",
       "      <td>51208-MOB-00194</td>\n",
       "      <td>TR</td>\n",
       "      <td>GB</td>\n",
       "      <td>Mob-SMP</td>\n",
       "      <td>0.0</td>\n",
       "      <td>34</td>\n",
       "      <td>Business and administration</td>\n",
       "      <td>...</td>\n",
       "      <td>A02733532</td>\n",
       "      <td>F</td>\n",
       "      <td>Students</td>\n",
       "      <td>EN</td>\n",
       "      <td>TR ISTANBU25</td>\n",
       "      <td>Ä°STANBUL AYDIN ÃœNÄ°VERSÄ°TESÄ°</td>\n",
       "      <td>NaN</td>\n",
       "      <td>The British International School</td>\n",
       "      <td>GB</td>\n",
       "      <td>LONDON</td>\n",
       "    </tr>\n",
       "  </tbody>\n",
       "</table>\n",
       "<p>97855 rows × 27 columns</p>\n",
       "</div>"
      ],
      "text/plain": [
       "       Action  CallYear           ProjectNumber      MobiilityID  \\\n",
       "107     ERA02      2013  2013-1-AT1-ERA02-09564  GR0057-SMP-1314   \n",
       "108     ERA02      2013  2013-1-AT1-ERA02-09564  GR0091-SMP-1314   \n",
       "109     ERA02      2013  2013-1-AT1-ERA02-09564  GR0098-SMP-1314   \n",
       "139     ERA02      2013  2013-1-AT1-ERA02-09712  GR0014-SMP-1314   \n",
       "145     ERA02      2013  2013-1-AT1-ERA02-09712  GR0020-SMP-1314   \n",
       "...       ...       ...                     ...              ...   \n",
       "272360  ERA02      2013  2013-1-TR1-ERA02-51208  51208-MOB-00055   \n",
       "272361  ERA02      2013  2013-1-TR1-ERA02-51208  51208-MOB-00056   \n",
       "272362  ERA02      2013  2013-1-TR1-ERA02-51208  51208-MOB-00057   \n",
       "272485  ERA02      2013  2013-1-TR1-ERA02-51208  51208-MOB-00184   \n",
       "272495  ERA02      2013  2013-1-TR1-ERA02-51208  51208-MOB-00194   \n",
       "\n",
       "       SendingCountry ReceivingCountry MobilityType  SpecialNeeds  \\\n",
       "107                AT               DE      Mob-SMP           0.0   \n",
       "108                AT               DE      Mob-SMP           0.0   \n",
       "109                AT               DE      Mob-SMP           0.0   \n",
       "139                AT               ES      Mob-SMP           0.0   \n",
       "145                AT               ES      Mob-SMP           0.0   \n",
       "...               ...              ...          ...           ...   \n",
       "272360             TR               DE      Mob-SMP           0.0   \n",
       "272361             TR               GB      Mob-SMP           0.0   \n",
       "272362             TR               GB      Mob-SMP           0.0   \n",
       "272485             TR               MT      Mob-SMP           0.0   \n",
       "272495             TR               GB      Mob-SMP           0.0   \n",
       "\n",
       "        SubjectAreaCode                     SubjectAreaName  ...  \\\n",
       "107                 212           Music and performing arts  ...   \n",
       "108                 522              Electricity and energy  ...   \n",
       "109                 212           Music and performing arts  ...   \n",
       "139                 223                       Mother tongue  ...   \n",
       "145                  34         Business and administration  ...   \n",
       "...                 ...                                 ...  ...   \n",
       "272360               52  Engineering and engineering trades  ...   \n",
       "272361               34         Business and administration  ...   \n",
       "272362               34         Business and administration  ...   \n",
       "272485               34         Business and administration  ...   \n",
       "272495               34         Business and administration  ...   \n",
       "\n",
       "       ParticipantID ParticipantGender ParticipantType  Language  \\\n",
       "107            95520                 F        Students        DE   \n",
       "108            95918                 M        Students        DE   \n",
       "109            96116                 M        Students        DE   \n",
       "139            89706                 F        Students        ES   \n",
       "145            89707                 M        Students        ES   \n",
       "...              ...               ...             ...       ...   \n",
       "272360   29024209558                 M        Students        EN   \n",
       "272361   16051449606                 M        Students        EN   \n",
       "272362   10910950500                 M        Students        EN   \n",
       "272485   28904293502                 M        Students        EN   \n",
       "272495     A02733532                 F        Students        EN   \n",
       "\n",
       "        SendingPartnerErasmusID  \\\n",
       "107                   A  GRAZ03   \n",
       "108                   A  GRAZ03   \n",
       "109                   A  GRAZ03   \n",
       "139                   A  GRAZ01   \n",
       "145                   A  GRAZ01   \n",
       "...                         ...   \n",
       "272360             TR ISTANBU25   \n",
       "272361             TR ISTANBU25   \n",
       "272362             TR ISTANBU25   \n",
       "272485             TR ISTANBU25   \n",
       "272495             TR ISTANBU25   \n",
       "\n",
       "                                       SendingPartnerName  \\\n",
       "107     UniversitÃ¤t fÃ¼r Musik und darstellende Kunst...   \n",
       "108     UniversitÃ¤t fÃ¼r Musik und darstellende Kunst...   \n",
       "109     UniversitÃ¤t fÃ¼r Musik und darstellende Kunst...   \n",
       "139                       Karl-Franzens-UniversitÃ¤t Graz   \n",
       "145                       Karl-Franzens-UniversitÃ¤t Graz   \n",
       "...                                                   ...   \n",
       "272360                   Ä°STANBUL AYDIN ÃœNÄ°VERSÄ°TESÄ°   \n",
       "272361                   Ä°STANBUL AYDIN ÃœNÄ°VERSÄ°TESÄ°   \n",
       "272362                   Ä°STANBUL AYDIN ÃœNÄ°VERSÄ°TESÄ°   \n",
       "272485                   Ä°STANBUL AYDIN ÃœNÄ°VERSÄ°TESÄ°   \n",
       "272495                   Ä°STANBUL AYDIN ÃœNÄ°VERSÄ°TESÄ°   \n",
       "\n",
       "       HostingPartnerErasmusID  \\\n",
       "107                        NaN   \n",
       "108                        NaN   \n",
       "109                        NaN   \n",
       "139                        NaN   \n",
       "145                        NaN   \n",
       "...                        ...   \n",
       "272360                     NaN   \n",
       "272361                     NaN   \n",
       "272362                     NaN   \n",
       "272485                     NaN   \n",
       "272495                     NaN   \n",
       "\n",
       "                                       HostingPartnerName  \\\n",
       "107     K.G.I. Schauspieltruppe am BAT/StudiobÃ¼hne de...   \n",
       "108                    Schalltechnik Dr.-Ing.Schoeps GmbH   \n",
       "109                        GÃ¶ttinger Symphonie Orchester   \n",
       "139                                    Buceo Puerto Javea   \n",
       "145          Robert Bosch EspaaÂ±a FaÂ¡brica Madrid, S.A.   \n",
       "...                                                   ...   \n",
       "272360                                    Avance Bau GmbH   \n",
       "272361                   The British International School   \n",
       "272362                           Mel Bookkeeping Services   \n",
       "272485                                        STAGE MALTA   \n",
       "272495                   The British International School   \n",
       "\n",
       "       HostingPartnerCountry HostingPartnerCity  \n",
       "107                       DE             Berlin  \n",
       "108                       DE          Karlsruhe  \n",
       "109                       DE         GÃ¶ttingen  \n",
       "139                       ES   Javea (Alicante)  \n",
       "145                       ES             Madrid  \n",
       "...                      ...                ...  \n",
       "272360                    DE   Offenbach-Bieber  \n",
       "272361                    GB             LONDON  \n",
       "272362                    GB          Edinburgh  \n",
       "272485                    MT         BIRKIRKARA  \n",
       "272495                    GB             LONDON  \n",
       "\n",
       "[97855 rows x 27 columns]"
      ]
     },
     "execution_count": 387,
     "metadata": {},
     "output_type": "execute_result"
    }
   ],
   "source": [
    "df_student_mobility[df_student_mobility.isnull().any(axis=1)]"
   ]
  },
  {
   "cell_type": "code",
   "execution_count": 388,
   "metadata": {
    "ExecuteTime": {
     "end_time": "2019-10-12T23:30:16.496598Z",
     "start_time": "2019-10-12T23:30:16.486851Z"
    }
   },
   "outputs": [],
   "source": [
    "df = df_student_mobility[[\"HostingPartnerErasmusID\", \"SendingPartnerErasmusID\"]]"
   ]
  },
  {
   "cell_type": "code",
   "execution_count": 389,
   "metadata": {
    "ExecuteTime": {
     "end_time": "2019-10-12T23:30:16.503826Z",
     "start_time": "2019-10-12T23:30:16.498979Z"
    }
   },
   "outputs": [],
   "source": [
    "euc = df_euc[[\"Institutional code\", \"Country\", \"City\"]]"
   ]
  },
  {
   "cell_type": "code",
   "execution_count": 390,
   "metadata": {
    "ExecuteTime": {
     "end_time": "2019-10-12T23:30:19.433006Z",
     "start_time": "2019-10-12T23:30:16.508696Z"
    }
   },
   "outputs": [],
   "source": [
    "ex = df_student_mobility.merge(euc, left_on=\"HostingPartnerCity\", right_on=\"City\", how=\"inner\")"
   ]
  },
  {
   "cell_type": "code",
   "execution_count": 391,
   "metadata": {
    "ExecuteTime": {
     "end_time": "2019-10-12T23:30:19.516758Z",
     "start_time": "2019-10-12T23:30:19.435868Z"
    }
   },
   "outputs": [],
   "source": [
    "sending_df = df.merge(euc, left_on=\"SendingPartnerErasmusID\", right_on=\"Institutional code\", how=\"inner\")"
   ]
  },
  {
   "cell_type": "code",
   "execution_count": 392,
   "metadata": {
    "ExecuteTime": {
     "end_time": "2019-10-12T23:30:19.588217Z",
     "start_time": "2019-10-12T23:30:19.519021Z"
    }
   },
   "outputs": [],
   "source": [
    "hosting_df = sending_df.merge(euc, left_on=\"HostingPartnerErasmusID\", right_on=\"Institutional code\", how=\"left\")"
   ]
  },
  {
   "cell_type": "code",
   "execution_count": 393,
   "metadata": {
    "ExecuteTime": {
     "end_time": "2019-10-12T23:30:19.782506Z",
     "start_time": "2019-10-12T23:30:19.590653Z"
    }
   },
   "outputs": [],
   "source": [
    "# Contains a NULL value. Was not found based on HostingParnerErasmusID.\n",
    "# Should be able to find it based on the City name. (contains CitName + Sending)\n",
    "hosting_df_null = hosting_df[hosting_df.isnull().any(axis=1)]\n",
    "\n",
    "hosting_df_notnull = hosting_df[~hosting_df.isnull().any(axis=1)]"
   ]
  },
  {
   "cell_type": "code",
   "execution_count": 394,
   "metadata": {
    "ExecuteTime": {
     "end_time": "2019-10-12T23:30:19.788515Z",
     "start_time": "2019-10-12T23:30:19.784657Z"
    }
   },
   "outputs": [
    {
     "name": "stdout",
     "output_type": "stream",
     "text": [
      "Original: 272497 Sending: 269195 Sending+Hosting: 213617\n"
     ]
    }
   ],
   "source": [
    "print(\"Original: {} Sending: {} Sending+Hosting: {}\".format(len(df), len(sending_df), len(hosting_df_notnull)))"
   ]
  },
  {
   "cell_type": "code",
   "execution_count": 408,
   "metadata": {
    "ExecuteTime": {
     "end_time": "2019-10-12T23:32:03.585290Z",
     "start_time": "2019-10-12T23:32:03.527754Z"
    }
   },
   "outputs": [],
   "source": [
    "joined = hosting_df_notnull.drop(columns=[\"Institutional code_x\", \"Institutional code_y\"])\\\n",
    "                  .rename(columns={\"Country_y\": \"HostingPartnerCountry\", \n",
    "                                   \"City_y\": \"HostingPartnerCity\",\n",
    "                                   \"Country_x\": \"SendingCountry\",\n",
    "                                   \"City_x\": \"SendingCity\"})"
   ]
  },
  {
   "cell_type": "code",
   "execution_count": 409,
   "metadata": {
    "ExecuteTime": {
     "end_time": "2019-10-12T23:32:05.431500Z",
     "start_time": "2019-10-12T23:32:05.279266Z"
    }
   },
   "outputs": [],
   "source": [
    "# Create lowercased city names\n",
    "joined[\"SendingCity_lower\"] = joined.SendingCity.str.lower()\n",
    "joined[\"HostingPartnerCity_lower\"] = joined.HostingPartnerCity.str.lower()"
   ]
  },
  {
   "cell_type": "code",
   "execution_count": 410,
   "metadata": {
    "ExecuteTime": {
     "end_time": "2019-10-12T23:32:06.099940Z",
     "start_time": "2019-10-12T23:32:06.095019Z"
    }
   },
   "outputs": [
    {
     "data": {
      "text/plain": [
       "213617"
      ]
     },
     "execution_count": 410,
     "metadata": {},
     "output_type": "execute_result"
    }
   ],
   "source": [
    "len(joined)"
   ]
  },
  {
   "cell_type": "code",
   "execution_count": 414,
   "metadata": {
    "ExecuteTime": {
     "end_time": "2019-10-12T23:32:29.381729Z",
     "start_time": "2019-10-12T23:32:27.164103Z"
    }
   },
   "outputs": [],
   "source": [
    "# Create lowercase versions of the cities and remove suplicates\n",
    "citycoords = df_all_countries[[\"asciiname\", \"latitude\", \"longitude\"]].copy()\n",
    "citycoords[\"asciiname_lower\"] = citycoords.asciiname.str.lower()\n",
    "citycoords = citycoords[~citycoords.asciiname_lower.duplicated()]"
   ]
  },
  {
   "cell_type": "code",
   "execution_count": 415,
   "metadata": {
    "ExecuteTime": {
     "end_time": "2019-10-12T23:32:36.751982Z",
     "start_time": "2019-10-12T23:32:29.875541Z"
    }
   },
   "outputs": [],
   "source": [
    "# Sending coordinates\n",
    "joined = joined.merge(citycoords, left_on=\"SendingCity_lower\", right_on=\"asciiname_lower\", how=\"inner\", validate=\"many_to_one\")\n",
    "joined = joined.rename(columns={\"latitude\": \"send_latitude\", \"longitude\": \"send_longitude\"})"
   ]
  },
  {
   "cell_type": "code",
   "execution_count": 416,
   "metadata": {
    "ExecuteTime": {
     "end_time": "2019-10-12T23:32:36.760928Z",
     "start_time": "2019-10-12T23:32:36.755136Z"
    }
   },
   "outputs": [
    {
     "data": {
      "text/plain": [
       "155037"
      ]
     },
     "execution_count": 416,
     "metadata": {},
     "output_type": "execute_result"
    }
   ],
   "source": [
    "len(joined)"
   ]
  },
  {
   "cell_type": "code",
   "execution_count": 417,
   "metadata": {
    "ExecuteTime": {
     "end_time": "2019-10-12T23:32:43.545692Z",
     "start_time": "2019-10-12T23:32:36.764580Z"
    }
   },
   "outputs": [],
   "source": [
    "# Hosting coordinates\n",
    "joined = joined.merge(citycoords, left_on=\"HostingPartnerCity_lower\", right_on=\"asciiname_lower\", how=\"inner\", validate=\"many_to_one\")\n",
    "joined = joined.rename(columns={\"latitude\": \"host_latitude\", \"longitude\": \"host_longitude\"})"
   ]
  },
  {
   "cell_type": "code",
   "execution_count": 418,
   "metadata": {
    "ExecuteTime": {
     "end_time": "2019-10-12T23:32:43.552587Z",
     "start_time": "2019-10-12T23:32:43.548512Z"
    }
   },
   "outputs": [
    {
     "data": {
      "text/plain": [
       "121608"
      ]
     },
     "execution_count": 418,
     "metadata": {},
     "output_type": "execute_result"
    }
   ],
   "source": [
    "len(joined)"
   ]
  },
  {
   "cell_type": "code",
   "execution_count": 419,
   "metadata": {
    "ExecuteTime": {
     "end_time": "2019-10-12T23:32:43.565363Z",
     "start_time": "2019-10-12T23:32:43.554481Z"
    }
   },
   "outputs": [],
   "source": [
    "# Select only some columns\n",
    "select = joined[[\"send_latitude\", \"send_longitude\", \"host_latitude\", \"host_longitude\", \"SendingCountry\", \"HostingPartnerCountry\"]].copy()"
   ]
  },
  {
   "cell_type": "code",
   "execution_count": 420,
   "metadata": {
    "ExecuteTime": {
     "end_time": "2019-10-12T23:32:43.574399Z",
     "start_time": "2019-10-12T23:32:43.567299Z"
    }
   },
   "outputs": [],
   "source": [
    "# Remove duplicate columns\n",
    "select = select.loc[:,~select.columns.duplicated()]"
   ]
  },
  {
   "cell_type": "code",
   "execution_count": 421,
   "metadata": {
    "ExecuteTime": {
     "end_time": "2019-10-12T23:32:43.584128Z",
     "start_time": "2019-10-12T23:32:43.576774Z"
    }
   },
   "outputs": [],
   "source": [
    "select[\"host_longitude\"] = select[\"host_longitude\"].astype(float)\n",
    "select[\"send_longitude\"] = select[\"send_longitude\"].astype(float)\n",
    "select[\"host_latitude\"] = select[\"host_latitude\"].astype(float)\n",
    "select[\"send_latitude\"] = select[\"send_latitude\"].astype(float)"
   ]
  },
  {
   "cell_type": "code",
   "execution_count": 422,
   "metadata": {
    "ExecuteTime": {
     "end_time": "2019-10-12T23:33:29.229175Z",
     "start_time": "2019-10-12T23:32:43.586199Z"
    }
   },
   "outputs": [],
   "source": [
    "from geopy import distance\n",
    "\n",
    "select['km'] = select.apply(\n",
    "    (lambda row: distance.distance(\n",
    "        (row['host_latitude'], row['host_longitude']),\n",
    "        (row['send_latitude'], row['send_longitude'])\n",
    "    ).km),\n",
    "    axis=1\n",
    ")"
   ]
  },
  {
   "cell_type": "code",
   "execution_count": 423,
   "metadata": {
    "ExecuteTime": {
     "end_time": "2019-10-12T23:33:29.235643Z",
     "start_time": "2019-10-12T23:33:29.231177Z"
    }
   },
   "outputs": [
    {
     "data": {
      "text/plain": [
       "0.4462728030033358"
      ]
     },
     "execution_count": 423,
     "metadata": {},
     "output_type": "execute_result"
    }
   ],
   "source": [
    "len(select)/len(df_student_mobility)"
   ]
  },
  {
   "cell_type": "markdown",
   "metadata": {},
   "source": [
    "## Merge the EUC with coordinates\n",
    "---"
   ]
  },
  {
   "cell_type": "code",
   "execution_count": 381,
   "metadata": {
    "ExecuteTime": {
     "end_time": "2019-10-13T19:08:07.020348Z",
     "start_time": "2019-10-13T19:08:07.015957Z"
    }
   },
   "outputs": [],
   "source": [
    "names = \"\"\"geonameid         \n",
    "name              \n",
    "asciiname         \n",
    "alternatenames    \n",
    "latitude          \n",
    "longitude         \n",
    "feature class     \n",
    "feature code      \n",
    "country code      \n",
    "cc2               \n",
    "admin1 code       \n",
    "admin2 code       \n",
    "admin3 code       \n",
    "admin4 code       \n",
    "population        \n",
    "elevation         \n",
    "dem\n",
    "timezone          \n",
    "modification date\"\"\"\n",
    "\n",
    "colnames = [n.strip() for n in names.split(\"\\n\")]"
   ]
  },
  {
   "cell_type": "raw",
   "metadata": {
    "ExecuteTime": {
     "end_time": "2019-10-13T19:02:06.998452Z",
     "start_time": "2019-10-13T19:00:41.627048Z"
    }
   },
   "source": [
    "df_all_countries_ = pd.read_csv(\"datasets/geonames.org/allCountries.txt\", delimiter=\"\\t\", names=colnames)\n",
    "df_all_countries_ = df_all_countries_[df_all_countries_['population'] == df_all_countries_.groupby('asciiname')['population'].transform('max')]"
   ]
  },
  {
   "cell_type": "code",
   "execution_count": 440,
   "metadata": {
    "ExecuteTime": {
     "end_time": "2019-10-13T19:47:53.978465Z",
     "start_time": "2019-10-13T19:47:39.650200Z"
    }
   },
   "outputs": [
    {
     "name": "stderr",
     "output_type": "stream",
     "text": [
      "/Library/Frameworks/Python.framework/Versions/3.6/lib/python3.6/site-packages/IPython/core/interactiveshell.py:2705: DtypeWarning: Columns (9,10,11,12,13) have mixed types. Specify dtype option on import or set low_memory=False.\n",
      "  interactivity=interactivity, compiler=compiler, result=result)\n"
     ]
    }
   ],
   "source": [
    "df_euc_ = pd.read_excel(\"datasets/EUC_ for_the_academic_year_2013_2014.xls\")\n",
    "df_all_countries_ = pd.read_csv(\"datasets/geonames.org/allCountries_europe.csv\")\n",
    "df_all_countries_ = df_all_countries_[df_all_countries_['population'] == df_all_countries_.groupby('asciiname')['population'].transform('max')]"
   ]
  },
  {
   "cell_type": "code",
   "execution_count": 441,
   "metadata": {
    "ExecuteTime": {
     "end_time": "2019-10-13T19:47:54.484814Z",
     "start_time": "2019-10-13T19:47:53.981308Z"
    }
   },
   "outputs": [],
   "source": [
    "df_euc = df_euc_.copy()\n",
    "df_all_countries = df_all_countries_.copy()"
   ]
  },
  {
   "cell_type": "code",
   "execution_count": 442,
   "metadata": {
    "ExecuteTime": {
     "end_time": "2019-10-13T19:47:54.815933Z",
     "start_time": "2019-10-13T19:47:54.487465Z"
    }
   },
   "outputs": [],
   "source": [
    "# Select only the columns needed\n",
    "df_euc = df_euc[[\"Institutional code\", \"City\"]]\n",
    "df_all_countries = df_all_countries[[\"name\", \"asciiname\", \"alternatenames\", \"latitude\", \"longitude\", \"population\"]]"
   ]
  },
  {
   "cell_type": "code",
   "execution_count": 443,
   "metadata": {
    "ExecuteTime": {
     "end_time": "2019-10-13T19:47:59.077870Z",
     "start_time": "2019-10-13T19:47:56.753212Z"
    }
   },
   "outputs": [],
   "source": [
    "# Lowercase names\n",
    "df_all_countries[\"asciiname_lower\"] = df_all_countries.asciiname.str.lower()\n",
    "df_all_countries[\"asciiname_lower\"] = df_all_countries[\"asciiname_lower\"].str.strip()\n",
    "\n",
    "df_euc[\"City_lower\"] = df_euc[\"City\"].apply(lambda x: x.split(\"/\")[0])\n",
    "df_euc[\"City_lower\"] = df_euc[\"City_lower\"].apply(lambda x: x.split(\",\")[0])\n",
    "df_euc[\"City_lower\"] = df_euc[\"City_lower\"].str.lower()\n",
    "df_euc[\"City_lower\"] = df_euc[\"City_lower\"].str.strip()"
   ]
  },
  {
   "cell_type": "code",
   "execution_count": 444,
   "metadata": {
    "ExecuteTime": {
     "end_time": "2019-10-13T19:48:58.190588Z",
     "start_time": "2019-10-13T19:48:56.346353Z"
    }
   },
   "outputs": [],
   "source": [
    "df_all_countries = df_all_countries.drop_duplicates(subset=\"asciiname_lower\")"
   ]
  },
  {
   "cell_type": "code",
   "execution_count": 445,
   "metadata": {
    "ExecuteTime": {
     "end_time": "2019-10-13T19:49:03.442679Z",
     "start_time": "2019-10-13T19:49:02.566813Z"
    }
   },
   "outputs": [],
   "source": [
    "# Drop containing NaN\n",
    "df_all_countries = df_all_countries[~df_all_countries.isna().any(axis=1)]\n",
    "\n",
    "# Drop duplicate city names\n",
    "df_all_countries = df_all_countries.reset_index()"
   ]
  },
  {
   "cell_type": "code",
   "execution_count": 446,
   "metadata": {
    "ExecuteTime": {
     "end_time": "2019-10-13T19:49:04.687776Z",
     "start_time": "2019-10-13T19:49:03.977362Z"
    }
   },
   "outputs": [],
   "source": [
    "merged = df_euc.merge(df_all_countries, left_on=\"City_lower\", right_on=\"asciiname_lower\", how=\"left\")"
   ]
  },
  {
   "cell_type": "code",
   "execution_count": 447,
   "metadata": {
    "ExecuteTime": {
     "end_time": "2019-10-13T19:49:05.821449Z",
     "start_time": "2019-10-13T19:49:05.809277Z"
    }
   },
   "outputs": [],
   "source": [
    "merged = merged.drop(columns=\"index\")"
   ]
  },
  {
   "cell_type": "code",
   "execution_count": 456,
   "metadata": {
    "ExecuteTime": {
     "end_time": "2019-10-13T19:50:02.888182Z",
     "start_time": "2019-10-13T19:50:02.872168Z"
    }
   },
   "outputs": [
    {
     "data": {
      "text/plain": [
       "0.6609066883512908"
      ]
     },
     "execution_count": 456,
     "metadata": {},
     "output_type": "execute_result"
    }
   ],
   "source": [
    "merged_known = merged[~merged.isna().any(axis=1)]\n",
    "merged_unknown = merged[merged.isna().any(axis=1)]\n",
    "\n",
    "1 - (len(merged_unknown) / (len(merged_unknown) + len(merged_known)))"
   ]
  },
  {
   "cell_type": "code",
   "execution_count": 457,
   "metadata": {
    "ExecuteTime": {
     "end_time": "2019-10-13T19:50:17.484552Z",
     "start_time": "2019-10-13T19:50:17.415324Z"
    }
   },
   "outputs": [],
   "source": [
    "df_student_mobility_filt = df_student_mobility[df_student_mobility.MobilityType == \"Mob-SMS\"]"
   ]
  },
  {
   "cell_type": "code",
   "execution_count": 458,
   "metadata": {
    "ExecuteTime": {
     "end_time": "2019-10-13T19:50:26.585879Z",
     "start_time": "2019-10-13T19:50:26.581429Z"
    }
   },
   "outputs": [
    {
     "data": {
      "text/plain": [
       "212208"
      ]
     },
     "execution_count": 458,
     "metadata": {},
     "output_type": "execute_result"
    }
   ],
   "source": [
    "len(df_student_mobility_filt)"
   ]
  },
  {
   "cell_type": "code",
   "execution_count": 462,
   "metadata": {
    "ExecuteTime": {
     "end_time": "2019-10-13T19:56:21.887887Z",
     "start_time": "2019-10-13T19:56:21.478480Z"
    }
   },
   "outputs": [],
   "source": [
    "df_student_mobility_filt = df_student_mobility_filt.merge(merged_known, left_on=\"SendingPartnerErasmusID\", right_on=\"Institutional code\", how=\"inner\")\n",
    "df_student_mobility_filt = df_student_mobility_filt.merge(merged_known, left_on=\"HostingPartnerErasmusID\", right_on=\"Institutional code\", how=\"inner\")"
   ]
  },
  {
   "cell_type": "code",
   "execution_count": 463,
   "metadata": {
    "ExecuteTime": {
     "end_time": "2019-10-13T19:56:32.259504Z",
     "start_time": "2019-10-13T19:56:32.255003Z"
    }
   },
   "outputs": [
    {
     "data": {
      "text/plain": [
       "118114"
      ]
     },
     "execution_count": 463,
     "metadata": {},
     "output_type": "execute_result"
    }
   ],
   "source": [
    "len(df_student_mobility_filt)"
   ]
  },
  {
   "cell_type": "code",
   "execution_count": 464,
   "metadata": {
    "ExecuteTime": {
     "end_time": "2019-10-13T19:56:40.002027Z",
     "start_time": "2019-10-13T19:56:39.997466Z"
    }
   },
   "outputs": [
    {
     "data": {
      "text/plain": [
       "0.5565954158184423"
      ]
     },
     "execution_count": 464,
     "metadata": {},
     "output_type": "execute_result"
    }
   ],
   "source": [
    "118114/212208"
   ]
  },
  {
   "cell_type": "code",
   "execution_count": 401,
   "metadata": {
    "ExecuteTime": {
     "end_time": "2019-10-13T19:11:20.193109Z",
     "start_time": "2019-10-13T19:11:20.181194Z"
    }
   },
   "outputs": [
    {
     "data": {
      "text/plain": [
       "110645             Glasgow\n",
       "202287         Pardubice 2\n",
       "267945    HRADEC KRÃLOVÃ‰\n",
       "95884                Trier\n",
       "165730             Bamberg\n",
       "                ...       \n",
       "272307             Firenze\n",
       "89948           Copenhagen\n",
       "118705     BORNOVA / IZMIR\n",
       "129326               Vaasa\n",
       "90389             LA GARDE\n",
       "Name: HostingPartnerCity, Length: 100, dtype: object"
      ]
     },
     "execution_count": 401,
     "metadata": {},
     "output_type": "execute_result"
    }
   ],
   "source": [
    "df_student_mobility_filt.HostingPartnerCity.sample(100)"
   ]
  },
  {
   "cell_type": "markdown",
   "metadata": {},
   "source": [
    "## Geocoding with Google API"
   ]
  },
  {
   "cell_type": "code",
   "execution_count": 3,
   "metadata": {
    "ExecuteTime": {
     "end_time": "2019-10-14T08:51:01.657099Z",
     "start_time": "2019-10-14T08:51:00.743573Z"
    }
   },
   "outputs": [],
   "source": [
    "import pandas as pd\n",
    "import numpy as np"
   ]
  },
  {
   "cell_type": "code",
   "execution_count": 4,
   "metadata": {
    "ExecuteTime": {
     "end_time": "2019-10-14T08:51:02.049930Z",
     "start_time": "2019-10-14T08:51:02.047041Z"
    }
   },
   "outputs": [],
   "source": []
  },
  {
   "cell_type": "code",
   "execution_count": 117,
   "metadata": {
    "ExecuteTime": {
     "end_time": "2019-10-14T11:08:39.217732Z",
     "start_time": "2019-10-14T11:08:38.901494Z"
    }
   },
   "outputs": [],
   "source": [
    "df_euc = pd.read_excel(\"datasets/EUC_ for_the_academic_year_2013_2014.xls\")\n",
    "df_minisample = df_euc.sample(100)"
   ]
  },
  {
   "cell_type": "code",
   "execution_count": 119,
   "metadata": {
    "ExecuteTime": {
     "end_time": "2019-10-14T11:08:42.978008Z",
     "start_time": "2019-10-14T11:08:42.970778Z"
    }
   },
   "outputs": [],
   "source": []
  },
  {
   "cell_type": "code",
   "execution_count": 120,
   "metadata": {
    "ExecuteTime": {
     "end_time": "2019-10-14T11:08:57.600254Z",
     "start_time": "2019-10-14T11:08:57.586072Z"
    }
   },
   "outputs": [
    {
     "data": {
      "text/html": [
       "<div>\n",
       "<style scoped>\n",
       "    .dataframe tbody tr th:only-of-type {\n",
       "        vertical-align: middle;\n",
       "    }\n",
       "\n",
       "    .dataframe tbody tr th {\n",
       "        vertical-align: top;\n",
       "    }\n",
       "\n",
       "    .dataframe thead th {\n",
       "        text-align: right;\n",
       "    }\n",
       "</style>\n",
       "<table border=\"1\" class=\"dataframe\">\n",
       "  <thead>\n",
       "    <tr style=\"text-align: right;\">\n",
       "      <th></th>\n",
       "      <th>Institutional code</th>\n",
       "      <th>Application Reference Number</th>\n",
       "      <th>Name of Organisation</th>\n",
       "      <th>Country</th>\n",
       "      <th>City</th>\n",
       "      <th>Code</th>\n",
       "    </tr>\n",
       "  </thead>\n",
       "  <tbody>\n",
       "    <tr>\n",
       "      <td>2593</td>\n",
       "      <td>F  MENDE03</td>\n",
       "      <td>217544-IC-1-2007-1-FR-ERASMUS-EUCX-1</td>\n",
       "      <td>LYCEE CHAPTAL- SECTION TOURISME</td>\n",
       "      <td>FR</td>\n",
       "      <td>MENDE Cedex</td>\n",
       "      <td>EUCX</td>\n",
       "    </tr>\n",
       "  </tbody>\n",
       "</table>\n",
       "</div>"
      ],
      "text/plain": [
       "     Institutional code          Application Reference Number  \\\n",
       "2593         F  MENDE03  217544-IC-1-2007-1-FR-ERASMUS-EUCX-1   \n",
       "\n",
       "                 Name of Organisation Country         City  Code  \n",
       "2593  LYCEE CHAPTAL- SECTION TOURISME      FR  MENDE Cedex  EUCX  "
      ]
     },
     "execution_count": 120,
     "metadata": {},
     "output_type": "execute_result"
    }
   ],
   "source": [
    "df_minisample.iloc[:1]"
   ]
  },
  {
   "cell_type": "code",
   "execution_count": 121,
   "metadata": {
    "ExecuteTime": {
     "end_time": "2019-10-14T11:09:24.459888Z",
     "start_time": "2019-10-14T11:09:23.881044Z"
    }
   },
   "outputs": [],
   "source": [
    "geocode_result = gmaps.geocode(\"LYCEE CHAPTAL- SECTION TOURISME, MENDE Cedex, FR\")"
   ]
  },
  {
   "cell_type": "code",
   "execution_count": 139,
   "metadata": {
    "ExecuteTime": {
     "end_time": "2019-10-14T11:13:16.633069Z",
     "start_time": "2019-10-14T11:13:16.628204Z"
    }
   },
   "outputs": [
    {
     "data": {
      "text/plain": [
       "{'long_name': 'Mende',\n",
       " 'short_name': 'Mende',\n",
       " 'types': ['locality', 'political']}"
      ]
     },
     "execution_count": 139,
     "metadata": {},
     "output_type": "execute_result"
    }
   ],
   "source": [
    "geocode_result[0][\"address_components\"][2]"
   ]
  },
  {
   "cell_type": "code",
   "execution_count": 114,
   "metadata": {
    "ExecuteTime": {
     "end_time": "2019-10-14T09:57:10.143589Z",
     "start_time": "2019-10-14T09:57:10.139450Z"
    }
   },
   "outputs": [],
   "source": [
    "from geopy.exc import GeocoderTimedOut\n",
    "\n",
    "def do_geocode(city, country):\n",
    "    try:\n",
    "        return geolocator.geocode(city + \", \" + country)\n",
    "    except GeocoderTimedOut:\n",
    "return do_geocode(city, country)"
   ]
  },
  {
   "cell_type": "code",
   "execution_count": 115,
   "metadata": {
    "ExecuteTime": {
     "end_time": "2019-10-14T09:57:30.919149Z",
     "start_time": "2019-10-14T09:57:30.914435Z"
    }
   },
   "outputs": [],
   "source": [
    "import time\n",
    "\n",
    "def lambdaSearch(institution, city, country):\n",
    "    geocode_result = gmaps.geocode(str(city + \", \" + country) +' '+ city)\n",
    "    #geocode_result = do_geocode(city, country)\n",
    "    if geocode_result is not None:\n",
    "        return geocode_result.latitude, geocode_result.longitude\n",
    "    else:\n",
    "        return np.NaN"
   ]
  },
  {
   "cell_type": "code",
   "execution_count": 116,
   "metadata": {
    "ExecuteTime": {
     "end_time": "2019-10-14T10:03:25.504498Z",
     "start_time": "2019-10-14T09:57:31.914934Z"
    }
   },
   "outputs": [
    {
     "ename": "GeocoderQuotaExceeded",
     "evalue": "('HTTP Error 429: Too Many Requests', 'occurred at index 0')",
     "output_type": "error",
     "traceback": [
      "\u001b[0;31m---------------------------------------------------------------------------\u001b[0m",
      "\u001b[0;31mHTTPError\u001b[0m                                 Traceback (most recent call last)",
      "\u001b[0;32m/Library/Frameworks/Python.framework/Versions/3.6/lib/python3.6/site-packages/geopy/geocoders/base.py\u001b[0m in \u001b[0;36m_call_geocoder\u001b[0;34m(self, url, timeout, raw, requester, deserializer, **kwargs)\u001b[0m\n\u001b[1;32m    354\u001b[0m         \u001b[0;32mtry\u001b[0m\u001b[0;34m:\u001b[0m\u001b[0;34m\u001b[0m\u001b[0m\n\u001b[0;32m--> 355\u001b[0;31m             \u001b[0mpage\u001b[0m \u001b[0;34m=\u001b[0m \u001b[0mrequester\u001b[0m\u001b[0;34m(\u001b[0m\u001b[0mreq\u001b[0m\u001b[0;34m,\u001b[0m \u001b[0mtimeout\u001b[0m\u001b[0;34m=\u001b[0m\u001b[0mtimeout\u001b[0m\u001b[0;34m,\u001b[0m \u001b[0;34m**\u001b[0m\u001b[0mkwargs\u001b[0m\u001b[0;34m)\u001b[0m\u001b[0;34m\u001b[0m\u001b[0m\n\u001b[0m\u001b[1;32m    356\u001b[0m         \u001b[0;32mexcept\u001b[0m \u001b[0mException\u001b[0m \u001b[0;32mas\u001b[0m \u001b[0merror\u001b[0m\u001b[0;34m:\u001b[0m\u001b[0;34m\u001b[0m\u001b[0m\n",
      "\u001b[0;32m/Library/Frameworks/Python.framework/Versions/3.6/lib/python3.6/urllib/request.py\u001b[0m in \u001b[0;36mopen\u001b[0;34m(self, fullurl, data, timeout)\u001b[0m\n\u001b[1;32m    531\u001b[0m             \u001b[0mmeth\u001b[0m \u001b[0;34m=\u001b[0m \u001b[0mgetattr\u001b[0m\u001b[0;34m(\u001b[0m\u001b[0mprocessor\u001b[0m\u001b[0;34m,\u001b[0m \u001b[0mmeth_name\u001b[0m\u001b[0;34m)\u001b[0m\u001b[0;34m\u001b[0m\u001b[0m\n\u001b[0;32m--> 532\u001b[0;31m             \u001b[0mresponse\u001b[0m \u001b[0;34m=\u001b[0m \u001b[0mmeth\u001b[0m\u001b[0;34m(\u001b[0m\u001b[0mreq\u001b[0m\u001b[0;34m,\u001b[0m \u001b[0mresponse\u001b[0m\u001b[0;34m)\u001b[0m\u001b[0;34m\u001b[0m\u001b[0m\n\u001b[0m\u001b[1;32m    533\u001b[0m \u001b[0;34m\u001b[0m\u001b[0m\n",
      "\u001b[0;32m/Library/Frameworks/Python.framework/Versions/3.6/lib/python3.6/urllib/request.py\u001b[0m in \u001b[0;36mhttp_response\u001b[0;34m(self, request, response)\u001b[0m\n\u001b[1;32m    641\u001b[0m             response = self.parent.error(\n\u001b[0;32m--> 642\u001b[0;31m                 'http', request, response, code, msg, hdrs)\n\u001b[0m\u001b[1;32m    643\u001b[0m \u001b[0;34m\u001b[0m\u001b[0m\n",
      "\u001b[0;32m/Library/Frameworks/Python.framework/Versions/3.6/lib/python3.6/urllib/request.py\u001b[0m in \u001b[0;36merror\u001b[0;34m(self, proto, *args)\u001b[0m\n\u001b[1;32m    569\u001b[0m             \u001b[0margs\u001b[0m \u001b[0;34m=\u001b[0m \u001b[0;34m(\u001b[0m\u001b[0mdict\u001b[0m\u001b[0;34m,\u001b[0m \u001b[0;34m'default'\u001b[0m\u001b[0;34m,\u001b[0m \u001b[0;34m'http_error_default'\u001b[0m\u001b[0;34m)\u001b[0m \u001b[0;34m+\u001b[0m \u001b[0morig_args\u001b[0m\u001b[0;34m\u001b[0m\u001b[0m\n\u001b[0;32m--> 570\u001b[0;31m             \u001b[0;32mreturn\u001b[0m \u001b[0mself\u001b[0m\u001b[0;34m.\u001b[0m\u001b[0m_call_chain\u001b[0m\u001b[0;34m(\u001b[0m\u001b[0;34m*\u001b[0m\u001b[0margs\u001b[0m\u001b[0;34m)\u001b[0m\u001b[0;34m\u001b[0m\u001b[0m\n\u001b[0m\u001b[1;32m    571\u001b[0m \u001b[0;34m\u001b[0m\u001b[0m\n",
      "\u001b[0;32m/Library/Frameworks/Python.framework/Versions/3.6/lib/python3.6/urllib/request.py\u001b[0m in \u001b[0;36m_call_chain\u001b[0;34m(self, chain, kind, meth_name, *args)\u001b[0m\n\u001b[1;32m    503\u001b[0m             \u001b[0mfunc\u001b[0m \u001b[0;34m=\u001b[0m \u001b[0mgetattr\u001b[0m\u001b[0;34m(\u001b[0m\u001b[0mhandler\u001b[0m\u001b[0;34m,\u001b[0m \u001b[0mmeth_name\u001b[0m\u001b[0;34m)\u001b[0m\u001b[0;34m\u001b[0m\u001b[0m\n\u001b[0;32m--> 504\u001b[0;31m             \u001b[0mresult\u001b[0m \u001b[0;34m=\u001b[0m \u001b[0mfunc\u001b[0m\u001b[0;34m(\u001b[0m\u001b[0;34m*\u001b[0m\u001b[0margs\u001b[0m\u001b[0;34m)\u001b[0m\u001b[0;34m\u001b[0m\u001b[0m\n\u001b[0m\u001b[1;32m    505\u001b[0m             \u001b[0;32mif\u001b[0m \u001b[0mresult\u001b[0m \u001b[0;32mis\u001b[0m \u001b[0;32mnot\u001b[0m \u001b[0;32mNone\u001b[0m\u001b[0;34m:\u001b[0m\u001b[0;34m\u001b[0m\u001b[0m\n",
      "\u001b[0;32m/Library/Frameworks/Python.framework/Versions/3.6/lib/python3.6/urllib/request.py\u001b[0m in \u001b[0;36mhttp_error_default\u001b[0;34m(self, req, fp, code, msg, hdrs)\u001b[0m\n\u001b[1;32m    649\u001b[0m     \u001b[0;32mdef\u001b[0m \u001b[0mhttp_error_default\u001b[0m\u001b[0;34m(\u001b[0m\u001b[0mself\u001b[0m\u001b[0;34m,\u001b[0m \u001b[0mreq\u001b[0m\u001b[0;34m,\u001b[0m \u001b[0mfp\u001b[0m\u001b[0;34m,\u001b[0m \u001b[0mcode\u001b[0m\u001b[0;34m,\u001b[0m \u001b[0mmsg\u001b[0m\u001b[0;34m,\u001b[0m \u001b[0mhdrs\u001b[0m\u001b[0;34m)\u001b[0m\u001b[0;34m:\u001b[0m\u001b[0;34m\u001b[0m\u001b[0m\n\u001b[0;32m--> 650\u001b[0;31m         \u001b[0;32mraise\u001b[0m \u001b[0mHTTPError\u001b[0m\u001b[0;34m(\u001b[0m\u001b[0mreq\u001b[0m\u001b[0;34m.\u001b[0m\u001b[0mfull_url\u001b[0m\u001b[0;34m,\u001b[0m \u001b[0mcode\u001b[0m\u001b[0;34m,\u001b[0m \u001b[0mmsg\u001b[0m\u001b[0;34m,\u001b[0m \u001b[0mhdrs\u001b[0m\u001b[0;34m,\u001b[0m \u001b[0mfp\u001b[0m\u001b[0;34m)\u001b[0m\u001b[0;34m\u001b[0m\u001b[0m\n\u001b[0m\u001b[1;32m    651\u001b[0m \u001b[0;34m\u001b[0m\u001b[0m\n",
      "\u001b[0;31mHTTPError\u001b[0m: HTTP Error 429: Too Many Requests",
      "\nDuring handling of the above exception, another exception occurred:\n",
      "\u001b[0;31mGeocoderQuotaExceeded\u001b[0m                     Traceback (most recent call last)",
      "\u001b[0;32m<ipython-input-116-6af063ca0390>\u001b[0m in \u001b[0;36m<module>\u001b[0;34m()\u001b[0m\n\u001b[0;32m----> 1\u001b[0;31m \u001b[0mdf_euc\u001b[0m\u001b[0;34m[\u001b[0m\u001b[0;34m\"latlon\"\u001b[0m\u001b[0;34m]\u001b[0m \u001b[0;34m=\u001b[0m \u001b[0mdf_euc\u001b[0m\u001b[0;34m.\u001b[0m\u001b[0mapply\u001b[0m\u001b[0;34m(\u001b[0m\u001b[0;32mlambda\u001b[0m \u001b[0mx\u001b[0m\u001b[0;34m:\u001b[0m \u001b[0mlambdaSearch\u001b[0m\u001b[0;34m(\u001b[0m\u001b[0mx\u001b[0m\u001b[0;34m[\u001b[0m\u001b[0;34m\"City\"\u001b[0m\u001b[0;34m]\u001b[0m\u001b[0;34m,\u001b[0m \u001b[0mx\u001b[0m\u001b[0;34m[\u001b[0m\u001b[0;34m\"Country\"\u001b[0m\u001b[0;34m]\u001b[0m\u001b[0;34m)\u001b[0m\u001b[0;34m,\u001b[0m \u001b[0maxis\u001b[0m\u001b[0;34m=\u001b[0m\u001b[0;36m1\u001b[0m\u001b[0;34m)\u001b[0m\u001b[0;34m\u001b[0m\u001b[0m\n\u001b[0m",
      "\u001b[0;32m/Library/Frameworks/Python.framework/Versions/3.6/lib/python3.6/site-packages/pandas/core/frame.py\u001b[0m in \u001b[0;36mapply\u001b[0;34m(self, func, axis, broadcast, raw, reduce, result_type, args, **kwds)\u001b[0m\n\u001b[1;32m   6911\u001b[0m             \u001b[0mkwds\u001b[0m\u001b[0;34m=\u001b[0m\u001b[0mkwds\u001b[0m\u001b[0;34m,\u001b[0m\u001b[0;34m\u001b[0m\u001b[0m\n\u001b[1;32m   6912\u001b[0m         )\n\u001b[0;32m-> 6913\u001b[0;31m         \u001b[0;32mreturn\u001b[0m \u001b[0mop\u001b[0m\u001b[0;34m.\u001b[0m\u001b[0mget_result\u001b[0m\u001b[0;34m(\u001b[0m\u001b[0;34m)\u001b[0m\u001b[0;34m\u001b[0m\u001b[0m\n\u001b[0m\u001b[1;32m   6914\u001b[0m \u001b[0;34m\u001b[0m\u001b[0m\n\u001b[1;32m   6915\u001b[0m     \u001b[0;32mdef\u001b[0m \u001b[0mapplymap\u001b[0m\u001b[0;34m(\u001b[0m\u001b[0mself\u001b[0m\u001b[0;34m,\u001b[0m \u001b[0mfunc\u001b[0m\u001b[0;34m)\u001b[0m\u001b[0;34m:\u001b[0m\u001b[0;34m\u001b[0m\u001b[0m\n",
      "\u001b[0;32m/Library/Frameworks/Python.framework/Versions/3.6/lib/python3.6/site-packages/pandas/core/apply.py\u001b[0m in \u001b[0;36mget_result\u001b[0;34m(self)\u001b[0m\n\u001b[1;32m    184\u001b[0m             \u001b[0;32mreturn\u001b[0m \u001b[0mself\u001b[0m\u001b[0;34m.\u001b[0m\u001b[0mapply_raw\u001b[0m\u001b[0;34m(\u001b[0m\u001b[0;34m)\u001b[0m\u001b[0;34m\u001b[0m\u001b[0m\n\u001b[1;32m    185\u001b[0m \u001b[0;34m\u001b[0m\u001b[0m\n\u001b[0;32m--> 186\u001b[0;31m         \u001b[0;32mreturn\u001b[0m \u001b[0mself\u001b[0m\u001b[0;34m.\u001b[0m\u001b[0mapply_standard\u001b[0m\u001b[0;34m(\u001b[0m\u001b[0;34m)\u001b[0m\u001b[0;34m\u001b[0m\u001b[0m\n\u001b[0m\u001b[1;32m    187\u001b[0m \u001b[0;34m\u001b[0m\u001b[0m\n\u001b[1;32m    188\u001b[0m     \u001b[0;32mdef\u001b[0m \u001b[0mapply_empty_result\u001b[0m\u001b[0;34m(\u001b[0m\u001b[0mself\u001b[0m\u001b[0;34m)\u001b[0m\u001b[0;34m:\u001b[0m\u001b[0;34m\u001b[0m\u001b[0m\n",
      "\u001b[0;32m/Library/Frameworks/Python.framework/Versions/3.6/lib/python3.6/site-packages/pandas/core/apply.py\u001b[0m in \u001b[0;36mapply_standard\u001b[0;34m(self)\u001b[0m\n\u001b[1;32m    290\u001b[0m \u001b[0;34m\u001b[0m\u001b[0m\n\u001b[1;32m    291\u001b[0m         \u001b[0;31m# compute the result using the series generator\u001b[0m\u001b[0;34m\u001b[0m\u001b[0;34m\u001b[0m\u001b[0m\n\u001b[0;32m--> 292\u001b[0;31m         \u001b[0mself\u001b[0m\u001b[0;34m.\u001b[0m\u001b[0mapply_series_generator\u001b[0m\u001b[0;34m(\u001b[0m\u001b[0;34m)\u001b[0m\u001b[0;34m\u001b[0m\u001b[0m\n\u001b[0m\u001b[1;32m    293\u001b[0m \u001b[0;34m\u001b[0m\u001b[0m\n\u001b[1;32m    294\u001b[0m         \u001b[0;31m# wrap results\u001b[0m\u001b[0;34m\u001b[0m\u001b[0;34m\u001b[0m\u001b[0m\n",
      "\u001b[0;32m/Library/Frameworks/Python.framework/Versions/3.6/lib/python3.6/site-packages/pandas/core/apply.py\u001b[0m in \u001b[0;36mapply_series_generator\u001b[0;34m(self)\u001b[0m\n\u001b[1;32m    319\u001b[0m             \u001b[0;32mtry\u001b[0m\u001b[0;34m:\u001b[0m\u001b[0;34m\u001b[0m\u001b[0m\n\u001b[1;32m    320\u001b[0m                 \u001b[0;32mfor\u001b[0m \u001b[0mi\u001b[0m\u001b[0;34m,\u001b[0m \u001b[0mv\u001b[0m \u001b[0;32min\u001b[0m \u001b[0menumerate\u001b[0m\u001b[0;34m(\u001b[0m\u001b[0mseries_gen\u001b[0m\u001b[0;34m)\u001b[0m\u001b[0;34m:\u001b[0m\u001b[0;34m\u001b[0m\u001b[0m\n\u001b[0;32m--> 321\u001b[0;31m                     \u001b[0mresults\u001b[0m\u001b[0;34m[\u001b[0m\u001b[0mi\u001b[0m\u001b[0;34m]\u001b[0m \u001b[0;34m=\u001b[0m \u001b[0mself\u001b[0m\u001b[0;34m.\u001b[0m\u001b[0mf\u001b[0m\u001b[0;34m(\u001b[0m\u001b[0mv\u001b[0m\u001b[0;34m)\u001b[0m\u001b[0;34m\u001b[0m\u001b[0m\n\u001b[0m\u001b[1;32m    322\u001b[0m                     \u001b[0mkeys\u001b[0m\u001b[0;34m.\u001b[0m\u001b[0mappend\u001b[0m\u001b[0;34m(\u001b[0m\u001b[0mv\u001b[0m\u001b[0;34m.\u001b[0m\u001b[0mname\u001b[0m\u001b[0;34m)\u001b[0m\u001b[0;34m\u001b[0m\u001b[0m\n\u001b[1;32m    323\u001b[0m             \u001b[0;32mexcept\u001b[0m \u001b[0mException\u001b[0m \u001b[0;32mas\u001b[0m \u001b[0me\u001b[0m\u001b[0;34m:\u001b[0m\u001b[0;34m\u001b[0m\u001b[0m\n",
      "\u001b[0;32m<ipython-input-116-6af063ca0390>\u001b[0m in \u001b[0;36m<lambda>\u001b[0;34m(x)\u001b[0m\n\u001b[0;32m----> 1\u001b[0;31m \u001b[0mdf_euc\u001b[0m\u001b[0;34m[\u001b[0m\u001b[0;34m\"latlon\"\u001b[0m\u001b[0;34m]\u001b[0m \u001b[0;34m=\u001b[0m \u001b[0mdf_euc\u001b[0m\u001b[0;34m.\u001b[0m\u001b[0mapply\u001b[0m\u001b[0;34m(\u001b[0m\u001b[0;32mlambda\u001b[0m \u001b[0mx\u001b[0m\u001b[0;34m:\u001b[0m \u001b[0mlambdaSearch\u001b[0m\u001b[0;34m(\u001b[0m\u001b[0mx\u001b[0m\u001b[0;34m[\u001b[0m\u001b[0;34m\"City\"\u001b[0m\u001b[0;34m]\u001b[0m\u001b[0;34m,\u001b[0m \u001b[0mx\u001b[0m\u001b[0;34m[\u001b[0m\u001b[0;34m\"Country\"\u001b[0m\u001b[0;34m]\u001b[0m\u001b[0;34m)\u001b[0m\u001b[0;34m,\u001b[0m \u001b[0maxis\u001b[0m\u001b[0;34m=\u001b[0m\u001b[0;36m1\u001b[0m\u001b[0;34m)\u001b[0m\u001b[0;34m\u001b[0m\u001b[0m\n\u001b[0m",
      "\u001b[0;32m<ipython-input-115-9d63b169c923>\u001b[0m in \u001b[0;36mlambdaSearch\u001b[0;34m(city, country)\u001b[0m\n\u001b[1;32m      3\u001b[0m \u001b[0;32mdef\u001b[0m \u001b[0mlambdaSearch\u001b[0m\u001b[0;34m(\u001b[0m\u001b[0mcity\u001b[0m\u001b[0;34m,\u001b[0m \u001b[0mcountry\u001b[0m\u001b[0;34m)\u001b[0m\u001b[0;34m:\u001b[0m\u001b[0;34m\u001b[0m\u001b[0m\n\u001b[1;32m      4\u001b[0m     \u001b[0;31m#geocode_result = gmaps.geocode(str(city + \", \" + country) +' '+ city)\u001b[0m\u001b[0;34m\u001b[0m\u001b[0;34m\u001b[0m\u001b[0m\n\u001b[0;32m----> 5\u001b[0;31m     \u001b[0mgeocode_result\u001b[0m \u001b[0;34m=\u001b[0m \u001b[0mdo_geocode\u001b[0m\u001b[0;34m(\u001b[0m\u001b[0mcity\u001b[0m\u001b[0;34m,\u001b[0m \u001b[0mcountry\u001b[0m\u001b[0;34m)\u001b[0m\u001b[0;34m\u001b[0m\u001b[0m\n\u001b[0m\u001b[1;32m      6\u001b[0m     \u001b[0;32mif\u001b[0m \u001b[0mgeocode_result\u001b[0m \u001b[0;32mis\u001b[0m \u001b[0;32mnot\u001b[0m \u001b[0;32mNone\u001b[0m\u001b[0;34m:\u001b[0m\u001b[0;34m\u001b[0m\u001b[0m\n\u001b[1;32m      7\u001b[0m         \u001b[0;32mreturn\u001b[0m \u001b[0mgeocode_result\u001b[0m\u001b[0;34m.\u001b[0m\u001b[0mlatitude\u001b[0m\u001b[0;34m,\u001b[0m \u001b[0mgeocode_result\u001b[0m\u001b[0;34m.\u001b[0m\u001b[0mlongitude\u001b[0m\u001b[0;34m\u001b[0m\u001b[0m\n",
      "\u001b[0;32m<ipython-input-114-cc05c4759b2d>\u001b[0m in \u001b[0;36mdo_geocode\u001b[0;34m(city, country)\u001b[0m\n\u001b[1;32m      3\u001b[0m \u001b[0;32mdef\u001b[0m \u001b[0mdo_geocode\u001b[0m\u001b[0;34m(\u001b[0m\u001b[0mcity\u001b[0m\u001b[0;34m,\u001b[0m \u001b[0mcountry\u001b[0m\u001b[0;34m)\u001b[0m\u001b[0;34m:\u001b[0m\u001b[0;34m\u001b[0m\u001b[0m\n\u001b[1;32m      4\u001b[0m     \u001b[0;32mtry\u001b[0m\u001b[0;34m:\u001b[0m\u001b[0;34m\u001b[0m\u001b[0m\n\u001b[0;32m----> 5\u001b[0;31m         \u001b[0;32mreturn\u001b[0m \u001b[0mgeolocator\u001b[0m\u001b[0;34m.\u001b[0m\u001b[0mgeocode\u001b[0m\u001b[0;34m(\u001b[0m\u001b[0mcity\u001b[0m \u001b[0;34m+\u001b[0m \u001b[0;34m\", \"\u001b[0m \u001b[0;34m+\u001b[0m \u001b[0mcountry\u001b[0m\u001b[0;34m)\u001b[0m\u001b[0;34m\u001b[0m\u001b[0m\n\u001b[0m\u001b[1;32m      6\u001b[0m     \u001b[0;32mexcept\u001b[0m \u001b[0mGeocoderTimedOut\u001b[0m\u001b[0;34m:\u001b[0m\u001b[0;34m\u001b[0m\u001b[0m\n\u001b[1;32m      7\u001b[0m         \u001b[0mtime\u001b[0m\u001b[0;34m.\u001b[0m\u001b[0msleep\u001b[0m\u001b[0;34m(\u001b[0m\u001b[0;36m1\u001b[0m\u001b[0;34m)\u001b[0m\u001b[0;34m\u001b[0m\u001b[0m\n",
      "\u001b[0;32m/Library/Frameworks/Python.framework/Versions/3.6/lib/python3.6/site-packages/geopy/geocoders/osm.py\u001b[0m in \u001b[0;36mgeocode\u001b[0;34m(self, query, exactly_one, timeout, limit, addressdetails, language, geometry, extratags, country_codes, viewbox, bounded)\u001b[0m\n\u001b[1;32m    385\u001b[0m \u001b[0;34m\u001b[0m\u001b[0m\n\u001b[1;32m    386\u001b[0m         return self._parse_json(\n\u001b[0;32m--> 387\u001b[0;31m             \u001b[0mself\u001b[0m\u001b[0;34m.\u001b[0m\u001b[0m_call_geocoder\u001b[0m\u001b[0;34m(\u001b[0m\u001b[0murl\u001b[0m\u001b[0;34m,\u001b[0m \u001b[0mtimeout\u001b[0m\u001b[0;34m=\u001b[0m\u001b[0mtimeout\u001b[0m\u001b[0;34m)\u001b[0m\u001b[0;34m,\u001b[0m \u001b[0mexactly_one\u001b[0m\u001b[0;34m\u001b[0m\u001b[0m\n\u001b[0m\u001b[1;32m    388\u001b[0m         )\n\u001b[1;32m    389\u001b[0m \u001b[0;34m\u001b[0m\u001b[0m\n",
      "\u001b[0;32m/Library/Frameworks/Python.framework/Versions/3.6/lib/python3.6/site-packages/geopy/geocoders/base.py\u001b[0m in \u001b[0;36m_call_geocoder\u001b[0;34m(self, url, timeout, raw, requester, deserializer, **kwargs)\u001b[0m\n\u001b[1;32m    371\u001b[0m                                 exc_info=False)\n\u001b[1;32m    372\u001b[0m                 \u001b[0;32mtry\u001b[0m\u001b[0;34m:\u001b[0m\u001b[0;34m\u001b[0m\u001b[0m\n\u001b[0;32m--> 373\u001b[0;31m                     \u001b[0;32mraise\u001b[0m \u001b[0mERROR_CODE_MAP\u001b[0m\u001b[0;34m[\u001b[0m\u001b[0mcode\u001b[0m\u001b[0;34m]\u001b[0m\u001b[0;34m(\u001b[0m\u001b[0mmessage\u001b[0m\u001b[0;34m)\u001b[0m\u001b[0;34m\u001b[0m\u001b[0m\n\u001b[0m\u001b[1;32m    374\u001b[0m                 \u001b[0;32mexcept\u001b[0m \u001b[0mKeyError\u001b[0m\u001b[0;34m:\u001b[0m\u001b[0;34m\u001b[0m\u001b[0m\n\u001b[1;32m    375\u001b[0m                     \u001b[0;32mraise\u001b[0m \u001b[0mGeocoderServiceError\u001b[0m\u001b[0;34m(\u001b[0m\u001b[0mmessage\u001b[0m\u001b[0;34m)\u001b[0m\u001b[0;34m\u001b[0m\u001b[0m\n",
      "\u001b[0;31mGeocoderQuotaExceeded\u001b[0m: ('HTTP Error 429: Too Many Requests', 'occurred at index 0')"
     ]
    }
   ],
   "source": [
    "df_euc[\"latlon\"] = df_euc.apply(lambda x: lambdaSearch(x[\"City\"], x[\"Country\"]), axis=1)"
   ]
  },
  {
   "cell_type": "code",
   "execution_count": 28,
   "metadata": {
    "ExecuteTime": {
     "end_time": "2019-10-14T09:01:06.243199Z",
     "start_time": "2019-10-14T09:01:06.238568Z"
    }
   },
   "outputs": [],
   "source": [
    "query = \" \".join(df_euc[[\"Name of Organisation\", \"City\", \"Country\"]].iloc[:1].values[0])"
   ]
  },
  {
   "cell_type": "code",
   "execution_count": null,
   "metadata": {},
   "outputs": [],
   "source": []
  }
 ],
 "metadata": {
  "kernelspec": {
   "display_name": "Python 3",
   "language": "python",
   "name": "python3"
  },
  "language_info": {
   "codemirror_mode": {
    "name": "ipython",
    "version": 3
   },
   "file_extension": ".py",
   "mimetype": "text/x-python",
   "name": "python",
   "nbconvert_exporter": "python",
   "pygments_lexer": "ipython3",
   "version": "3.6.1"
  }
 },
 "nbformat": 4,
 "nbformat_minor": 2
}
