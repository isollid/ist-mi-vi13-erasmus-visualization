{
 "cells": [
  {
   "cell_type": "code",
   "execution_count": 1,
   "metadata": {
    "ExecuteTime": {
     "end_time": "2019-11-25T12:49:05.035035Z",
     "start_time": "2019-11-25T12:49:04.275209Z"
    }
   },
   "outputs": [],
   "source": [
    "import pandas as pd"
   ]
  },
  {
   "cell_type": "code",
   "execution_count": 2,
   "metadata": {
    "ExecuteTime": {
     "end_time": "2019-11-25T12:49:05.292258Z",
     "start_time": "2019-11-25T12:49:05.037929Z"
    }
   },
   "outputs": [],
   "source": [
    "df = pd.read_csv(\"../student_flow_coordinates.csv\")"
   ]
  },
  {
   "cell_type": "code",
   "execution_count": 3,
   "metadata": {
    "ExecuteTime": {
     "end_time": "2019-11-25T12:49:05.476337Z",
     "start_time": "2019-11-25T12:49:05.294941Z"
    }
   },
   "outputs": [],
   "source": [
    "df = df.groupby(df.columns.tolist()).size().reset_index().rename(columns={0:'count'})"
   ]
  },
  {
   "cell_type": "code",
   "execution_count": 4,
   "metadata": {
    "ExecuteTime": {
     "end_time": "2019-11-25T12:49:05.987312Z",
     "start_time": "2019-11-25T12:49:05.977952Z"
    }
   },
   "outputs": [],
   "source": [
    "df = df.drop(columns=[\"Name of Organisation_send\", \"Name of Organisation_host\"])"
   ]
  },
  {
   "cell_type": "code",
   "execution_count": 5,
   "metadata": {
    "ExecuteTime": {
     "end_time": "2019-11-25T12:49:06.456306Z",
     "start_time": "2019-11-25T12:49:06.448675Z"
    }
   },
   "outputs": [],
   "source": [
    "df = df.rename(columns={\"coordinates_send\": \"send\", \"coordinates_host\": \"receive\"})"
   ]
  },
  {
   "cell_type": "code",
   "execution_count": 6,
   "metadata": {
    "ExecuteTime": {
     "end_time": "2019-11-25T12:49:07.194936Z",
     "start_time": "2019-11-25T12:49:07.191994Z"
    }
   },
   "outputs": [],
   "source": [
    "# latitude longtitude"
   ]
  },
  {
   "cell_type": "code",
   "execution_count": 7,
   "metadata": {
    "ExecuteTime": {
     "end_time": "2019-11-25T12:49:07.863184Z",
     "start_time": "2019-11-25T12:49:07.728786Z"
    }
   },
   "outputs": [],
   "source": [
    "df[\"sendLat\"] = df.send.apply(lambda x: x.split(\",\")[0].lstrip(\"(\").strip())\n",
    "df[\"sendLon\"] = df.send.apply(lambda x: x.split(\",\")[1].rstrip(\")\").strip())"
   ]
  },
  {
   "cell_type": "code",
   "execution_count": 8,
   "metadata": {
    "ExecuteTime": {
     "end_time": "2019-11-25T12:49:10.349864Z",
     "start_time": "2019-11-25T12:49:10.216685Z"
    }
   },
   "outputs": [],
   "source": [
    "df[\"receiveLat\"] = df.receive.apply(lambda x: x.split(\",\")[0].lstrip(\"(\").strip())\n",
    "df[\"receiveLon\"] = df.receive.apply(lambda x: x.split(\",\")[1].rstrip(\")\").strip())"
   ]
  },
  {
   "cell_type": "code",
   "execution_count": 10,
   "metadata": {
    "ExecuteTime": {
     "end_time": "2019-11-25T12:49:19.593253Z",
     "start_time": "2019-11-25T12:49:19.567708Z"
    }
   },
   "outputs": [],
   "source": [
    "df = df.drop(columns=[\"send\", \"receive\"])"
   ]
  },
  {
   "cell_type": "code",
   "execution_count": 11,
   "metadata": {
    "ExecuteTime": {
     "end_time": "2019-11-25T12:49:28.072004Z",
     "start_time": "2019-11-25T12:49:28.058210Z"
    }
   },
   "outputs": [],
   "source": [
    "ci = pd.read_csv(\"../geonames.org/countryInfo.txt\", delimiter=\"\\t\")\n",
    "ci = ci[[\"ISO\", \"ISO-Numeric\"]].rename(columns={\"Country\": \"name\", \"ISO-Numeric\": \"numeric\"})"
   ]
  },
  {
   "cell_type": "code",
   "execution_count": 12,
   "metadata": {
    "ExecuteTime": {
     "end_time": "2019-11-25T12:49:28.738344Z",
     "start_time": "2019-11-25T12:49:28.615661Z"
    }
   },
   "outputs": [],
   "source": [
    "df = df.merge(ci, left_on=\"SendingCountry\", right_on=\"ISO\", how=\"left\").drop(columns=[\"ISO\"])\\\n",
    "        .rename(columns={\"numeric\": \"sendingNumeric\"})\n",
    "df = df.merge(ci, left_on=\"ReceivingCountry\", right_on=\"ISO\", how=\"left\").drop(columns=[\"ISO\"])\\\n",
    "        .rename(columns={\"numeric\": \"receivingNumeric\"})"
   ]
  },
  {
   "cell_type": "code",
   "execution_count": 14,
   "metadata": {
    "ExecuteTime": {
     "end_time": "2019-11-25T12:50:07.982067Z",
     "start_time": "2019-11-25T12:50:07.969432Z"
    }
   },
   "outputs": [],
   "source": [
    "df = df.rename(columns={\"SendingCountry\": \"sendingCode\", \"ReceivingCountry\": \"receivingCode\"})"
   ]
  },
  {
   "cell_type": "code",
   "execution_count": 16,
   "metadata": {
    "ExecuteTime": {
     "end_time": "2019-11-25T12:50:42.412996Z",
     "start_time": "2019-11-25T12:50:42.343356Z"
    }
   },
   "outputs": [],
   "source": [
    "df.sendingCode = df.sendingCode.str.lower()\n",
    "df.receivingCode = df.receivingCode.str.lower()"
   ]
  },
  {
   "cell_type": "raw",
   "metadata": {
    "ExecuteTime": {
     "end_time": "2019-11-09T18:11:39.774817Z",
     "start_time": "2019-11-09T18:11:39.767175Z"
    }
   },
   "source": [
    "df = df.drop(columns=[\"SendingCountry\", \"ReceivingCountry\"])"
   ]
  },
  {
   "cell_type": "raw",
   "metadata": {
    "ExecuteTime": {
     "end_time": "2019-11-09T18:12:20.071179Z",
     "start_time": "2019-11-09T18:12:19.883436Z"
    }
   },
   "source": [
    "def padleft(x):\n",
    "    while len(x) < 3:\n",
    "        x = \"0\" + x\n",
    "    return x\n",
    "\n",
    "df.sendingNumeric = df.sendingNumeric.astype(str).apply(lambda x: padleft(x))\n",
    "df.receivingNumeric = df.receivingNumeric.astype(str).apply(lambda x: padleft(x))"
   ]
  },
  {
   "cell_type": "code",
   "execution_count": 21,
   "metadata": {
    "ExecuteTime": {
     "end_time": "2019-11-25T12:51:35.746001Z",
     "start_time": "2019-11-25T12:51:35.267847Z"
    }
   },
   "outputs": [],
   "source": [
    "df.to_csv(\"../../src/data/map/coordinates.csv\", index=False)"
   ]
  },
  {
   "cell_type": "code",
   "execution_count": null,
   "metadata": {},
   "outputs": [],
   "source": []
  }
 ],
 "metadata": {
  "kernelspec": {
   "display_name": "Python 3",
   "language": "python",
   "name": "python3"
  },
  "language_info": {
   "codemirror_mode": {
    "name": "ipython",
    "version": 3
   },
   "file_extension": ".py",
   "mimetype": "text/x-python",
   "name": "python",
   "nbconvert_exporter": "python",
   "pygments_lexer": "ipython3",
   "version": "3.6.1"
  }
 },
 "nbformat": 4,
 "nbformat_minor": 2
}
