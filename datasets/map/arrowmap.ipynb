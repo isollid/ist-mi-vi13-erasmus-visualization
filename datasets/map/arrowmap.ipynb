{
 "cells": [
  {
   "cell_type": "code",
   "execution_count": 6,
   "metadata": {
    "ExecuteTime": {
     "end_time": "2019-11-09T18:09:09.714828Z",
     "start_time": "2019-11-09T18:09:09.711851Z"
    }
   },
   "outputs": [],
   "source": [
    "import pandas as pd"
   ]
  },
  {
   "cell_type": "code",
   "execution_count": 7,
   "metadata": {
    "ExecuteTime": {
     "end_time": "2019-11-09T18:09:10.137954Z",
     "start_time": "2019-11-09T18:09:09.886266Z"
    }
   },
   "outputs": [],
   "source": [
    "df = pd.read_csv(\"../student_flow_coordinates.csv\")"
   ]
  },
  {
   "cell_type": "code",
   "execution_count": 8,
   "metadata": {
    "ExecuteTime": {
     "end_time": "2019-11-09T18:09:10.292648Z",
     "start_time": "2019-11-09T18:09:10.140264Z"
    }
   },
   "outputs": [],
   "source": [
    "df = df.groupby(df.columns.tolist()).size().reset_index().rename(columns={0:'count'})"
   ]
  },
  {
   "cell_type": "code",
   "execution_count": 9,
   "metadata": {
    "ExecuteTime": {
     "end_time": "2019-11-09T18:09:10.302163Z",
     "start_time": "2019-11-09T18:09:10.295207Z"
    }
   },
   "outputs": [],
   "source": [
    "df = df.drop(columns=[\"Name of Organisation_send\", \"Name of Organisation_host\"])"
   ]
  },
  {
   "cell_type": "code",
   "execution_count": 10,
   "metadata": {
    "ExecuteTime": {
     "end_time": "2019-11-09T18:09:10.337698Z",
     "start_time": "2019-11-09T18:09:10.330147Z"
    }
   },
   "outputs": [],
   "source": [
    "df = df.rename(columns={\"coordinates_send\": \"send\", \"coordinates_host\": \"receive\"})"
   ]
  },
  {
   "cell_type": "code",
   "execution_count": 11,
   "metadata": {
    "ExecuteTime": {
     "end_time": "2019-11-09T18:09:10.486875Z",
     "start_time": "2019-11-09T18:09:10.484618Z"
    }
   },
   "outputs": [],
   "source": [
    "# latitude longtitude"
   ]
  },
  {
   "cell_type": "code",
   "execution_count": 12,
   "metadata": {
    "ExecuteTime": {
     "end_time": "2019-11-09T18:09:10.785739Z",
     "start_time": "2019-11-09T18:09:10.652674Z"
    }
   },
   "outputs": [],
   "source": [
    "df[\"sendLat\"] = df.send.apply(lambda x: x.split(\",\")[0].lstrip(\"(\").strip())\n",
    "df[\"sendLon\"] = df.send.apply(lambda x: x.split(\",\")[1].rstrip(\")\").strip())"
   ]
  },
  {
   "cell_type": "code",
   "execution_count": 13,
   "metadata": {
    "ExecuteTime": {
     "end_time": "2019-11-09T18:09:11.339254Z",
     "start_time": "2019-11-09T18:09:11.206583Z"
    }
   },
   "outputs": [],
   "source": [
    "df[\"receiveLat\"] = df.receive.apply(lambda x: x.split(\",\")[0].lstrip(\"(\").strip())\n",
    "df[\"receiveLon\"] = df.receive.apply(lambda x: x.split(\",\")[1].rstrip(\")\").strip())"
   ]
  },
  {
   "cell_type": "code",
   "execution_count": 14,
   "metadata": {
    "ExecuteTime": {
     "end_time": "2019-11-09T18:09:13.546050Z",
     "start_time": "2019-11-09T18:09:13.518366Z"
    }
   },
   "outputs": [],
   "source": [
    "df = df.drop(columns=[\"send\", \"receive\"])"
   ]
  },
  {
   "cell_type": "code",
   "execution_count": 23,
   "metadata": {
    "ExecuteTime": {
     "end_time": "2019-11-09T18:10:33.299716Z",
     "start_time": "2019-11-09T18:10:33.287509Z"
    }
   },
   "outputs": [],
   "source": [
    "ci = pd.read_csv(\"../geonames.org/countryInfo.txt\", delimiter=\"\\t\")\n",
    "ci = ci[[\"ISO\", \"ISO-Numeric\"]].rename(columns={\"Country\": \"name\", \"ISO-Numeric\": \"numeric\"})"
   ]
  },
  {
   "cell_type": "code",
   "execution_count": 25,
   "metadata": {
    "ExecuteTime": {
     "end_time": "2019-11-09T18:11:17.272877Z",
     "start_time": "2019-11-09T18:11:17.150669Z"
    }
   },
   "outputs": [],
   "source": [
    "df = df.merge(ci, left_on=\"SendingCountry\", right_on=\"ISO\", how=\"left\").drop(columns=[\"ISO\"])\\\n",
    "        .rename(columns={\"numeric\": \"sendingNumeric\"})\n",
    "df = df.merge(ci, left_on=\"ReceivingCountry\", right_on=\"ISO\", how=\"left\").drop(columns=[\"ISO\"])\\\n",
    "        .rename(columns={\"numeric\": \"receivingNumeric\"})"
   ]
  },
  {
   "cell_type": "code",
   "execution_count": 27,
   "metadata": {
    "ExecuteTime": {
     "end_time": "2019-11-09T18:11:39.774817Z",
     "start_time": "2019-11-09T18:11:39.767175Z"
    }
   },
   "outputs": [],
   "source": [
    "df = df.drop(columns=[\"SendingCountry\", \"ReceivingCountry\"])"
   ]
  },
  {
   "cell_type": "code",
   "execution_count": 29,
   "metadata": {
    "ExecuteTime": {
     "end_time": "2019-11-09T18:12:20.071179Z",
     "start_time": "2019-11-09T18:12:19.883436Z"
    }
   },
   "outputs": [],
   "source": [
    "def padleft(x):\n",
    "    while len(x) < 3:\n",
    "        x = \"0\" + x\n",
    "    return x\n",
    "\n",
    "df.sendingNumeric = df.sendingNumeric.astype(str).apply(lambda x: padleft(x))\n",
    "df.receivingNumeric = df.receivingNumeric.astype(str).apply(lambda x: padleft(x))"
   ]
  },
  {
   "cell_type": "code",
   "execution_count": 31,
   "metadata": {
    "ExecuteTime": {
     "end_time": "2019-11-09T18:12:31.235646Z",
     "start_time": "2019-11-09T18:12:30.925989Z"
    }
   },
   "outputs": [],
   "source": [
    "df.to_csv(\"../../src/data/arrowmap/coordinates.csv\", index=False)"
   ]
  }
 ],
 "metadata": {
  "kernelspec": {
   "display_name": "Python 3",
   "language": "python",
   "name": "python3"
  },
  "language_info": {
   "codemirror_mode": {
    "name": "ipython",
    "version": 3
   },
   "file_extension": ".py",
   "mimetype": "text/x-python",
   "name": "python",
   "nbconvert_exporter": "python",
   "pygments_lexer": "ipython3",
   "version": "3.6.1"
  }
 },
 "nbformat": 4,
 "nbformat_minor": 2
}
