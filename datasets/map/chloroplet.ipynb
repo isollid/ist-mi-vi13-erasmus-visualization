{
 "cells": [
  {
   "cell_type": "code",
   "execution_count": 1,
   "metadata": {
    "ExecuteTime": {
     "end_time": "2019-11-08T21:29:01.173414Z",
     "start_time": "2019-11-08T21:29:00.451727Z"
    }
   },
   "outputs": [],
   "source": [
    "import pandas as pd\n",
    "%matplotlib inline"
   ]
  },
  {
   "cell_type": "code",
   "execution_count": 2,
   "metadata": {
    "ExecuteTime": {
     "end_time": "2019-11-08T21:30:03.724849Z",
     "start_time": "2019-11-08T21:29:01.177876Z"
    }
   },
   "outputs": [],
   "source": [
    "df = pd.read_excel(\"../Student_Mobility_2013-14.xlsx\")\n",
    "df = df[df.MobilityType == \"Mob-SMS\"]"
   ]
  },
  {
   "cell_type": "code",
   "execution_count": 3,
   "metadata": {
    "ExecuteTime": {
     "end_time": "2019-11-08T21:30:04.035044Z",
     "start_time": "2019-11-08T21:30:03.728189Z"
    }
   },
   "outputs": [],
   "source": [
    "sending = pd.DataFrame(df.groupby(\"SendingCountry\").count().Action).reset_index()\n",
    "sending.columns=[\"country\", \"sending\"]"
   ]
  },
  {
   "cell_type": "code",
   "execution_count": 4,
   "metadata": {
    "ExecuteTime": {
     "end_time": "2019-11-08T21:30:04.270758Z",
     "start_time": "2019-11-08T21:30:04.038283Z"
    }
   },
   "outputs": [],
   "source": [
    "receiving = pd.DataFrame(df.groupby(\"ReceivingCountry\").count().Action).reset_index()\n",
    "receiving.columns=[\"country\", \"receiving\"]"
   ]
  },
  {
   "cell_type": "code",
   "execution_count": 5,
   "metadata": {
    "ExecuteTime": {
     "end_time": "2019-11-08T21:30:04.316806Z",
     "start_time": "2019-11-08T21:30:04.276721Z"
    }
   },
   "outputs": [],
   "source": [
    "df = sending.merge(receiving)"
   ]
  },
  {
   "cell_type": "markdown",
   "metadata": {},
   "source": [
    "#### countrynames"
   ]
  },
  {
   "cell_type": "code",
   "execution_count": 6,
   "metadata": {
    "ExecuteTime": {
     "end_time": "2019-11-08T21:30:04.331249Z",
     "start_time": "2019-11-08T21:30:04.319687Z"
    }
   },
   "outputs": [],
   "source": [
    "ci = pd.read_csv(\"../geonames.org/countryInfo.txt\", delimiter=\"\\t\")"
   ]
  },
  {
   "cell_type": "code",
   "execution_count": 7,
   "metadata": {
    "ExecuteTime": {
     "end_time": "2019-11-08T21:30:04.338115Z",
     "start_time": "2019-11-08T21:30:04.333242Z"
    }
   },
   "outputs": [],
   "source": [
    "ci = ci[[\"ISO\", \"Country\", \"ISO-Numeric\"]].rename(columns={\"Country\": \"name\", \"ISO-Numeric\": \"numeric\"})"
   ]
  },
  {
   "cell_type": "code",
   "execution_count": 8,
   "metadata": {
    "ExecuteTime": {
     "end_time": "2019-11-08T21:30:04.348446Z",
     "start_time": "2019-11-08T21:30:04.340341Z"
    }
   },
   "outputs": [],
   "source": [
    "out = df.merge(ci, left_on=\"country\", right_on=\"ISO\", how=\"left\").drop(columns=[\"ISO\"])\\\n",
    "        .rename(columns={\"CountryName\": \"name\"})"
   ]
  },
  {
   "cell_type": "code",
   "execution_count": 14,
   "metadata": {
    "ExecuteTime": {
     "end_time": "2019-11-08T21:33:54.893240Z",
     "start_time": "2019-11-08T21:33:54.889381Z"
    }
   },
   "outputs": [],
   "source": [
    "def padleft(x):\n",
    "    while len(x) < 3:\n",
    "        x = \"0\" + x\n",
    "    return x\n",
    "\n",
    "out.numeric = out.numeric.astype(str).apply(lambda x: padleft(x))"
   ]
  },
  {
   "cell_type": "code",
   "execution_count": 19,
   "metadata": {
    "ExecuteTime": {
     "end_time": "2019-11-08T21:34:54.542799Z",
     "start_time": "2019-11-08T21:34:54.537429Z"
    }
   },
   "outputs": [],
   "source": [
    "out.to_csv(\"../../src/data/map/chloroplet-ratio.csv\", index=False)"
   ]
  },
  {
   "cell_type": "raw",
   "metadata": {
    "ExecuteTime": {
     "end_time": "2019-11-08T20:24:45.175162Z",
     "start_time": "2019-11-08T20:24:45.167561Z"
    }
   },
   "source": [
    "df[\"ratioSend\"] = df.sending / df.receiving\n",
    "df[\"ratioReceive\"] = df.receiving / df.sending"
   ]
  },
  {
   "cell_type": "code",
   "execution_count": 1,
   "metadata": {
    "ExecuteTime": {
     "end_time": "2019-11-08T22:47:53.016079Z",
     "start_time": "2019-11-08T22:47:52.180561Z"
    }
   },
   "outputs": [],
   "source": [
    "import pandas as pd\n",
    "\n",
    "df = pd.read_csv(\"../../src/data/map/chloroplet-ratio.csv\")"
   ]
  },
  {
   "cell_type": "code",
   "execution_count": 3,
   "metadata": {
    "ExecuteTime": {
     "end_time": "2019-11-08T22:48:11.322207Z",
     "start_time": "2019-11-08T22:48:11.315079Z"
    }
   },
   "outputs": [],
   "source": [
    "df[\"ratio\"] = df.sending / df.receiving"
   ]
  },
  {
   "cell_type": "code",
   "execution_count": 4,
   "metadata": {
    "ExecuteTime": {
     "end_time": "2019-11-08T22:48:17.678031Z",
     "start_time": "2019-11-08T22:48:17.667563Z"
    }
   },
   "outputs": [
    {
     "data": {
      "text/plain": [
       "count    33.000000\n",
       "mean      1.115282\n",
       "std       0.753774\n",
       "min       0.314583\n",
       "25%       0.590355\n",
       "50%       0.975789\n",
       "75%       1.314525\n",
       "max       3.954128\n",
       "Name: ratio, dtype: float64"
      ]
     },
     "execution_count": 4,
     "metadata": {},
     "output_type": "execute_result"
    }
   ],
   "source": [
    "df.ratio.describe()"
   ]
  },
  {
   "cell_type": "code",
   "execution_count": null,
   "metadata": {},
   "outputs": [],
   "source": []
  }
 ],
 "metadata": {
  "kernelspec": {
   "display_name": "Python 3",
   "language": "python",
   "name": "python3"
  },
  "language_info": {
   "codemirror_mode": {
    "name": "ipython",
    "version": 3
   },
   "file_extension": ".py",
   "mimetype": "text/x-python",
   "name": "python",
   "nbconvert_exporter": "python",
   "pygments_lexer": "ipython3",
   "version": "3.6.1"
  }
 },
 "nbformat": 4,
 "nbformat_minor": 2
}
