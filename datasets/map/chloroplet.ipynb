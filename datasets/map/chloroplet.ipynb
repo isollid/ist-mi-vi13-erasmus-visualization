{
 "cells": [
  {
   "cell_type": "code",
   "execution_count": 1,
   "metadata": {
    "ExecuteTime": {
     "end_time": "2019-11-08T20:41:40.952539Z",
     "start_time": "2019-11-08T20:41:40.342225Z"
    }
   },
   "outputs": [],
   "source": [
    "import pandas as pd\n",
    "%matplotlib inline"
   ]
  },
  {
   "cell_type": "code",
   "execution_count": 2,
   "metadata": {
    "ExecuteTime": {
     "end_time": "2019-11-08T20:42:40.853888Z",
     "start_time": "2019-11-08T20:41:40.955376Z"
    }
   },
   "outputs": [],
   "source": [
    "df = pd.read_excel(\"../Student_Mobility_2013-14.xlsx\")\n",
    "df = df[df.MobilityType == \"Mob-SMS\"]"
   ]
  },
  {
   "cell_type": "code",
   "execution_count": 3,
   "metadata": {
    "ExecuteTime": {
     "end_time": "2019-11-08T20:42:41.175674Z",
     "start_time": "2019-11-08T20:42:40.856727Z"
    }
   },
   "outputs": [],
   "source": [
    "sending = pd.DataFrame(df.groupby(\"SendingCountry\").count().Action).reset_index()\n",
    "sending.columns=[\"country\", \"sending\"]"
   ]
  },
  {
   "cell_type": "code",
   "execution_count": 4,
   "metadata": {
    "ExecuteTime": {
     "end_time": "2019-11-08T20:42:41.401769Z",
     "start_time": "2019-11-08T20:42:41.179084Z"
    }
   },
   "outputs": [],
   "source": [
    "receiving = pd.DataFrame(df.groupby(\"ReceivingCountry\").count().Action).reset_index()\n",
    "receiving.columns=[\"country\", \"receiving\"]"
   ]
  },
  {
   "cell_type": "code",
   "execution_count": 10,
   "metadata": {
    "ExecuteTime": {
     "end_time": "2019-11-08T20:43:30.256854Z",
     "start_time": "2019-11-08T20:43:30.205325Z"
    }
   },
   "outputs": [],
   "source": [
    "df = sending.merge(receiving)"
   ]
  },
  {
   "cell_type": "markdown",
   "metadata": {},
   "source": [
    "#### countrynames"
   ]
  },
  {
   "cell_type": "code",
   "execution_count": 35,
   "metadata": {
    "ExecuteTime": {
     "end_time": "2019-11-08T20:50:57.163830Z",
     "start_time": "2019-11-08T20:50:57.154008Z"
    }
   },
   "outputs": [],
   "source": [
    "ci = pd.read_csv(\"../geonames.org/countryInfo.txt\", delimiter=\"\\t\")"
   ]
  },
  {
   "cell_type": "code",
   "execution_count": 36,
   "metadata": {
    "ExecuteTime": {
     "end_time": "2019-11-08T20:50:58.022885Z",
     "start_time": "2019-11-08T20:50:58.017481Z"
    }
   },
   "outputs": [],
   "source": [
    "ci = ci[[\"ISO\", \"Country\", \"ISO-Numeric\"]].rename(columns={\"Country\": \"name\", \"ISO-Numeric\": \"numeric\"})"
   ]
  },
  {
   "cell_type": "code",
   "execution_count": 37,
   "metadata": {
    "ExecuteTime": {
     "end_time": "2019-11-08T20:51:00.267267Z",
     "start_time": "2019-11-08T20:51:00.257665Z"
    }
   },
   "outputs": [],
   "source": [
    "out = df.merge(ci, left_on=\"country\", right_on=\"ISO\", how=\"left\").drop(columns=[\"ISO\"])\\\n",
    "        .rename(columns={\"CountryName\": \"name\"})"
   ]
  },
  {
   "cell_type": "code",
   "execution_count": 39,
   "metadata": {
    "ExecuteTime": {
     "end_time": "2019-11-08T20:51:06.510016Z",
     "start_time": "2019-11-08T20:51:06.505238Z"
    }
   },
   "outputs": [],
   "source": [
    "out.to_csv(\"../chloroplet-ratio.csv\", index=False)"
   ]
  },
  {
   "cell_type": "raw",
   "metadata": {
    "ExecuteTime": {
     "end_time": "2019-11-08T20:24:45.175162Z",
     "start_time": "2019-11-08T20:24:45.167561Z"
    }
   },
   "source": [
    "df[\"ratioSend\"] = df.sending / df.receiving\n",
    "df[\"ratioReceive\"] = df.receiving / df.sending"
   ]
  }
 ],
 "metadata": {
  "kernelspec": {
   "display_name": "Python 3",
   "language": "python",
   "name": "python3"
  },
  "language_info": {
   "codemirror_mode": {
    "name": "ipython",
    "version": 3
   },
   "file_extension": ".py",
   "mimetype": "text/x-python",
   "name": "python",
   "nbconvert_exporter": "python",
   "pygments_lexer": "ipython3",
   "version": "3.6.1"
  }
 },
 "nbformat": 4,
 "nbformat_minor": 2
}
