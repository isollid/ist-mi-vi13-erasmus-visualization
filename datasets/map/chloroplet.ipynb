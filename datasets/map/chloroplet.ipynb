{
 "cells": [
  {
   "cell_type": "code",
   "execution_count": 3,
   "metadata": {
    "ExecuteTime": {
     "end_time": "2019-11-08T19:34:35.781176Z",
     "start_time": "2019-11-08T19:34:35.778101Z"
    }
   },
   "outputs": [],
   "source": [
    "import pandas as pd"
   ]
  },
  {
   "cell_type": "code",
   "execution_count": 5,
   "metadata": {
    "ExecuteTime": {
     "end_time": "2019-11-08T19:35:43.790231Z",
     "start_time": "2019-11-08T19:34:41.906606Z"
    }
   },
   "outputs": [],
   "source": [
    "df = pd.read_excel(\"../Student_Mobility_2013-14.xlsx\")"
   ]
  },
  {
   "cell_type": "code",
   "execution_count": 6,
   "metadata": {
    "ExecuteTime": {
     "end_time": "2019-11-08T19:35:43.888047Z",
     "start_time": "2019-11-08T19:35:43.792998Z"
    }
   },
   "outputs": [],
   "source": [
    "df = df[df.MobilityType == \"Mob-SMS\"]"
   ]
  },
  {
   "cell_type": "code",
   "execution_count": 9,
   "metadata": {
    "ExecuteTime": {
     "end_time": "2019-11-08T19:36:13.523704Z",
     "start_time": "2019-11-08T19:36:13.518653Z"
    }
   },
   "outputs": [
    {
     "data": {
      "text/plain": [
       "Index(['Action', 'CallYear', 'ProjectNumber', 'MobiilityID', 'SendingCountry',\n",
       "       'ReceivingCountry', 'MobilityType', 'SpecialNeeds', 'SubjectAreaCode',\n",
       "       'SubjectAreaName', 'CombinedMobilityYesNo', 'StartDate', 'EndDate',\n",
       "       'DurationInMonths', 'DurationInDays', 'SubsistenceTravel',\n",
       "       'LevelOfStudy', 'ParticipantID', 'ParticipantGender', 'ParticipantType',\n",
       "       'Language', 'SendingPartnerErasmusID', 'SendingPartnerName',\n",
       "       'HostingPartnerErasmusID', 'HostingPartnerName',\n",
       "       'HostingPartnerCountry', 'HostingPartnerCity'],\n",
       "      dtype='object')"
      ]
     },
     "execution_count": 9,
     "metadata": {},
     "output_type": "execute_result"
    }
   ],
   "source": [
    "df.columns"
   ]
  },
  {
   "cell_type": "code",
   "execution_count": 42,
   "metadata": {
    "ExecuteTime": {
     "end_time": "2019-11-08T19:42:31.604999Z",
     "start_time": "2019-11-08T19:42:31.388002Z"
    }
   },
   "outputs": [],
   "source": [
    "sending = pd.DataFrame(df.groupby(\"SendingCountry\").count().Action).reset_index()\n",
    "sending.columns=[\"country\", \"sending\"]"
   ]
  },
  {
   "cell_type": "code",
   "execution_count": 43,
   "metadata": {
    "ExecuteTime": {
     "end_time": "2019-11-08T19:42:47.483243Z",
     "start_time": "2019-11-08T19:42:47.267608Z"
    }
   },
   "outputs": [],
   "source": [
    "receiving = pd.DataFrame(df.groupby(\"ReceivingCountry\").count().Action).reset_index()\n",
    "receiving.columns=[\"country\", \"receiving\"]"
   ]
  },
  {
   "cell_type": "code",
   "execution_count": 47,
   "metadata": {
    "ExecuteTime": {
     "end_time": "2019-11-08T19:44:16.734040Z",
     "start_time": "2019-11-08T19:44:16.725024Z"
    }
   },
   "outputs": [],
   "source": [
    "sending.merge(receiving).to_csv(\"../chloroplet-ratio.csv\", index=False)"
   ]
  },
  {
   "cell_type": "code",
   "execution_count": null,
   "metadata": {},
   "outputs": [],
   "source": []
  }
 ],
 "metadata": {
  "kernelspec": {
   "display_name": "Python 3",
   "language": "python",
   "name": "python3"
  },
  "language_info": {
   "codemirror_mode": {
    "name": "ipython",
    "version": 3
   },
   "file_extension": ".py",
   "mimetype": "text/x-python",
   "name": "python",
   "nbconvert_exporter": "python",
   "pygments_lexer": "ipython3",
   "version": "3.6.1"
  }
 },
 "nbformat": 4,
 "nbformat_minor": 2
}
