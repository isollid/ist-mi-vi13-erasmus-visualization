{
 "cells": [
  {
   "cell_type": "code",
   "execution_count": 1,
   "metadata": {
    "ExecuteTime": {
     "end_time": "2019-12-12T13:55:28.634542Z",
     "start_time": "2019-12-12T13:55:27.625389Z"
    }
   },
   "outputs": [],
   "source": [
    "import pandas as pd\n",
    "%matplotlib inline"
   ]
  },
  {
   "cell_type": "code",
   "execution_count": 2,
   "metadata": {
    "ExecuteTime": {
     "end_time": "2019-12-12T13:56:32.505429Z",
     "start_time": "2019-12-12T13:55:28.637519Z"
    }
   },
   "outputs": [],
   "source": [
    "df = pd.read_excel(\"../Student_Mobility_2013-14.xlsx\")\n",
    "df = df[df.MobilityType == \"Mob-SMS\"]"
   ]
  },
  {
   "cell_type": "code",
   "execution_count": 3,
   "metadata": {
    "ExecuteTime": {
     "end_time": "2019-12-12T13:56:32.833538Z",
     "start_time": "2019-12-12T13:56:32.508555Z"
    }
   },
   "outputs": [],
   "source": [
    "sending = pd.DataFrame(df.groupby(\"SendingCountry\").count().Action).reset_index()\n",
    "sending.columns=[\"country\", \"sending\"]"
   ]
  },
  {
   "cell_type": "code",
   "execution_count": 4,
   "metadata": {
    "ExecuteTime": {
     "end_time": "2019-12-12T13:56:33.056086Z",
     "start_time": "2019-12-12T13:56:32.836195Z"
    }
   },
   "outputs": [],
   "source": [
    "receiving = pd.DataFrame(df.groupby(\"ReceivingCountry\").count().Action).reset_index()\n",
    "receiving.columns=[\"country\", \"receiving\"]"
   ]
  },
  {
   "cell_type": "code",
   "execution_count": 26,
   "metadata": {
    "ExecuteTime": {
     "end_time": "2019-12-12T14:01:31.548471Z",
     "start_time": "2019-12-12T14:01:31.542928Z"
    }
   },
   "outputs": [],
   "source": [
    "receiving = receiving.append({\"country\":\"MK\", \"receiving\": 0}, ignore_index=True)"
   ]
  },
  {
   "cell_type": "code",
   "execution_count": 27,
   "metadata": {
    "ExecuteTime": {
     "end_time": "2019-12-12T14:01:33.670735Z",
     "start_time": "2019-12-12T14:01:33.664027Z"
    }
   },
   "outputs": [],
   "source": [
    "df = sending.merge(receiving)"
   ]
  },
  {
   "cell_type": "markdown",
   "metadata": {},
   "source": [
    "#### countrynames"
   ]
  },
  {
   "cell_type": "code",
   "execution_count": 29,
   "metadata": {
    "ExecuteTime": {
     "end_time": "2019-12-12T14:01:43.892953Z",
     "start_time": "2019-12-12T14:01:43.879457Z"
    }
   },
   "outputs": [],
   "source": [
    "ci = pd.read_csv(\"../geonames.org/countryInfo.txt\", delimiter=\"\\t\")"
   ]
  },
  {
   "cell_type": "code",
   "execution_count": 30,
   "metadata": {
    "ExecuteTime": {
     "end_time": "2019-12-12T14:01:44.381266Z",
     "start_time": "2019-12-12T14:01:44.375777Z"
    }
   },
   "outputs": [],
   "source": [
    "ci = ci[[\"ISO\", \"Country\", \"ISO-Numeric\"]].rename(columns={\"Country\": \"name\", \"ISO-Numeric\": \"numeric\"})"
   ]
  },
  {
   "cell_type": "code",
   "execution_count": 31,
   "metadata": {
    "ExecuteTime": {
     "end_time": "2019-12-12T14:01:45.192979Z",
     "start_time": "2019-12-12T14:01:45.183182Z"
    }
   },
   "outputs": [],
   "source": [
    "out = df.merge(ci, left_on=\"country\", right_on=\"ISO\", how=\"left\").drop(columns=[\"ISO\"])\\\n",
    "        .rename(columns={\"CountryName\": \"name\"})"
   ]
  },
  {
   "cell_type": "code",
   "execution_count": 32,
   "metadata": {
    "ExecuteTime": {
     "end_time": "2019-12-12T14:01:46.902634Z",
     "start_time": "2019-12-12T14:01:46.895762Z"
    }
   },
   "outputs": [],
   "source": [
    "def padleft(x):\n",
    "    while len(x) < 3:\n",
    "        x = \"0\" + x\n",
    "    return x\n",
    "\n",
    "out.numeric = out.numeric.astype(str).apply(lambda x: padleft(x))"
   ]
  },
  {
   "cell_type": "code",
   "execution_count": 34,
   "metadata": {
    "ExecuteTime": {
     "end_time": "2019-12-12T14:02:04.672423Z",
     "start_time": "2019-12-12T14:02:04.665370Z"
    }
   },
   "outputs": [],
   "source": [
    "out.to_csv(\"../../src/data/map/chloroplet-ratio.csv\", index=False)"
   ]
  },
  {
   "cell_type": "raw",
   "metadata": {
    "ExecuteTime": {
     "end_time": "2019-11-08T20:24:45.175162Z",
     "start_time": "2019-11-08T20:24:45.167561Z"
    }
   },
   "source": [
    "df[\"ratioSend\"] = df.sending / df.receiving\n",
    "df[\"ratioReceive\"] = df.receiving / df.sending"
   ]
  },
  {
   "cell_type": "code",
   "execution_count": 1,
   "metadata": {
    "ExecuteTime": {
     "end_time": "2019-11-08T22:47:53.016079Z",
     "start_time": "2019-11-08T22:47:52.180561Z"
    }
   },
   "outputs": [],
   "source": [
    "import pandas as pd\n",
    "\n",
    "df = pd.read_csv(\"../../src/data/map/chloroplet-ratio.csv\")"
   ]
  },
  {
   "cell_type": "code",
   "execution_count": 3,
   "metadata": {
    "ExecuteTime": {
     "end_time": "2019-11-08T22:48:11.322207Z",
     "start_time": "2019-11-08T22:48:11.315079Z"
    }
   },
   "outputs": [],
   "source": [
    "df[\"ratio\"] = df.sending / df.receiving"
   ]
  },
  {
   "cell_type": "code",
   "execution_count": 4,
   "metadata": {
    "ExecuteTime": {
     "end_time": "2019-11-08T22:48:17.678031Z",
     "start_time": "2019-11-08T22:48:17.667563Z"
    }
   },
   "outputs": [
    {
     "data": {
      "text/plain": [
       "count    33.000000\n",
       "mean      1.115282\n",
       "std       0.753774\n",
       "min       0.314583\n",
       "25%       0.590355\n",
       "50%       0.975789\n",
       "75%       1.314525\n",
       "max       3.954128\n",
       "Name: ratio, dtype: float64"
      ]
     },
     "execution_count": 4,
     "metadata": {},
     "output_type": "execute_result"
    }
   ],
   "source": [
    "df.ratio.describe()"
   ]
  },
  {
   "cell_type": "code",
   "execution_count": null,
   "metadata": {},
   "outputs": [],
   "source": []
  }
 ],
 "metadata": {
  "kernelspec": {
   "display_name": "Python 3",
   "language": "python",
   "name": "python3"
  },
  "language_info": {
   "codemirror_mode": {
    "name": "ipython",
    "version": 3
   },
   "file_extension": ".py",
   "mimetype": "text/x-python",
   "name": "python",
   "nbconvert_exporter": "python",
   "pygments_lexer": "ipython3",
   "version": "3.6.1"
  }
 },
 "nbformat": 4,
 "nbformat_minor": 2
}
