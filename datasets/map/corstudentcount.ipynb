{
 "cells": [
  {
   "cell_type": "markdown",
   "metadata": {},
   "source": [
    "# Student flow correlation matrix\n",
    "Calculate a 2D array of incoming and outgoing countries\n",
    "\n",
    "\n",
    "| country | CZ   | SK   | DE   |\n",
    "|---------|------|------|------|\n",
    "| CZ      | 0    |CZ->SK|CZ->DE|\n",
    "| SK      |SK->CZ| 0    |SK->DE|\n",
    "| DE      |DE->CZ|DE->SK| 0    |"
   ]
  },
  {
   "cell_type": "code",
   "execution_count": 2,
   "metadata": {
    "ExecuteTime": {
     "end_time": "2019-11-15T18:40:32.269769Z",
     "start_time": "2019-11-15T18:40:32.265644Z"
    }
   },
   "outputs": [],
   "source": [
    "import pandas as pd\n",
    "import matplotlib.pyplot as plt\n",
    "import numpy as np\n",
    "import seaborn as sns\n",
    "\n",
    "%matplotlib inline"
   ]
  },
  {
   "cell_type": "code",
   "execution_count": 3,
   "metadata": {
    "ExecuteTime": {
     "end_time": "2019-11-15T18:41:34.602629Z",
     "start_time": "2019-11-15T18:40:32.759595Z"
    }
   },
   "outputs": [],
   "source": [
    "df = pd.read_excel(\"../Student_Mobility_2013-14.xlsx\")\n",
    "df = df[df.MobilityType == \"Mob-SMS\"]"
   ]
  },
  {
   "cell_type": "code",
   "execution_count": 4,
   "metadata": {
    "ExecuteTime": {
     "end_time": "2019-11-15T18:41:34.739219Z",
     "start_time": "2019-11-15T18:41:34.605346Z"
    }
   },
   "outputs": [],
   "source": [
    "res = df[[\"SendingCountry\", \"ReceivingCountry\", \"MobiilityID\"]]\\\n",
    "    .groupby(by=[\"SendingCountry\", \"ReceivingCountry\"]).count().unstack().fillna(0)"
   ]
  },
  {
   "cell_type": "code",
   "execution_count": 5,
   "metadata": {
    "ExecuteTime": {
     "end_time": "2019-11-15T18:41:34.745557Z",
     "start_time": "2019-11-15T18:41:34.742002Z"
    }
   },
   "outputs": [],
   "source": [
    "res.columns = [col[1] for col in res.columns]"
   ]
  },
  {
   "cell_type": "code",
   "execution_count": 6,
   "metadata": {
    "ExecuteTime": {
     "end_time": "2019-11-15T18:41:34.751417Z",
     "start_time": "2019-11-15T18:41:34.748872Z"
    }
   },
   "outputs": [],
   "source": [
    "res.index.name = \"sending\""
   ]
  },
  {
   "cell_type": "code",
   "execution_count": 7,
   "metadata": {
    "ExecuteTime": {
     "end_time": "2019-11-15T18:41:34.789278Z",
     "start_time": "2019-11-15T18:41:34.753500Z"
    }
   },
   "outputs": [
    {
     "data": {
      "text/plain": [
       "MobiilityID    5325\n",
       "Name: PT, dtype: int64"
      ]
     },
     "execution_count": 7,
     "metadata": {},
     "output_type": "execute_result"
    }
   ],
   "source": [
    "# PT sent in total\n",
    "df[[\"SendingCountry\", \"MobiilityID\"]].groupby(by=[\"SendingCountry\"]).count().T.PT"
   ]
  },
  {
   "cell_type": "code",
   "execution_count": 8,
   "metadata": {
    "ExecuteTime": {
     "end_time": "2019-11-15T18:41:34.828035Z",
     "start_time": "2019-11-15T18:41:34.791365Z"
    }
   },
   "outputs": [
    {
     "data": {
      "text/plain": [
       "MobiilityID    9020\n",
       "Name: PT, dtype: int64"
      ]
     },
     "execution_count": 8,
     "metadata": {},
     "output_type": "execute_result"
    }
   ],
   "source": [
    "# PT received in total\n",
    "df[[\"ReceivingCountry\", \"MobiilityID\"]].groupby(by=[\"ReceivingCountry\"]).count().T.PT"
   ]
  },
  {
   "cell_type": "code",
   "execution_count": 9,
   "metadata": {
    "ExecuteTime": {
     "end_time": "2019-11-15T18:41:34.832901Z",
     "start_time": "2019-11-15T18:41:34.829942Z"
    }
   },
   "outputs": [],
   "source": [
    "res = res.T"
   ]
  },
  {
   "cell_type": "code",
   "execution_count": 10,
   "metadata": {
    "ExecuteTime": {
     "end_time": "2019-11-15T18:41:34.838815Z",
     "start_time": "2019-11-15T18:41:34.834869Z"
    }
   },
   "outputs": [
    {
     "name": "stdout",
     "output_type": "stream",
     "text": [
      "Sum of columnt PT 5325.0\n"
     ]
    }
   ],
   "source": [
    "# How many students has PT sent\n",
    "print(\"Sum of columnt PT\", sum(res.PT))"
   ]
  },
  {
   "cell_type": "code",
   "execution_count": 11,
   "metadata": {
    "ExecuteTime": {
     "end_time": "2019-11-15T18:41:34.844987Z",
     "start_time": "2019-11-15T18:41:34.840823Z"
    }
   },
   "outputs": [
    {
     "name": "stdout",
     "output_type": "stream",
     "text": [
      "Sum of row PT 9020.0\n"
     ]
    }
   ],
   "source": [
    "# How many students has PT received\n",
    "print(\"Sum of row PT\", np.sum(res[res.index == \"PT\"].values))"
   ]
  },
  {
   "cell_type": "code",
   "execution_count": 43,
   "metadata": {
    "ExecuteTime": {
     "end_time": "2019-11-15T18:46:32.159799Z",
     "start_time": "2019-11-15T18:46:32.154536Z"
    }
   },
   "outputs": [],
   "source": [
    "res = res.astype(int)\n",
    "# lowercase columns\n",
    "res.columns = map(str.lower, res.columns)\n",
    "# lowercase index\n",
    "res.index = map(str.lower, res.index)\n",
    "res.index.name = \"country\""
   ]
  },
  {
   "cell_type": "code",
   "execution_count": 45,
   "metadata": {
    "ExecuteTime": {
     "end_time": "2019-11-15T18:46:42.202330Z",
     "start_time": "2019-11-15T18:46:42.194202Z"
    }
   },
   "outputs": [],
   "source": [
    "res.to_csv(\"../../src/data/map/corstudentcount.csv\")"
   ]
  },
  {
   "cell_type": "code",
   "execution_count": 29,
   "metadata": {
    "ExecuteTime": {
     "end_time": "2019-11-11T20:20:37.680741Z",
     "start_time": "2019-11-11T20:20:37.068924Z"
    }
   },
   "outputs": [
    {
     "data": {
      "image/png": "[encoded data removed]",
      "text/plain": [
       "<Figure size 720x720 with 1 Axes>"
      ]
     },
     "metadata": {},
     "output_type": "display_data"
    }
   ],
   "source": [
    "fig, ax = plt.subplots(figsize=(10, 10))\n",
    "fig.patch.set_facecolor('white')\n",
    "ax.matshow(res, cmap=plt.get_cmap('Blues'))\n",
    "ax.set_xticks(np.arange(0, len(res.columns.values)))\n",
    "ax.set_yticks(np.arange(0, len(res.index.values)))\n",
    "ax.set_yticklabels(res.index.values)\n",
    "ax.set_xticklabels(res.columns.values)\n",
    "ax.xaxis.set_label_position('top') \n",
    "ax.set_ylabel(\"country has sent to\")\n",
    "ax.set_xlabel(\"country has received from\")\n",
    "plt.show()"
   ]
  }
 ],
 "metadata": {
  "kernelspec": {
   "display_name": "Python 3",
   "language": "python",
   "name": "python3"
  },
  "language_info": {
   "codemirror_mode": {
    "name": "ipython",
    "version": 3
   },
   "file_extension": ".py",
   "mimetype": "text/x-python",
   "name": "python",
   "nbconvert_exporter": "python",
   "pygments_lexer": "ipython3",
   "version": "3.6.1"
  }
 },
 "nbformat": 4,
 "nbformat_minor": 2
}
