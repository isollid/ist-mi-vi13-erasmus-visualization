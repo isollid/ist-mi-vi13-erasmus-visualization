{
 "cells": [
  {
   "cell_type": "markdown",
   "metadata": {},
   "source": [
    "# Student flow correlation matrix\n",
    "Calculate a 2D array of incoming and outgoing countries\n",
    "\n",
    "\n",
    "| country | CZ   | SK   | DE   |\n",
    "|---------|------|------|------|\n",
    "| CZ      | 0    |CZ->SK|CZ->DE|\n",
    "| SK      |SK->CZ| 0    |SK->DE|\n",
    "| DE      |DE->CZ|DE->SK| 0    |"
   ]
  },
  {
   "cell_type": "code",
   "execution_count": 27,
   "metadata": {
    "ExecuteTime": {
     "end_time": "2019-12-04T18:23:12.828565Z",
     "start_time": "2019-12-04T18:23:12.823423Z"
    }
   },
   "outputs": [],
   "source": [
    "import pandas as pd\n",
    "import matplotlib.pyplot as plt\n",
    "import numpy as np\n",
    "import seaborn as sns\n",
    "\n",
    "%matplotlib inline"
   ]
  },
  {
   "cell_type": "code",
   "execution_count": 28,
   "metadata": {
    "ExecuteTime": {
     "end_time": "2019-12-04T18:24:17.224621Z",
     "start_time": "2019-12-04T18:23:14.894304Z"
    }
   },
   "outputs": [],
   "source": [
    "df = pd.read_excel(\"../Student_Mobility_2013-14.xlsx\")\n",
    "df = df[df.MobilityType == \"Mob-SMS\"]"
   ]
  },
  {
   "cell_type": "code",
   "execution_count": 35,
   "metadata": {
    "ExecuteTime": {
     "end_time": "2019-12-04T18:25:07.173210Z",
     "start_time": "2019-12-04T18:25:07.156122Z"
    }
   },
   "outputs": [
    {
     "data": {
      "text/plain": [
       "151"
      ]
     },
     "execution_count": 35,
     "metadata": {},
     "output_type": "execute_result"
    }
   ],
   "source": [
    "df[df.SendingCountry == \"MT\"].Action.count()"
   ]
  },
  {
   "cell_type": "code",
   "execution_count": 36,
   "metadata": {
    "ExecuteTime": {
     "end_time": "2019-12-04T18:25:11.711080Z",
     "start_time": "2019-12-04T18:25:11.692382Z"
    }
   },
   "outputs": [
    {
     "data": {
      "text/plain": [
       "480"
      ]
     },
     "execution_count": 36,
     "metadata": {},
     "output_type": "execute_result"
    }
   ],
   "source": [
    "df[df.ReceivingCountry == \"MT\"].Action.count()"
   ]
  },
  {
   "cell_type": "code",
   "execution_count": 54,
   "metadata": {
    "ExecuteTime": {
     "end_time": "2019-12-04T18:28:19.591744Z",
     "start_time": "2019-12-04T18:28:19.541346Z"
    }
   },
   "outputs": [],
   "source": [
    "res = df[[\"SendingCountry\", \"ReceivingCountry\", \"MobiilityID\"]]\\\n",
    "    .groupby(by=[\"SendingCountry\", \"ReceivingCountry\"]).count().unstack().fillna(0)"
   ]
  },
  {
   "cell_type": "code",
   "execution_count": 55,
   "metadata": {
    "ExecuteTime": {
     "end_time": "2019-12-04T18:28:20.064506Z",
     "start_time": "2019-12-04T18:28:20.060461Z"
    }
   },
   "outputs": [],
   "source": [
    "res.columns = [col[1] for col in res.columns]"
   ]
  },
  {
   "cell_type": "code",
   "execution_count": 56,
   "metadata": {
    "ExecuteTime": {
     "end_time": "2019-12-04T18:28:20.535689Z",
     "start_time": "2019-12-04T18:28:20.532655Z"
    }
   },
   "outputs": [],
   "source": [
    "res.index.name = \"sending\""
   ]
  },
  {
   "cell_type": "raw",
   "metadata": {
    "ExecuteTime": {
     "end_time": "2019-12-04T18:19:55.245783Z",
     "start_time": "2019-12-04T18:19:55.208073Z"
    }
   },
   "source": [
    "# PT sent in total\n",
    "df[[\"SendingCountry\", \"MobiilityID\"]].groupby(by=[\"SendingCountry\"]).count().T.PT\n",
    "\n",
    "# PT received in total\n",
    "df[[\"ReceivingCountry\", \"MobiilityID\"]].groupby(by=[\"ReceivingCountry\"]).count().T.PT"
   ]
  },
  {
   "cell_type": "code",
   "execution_count": 58,
   "metadata": {
    "ExecuteTime": {
     "end_time": "2019-12-04T18:28:25.952266Z",
     "start_time": "2019-12-04T18:28:25.948837Z"
    }
   },
   "outputs": [],
   "source": [
    "res = res.T"
   ]
  },
  {
   "cell_type": "code",
   "execution_count": 59,
   "metadata": {
    "ExecuteTime": {
     "end_time": "2019-12-04T18:28:28.048677Z",
     "start_time": "2019-12-04T18:28:28.044283Z"
    }
   },
   "outputs": [
    {
     "name": "stdout",
     "output_type": "stream",
     "text": [
      "Sum of columnt PT 9020.0\n"
     ]
    }
   ],
   "source": [
    "# How many students has PT sent\n",
    "print(\"Sum of columnt PT\", sum(res.PT))"
   ]
  },
  {
   "cell_type": "code",
   "execution_count": 60,
   "metadata": {
    "ExecuteTime": {
     "end_time": "2019-12-04T18:28:30.200890Z",
     "start_time": "2019-12-04T18:28:30.196135Z"
    }
   },
   "outputs": [
    {
     "name": "stdout",
     "output_type": "stream",
     "text": [
      "Sum of row PT 5325.0\n"
     ]
    }
   ],
   "source": [
    "# How many students has PT received\n",
    "print(\"Sum of row PT\", np.sum(res[res.index == \"PT\"].values))"
   ]
  },
  {
   "cell_type": "code",
   "execution_count": 62,
   "metadata": {
    "ExecuteTime": {
     "end_time": "2019-12-04T18:29:32.284322Z",
     "start_time": "2019-12-04T18:29:32.281022Z"
    }
   },
   "outputs": [],
   "source": [
    "res = res.astype(int)"
   ]
  },
  {
   "cell_type": "code",
   "execution_count": 64,
   "metadata": {
    "ExecuteTime": {
     "end_time": "2019-12-04T18:29:46.163574Z",
     "start_time": "2019-12-04T18:29:46.160206Z"
    }
   },
   "outputs": [],
   "source": [
    "# lowercase columns\n",
    "res.columns = map(str.lower, res.columns)"
   ]
  },
  {
   "cell_type": "code",
   "execution_count": 66,
   "metadata": {
    "ExecuteTime": {
     "end_time": "2019-12-04T18:30:00.026457Z",
     "start_time": "2019-12-04T18:30:00.022963Z"
    }
   },
   "outputs": [],
   "source": [
    "# lowercase index\n",
    "res.index = map(str.lower, res.index)"
   ]
  },
  {
   "cell_type": "code",
   "execution_count": 68,
   "metadata": {
    "ExecuteTime": {
     "end_time": "2019-12-04T18:30:14.081415Z",
     "start_time": "2019-12-04T18:30:14.078311Z"
    }
   },
   "outputs": [],
   "source": [
    "res.index.name = \"country\""
   ]
  },
  {
   "cell_type": "code",
   "execution_count": 71,
   "metadata": {
    "ExecuteTime": {
     "end_time": "2019-12-04T18:30:36.542576Z",
     "start_time": "2019-12-04T18:30:36.534133Z"
    }
   },
   "outputs": [],
   "source": [
    "res.to_csv(\"../../src/data/map/corstudentcount.csv\")"
   ]
  },
  {
   "cell_type": "code",
   "execution_count": 72,
   "metadata": {
    "ExecuteTime": {
     "end_time": "2019-12-04T18:30:37.955304Z",
     "start_time": "2019-12-04T18:30:37.316908Z"
    }
   },
   "outputs": [
    {
     "data": {
      "image/png": "[encoded data removed]",
      "text/plain": [
       "<Figure size 720x720 with 1 Axes>"
      ]
     },
     "metadata": {},
     "output_type": "display_data"
    }
   ],
   "source": [
    "fig, ax = plt.subplots(figsize=(10, 10))\n",
    "fig.patch.set_facecolor('white')\n",
    "ax.matshow(res, cmap=plt.get_cmap('Blues'))\n",
    "ax.set_xticks(np.arange(0, len(res.columns.values)))\n",
    "ax.set_yticks(np.arange(0, len(res.index.values)))\n",
    "ax.set_yticklabels(res.index.values)\n",
    "ax.set_xticklabels(res.columns.values)\n",
    "ax.xaxis.set_label_position('top') \n",
    "ax.set_ylabel(\"country has sent to\")\n",
    "ax.set_xlabel(\"country has received from\")\n",
    "plt.show()"
   ]
  },
  {
   "cell_type": "code",
   "execution_count": null,
   "metadata": {},
   "outputs": [],
   "source": []
  }
 ],
 "metadata": {
  "kernelspec": {
   "display_name": "Python 3",
   "language": "python",
   "name": "python3"
  },
  "language_info": {
   "codemirror_mode": {
    "name": "ipython",
    "version": 3
   },
   "file_extension": ".py",
   "mimetype": "text/x-python",
   "name": "python",
   "nbconvert_exporter": "python",
   "pygments_lexer": "ipython3",
   "version": "3.6.1"
  }
 },
 "nbformat": 4,
 "nbformat_minor": 2
}
