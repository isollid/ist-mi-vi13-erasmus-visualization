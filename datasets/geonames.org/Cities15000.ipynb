{
 "cells": [
  {
   "cell_type": "code",
   "execution_count": 1,
   "metadata": {
    "ExecuteTime": {
     "end_time": "2019-10-06T21:30:25.741718Z",
     "start_time": "2019-10-06T21:30:25.364248Z"
    }
   },
   "outputs": [],
   "source": [
    "import pandas as pd"
   ]
  },
  {
   "cell_type": "code",
   "execution_count": 6,
   "metadata": {
    "ExecuteTime": {
     "end_time": "2019-10-06T21:30:51.105811Z",
     "start_time": "2019-10-06T21:30:50.982055Z"
    }
   },
   "outputs": [
    {
     "name": "stdout",
     "output_type": "stream",
     "text": [
      "3040051\tles Escaldes\tles Escaldes\tEhskal'des-Ehndzhordani,Escaldes,Escaldes-Engordany,Les Escaldes,esukarudesu=engorudani jiao qu,lai sai si ka er de-en ge er da,Эскальдес-Энджордани,エスカルデス＝エンゴルダニ教区,萊塞斯卡爾德-恩戈爾達,萊塞斯卡爾德－恩戈爾達\t42.50729\t1.53414\tP\tPPLA\tAD\t\t08\t\t\t\t15853\t\t1033\tEurope/Andorra\t2008-10-15\r\n",
      "3041563\tAndorra la Vella\tAndorra la Vella\tALV,Ando-la-Vyey,Andora,Andora la Vela,Andora la Velja,Andora lja Vehl'ja,Andoro Malnova,Andorra,Andorra Tuan,Andorra a Vella,Andorra la Biella,Andorra la Vella,Andorra la Vielha,Andorra-a-Velha,Andorra-la-Vel'ja,Andorra-la-Vielye,Andorre-la-Vieille,Andò-la-Vyèy,Andòrra la Vièlha,an dao er cheng,andolalabeya,andwra la fyla,Ανδόρρα,Андора ла Веля,Андора ла Веља,Андора ля Вэлья,Андорра-ла-Велья,אנדורה לה וולה,أندورا لا فيلا,አንዶራ ላ ቬላ,アンドラ・ラ・ヴェリャ,安道爾城,안도라라베야\t42.50779\t1.52109\tP\tPPLC\tAD\t\t07\t\t\t\t20430\t\t1037\tEurope/Andorra\t2010-05-30\r\n",
      "290594\tUmm Al Quwain City\tUmm Al Quwain City\tOumm al Qaiwain,Oumm al Qaïwaïn,Um al Kawain,Um al Quweim,Umm Al Quwain City,Umm al Qaiwain,Umm al Qawain,Umm al Qaywayn,Umm al-Quwain,Umm-ehl'-Kajvajn,Yumul al Quwain,am alqywyn,mdynt am alqywyn,Умм-эль-Кайвайн,أم القيوين,مدينة ام القيوين\t25.56473\t55.55517\tP\tPPLA\tAE\t\t07\t\t\t\t62747\t\t2\tAsia/Dubai\t2019-05-29\r\n",
      "291074\tRas Al Khaimah City\tRas Al Khaimah City\tJulfa,Khaimah,RAK City,RKT,Ra's al Khaymah,Ra's al-Chaima,Ras Al Khaimah City,Ras al Khaimah,Ras al-Khaimah,Ras el Khaimah,Ras el Khaïmah,Ras el-Kheima,Ras-ehl'-Khajma,Ra’s al Khaymah,Ra’s al-Chaima,mdynt ras alkhymt,ras alkhymt,Рас-эль-Хайма,رأس الخيمة,مدينة رأس الخيمة\t25.78953\t55.9432\tP\tPPLA\tAE\t\t05\t\t\t\t351943\t\t2\tAsia/Dubai\t2019-09-09\r\n",
      "291580\tZayed City\tZayed City\tBid' Zayed,Bid’ Zayed,Madinat Za'id,Madinat Zayid,Madīnat Zāyid,Madīnat Zā’id,Zayed City,mdynt zayd,مدينة زايد\t23.65416\t53.70522\tP\tPPL\tAE\t\t01\t103\t\t\t63482\t\t124\tAsia/Dubai\t2019-06-27\r\n",
      "291696\tKhawr Fakkān\tKhawr Fakkan\tFakkan,Fakkān,Khawr Fakkan,Khawr Fakkān,Khawr al Fakkan,Khawr al Fakkān,Khor Fakhan,Khor Fakkan,Khor Fakkan City,Khor Fakkān,Khor al Fakhan,Khor al Fakkan,Khor al Fākhān,Khor'fakkan,Khor-Fakkan,Khorfakan,Khorfakhan,Port Khor Fakkan,mdynt khwr fkan,Хор-Факкан,مدينة خور فكان\t25.33132\t56.34199\tP\tPPL\tAE\t\t06\t\t\t\t40677\t\t20\tAsia/Dubai\t2019-05-29\r\n",
      "292223\tDubai\tDubai\tDXB,Dabei,Dibai,Dibay,Doubayi,Dubae,Dubai,Dubai City,Dubai emiraat,Dubaija,Dubaj,Dubajo,Dubajus,Dubay,Dubayy,Dubaï,Dubái,Dúbæ,Ehmirat Dubaj,Fort Dabei,Ntoumpai,dby,dbyy,di bai,dobai,du bai,duba'i,dubai,dubay,dubi,dwbyy,tupai,Ντουμπάι,Дубаи,Дубай,Эмірат Дубай,Դուբայի Էմիրություն,דובאי,דוביי,دبئی,دبى,دبي,دبی,دوبەی,دۇبائى,दुबई,দুবাই,துபை,దుబాయ్,ದುಬೈ,ദുബായ്,ดูไบ,დუბაი,ドバイ,杜拜,迪拜,두바이\t25.07725\t55.30927\tP\tPPLA\tAE\t\t03\t\t\t\t2956587\t\t24\tAsia/Dubai\t2019-08-28\r\n",
      "292231\tDibba Al-Fujairah\tDibba Al-Fujairah\tAl-Fujairah,BYB,Dibba Al-Fujairah,dba alfjyrt,دبا الفجيرة\t25.59246\t56.26176\tP\tPPL\tAE\t\t04\t\t\t\t30000\t\t16\tAsia/Dubai\t2014-08-12\r\n",
      "292239\tDibba Al-Hisn\tDibba Al-Hisn\tBYB,Daba,Daba al-Hisn,Dabā,Dabā al-Ḥiṣn,Diba,Diba al Hisn,Dibah,Dibba,Dibba Al'-Khisn,Dibba Al-Hisn,Dibbah,Dibā,Dībā al Ḩişn,Hisn Diba,Husn Dibba,Дибба Аль-Хисн,Ḩişn Dibā\t25.61955\t56.27291\tP\tPPL\tAE\t\t04\t\t\t\t26395\t\t4\tAsia/Dubai\t2014-04-21\r\n",
      "292672\tSharjah\tSharjah\tAl Sharjah,Ash 'Mariqah,Ash Shariqa,Ash Shariqah,Ash Shāriqa,Ash Shāriqah,Ash ’Mariqah,Ash-Shariqah emiraat,Ash-Shāriqah emiraat,Charjah,Ch·ardj·a,SHJ,Sardza,Sardzsa,Sarika,Sarja,Sarjo,Sarza,Schardscha,Shardza,Shardzha,Shardzha kuorat,Sharga,Sharijah,Shariqah,Sharja,Sharjah,Sharjah city,Shārijah,Shāriqah,Shārja,Szardza,Szardża,Xarja,Xarjah,alsharqt,amart alsharqt,carja,charc ah,mdynt alsharqt,saraja,sarajaha,sarja,sharja,sharjh,sharuja,syaleuja,sʼrgh,xia er jia,Ŝarĵo,Şarika,Şarja,Šardža,Šardžá,Шарджа,Шарджа куорат,Шарџа,Шарҗә,Շարժա,שארגה,إمارة الشارقة,الشارقة,شارجه,شارجہ,مدينة الشارقة,शारजा,शारजाह,ਸ਼ਾਰਜਾ,சார்ஜா,షార్జా,ಶಾರ್ಜ,ഷാർജ,ชาร์จาห์,შარჯა,シャールジャ,夏尔迦,샤르자\t25.33737\t55.41206\tP\tPPLA\tAE\t\t06\t\t\t\t1324473\t\t6\tAsia/Dubai\t2019-09-05\r\n"
     ]
    }
   ],
   "source": [
    "!head Cities15000.txt "
   ]
  },
  {
   "cell_type": "code",
   "execution_count": 9,
   "metadata": {
    "ExecuteTime": {
     "end_time": "2019-10-06T21:31:45.284968Z",
     "start_time": "2019-10-06T21:31:45.145619Z"
    }
   },
   "outputs": [],
   "source": [
    "df = pd.read_csv(\"cities15000.txt\", delimiter=\"\\t\", header=None)"
   ]
  },
  {
   "cell_type": "code",
   "execution_count": 19,
   "metadata": {
    "ExecuteTime": {
     "end_time": "2019-10-06T21:35:46.424735Z",
     "start_time": "2019-10-06T21:35:46.418354Z"
    }
   },
   "outputs": [
    {
     "data": {
      "text/plain": [
       "'PRG,Praag,Prag,Praga,Pragae,Prago,Prague,Praha,Pràg,Prág,Prága,Prâg,Prāga,bragh,bu la ge,peulaha,prag,praga,prak,prg,puraha,Πράγα,Праг,Прагæ,Прага,פראג,براغ,پراگ,پراگا,ܦܪܓ,ปราก,པུ་ལ་ཁེ,პრაღა,ፕራግ,プラハ,布拉格,프라하'"
      ]
     },
     "execution_count": 19,
     "metadata": {},
     "output_type": "execute_result"
    }
   ],
   "source": [
    "df[df[2].isin([\"Prague\", \"Helsinki\", \"Vienna\"])][3].iloc[1]"
   ]
  },
  {
   "cell_type": "code",
   "execution_count": 25,
   "metadata": {
    "ExecuteTime": {
     "end_time": "2019-10-06T21:39:14.608436Z",
     "start_time": "2019-10-06T21:39:14.605276Z"
    }
   },
   "outputs": [],
   "source": [
    "from tabulate import tabulate"
   ]
  },
  {
   "cell_type": "code",
   "execution_count": 30,
   "metadata": {
    "ExecuteTime": {
     "end_time": "2019-10-06T21:40:46.822001Z",
     "start_time": "2019-10-06T21:40:46.801442Z"
    }
   },
   "outputs": [
    {
     "name": "stdout",
     "output_type": "stream",
     "text": [
      "|       |       0 | 1                  | 2                  | 3                                                                                                                                                                                                                                                                                                                                                                      |        4 |         5 | 6   | 7     | 8   |   9 | 10   | 11   | 12      |   13 |     14 |   15 |   16 | 17                   | 18         |\n",
      "|------:|--------:|:-------------------|:-------------------|:-----------------------------------------------------------------------------------------------------------------------------------------------------------------------------------------------------------------------------------------------------------------------------------------------------------------------------------------------------------------------|---------:|----------:|:----|:------|:----|----:|:-----|:-----|:--------|-----:|-------:|-----:|-----:|:---------------------|:-----------|\n",
      "|  3924 | 2037712 | Dehui              | Dehui              | Chang-chia-wan,Dehui,Te-hui,Te-hui-chen,Tszhantszyavan',Tszhantszyavan’,Yao-men                                                                                                                                                                                                                                                                                        |  44.5333 | 125.7     | P   | PPL   | CN  | nan | 05   | nan  | nan     |  nan | 108818 |  nan |  180 | Asia/Shanghai        | 2012-01-18 |\n",
      "| 19390 | 1610505 | Kaeng Khro         | Kaeng Khro         | Amphoe Kaeng Khlo,Amphoe Kaeng Khro,Kaeng Khlo,Kaeng Khro,แก้งคร้อ                                                                                                                                                                                                                                                                                                       |  16.1086 | 102.258   | P   | PPLA2 | TH  | nan | 26   | nan  | nan     |  nan |  29056 |  nan |  205 | Asia/Bangkok         | 2012-01-16 |\n",
      "|  7603 | 2635785 | Tipton             | Tipton             | typtwn,تیپتون                                                                                                                                                                                                                                                                                                                                                          |  52.5296 |  -2.06773 | P   | PPL   | GB  | nan | ENG  | L7   | 41UF    |  nan |  47000 |  nan |  144 | Europe/London        | 2012-03-29 |\n",
      "| 10873 | 1270291 | Harpālpur          | Harpalpur          | Harpalpur,Harpālpur                                                                                                                                                                                                                                                                                                                                                    |  25.2877 |  79.3328  | P   | PPL   | IN  | nan | 35   | 425  | nan     |  nan |  17731 |  nan |  214 | Asia/Kolkata         | 2014-10-14 |\n",
      "|  6597 | 3127066 | Calafell           | Calafell           | Calafell                                                                                                                                                                                                                                                                                                                                                               |  41.2    |   1.5683  | P   | PPLA3 | ES  | nan | 56   | T    | 43037   |  nan |  24265 |  nan |   46 | Europe/Madrid        | 2012-03-04 |\n",
      "| 23845 | 1513966 | Guliston           | Guliston           | Golodnaya Step',Golodnaya Step’,Goulistan,Guelistan,Gulistan,Gulistanas,Gulistano,Guliston,Gülistan,Mirzachul',Mirzachul’,glstan  azbkstan,gu li si tan,gulisatona,gulistona,gulliseutan,gurisutan,gwlstan,gwlystan,Гулистан,Гулистон,Гулістан,Գուլիստան,گلستان، ازبکستان,گولستان,گولیستان,گوڵستان، ئۆزبەکستان,गुलिस्तोन,ਗੁਲੀਸਤੋਨ,グリスタン,古利斯坦,굴리스탄             |  40.4897 |  68.7842  | P   | PPLA  | UZ  | nan | 16   | nan  | nan     |  nan |  53373 |  nan |  273 | Asia/Tashkent        | 2019-09-05 |\n",
      "| 23743 | 3440639 | San José de Mayo   | San Jose de Mayo   | Ciudad de San Jose,Ciudad de San José,San Chose de Majas,San Jose,San Jose de Mayo,San José,San José de Mayo,San Khose de Majo,San Xose de Mayo,San-Khose-de-Majo,san khwzh dmayw,san-khose-de-maio,sanhosedemayo,sheng he sai de ma yue,Сан Хосе де Майо,Сан-Хосе-де-Майо,Սան Խոսե դե Մայո,سان خوزه دمایو,سان خوسے دے ماجو,სან-ხოსე-დე-მაიო,聖何塞德馬約,산호세데마요 | -34.3375 | -56.7136  | P   | PPLA  | UY  | nan | 16   | nan  | nan     |  nan |  36529 |  nan |   52 | America/Montevideo   | 2012-01-16 |\n",
      "| 19068 | 3583158 | Sensuntepeque      | Sensuntepeque      | Sensuntepeque,Sensuntepque,Sensutepeke,Сенсутепеке                                                                                                                                                                                                                                                                                                                     |  13.8667 | -88.6333  | P   | PPLA  | SV  | nan | 02   | nan  | nan     |  nan |  20386 |  nan |  734 | America/El_Salvador  | 2012-01-14 |\n",
      "| 20071 |  154097 | Mgandu             | Mgandu             | Mgandu                                                                                                                                                                                                                                                                                                                                                                 |  -5.95   |  34.1333  | P   | PPL   | TZ  | nan | 16   | 1303 | 1303171 |  nan |  23718 |  nan | 1486 | Africa/Dar_es_Salaam | 2016-07-26 |\n",
      "| 21819 | 4890507 | East Garfield Park | East Garfield Park | nan                                                                                                                                                                                                                                                                                                                                                                    |  41.8809 | -87.7028  | P   | PPLX  | US  | nan | IL   | 031  | 14000   |  nan |  20656 |  182 |  183 | America/Chicago      | 2017-12-13 |\n"
     ]
    }
   ],
   "source": [
    "print(tabulate(df.sample(10), tablefmt=\"pipe\", headers=\"keys\"))"
   ]
  },
  {
   "cell_type": "code",
   "execution_count": null,
   "metadata": {},
   "outputs": [],
   "source": []
  }
 ],
 "metadata": {
  "kernelspec": {
   "display_name": "Python 3",
   "language": "python",
   "name": "python3"
  },
  "language_info": {
   "codemirror_mode": {
    "name": "ipython",
    "version": 3
   },
   "file_extension": ".py",
   "mimetype": "text/x-python",
   "name": "python",
   "nbconvert_exporter": "python",
   "pygments_lexer": "ipython3",
   "version": "3.6.1"
  }
 },
 "nbformat": 4,
 "nbformat_minor": 2
}
