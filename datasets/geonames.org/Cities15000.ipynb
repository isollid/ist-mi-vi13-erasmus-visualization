{
 "cells": [
  {
   "cell_type": "code",
   "execution_count": 1,
   "metadata": {
    "ExecuteTime": {
     "end_time": "2019-10-13T19:05:36.006535Z",
     "start_time": "2019-10-13T19:05:35.141274Z"
    }
   },
   "outputs": [],
   "source": [
    "import pandas as pd"
   ]
  },
  {
   "cell_type": "code",
   "execution_count": 3,
   "metadata": {
    "ExecuteTime": {
     "end_time": "2019-10-13T19:05:43.864614Z",
     "start_time": "2019-10-13T19:05:43.720508Z"
    }
   },
   "outputs": [],
   "source": [
    "df = pd.read_csv(\"cities15000.txt\", delimiter=\"\\t\", header=None)"
   ]
  },
  {
   "cell_type": "code",
   "execution_count": 19,
   "metadata": {
    "ExecuteTime": {
     "end_time": "2019-10-06T21:35:46.424735Z",
     "start_time": "2019-10-06T21:35:46.418354Z"
    }
   },
   "outputs": [
    {
     "data": {
      "text/plain": [
       "'PRG,Praag,Prag,Praga,Pragae,Prago,Prague,Praha,Pràg,Prág,Prága,Prâg,Prāga,bragh,bu la ge,peulaha,prag,praga,prak,prg,puraha,Πράγα,Праг,Прагæ,Прага,פראג,براغ,پراگ,پراگا,ܦܪܓ,ปราก,པུ་ལ་ཁེ,პრაღა,ፕራግ,プラハ,布拉格,프라하'"
      ]
     },
     "execution_count": 19,
     "metadata": {},
     "output_type": "execute_result"
    }
   ],
   "source": [
    "df[df[2].isin([\"Prague\", \"Helsinki\", \"Vienna\"])][3].iloc[1]"
   ]
  },
  {
   "cell_type": "code",
   "execution_count": 25,
   "metadata": {
    "ExecuteTime": {
     "end_time": "2019-10-06T21:39:14.608436Z",
     "start_time": "2019-10-06T21:39:14.605276Z"
    }
   },
   "outputs": [],
   "source": [
    "from tabulate import tabulate"
   ]
  },
  {
   "cell_type": "code",
   "execution_count": 30,
   "metadata": {
    "ExecuteTime": {
     "end_time": "2019-10-06T21:40:46.822001Z",
     "start_time": "2019-10-06T21:40:46.801442Z"
    }
   },
   "outputs": [
    {
     "name": "stdout",
     "output_type": "stream",
     "text": [
      "|       |       0 | 1                  | 2                  | 3                                                                                                                                                                                                                                                                                                                                                                      |        4 |         5 | 6   | 7     | 8   |   9 | 10   | 11   | 12      |   13 |     14 |   15 |   16 | 17                   | 18         |\n",
      "|------:|--------:|:-------------------|:-------------------|:-----------------------------------------------------------------------------------------------------------------------------------------------------------------------------------------------------------------------------------------------------------------------------------------------------------------------------------------------------------------------|---------:|----------:|:----|:------|:----|----:|:-----|:-----|:--------|-----:|-------:|-----:|-----:|:---------------------|:-----------|\n",
      "|  3924 | 2037712 | Dehui              | Dehui              | Chang-chia-wan,Dehui,Te-hui,Te-hui-chen,Tszhantszyavan',Tszhantszyavan’,Yao-men                                                                                                                                                                                                                                                                                        |  44.5333 | 125.7     | P   | PPL   | CN  | nan | 05   | nan  | nan     |  nan | 108818 |  nan |  180 | Asia/Shanghai        | 2012-01-18 |\n",
      "| 19390 | 1610505 | Kaeng Khro         | Kaeng Khro         | Amphoe Kaeng Khlo,Amphoe Kaeng Khro,Kaeng Khlo,Kaeng Khro,แก้งคร้อ                                                                                                                                                                                                                                                                                                       |  16.1086 | 102.258   | P   | PPLA2 | TH  | nan | 26   | nan  | nan     |  nan |  29056 |  nan |  205 | Asia/Bangkok         | 2012-01-16 |\n",
      "|  7603 | 2635785 | Tipton             | Tipton             | typtwn,تیپتون                                                                                                                                                                                                                                                                                                                                                          |  52.5296 |  -2.06773 | P   | PPL   | GB  | nan | ENG  | L7   | 41UF    |  nan |  47000 |  nan |  144 | Europe/London        | 2012-03-29 |\n",
      "| 10873 | 1270291 | Harpālpur          | Harpalpur          | Harpalpur,Harpālpur                                                                                                                                                                                                                                                                                                                                                    |  25.2877 |  79.3328  | P   | PPL   | IN  | nan | 35   | 425  | nan     |  nan |  17731 |  nan |  214 | Asia/Kolkata         | 2014-10-14 |\n",
      "|  6597 | 3127066 | Calafell           | Calafell           | Calafell                                                                                                                                                                                                                                                                                                                                                               |  41.2    |   1.5683  | P   | PPLA3 | ES  | nan | 56   | T    | 43037   |  nan |  24265 |  nan |   46 | Europe/Madrid        | 2012-03-04 |\n",
      "| 23845 | 1513966 | Guliston           | Guliston           | Golodnaya Step',Golodnaya Step’,Goulistan,Guelistan,Gulistan,Gulistanas,Gulistano,Guliston,Gülistan,Mirzachul',Mirzachul’,glstan  azbkstan,gu li si tan,gulisatona,gulistona,gulliseutan,gurisutan,gwlstan,gwlystan,Гулистан,Гулистон,Гулістан,Գուլիստան,گلستان، ازبکستان,گولستان,گولیستان,گوڵستان، ئۆزبەکستان,गुलिस्तोन,ਗੁਲੀਸਤੋਨ,グリスタン,古利斯坦,굴리스탄             |  40.4897 |  68.7842  | P   | PPLA  | UZ  | nan | 16   | nan  | nan     |  nan |  53373 |  nan |  273 | Asia/Tashkent        | 2019-09-05 |\n",
      "| 23743 | 3440639 | San José de Mayo   | San Jose de Mayo   | Ciudad de San Jose,Ciudad de San José,San Chose de Majas,San Jose,San Jose de Mayo,San José,San José de Mayo,San Khose de Majo,San Xose de Mayo,San-Khose-de-Majo,san khwzh dmayw,san-khose-de-maio,sanhosedemayo,sheng he sai de ma yue,Сан Хосе де Майо,Сан-Хосе-де-Майо,Սան Խոսե դե Մայո,سان خوزه دمایو,سان خوسے دے ماجو,სან-ხოსე-დე-მაიო,聖何塞德馬約,산호세데마요 | -34.3375 | -56.7136  | P   | PPLA  | UY  | nan | 16   | nan  | nan     |  nan |  36529 |  nan |   52 | America/Montevideo   | 2012-01-16 |\n",
      "| 19068 | 3583158 | Sensuntepeque      | Sensuntepeque      | Sensuntepeque,Sensuntepque,Sensutepeke,Сенсутепеке                                                                                                                                                                                                                                                                                                                     |  13.8667 | -88.6333  | P   | PPLA  | SV  | nan | 02   | nan  | nan     |  nan |  20386 |  nan |  734 | America/El_Salvador  | 2012-01-14 |\n",
      "| 20071 |  154097 | Mgandu             | Mgandu             | Mgandu                                                                                                                                                                                                                                                                                                                                                                 |  -5.95   |  34.1333  | P   | PPL   | TZ  | nan | 16   | 1303 | 1303171 |  nan |  23718 |  nan | 1486 | Africa/Dar_es_Salaam | 2016-07-26 |\n",
      "| 21819 | 4890507 | East Garfield Park | East Garfield Park | nan                                                                                                                                                                                                                                                                                                                                                                    |  41.8809 | -87.7028  | P   | PPLX  | US  | nan | IL   | 031  | 14000   |  nan |  20656 |  182 |  183 | America/Chicago      | 2017-12-13 |\n"
     ]
    }
   ],
   "source": [
    "print(tabulate(df.sample(10), tablefmt=\"pipe\", headers=\"keys\"))"
   ]
  },
  {
   "cell_type": "code",
   "execution_count": null,
   "metadata": {},
   "outputs": [],
   "source": []
  }
 ],
 "metadata": {
  "kernelspec": {
   "display_name": "Python 3",
   "language": "python",
   "name": "python3"
  },
  "language_info": {
   "codemirror_mode": {
    "name": "ipython",
    "version": 3
   },
   "file_extension": ".py",
   "mimetype": "text/x-python",
   "name": "python",
   "nbconvert_exporter": "python",
   "pygments_lexer": "ipython3",
   "version": "3.6.1"
  }
 },
 "nbformat": 4,
 "nbformat_minor": 2
}
