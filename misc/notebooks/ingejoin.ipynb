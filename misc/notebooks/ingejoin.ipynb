{
 "cells": [
  {
   "cell_type": "code",
   "execution_count": 1,
   "metadata": {
    "ExecuteTime": {
     "end_time": "2019-10-14T15:42:48.968496Z",
     "start_time": "2019-10-14T15:42:48.133743Z"
    }
   },
   "outputs": [],
   "source": [
    "import pandas as pd\n",
    "import numpy as np"
   ]
  },
  {
   "cell_type": "code",
   "execution_count": 3,
   "metadata": {
    "ExecuteTime": {
     "end_time": "2019-10-14T15:43:46.881408Z",
     "start_time": "2019-10-14T15:43:46.761488Z"
    }
   },
   "outputs": [
    {
     "name": "stdout",
     "output_type": "stream",
     "text": [
      "ISO_ISO3_countryname.csv   cleaned_cost_of_living.csv\r\n"
     ]
    }
   ],
   "source": [
    "!ls \"../Downloads/cost-of-living/\""
   ]
  },
  {
   "cell_type": "code",
   "execution_count": 103,
   "metadata": {
    "ExecuteTime": {
     "end_time": "2019-10-14T15:57:05.984551Z",
     "start_time": "2019-10-14T15:57:05.974746Z"
    }
   },
   "outputs": [],
   "source": [
    "countryname = pd.read_csv(\"../Downloads/cost-of-living/ISO_ISO3_countryname.csv\")\n",
    "costofliving = pd.read_csv(\"../Downloads/cost-of-living/cleaned_cost_of_living.csv\")"
   ]
  },
  {
   "cell_type": "code",
   "execution_count": 104,
   "metadata": {
    "ExecuteTime": {
     "end_time": "2019-10-14T15:57:06.102515Z",
     "start_time": "2019-10-14T15:57:06.093427Z"
    }
   },
   "outputs": [
    {
     "data": {
      "text/html": [
       "<div>\n",
       "<style scoped>\n",
       "    .dataframe tbody tr th:only-of-type {\n",
       "        vertical-align: middle;\n",
       "    }\n",
       "\n",
       "    .dataframe tbody tr th {\n",
       "        vertical-align: top;\n",
       "    }\n",
       "\n",
       "    .dataframe thead th {\n",
       "        text-align: right;\n",
       "    }\n",
       "</style>\n",
       "<table border=\"1\" class=\"dataframe\">\n",
       "  <thead>\n",
       "    <tr style=\"text-align: right;\">\n",
       "      <th></th>\n",
       "      <th>ISO</th>\n",
       "      <th>ISO3</th>\n",
       "      <th>Country</th>\n",
       "    </tr>\n",
       "  </thead>\n",
       "  <tbody>\n",
       "    <tr>\n",
       "      <td>19</td>\n",
       "      <td>LI</td>\n",
       "      <td>LIE</td>\n",
       "      <td>Liechtenstein</td>\n",
       "    </tr>\n",
       "    <tr>\n",
       "      <td>14</td>\n",
       "      <td>HR</td>\n",
       "      <td>HRV</td>\n",
       "      <td>Croatia</td>\n",
       "    </tr>\n",
       "  </tbody>\n",
       "</table>\n",
       "</div>"
      ],
      "text/plain": [
       "   ISO ISO3                                       Country\n",
       "19  LI  LIE  Liechtenstein                               \n",
       "14  HR  HRV  Croatia                                     "
      ]
     },
     "execution_count": 104,
     "metadata": {},
     "output_type": "execute_result"
    }
   ],
   "source": [
    "countryname.sample(2)"
   ]
  },
  {
   "cell_type": "code",
   "execution_count": 105,
   "metadata": {
    "ExecuteTime": {
     "end_time": "2019-10-14T15:57:06.239060Z",
     "start_time": "2019-10-14T15:57:06.228188Z"
    }
   },
   "outputs": [
    {
     "data": {
      "text/html": [
       "<div>\n",
       "<style scoped>\n",
       "    .dataframe tbody tr th:only-of-type {\n",
       "        vertical-align: middle;\n",
       "    }\n",
       "\n",
       "    .dataframe tbody tr th {\n",
       "        vertical-align: top;\n",
       "    }\n",
       "\n",
       "    .dataframe thead th {\n",
       "        text-align: right;\n",
       "    }\n",
       "</style>\n",
       "<table border=\"1\" class=\"dataframe\">\n",
       "  <thead>\n",
       "    <tr style=\"text-align: right;\">\n",
       "      <th></th>\n",
       "      <th>Country</th>\n",
       "      <th>Cost.of.Living.Index</th>\n",
       "      <th>Rent.Index</th>\n",
       "      <th>Domestic Beer (0.5 liter bottle)</th>\n",
       "    </tr>\n",
       "  </thead>\n",
       "  <tbody>\n",
       "    <tr>\n",
       "      <td>30</td>\n",
       "      <td>CT</td>\n",
       "      <td>82.0</td>\n",
       "      <td>44.5</td>\n",
       "      <td>1.815</td>\n",
       "    </tr>\n",
       "    <tr>\n",
       "      <td>84</td>\n",
       "      <td>Mexico</td>\n",
       "      <td>34.0</td>\n",
       "      <td>10.6</td>\n",
       "      <td>0.930</td>\n",
       "    </tr>\n",
       "  </tbody>\n",
       "</table>\n",
       "</div>"
      ],
      "text/plain": [
       "                   Country  Cost.of.Living.Index  Rent.Index  \\\n",
       "30  CT                                      82.0        44.5   \n",
       "84  Mexico                                  34.0        10.6   \n",
       "\n",
       "    Domestic Beer (0.5 liter bottle)  \n",
       "30                             1.815  \n",
       "84                             0.930  "
      ]
     },
     "execution_count": 105,
     "metadata": {},
     "output_type": "execute_result"
    }
   ],
   "source": [
    "costofliving.sample(2)"
   ]
  },
  {
   "cell_type": "code",
   "execution_count": 106,
   "metadata": {
    "ExecuteTime": {
     "end_time": "2019-10-14T15:57:06.370613Z",
     "start_time": "2019-10-14T15:57:06.364341Z"
    }
   },
   "outputs": [],
   "source": [
    "costofliving[\"Country\"] = costofliving.Country.str.strip()\n",
    "countryname[\"Country\"] = countryname.Country.str.strip()"
   ]
  },
  {
   "cell_type": "code",
   "execution_count": 109,
   "metadata": {
    "ExecuteTime": {
     "end_time": "2019-10-14T15:57:36.867655Z",
     "start_time": "2019-10-14T15:57:36.860445Z"
    }
   },
   "outputs": [],
   "source": [
    "res = countryname.merge(costofliving, left_on=\"Country\", right_on=\"Country\", how=\"left\")"
   ]
  },
  {
   "cell_type": "raw",
   "metadata": {
    "ExecuteTime": {
     "end_time": "2019-10-14T15:54:51.320699Z",
     "start_time": "2019-10-14T15:54:51.309703Z"
    }
   },
   "source": [
    "costofliving[costofliving.Country.str.lower().str.contains(\"mac\")]"
   ]
  },
  {
   "cell_type": "code",
   "execution_count": 110,
   "metadata": {
    "ExecuteTime": {
     "end_time": "2019-10-14T15:57:37.841361Z",
     "start_time": "2019-10-14T15:57:37.828699Z"
    }
   },
   "outputs": [
    {
     "data": {
      "text/html": [
       "<div>\n",
       "<style scoped>\n",
       "    .dataframe tbody tr th:only-of-type {\n",
       "        vertical-align: middle;\n",
       "    }\n",
       "\n",
       "    .dataframe tbody tr th {\n",
       "        vertical-align: top;\n",
       "    }\n",
       "\n",
       "    .dataframe thead th {\n",
       "        text-align: right;\n",
       "    }\n",
       "</style>\n",
       "<table border=\"1\" class=\"dataframe\">\n",
       "  <thead>\n",
       "    <tr style=\"text-align: right;\">\n",
       "      <th></th>\n",
       "      <th>ISO</th>\n",
       "      <th>ISO3</th>\n",
       "      <th>Country</th>\n",
       "      <th>Cost.of.Living.Index</th>\n",
       "      <th>Rent.Index</th>\n",
       "      <th>Domestic Beer (0.5 liter bottle)</th>\n",
       "    </tr>\n",
       "  </thead>\n",
       "  <tbody>\n",
       "    <tr>\n",
       "      <td>5</td>\n",
       "      <td>CZ</td>\n",
       "      <td>CZE</td>\n",
       "      <td>Czechia</td>\n",
       "      <td>NaN</td>\n",
       "      <td>NaN</td>\n",
       "      <td>NaN</td>\n",
       "    </tr>\n",
       "    <tr>\n",
       "      <td>19</td>\n",
       "      <td>LI</td>\n",
       "      <td>LIE</td>\n",
       "      <td>Liechtenstein</td>\n",
       "      <td>NaN</td>\n",
       "      <td>NaN</td>\n",
       "      <td>NaN</td>\n",
       "    </tr>\n",
       "    <tr>\n",
       "      <td>23</td>\n",
       "      <td>MK</td>\n",
       "      <td>MKD</td>\n",
       "      <td>North Macedonia</td>\n",
       "      <td>NaN</td>\n",
       "      <td>NaN</td>\n",
       "      <td>NaN</td>\n",
       "    </tr>\n",
       "  </tbody>\n",
       "</table>\n",
       "</div>"
      ],
      "text/plain": [
       "   ISO ISO3          Country  Cost.of.Living.Index  Rent.Index  \\\n",
       "5   CZ  CZE          Czechia                   NaN         NaN   \n",
       "19  LI  LIE    Liechtenstein                   NaN         NaN   \n",
       "23  MK  MKD  North Macedonia                   NaN         NaN   \n",
       "\n",
       "    Domestic Beer (0.5 liter bottle)  \n",
       "5                                NaN  \n",
       "19                               NaN  \n",
       "23                               NaN  "
      ]
     },
     "execution_count": 110,
     "metadata": {},
     "output_type": "execute_result"
    }
   ],
   "source": [
    "res[res.isna().any(axis=1)]"
   ]
  },
  {
   "cell_type": "code",
   "execution_count": 111,
   "metadata": {
    "ExecuteTime": {
     "end_time": "2019-10-14T15:57:42.208092Z",
     "start_time": "2019-10-14T15:57:42.189509Z"
    }
   },
   "outputs": [
    {
     "data": {
      "text/html": [
       "<div>\n",
       "<style scoped>\n",
       "    .dataframe tbody tr th:only-of-type {\n",
       "        vertical-align: middle;\n",
       "    }\n",
       "\n",
       "    .dataframe tbody tr th {\n",
       "        vertical-align: top;\n",
       "    }\n",
       "\n",
       "    .dataframe thead th {\n",
       "        text-align: right;\n",
       "    }\n",
       "</style>\n",
       "<table border=\"1\" class=\"dataframe\">\n",
       "  <thead>\n",
       "    <tr style=\"text-align: right;\">\n",
       "      <th></th>\n",
       "      <th>ISO</th>\n",
       "      <th>ISO3</th>\n",
       "      <th>Country</th>\n",
       "      <th>Cost.of.Living.Index</th>\n",
       "      <th>Rent.Index</th>\n",
       "      <th>Domestic Beer (0.5 liter bottle)</th>\n",
       "    </tr>\n",
       "  </thead>\n",
       "  <tbody>\n",
       "    <tr>\n",
       "      <td>0</td>\n",
       "      <td>AT</td>\n",
       "      <td>AUT</td>\n",
       "      <td>Austria</td>\n",
       "      <td>70.0</td>\n",
       "      <td>26.7</td>\n",
       "      <td>1.176667</td>\n",
       "    </tr>\n",
       "    <tr>\n",
       "      <td>1</td>\n",
       "      <td>BE</td>\n",
       "      <td>BEL</td>\n",
       "      <td>Belgium</td>\n",
       "      <td>79.0</td>\n",
       "      <td>28.0</td>\n",
       "      <td>1.250000</td>\n",
       "    </tr>\n",
       "    <tr>\n",
       "      <td>2</td>\n",
       "      <td>BG</td>\n",
       "      <td>BGR</td>\n",
       "      <td>Bulgaria</td>\n",
       "      <td>36.7</td>\n",
       "      <td>8.3</td>\n",
       "      <td>0.770000</td>\n",
       "    </tr>\n",
       "    <tr>\n",
       "      <td>3</td>\n",
       "      <td>CH</td>\n",
       "      <td>CHE</td>\n",
       "      <td>Switzerland</td>\n",
       "      <td>125.1</td>\n",
       "      <td>58.6</td>\n",
       "      <td>1.902857</td>\n",
       "    </tr>\n",
       "    <tr>\n",
       "      <td>4</td>\n",
       "      <td>CY</td>\n",
       "      <td>CYP</td>\n",
       "      <td>Cyprus</td>\n",
       "      <td>60.7</td>\n",
       "      <td>14.0</td>\n",
       "      <td>1.123333</td>\n",
       "    </tr>\n",
       "    <tr>\n",
       "      <td>5</td>\n",
       "      <td>CZ</td>\n",
       "      <td>CZE</td>\n",
       "      <td>Czechia</td>\n",
       "      <td>NaN</td>\n",
       "      <td>NaN</td>\n",
       "      <td>NaN</td>\n",
       "    </tr>\n",
       "    <tr>\n",
       "      <td>6</td>\n",
       "      <td>DE</td>\n",
       "      <td>DEU</td>\n",
       "      <td>Germany</td>\n",
       "      <td>69.0</td>\n",
       "      <td>27.5</td>\n",
       "      <td>0.964706</td>\n",
       "    </tr>\n",
       "    <tr>\n",
       "      <td>7</td>\n",
       "      <td>DK</td>\n",
       "      <td>DNK</td>\n",
       "      <td>Denmark</td>\n",
       "      <td>83.0</td>\n",
       "      <td>30.2</td>\n",
       "      <td>1.632500</td>\n",
       "    </tr>\n",
       "    <tr>\n",
       "      <td>8</td>\n",
       "      <td>EE</td>\n",
       "      <td>EST</td>\n",
       "      <td>Estonia</td>\n",
       "      <td>50.5</td>\n",
       "      <td>14.0</td>\n",
       "      <td>1.065000</td>\n",
       "    </tr>\n",
       "    <tr>\n",
       "      <td>9</td>\n",
       "      <td>ES</td>\n",
       "      <td>ESP</td>\n",
       "      <td>Spain</td>\n",
       "      <td>58.3</td>\n",
       "      <td>20.6</td>\n",
       "      <td>0.881111</td>\n",
       "    </tr>\n",
       "    <tr>\n",
       "      <td>10</td>\n",
       "      <td>FI</td>\n",
       "      <td>FIN</td>\n",
       "      <td>Finland</td>\n",
       "      <td>75.3</td>\n",
       "      <td>27.5</td>\n",
       "      <td>2.771667</td>\n",
       "    </tr>\n",
       "    <tr>\n",
       "      <td>11</td>\n",
       "      <td>FR</td>\n",
       "      <td>FRA</td>\n",
       "      <td>France</td>\n",
       "      <td>75.0</td>\n",
       "      <td>25.5</td>\n",
       "      <td>1.956000</td>\n",
       "    </tr>\n",
       "    <tr>\n",
       "      <td>12</td>\n",
       "      <td>GB</td>\n",
       "      <td>GBR</td>\n",
       "      <td>United Kingdom</td>\n",
       "      <td>71.0</td>\n",
       "      <td>31.5</td>\n",
       "      <td>1.856250</td>\n",
       "    </tr>\n",
       "    <tr>\n",
       "      <td>13</td>\n",
       "      <td>GR</td>\n",
       "      <td>GRC</td>\n",
       "      <td>Greece</td>\n",
       "      <td>54.2</td>\n",
       "      <td>9.3</td>\n",
       "      <td>1.196667</td>\n",
       "    </tr>\n",
       "    <tr>\n",
       "      <td>14</td>\n",
       "      <td>HR</td>\n",
       "      <td>HRV</td>\n",
       "      <td>Croatia</td>\n",
       "      <td>50.2</td>\n",
       "      <td>10.0</td>\n",
       "      <td>1.044000</td>\n",
       "    </tr>\n",
       "    <tr>\n",
       "      <td>15</td>\n",
       "      <td>HU</td>\n",
       "      <td>HUN</td>\n",
       "      <td>Hungary</td>\n",
       "      <td>42.5</td>\n",
       "      <td>12.0</td>\n",
       "      <td>0.805000</td>\n",
       "    </tr>\n",
       "    <tr>\n",
       "      <td>16</td>\n",
       "      <td>IE</td>\n",
       "      <td>IRL</td>\n",
       "      <td>Ireland</td>\n",
       "      <td>79.2</td>\n",
       "      <td>34.0</td>\n",
       "      <td>2.835000</td>\n",
       "    </tr>\n",
       "    <tr>\n",
       "      <td>17</td>\n",
       "      <td>IS</td>\n",
       "      <td>ISL</td>\n",
       "      <td>Iceland</td>\n",
       "      <td>104.0</td>\n",
       "      <td>47.0</td>\n",
       "      <td>2.970000</td>\n",
       "    </tr>\n",
       "    <tr>\n",
       "      <td>18</td>\n",
       "      <td>IT</td>\n",
       "      <td>ITA</td>\n",
       "      <td>Italy</td>\n",
       "      <td>77.2</td>\n",
       "      <td>21.8</td>\n",
       "      <td>1.442069</td>\n",
       "    </tr>\n",
       "    <tr>\n",
       "      <td>19</td>\n",
       "      <td>LI</td>\n",
       "      <td>LIE</td>\n",
       "      <td>Liechtenstein</td>\n",
       "      <td>NaN</td>\n",
       "      <td>NaN</td>\n",
       "      <td>NaN</td>\n",
       "    </tr>\n",
       "    <tr>\n",
       "      <td>20</td>\n",
       "      <td>LT</td>\n",
       "      <td>LTU</td>\n",
       "      <td>Lithuania</td>\n",
       "      <td>47.0</td>\n",
       "      <td>12.5</td>\n",
       "      <td>1.035000</td>\n",
       "    </tr>\n",
       "    <tr>\n",
       "      <td>21</td>\n",
       "      <td>LU</td>\n",
       "      <td>LUX</td>\n",
       "      <td>Luxembourg</td>\n",
       "      <td>80.0</td>\n",
       "      <td>51.0</td>\n",
       "      <td>1.260000</td>\n",
       "    </tr>\n",
       "    <tr>\n",
       "      <td>22</td>\n",
       "      <td>LV</td>\n",
       "      <td>LVA</td>\n",
       "      <td>Latvia</td>\n",
       "      <td>49.0</td>\n",
       "      <td>13.0</td>\n",
       "      <td>1.150000</td>\n",
       "    </tr>\n",
       "    <tr>\n",
       "      <td>23</td>\n",
       "      <td>MK</td>\n",
       "      <td>MKD</td>\n",
       "      <td>North Macedonia</td>\n",
       "      <td>NaN</td>\n",
       "      <td>NaN</td>\n",
       "      <td>NaN</td>\n",
       "    </tr>\n",
       "    <tr>\n",
       "      <td>24</td>\n",
       "      <td>MT</td>\n",
       "      <td>MLT</td>\n",
       "      <td>Malta</td>\n",
       "      <td>68.0</td>\n",
       "      <td>28.0</td>\n",
       "      <td>1.280000</td>\n",
       "    </tr>\n",
       "    <tr>\n",
       "      <td>25</td>\n",
       "      <td>NL</td>\n",
       "      <td>NLD</td>\n",
       "      <td>Netherlands</td>\n",
       "      <td>73.7</td>\n",
       "      <td>33.3</td>\n",
       "      <td>1.167778</td>\n",
       "    </tr>\n",
       "    <tr>\n",
       "      <td>26</td>\n",
       "      <td>NO</td>\n",
       "      <td>NOR</td>\n",
       "      <td>Norway</td>\n",
       "      <td>109.6</td>\n",
       "      <td>42.0</td>\n",
       "      <td>3.550000</td>\n",
       "    </tr>\n",
       "    <tr>\n",
       "      <td>27</td>\n",
       "      <td>PL</td>\n",
       "      <td>POL</td>\n",
       "      <td>Poland</td>\n",
       "      <td>38.3</td>\n",
       "      <td>13.3</td>\n",
       "      <td>0.741818</td>\n",
       "    </tr>\n",
       "    <tr>\n",
       "      <td>28</td>\n",
       "      <td>PT</td>\n",
       "      <td>PRT</td>\n",
       "      <td>Portugal</td>\n",
       "      <td>48.2</td>\n",
       "      <td>15.5</td>\n",
       "      <td>0.987500</td>\n",
       "    </tr>\n",
       "    <tr>\n",
       "      <td>29</td>\n",
       "      <td>RO</td>\n",
       "      <td>ROU</td>\n",
       "      <td>Romania</td>\n",
       "      <td>35.5</td>\n",
       "      <td>8.4</td>\n",
       "      <td>0.744000</td>\n",
       "    </tr>\n",
       "    <tr>\n",
       "      <td>30</td>\n",
       "      <td>SE</td>\n",
       "      <td>SWE</td>\n",
       "      <td>Sweden</td>\n",
       "      <td>76.0</td>\n",
       "      <td>29.5</td>\n",
       "      <td>1.870000</td>\n",
       "    </tr>\n",
       "    <tr>\n",
       "      <td>31</td>\n",
       "      <td>SI</td>\n",
       "      <td>SVN</td>\n",
       "      <td>Slovenia</td>\n",
       "      <td>52.5</td>\n",
       "      <td>14.0</td>\n",
       "      <td>1.165000</td>\n",
       "    </tr>\n",
       "    <tr>\n",
       "      <td>32</td>\n",
       "      <td>SK</td>\n",
       "      <td>SVK</td>\n",
       "      <td>Slovakia</td>\n",
       "      <td>47.5</td>\n",
       "      <td>17.5</td>\n",
       "      <td>0.805000</td>\n",
       "    </tr>\n",
       "    <tr>\n",
       "      <td>33</td>\n",
       "      <td>TR</td>\n",
       "      <td>TUR</td>\n",
       "      <td>Turkey</td>\n",
       "      <td>44.6</td>\n",
       "      <td>9.8</td>\n",
       "      <td>1.972000</td>\n",
       "    </tr>\n",
       "  </tbody>\n",
       "</table>\n",
       "</div>"
      ],
      "text/plain": [
       "   ISO ISO3          Country  Cost.of.Living.Index  Rent.Index  \\\n",
       "0   AT  AUT          Austria                  70.0        26.7   \n",
       "1   BE  BEL          Belgium                  79.0        28.0   \n",
       "2   BG  BGR         Bulgaria                  36.7         8.3   \n",
       "3   CH  CHE      Switzerland                 125.1        58.6   \n",
       "4   CY  CYP           Cyprus                  60.7        14.0   \n",
       "5   CZ  CZE          Czechia                   NaN         NaN   \n",
       "6   DE  DEU          Germany                  69.0        27.5   \n",
       "7   DK  DNK          Denmark                  83.0        30.2   \n",
       "8   EE  EST          Estonia                  50.5        14.0   \n",
       "9   ES  ESP            Spain                  58.3        20.6   \n",
       "10  FI  FIN          Finland                  75.3        27.5   \n",
       "11  FR  FRA           France                  75.0        25.5   \n",
       "12  GB  GBR   United Kingdom                  71.0        31.5   \n",
       "13  GR  GRC           Greece                  54.2         9.3   \n",
       "14  HR  HRV          Croatia                  50.2        10.0   \n",
       "15  HU  HUN          Hungary                  42.5        12.0   \n",
       "16  IE  IRL          Ireland                  79.2        34.0   \n",
       "17  IS  ISL          Iceland                 104.0        47.0   \n",
       "18  IT  ITA            Italy                  77.2        21.8   \n",
       "19  LI  LIE    Liechtenstein                   NaN         NaN   \n",
       "20  LT  LTU        Lithuania                  47.0        12.5   \n",
       "21  LU  LUX       Luxembourg                  80.0        51.0   \n",
       "22  LV  LVA           Latvia                  49.0        13.0   \n",
       "23  MK  MKD  North Macedonia                   NaN         NaN   \n",
       "24  MT  MLT            Malta                  68.0        28.0   \n",
       "25  NL  NLD      Netherlands                  73.7        33.3   \n",
       "26  NO  NOR           Norway                 109.6        42.0   \n",
       "27  PL  POL           Poland                  38.3        13.3   \n",
       "28  PT  PRT         Portugal                  48.2        15.5   \n",
       "29  RO  ROU          Romania                  35.5         8.4   \n",
       "30  SE  SWE           Sweden                  76.0        29.5   \n",
       "31  SI  SVN         Slovenia                  52.5        14.0   \n",
       "32  SK  SVK         Slovakia                  47.5        17.5   \n",
       "33  TR  TUR           Turkey                  44.6         9.8   \n",
       "\n",
       "    Domestic Beer (0.5 liter bottle)  \n",
       "0                           1.176667  \n",
       "1                           1.250000  \n",
       "2                           0.770000  \n",
       "3                           1.902857  \n",
       "4                           1.123333  \n",
       "5                                NaN  \n",
       "6                           0.964706  \n",
       "7                           1.632500  \n",
       "8                           1.065000  \n",
       "9                           0.881111  \n",
       "10                          2.771667  \n",
       "11                          1.956000  \n",
       "12                          1.856250  \n",
       "13                          1.196667  \n",
       "14                          1.044000  \n",
       "15                          0.805000  \n",
       "16                          2.835000  \n",
       "17                          2.970000  \n",
       "18                          1.442069  \n",
       "19                               NaN  \n",
       "20                          1.035000  \n",
       "21                          1.260000  \n",
       "22                          1.150000  \n",
       "23                               NaN  \n",
       "24                          1.280000  \n",
       "25                          1.167778  \n",
       "26                          3.550000  \n",
       "27                          0.741818  \n",
       "28                          0.987500  \n",
       "29                          0.744000  \n",
       "30                          1.870000  \n",
       "31                          1.165000  \n",
       "32                          0.805000  \n",
       "33                          1.972000  "
      ]
     },
     "execution_count": 111,
     "metadata": {},
     "output_type": "execute_result"
    }
   ],
   "source": [
    "res"
   ]
  },
  {
   "cell_type": "code",
   "execution_count": 112,
   "metadata": {
    "ExecuteTime": {
     "end_time": "2019-10-14T15:58:16.523127Z",
     "start_time": "2019-10-14T15:58:16.515424Z"
    }
   },
   "outputs": [],
   "source": [
    "res.to_csv(\"/Users/matya/Downloads/inge.csv\", index=False)"
   ]
  },
  {
   "cell_type": "code",
   "execution_count": 27,
   "metadata": {
    "ExecuteTime": {
     "end_time": "2019-10-14T15:48:40.160522Z",
     "start_time": "2019-10-14T15:48:40.156204Z"
    }
   },
   "outputs": [
    {
     "data": {
      "text/plain": [
       "34"
      ]
     },
     "execution_count": 27,
     "metadata": {},
     "output_type": "execute_result"
    }
   ],
   "source": [
    "len(countryname)"
   ]
  },
  {
   "cell_type": "code",
   "execution_count": 25,
   "metadata": {
    "ExecuteTime": {
     "end_time": "2019-10-14T15:48:22.590930Z",
     "start_time": "2019-10-14T15:48:22.586859Z"
    }
   },
   "outputs": [
    {
     "data": {
      "text/plain": [
       "31"
      ]
     },
     "execution_count": 25,
     "metadata": {},
     "output_type": "execute_result"
    }
   ],
   "source": [
    "len(res)"
   ]
  },
  {
   "cell_type": "code",
   "execution_count": 26,
   "metadata": {
    "ExecuteTime": {
     "end_time": "2019-10-14T15:48:29.429254Z",
     "start_time": "2019-10-14T15:48:29.425016Z"
    }
   },
   "outputs": [
    {
     "data": {
      "text/plain": [
       "159"
      ]
     },
     "execution_count": 26,
     "metadata": {},
     "output_type": "execute_result"
    }
   ],
   "source": [
    "len(costofliving)"
   ]
  },
  {
   "cell_type": "code",
   "execution_count": null,
   "metadata": {},
   "outputs": [],
   "source": []
  }
 ],
 "metadata": {
  "kernelspec": {
   "display_name": "Python 3",
   "language": "python",
   "name": "python3"
  },
  "language_info": {
   "codemirror_mode": {
    "name": "ipython",
    "version": 3
   },
   "file_extension": ".py",
   "mimetype": "text/x-python",
   "name": "python",
   "nbconvert_exporter": "python",
   "pygments_lexer": "ipython3",
   "version": "3.6.1"
  }
 },
 "nbformat": 4,
 "nbformat_minor": 2
}
