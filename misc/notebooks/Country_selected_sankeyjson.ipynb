{
 "cells": [
  {
   "cell_type": "code",
   "execution_count": 1,
   "metadata": {
    "collapsed": true
   },
   "outputs": [],
   "source": [
    "import pandas as pd"
   ]
  },
  {
   "cell_type": "code",
   "execution_count": 2,
   "metadata": {
    "collapsed": true
   },
   "outputs": [],
   "source": [
    "df = pd.read_csv(\"../datasets/country_selected_degreeflow.csv\")"
   ]
  },
  {
   "cell_type": "code",
   "execution_count": 3,
   "metadata": {},
   "outputs": [
    {
     "data": {
      "text/html": [
       "<div>\n",
       "<style>\n",
       "    .dataframe thead tr:only-child th {\n",
       "        text-align: right;\n",
       "    }\n",
       "\n",
       "    .dataframe thead th {\n",
       "        text-align: left;\n",
       "    }\n",
       "\n",
       "    .dataframe tbody tr th {\n",
       "        vertical-align: top;\n",
       "    }\n",
       "</style>\n",
       "<table border=\"1\" class=\"dataframe\">\n",
       "  <thead>\n",
       "    <tr style=\"text-align: right;\">\n",
       "      <th></th>\n",
       "      <th>SendingCountry</th>\n",
       "      <th>First Cycle</th>\n",
       "      <th>Second Cycle</th>\n",
       "      <th>Short Cycle</th>\n",
       "      <th>Third Cycle</th>\n",
       "    </tr>\n",
       "  </thead>\n",
       "  <tbody>\n",
       "    <tr>\n",
       "      <th>0</th>\n",
       "      <td>BE</td>\n",
       "      <td>81.0</td>\n",
       "      <td>71.0</td>\n",
       "      <td>0.0</td>\n",
       "      <td>0.0</td>\n",
       "    </tr>\n",
       "    <tr>\n",
       "      <th>1</th>\n",
       "      <td>BG</td>\n",
       "      <td>39.0</td>\n",
       "      <td>21.0</td>\n",
       "      <td>0.0</td>\n",
       "      <td>4.0</td>\n",
       "    </tr>\n",
       "    <tr>\n",
       "      <th>2</th>\n",
       "      <td>CH</td>\n",
       "      <td>78.0</td>\n",
       "      <td>41.0</td>\n",
       "      <td>0.0</td>\n",
       "      <td>1.0</td>\n",
       "    </tr>\n",
       "    <tr>\n",
       "      <th>3</th>\n",
       "      <td>CY</td>\n",
       "      <td>9.0</td>\n",
       "      <td>0.0</td>\n",
       "      <td>0.0</td>\n",
       "      <td>0.0</td>\n",
       "    </tr>\n",
       "    <tr>\n",
       "      <th>4</th>\n",
       "      <td>CZ</td>\n",
       "      <td>83.0</td>\n",
       "      <td>198.0</td>\n",
       "      <td>0.0</td>\n",
       "      <td>9.0</td>\n",
       "    </tr>\n",
       "  </tbody>\n",
       "</table>\n",
       "</div>"
      ],
      "text/plain": [
       "  SendingCountry  First Cycle  Second Cycle  Short Cycle  Third Cycle\n",
       "0             BE         81.0          71.0          0.0          0.0\n",
       "1             BG         39.0          21.0          0.0          4.0\n",
       "2             CH         78.0          41.0          0.0          1.0\n",
       "3             CY          9.0           0.0          0.0          0.0\n",
       "4             CZ         83.0         198.0          0.0          9.0"
      ]
     },
     "execution_count": 3,
     "metadata": {},
     "output_type": "execute_result"
    }
   ],
   "source": [
    "df.head()"
   ]
  },
  {
   "cell_type": "code",
   "execution_count": 17,
   "metadata": {},
   "outputs": [
    {
     "name": "stdout",
     "output_type": "stream",
     "text": [
      "['LT', 'GR', 'ES', 'CY', 'MK', 'EE', 'BG', 'HU', 'DK', 'PT', 'IE', 'LV', 'LI', 'RO', 'DE', 'IT', 'FI', 'IS', 'CZ', 'NO', 'NL', 'SE', 'MT', 'BE', 'HR', 'SK', 'TR', 'SI', 'FR', 'GB', 'LU', 'PL', 'CH', 'AT']\n",
      "['AT', 'BE', 'BG', 'CH', 'CY', 'CZ', 'DE', 'DK', 'EE', 'ES', 'FI', 'FR', 'GB', 'GR', 'HR', 'HU', 'IE', 'IS', 'IT', 'LI', 'LT', 'LU', 'LV', 'MK', 'MT', 'NL', 'NO', 'PL', 'PT', 'RO', 'SE', 'SI', 'SK', 'TR']\n"
     ]
    }
   ],
   "source": [
    "result_dict = {}\n",
    "template = {'source': [], 'target': [], 'value': []}\n",
    "\n",
    "countries = ['AT', 'AT', 'AT', 'BE', 'BE', 'BE', 'BG', 'BG', 'BG', 'CH', 'CH', 'CH', 'CY', 'CY', 'CY', 'CZ', 'CZ', 'CZ', 'DE', 'DE', 'DE', 'DK', 'DK', 'DK', 'EE', 'EE', 'EE', 'ES', 'ES', 'ES', 'FI', 'FI', 'FI', 'FR', 'FR', 'FR', 'GB', 'GB', 'GB', 'GR', 'GR', 'GR', 'HR', 'HR', 'HR', 'HU', 'HU', 'HU', 'IE', 'IE', 'IE', 'IS', 'IS', 'IS', 'IT', 'IT', 'IT', 'LI', 'LI', 'LI', 'LT', 'LT', 'LT', 'LU', 'LU', 'LU', 'LV', 'LV', 'LV', 'MK', 'MK', 'MK', 'MT', 'MT', 'MT', 'NL', 'NL', 'NL', 'NO', 'NO', 'NO', 'PL', 'PL', 'PL', 'PT', 'PT', 'PT', 'RO', 'RO', 'RO', 'SE', 'SE', 'SE', 'SI', 'SI', 'SI', 'SK', 'SK', 'SK', 'TR', 'TR', 'TR']\n",
    "cset = set(countries)\n",
    "clist = list(cset)\n",
    "\n",
    "print(clist)\n",
    "print(sorted(clist))\n",
    "\n",
    "\n",
    "    \n",
    "    "
   ]
  },
  {
   "cell_type": "code",
   "execution_count": null,
   "metadata": {
    "collapsed": true
   },
   "outputs": [],
   "source": []
  }
 ],
 "metadata": {
  "kernelspec": {
   "display_name": "Python 3",
   "language": "python",
   "name": "python3"
  },
  "language_info": {
   "codemirror_mode": {
    "name": "ipython",
    "version": 3
   },
   "file_extension": ".py",
   "mimetype": "text/x-python",
   "name": "python",
   "nbconvert_exporter": "python",
   "pygments_lexer": "ipython3",
   "version": "3.6.1"
  }
 },
 "nbformat": 4,
 "nbformat_minor": 2
}
