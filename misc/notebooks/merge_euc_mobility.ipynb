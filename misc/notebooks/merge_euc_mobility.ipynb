{
 "cells": [
  {
   "cell_type": "markdown",
   "metadata": {
    "ExecuteTime": {
     "end_time": "2019-10-14T15:11:45.306144Z",
     "start_time": "2019-10-14T15:11:45.303251Z"
    }
   },
   "source": [
    "# Merge the geocoded EUC and the mobility dataframe"
   ]
  },
  {
   "cell_type": "code",
   "execution_count": 5,
   "metadata": {
    "ExecuteTime": {
     "end_time": "2019-12-16T17:43:57.052180Z",
     "start_time": "2019-12-16T17:43:56.916218Z"
    }
   },
   "outputs": [],
   "source": [
    "import pandas as pd\n",
    "import numpy as np\n",
    "import matplotlib.pyplot as plt\n",
    "%matplotlib inline"
   ]
  },
  {
   "cell_type": "code",
   "execution_count": 6,
   "metadata": {
    "ExecuteTime": {
     "end_time": "2019-12-16T17:44:07.708447Z",
     "start_time": "2019-12-16T17:43:57.405775Z"
    }
   },
   "outputs": [
    {
     "ename": "KeyboardInterrupt",
     "evalue": "",
     "output_type": "error",
     "traceback": [
      "\u001b[0;31m---------------------------------------------------------------------------\u001b[0m",
      "\u001b[0;31mIndexError\u001b[0m                                Traceback (most recent call last)",
      "\u001b[0;32m/Library/Frameworks/Python.framework/Versions/3.6/lib/python3.6/site-packages/xlrd/sheet.py\u001b[0m in \u001b[0;36mput_cell_unragged\u001b[0;34m(self, rowx, colx, ctype, value, xf_index)\u001b[0m\n\u001b[1;32m    697\u001b[0m         \u001b[0;32mtry\u001b[0m\u001b[0;34m:\u001b[0m\u001b[0;34m\u001b[0m\u001b[0m\n\u001b[0;32m--> 698\u001b[0;31m             \u001b[0mself\u001b[0m\u001b[0;34m.\u001b[0m\u001b[0m_cell_types\u001b[0m\u001b[0;34m[\u001b[0m\u001b[0mrowx\u001b[0m\u001b[0;34m]\u001b[0m\u001b[0;34m[\u001b[0m\u001b[0mcolx\u001b[0m\u001b[0;34m]\u001b[0m \u001b[0;34m=\u001b[0m \u001b[0mctype\u001b[0m\u001b[0;34m\u001b[0m\u001b[0m\n\u001b[0m\u001b[1;32m    699\u001b[0m             \u001b[0mself\u001b[0m\u001b[0;34m.\u001b[0m\u001b[0m_cell_values\u001b[0m\u001b[0;34m[\u001b[0m\u001b[0mrowx\u001b[0m\u001b[0;34m]\u001b[0m\u001b[0;34m[\u001b[0m\u001b[0mcolx\u001b[0m\u001b[0;34m]\u001b[0m \u001b[0;34m=\u001b[0m \u001b[0mvalue\u001b[0m\u001b[0;34m\u001b[0m\u001b[0m\n",
      "\u001b[0;31mIndexError\u001b[0m: list index out of range",
      "\nDuring handling of the above exception, another exception occurred:\n",
      "\u001b[0;31mKeyboardInterrupt\u001b[0m                         Traceback (most recent call last)",
      "\u001b[0;32m<ipython-input-6-530658897046>\u001b[0m in \u001b[0;36m<module>\u001b[0;34m()\u001b[0m\n\u001b[1;32m      1\u001b[0m \u001b[0meuc\u001b[0m \u001b[0;34m=\u001b[0m \u001b[0mpd\u001b[0m\u001b[0;34m.\u001b[0m\u001b[0mread_csv\u001b[0m\u001b[0;34m(\u001b[0m\u001b[0;34m\"../datasets/EUC_geocoded_clean.csv\"\u001b[0m\u001b[0;34m)\u001b[0m\u001b[0;34m\u001b[0m\u001b[0m\n\u001b[0;32m----> 2\u001b[0;31m \u001b[0mmob\u001b[0m \u001b[0;34m=\u001b[0m \u001b[0mpd\u001b[0m\u001b[0;34m.\u001b[0m\u001b[0mread_excel\u001b[0m\u001b[0;34m(\u001b[0m\u001b[0;34m\"../datasets/Student_Mobility_2013-14.xlsx\"\u001b[0m\u001b[0;34m)\u001b[0m\u001b[0;34m\u001b[0m\u001b[0m\n\u001b[0m",
      "\u001b[0;32m/Library/Frameworks/Python.framework/Versions/3.6/lib/python3.6/site-packages/pandas/util/_decorators.py\u001b[0m in \u001b[0;36mwrapper\u001b[0;34m(*args, **kwargs)\u001b[0m\n\u001b[1;32m    206\u001b[0m                 \u001b[0;32melse\u001b[0m\u001b[0;34m:\u001b[0m\u001b[0;34m\u001b[0m\u001b[0m\n\u001b[1;32m    207\u001b[0m                     \u001b[0mkwargs\u001b[0m\u001b[0;34m[\u001b[0m\u001b[0mnew_arg_name\u001b[0m\u001b[0;34m]\u001b[0m \u001b[0;34m=\u001b[0m \u001b[0mnew_arg_value\u001b[0m\u001b[0;34m\u001b[0m\u001b[0m\n\u001b[0;32m--> 208\u001b[0;31m             \u001b[0;32mreturn\u001b[0m \u001b[0mfunc\u001b[0m\u001b[0;34m(\u001b[0m\u001b[0;34m*\u001b[0m\u001b[0margs\u001b[0m\u001b[0;34m,\u001b[0m \u001b[0;34m**\u001b[0m\u001b[0mkwargs\u001b[0m\u001b[0;34m)\u001b[0m\u001b[0;34m\u001b[0m\u001b[0m\n\u001b[0m\u001b[1;32m    209\u001b[0m \u001b[0;34m\u001b[0m\u001b[0m\n\u001b[1;32m    210\u001b[0m         \u001b[0;32mreturn\u001b[0m \u001b[0mwrapper\u001b[0m\u001b[0;34m\u001b[0m\u001b[0m\n",
      "\u001b[0;32m/Library/Frameworks/Python.framework/Versions/3.6/lib/python3.6/site-packages/pandas/io/excel/_base.py\u001b[0m in \u001b[0;36mread_excel\u001b[0;34m(io, sheet_name, header, names, index_col, usecols, squeeze, dtype, engine, converters, true_values, false_values, skiprows, nrows, na_values, keep_default_na, verbose, parse_dates, date_parser, thousands, comment, skip_footer, skipfooter, convert_float, mangle_dupe_cols, **kwds)\u001b[0m\n\u001b[1;32m    308\u001b[0m \u001b[0;34m\u001b[0m\u001b[0m\n\u001b[1;32m    309\u001b[0m     \u001b[0;32mif\u001b[0m \u001b[0;32mnot\u001b[0m \u001b[0misinstance\u001b[0m\u001b[0;34m(\u001b[0m\u001b[0mio\u001b[0m\u001b[0;34m,\u001b[0m \u001b[0mExcelFile\u001b[0m\u001b[0;34m)\u001b[0m\u001b[0;34m:\u001b[0m\u001b[0;34m\u001b[0m\u001b[0m\n\u001b[0;32m--> 310\u001b[0;31m         \u001b[0mio\u001b[0m \u001b[0;34m=\u001b[0m \u001b[0mExcelFile\u001b[0m\u001b[0;34m(\u001b[0m\u001b[0mio\u001b[0m\u001b[0;34m,\u001b[0m \u001b[0mengine\u001b[0m\u001b[0;34m=\u001b[0m\u001b[0mengine\u001b[0m\u001b[0;34m)\u001b[0m\u001b[0;34m\u001b[0m\u001b[0m\n\u001b[0m\u001b[1;32m    311\u001b[0m     \u001b[0;32melif\u001b[0m \u001b[0mengine\u001b[0m \u001b[0;32mand\u001b[0m \u001b[0mengine\u001b[0m \u001b[0;34m!=\u001b[0m \u001b[0mio\u001b[0m\u001b[0;34m.\u001b[0m\u001b[0mengine\u001b[0m\u001b[0;34m:\u001b[0m\u001b[0;34m\u001b[0m\u001b[0m\n\u001b[1;32m    312\u001b[0m         raise ValueError(\n",
      "\u001b[0;32m/Library/Frameworks/Python.framework/Versions/3.6/lib/python3.6/site-packages/pandas/io/excel/_base.py\u001b[0m in \u001b[0;36m__init__\u001b[0;34m(self, io, engine)\u001b[0m\n\u001b[1;32m    817\u001b[0m         \u001b[0mself\u001b[0m\u001b[0;34m.\u001b[0m\u001b[0m_io\u001b[0m \u001b[0;34m=\u001b[0m \u001b[0m_stringify_path\u001b[0m\u001b[0;34m(\u001b[0m\u001b[0mio\u001b[0m\u001b[0;34m)\u001b[0m\u001b[0;34m\u001b[0m\u001b[0m\n\u001b[1;32m    818\u001b[0m \u001b[0;34m\u001b[0m\u001b[0m\n\u001b[0;32m--> 819\u001b[0;31m         \u001b[0mself\u001b[0m\u001b[0;34m.\u001b[0m\u001b[0m_reader\u001b[0m \u001b[0;34m=\u001b[0m \u001b[0mself\u001b[0m\u001b[0;34m.\u001b[0m\u001b[0m_engines\u001b[0m\u001b[0;34m[\u001b[0m\u001b[0mengine\u001b[0m\u001b[0;34m]\u001b[0m\u001b[0;34m(\u001b[0m\u001b[0mself\u001b[0m\u001b[0;34m.\u001b[0m\u001b[0m_io\u001b[0m\u001b[0;34m)\u001b[0m\u001b[0;34m\u001b[0m\u001b[0m\n\u001b[0m\u001b[1;32m    820\u001b[0m \u001b[0;34m\u001b[0m\u001b[0m\n\u001b[1;32m    821\u001b[0m     \u001b[0;32mdef\u001b[0m \u001b[0m__fspath__\u001b[0m\u001b[0;34m(\u001b[0m\u001b[0mself\u001b[0m\u001b[0;34m)\u001b[0m\u001b[0;34m:\u001b[0m\u001b[0;34m\u001b[0m\u001b[0m\n",
      "\u001b[0;32m/Library/Frameworks/Python.framework/Versions/3.6/lib/python3.6/site-packages/pandas/io/excel/_xlrd.py\u001b[0m in \u001b[0;36m__init__\u001b[0;34m(self, filepath_or_buffer)\u001b[0m\n\u001b[1;32m     19\u001b[0m         \u001b[0merr_msg\u001b[0m \u001b[0;34m=\u001b[0m \u001b[0;34m\"Install xlrd >= 1.0.0 for Excel support\"\u001b[0m\u001b[0;34m\u001b[0m\u001b[0m\n\u001b[1;32m     20\u001b[0m         \u001b[0mimport_optional_dependency\u001b[0m\u001b[0;34m(\u001b[0m\u001b[0;34m\"xlrd\"\u001b[0m\u001b[0;34m,\u001b[0m \u001b[0mextra\u001b[0m\u001b[0;34m=\u001b[0m\u001b[0merr_msg\u001b[0m\u001b[0;34m)\u001b[0m\u001b[0;34m\u001b[0m\u001b[0m\n\u001b[0;32m---> 21\u001b[0;31m         \u001b[0msuper\u001b[0m\u001b[0;34m(\u001b[0m\u001b[0;34m)\u001b[0m\u001b[0;34m.\u001b[0m\u001b[0m__init__\u001b[0m\u001b[0;34m(\u001b[0m\u001b[0mfilepath_or_buffer\u001b[0m\u001b[0;34m)\u001b[0m\u001b[0;34m\u001b[0m\u001b[0m\n\u001b[0m\u001b[1;32m     22\u001b[0m \u001b[0;34m\u001b[0m\u001b[0m\n\u001b[1;32m     23\u001b[0m     \u001b[0;34m@\u001b[0m\u001b[0mproperty\u001b[0m\u001b[0;34m\u001b[0m\u001b[0m\n",
      "\u001b[0;32m/Library/Frameworks/Python.framework/Versions/3.6/lib/python3.6/site-packages/pandas/io/excel/_base.py\u001b[0m in \u001b[0;36m__init__\u001b[0;34m(self, filepath_or_buffer)\u001b[0m\n\u001b[1;32m    357\u001b[0m             \u001b[0mself\u001b[0m\u001b[0;34m.\u001b[0m\u001b[0mbook\u001b[0m \u001b[0;34m=\u001b[0m \u001b[0mself\u001b[0m\u001b[0;34m.\u001b[0m\u001b[0mload_workbook\u001b[0m\u001b[0;34m(\u001b[0m\u001b[0mfilepath_or_buffer\u001b[0m\u001b[0;34m)\u001b[0m\u001b[0;34m\u001b[0m\u001b[0m\n\u001b[1;32m    358\u001b[0m         \u001b[0;32melif\u001b[0m \u001b[0misinstance\u001b[0m\u001b[0;34m(\u001b[0m\u001b[0mfilepath_or_buffer\u001b[0m\u001b[0;34m,\u001b[0m \u001b[0mstr\u001b[0m\u001b[0;34m)\u001b[0m\u001b[0;34m:\u001b[0m\u001b[0;34m\u001b[0m\u001b[0m\n\u001b[0;32m--> 359\u001b[0;31m             \u001b[0mself\u001b[0m\u001b[0;34m.\u001b[0m\u001b[0mbook\u001b[0m \u001b[0;34m=\u001b[0m \u001b[0mself\u001b[0m\u001b[0;34m.\u001b[0m\u001b[0mload_workbook\u001b[0m\u001b[0;34m(\u001b[0m\u001b[0mfilepath_or_buffer\u001b[0m\u001b[0;34m)\u001b[0m\u001b[0;34m\u001b[0m\u001b[0m\n\u001b[0m\u001b[1;32m    360\u001b[0m         \u001b[0;32melse\u001b[0m\u001b[0;34m:\u001b[0m\u001b[0;34m\u001b[0m\u001b[0m\n\u001b[1;32m    361\u001b[0m             raise ValueError(\n",
      "\u001b[0;32m/Library/Frameworks/Python.framework/Versions/3.6/lib/python3.6/site-packages/pandas/io/excel/_xlrd.py\u001b[0m in \u001b[0;36mload_workbook\u001b[0;34m(self, filepath_or_buffer)\u001b[0m\n\u001b[1;32m     34\u001b[0m             \u001b[0;32mreturn\u001b[0m \u001b[0mopen_workbook\u001b[0m\u001b[0;34m(\u001b[0m\u001b[0mfile_contents\u001b[0m\u001b[0;34m=\u001b[0m\u001b[0mdata\u001b[0m\u001b[0;34m)\u001b[0m\u001b[0;34m\u001b[0m\u001b[0m\n\u001b[1;32m     35\u001b[0m         \u001b[0;32melse\u001b[0m\u001b[0;34m:\u001b[0m\u001b[0;34m\u001b[0m\u001b[0m\n\u001b[0;32m---> 36\u001b[0;31m             \u001b[0;32mreturn\u001b[0m \u001b[0mopen_workbook\u001b[0m\u001b[0;34m(\u001b[0m\u001b[0mfilepath_or_buffer\u001b[0m\u001b[0;34m)\u001b[0m\u001b[0;34m\u001b[0m\u001b[0m\n\u001b[0m\u001b[1;32m     37\u001b[0m \u001b[0;34m\u001b[0m\u001b[0m\n\u001b[1;32m     38\u001b[0m     \u001b[0;34m@\u001b[0m\u001b[0mproperty\u001b[0m\u001b[0;34m\u001b[0m\u001b[0m\n",
      "\u001b[0;32m/Library/Frameworks/Python.framework/Versions/3.6/lib/python3.6/site-packages/xlrd/__init__.py\u001b[0m in \u001b[0;36mopen_workbook\u001b[0;34m(filename, logfile, verbosity, use_mmap, file_contents, encoding_override, formatting_info, on_demand, ragged_rows)\u001b[0m\n\u001b[1;32m    141\u001b[0m                 \u001b[0mformatting_info\u001b[0m\u001b[0;34m=\u001b[0m\u001b[0mformatting_info\u001b[0m\u001b[0;34m,\u001b[0m\u001b[0;34m\u001b[0m\u001b[0m\n\u001b[1;32m    142\u001b[0m                 \u001b[0mon_demand\u001b[0m\u001b[0;34m=\u001b[0m\u001b[0mon_demand\u001b[0m\u001b[0;34m,\u001b[0m\u001b[0;34m\u001b[0m\u001b[0m\n\u001b[0;32m--> 143\u001b[0;31m                 \u001b[0mragged_rows\u001b[0m\u001b[0;34m=\u001b[0m\u001b[0mragged_rows\u001b[0m\u001b[0;34m,\u001b[0m\u001b[0;34m\u001b[0m\u001b[0m\n\u001b[0m\u001b[1;32m    144\u001b[0m                 )\n\u001b[1;32m    145\u001b[0m             \u001b[0;32mreturn\u001b[0m \u001b[0mbk\u001b[0m\u001b[0;34m\u001b[0m\u001b[0m\n",
      "\u001b[0;32m/Library/Frameworks/Python.framework/Versions/3.6/lib/python3.6/site-packages/xlrd/xlsx.py\u001b[0m in \u001b[0;36mopen_workbook_2007_xml\u001b[0;34m(zf, component_names, logfile, verbosity, use_mmap, formatting_info, on_demand, ragged_rows)\u001b[0m\n\u001b[1;32m    835\u001b[0m         \u001b[0mx12sheet\u001b[0m \u001b[0;34m=\u001b[0m \u001b[0mX12Sheet\u001b[0m\u001b[0;34m(\u001b[0m\u001b[0msheet\u001b[0m\u001b[0;34m,\u001b[0m \u001b[0mlogfile\u001b[0m\u001b[0;34m,\u001b[0m \u001b[0mverbosity\u001b[0m\u001b[0;34m)\u001b[0m\u001b[0;34m\u001b[0m\u001b[0m\n\u001b[1;32m    836\u001b[0m         \u001b[0mheading\u001b[0m \u001b[0;34m=\u001b[0m \u001b[0;34m\"Sheet %r (sheetx=%d) from %r\"\u001b[0m \u001b[0;34m%\u001b[0m \u001b[0;34m(\u001b[0m\u001b[0msheet\u001b[0m\u001b[0;34m.\u001b[0m\u001b[0mname\u001b[0m\u001b[0;34m,\u001b[0m \u001b[0msheetx\u001b[0m\u001b[0;34m,\u001b[0m \u001b[0mfname\u001b[0m\u001b[0;34m)\u001b[0m\u001b[0;34m\u001b[0m\u001b[0m\n\u001b[0;32m--> 837\u001b[0;31m         \u001b[0mx12sheet\u001b[0m\u001b[0;34m.\u001b[0m\u001b[0mprocess_stream\u001b[0m\u001b[0;34m(\u001b[0m\u001b[0mzflo\u001b[0m\u001b[0;34m,\u001b[0m \u001b[0mheading\u001b[0m\u001b[0;34m)\u001b[0m\u001b[0;34m\u001b[0m\u001b[0m\n\u001b[0m\u001b[1;32m    838\u001b[0m         \u001b[0;32mdel\u001b[0m \u001b[0mzflo\u001b[0m\u001b[0;34m\u001b[0m\u001b[0m\n\u001b[1;32m    839\u001b[0m \u001b[0;34m\u001b[0m\u001b[0m\n",
      "\u001b[0;32m/Library/Frameworks/Python.framework/Versions/3.6/lib/python3.6/site-packages/xlrd/xlsx.py\u001b[0m in \u001b[0;36mown_process_stream\u001b[0;34m(self, stream, heading)\u001b[0m\n\u001b[1;32m    546\u001b[0m         \u001b[0;32mfor\u001b[0m \u001b[0mevent\u001b[0m\u001b[0;34m,\u001b[0m \u001b[0melem\u001b[0m \u001b[0;32min\u001b[0m \u001b[0mET\u001b[0m\u001b[0;34m.\u001b[0m\u001b[0miterparse\u001b[0m\u001b[0;34m(\u001b[0m\u001b[0mstream\u001b[0m\u001b[0;34m)\u001b[0m\u001b[0;34m:\u001b[0m\u001b[0;34m\u001b[0m\u001b[0m\n\u001b[1;32m    547\u001b[0m             \u001b[0;32mif\u001b[0m \u001b[0melem\u001b[0m\u001b[0;34m.\u001b[0m\u001b[0mtag\u001b[0m \u001b[0;34m==\u001b[0m \u001b[0mrow_tag\u001b[0m\u001b[0;34m:\u001b[0m\u001b[0;34m\u001b[0m\u001b[0m\n\u001b[0;32m--> 548\u001b[0;31m                 \u001b[0mself_do_row\u001b[0m\u001b[0;34m(\u001b[0m\u001b[0melem\u001b[0m\u001b[0;34m)\u001b[0m\u001b[0;34m\u001b[0m\u001b[0m\n\u001b[0m\u001b[1;32m    549\u001b[0m                 \u001b[0melem\u001b[0m\u001b[0;34m.\u001b[0m\u001b[0mclear\u001b[0m\u001b[0;34m(\u001b[0m\u001b[0;34m)\u001b[0m \u001b[0;31m# destroy all child elements (cells)\u001b[0m\u001b[0;34m\u001b[0m\u001b[0m\n\u001b[1;32m    550\u001b[0m             \u001b[0;32melif\u001b[0m \u001b[0melem\u001b[0m\u001b[0;34m.\u001b[0m\u001b[0mtag\u001b[0m \u001b[0;34m==\u001b[0m \u001b[0mU_SSML12\u001b[0m \u001b[0;34m+\u001b[0m \u001b[0;34m\"dimension\"\u001b[0m\u001b[0;34m:\u001b[0m\u001b[0;34m\u001b[0m\u001b[0m\n",
      "\u001b[0;32m/Library/Frameworks/Python.framework/Versions/3.6/lib/python3.6/site-packages/xlrd/xlsx.py\u001b[0m in \u001b[0;36mdo_row\u001b[0;34m(self, row_elem)\u001b[0m\n\u001b[1;32m    707\u001b[0m                 \u001b[0;32melse\u001b[0m\u001b[0;34m:\u001b[0m\u001b[0;34m\u001b[0m\u001b[0m\n\u001b[1;32m    708\u001b[0m                     \u001b[0mvalue\u001b[0m \u001b[0;34m=\u001b[0m \u001b[0mself\u001b[0m\u001b[0;34m.\u001b[0m\u001b[0msst\u001b[0m\u001b[0;34m[\u001b[0m\u001b[0mint\u001b[0m\u001b[0;34m(\u001b[0m\u001b[0mtvalue\u001b[0m\u001b[0;34m)\u001b[0m\u001b[0;34m]\u001b[0m\u001b[0;34m\u001b[0m\u001b[0m\n\u001b[0;32m--> 709\u001b[0;31m                     \u001b[0mself\u001b[0m\u001b[0;34m.\u001b[0m\u001b[0msheet\u001b[0m\u001b[0;34m.\u001b[0m\u001b[0mput_cell\u001b[0m\u001b[0;34m(\u001b[0m\u001b[0mrowx\u001b[0m\u001b[0;34m,\u001b[0m \u001b[0mcolx\u001b[0m\u001b[0;34m,\u001b[0m \u001b[0mXL_CELL_TEXT\u001b[0m\u001b[0;34m,\u001b[0m \u001b[0mvalue\u001b[0m\u001b[0;34m,\u001b[0m \u001b[0mxf_index\u001b[0m\u001b[0;34m)\u001b[0m\u001b[0;34m\u001b[0m\u001b[0m\n\u001b[0m\u001b[1;32m    710\u001b[0m             \u001b[0;32melif\u001b[0m \u001b[0mcell_type\u001b[0m \u001b[0;34m==\u001b[0m \u001b[0;34m\"str\"\u001b[0m\u001b[0;34m:\u001b[0m\u001b[0;34m\u001b[0m\u001b[0m\n\u001b[1;32m    711\u001b[0m                 \u001b[0;31m# str = string result from formula.\u001b[0m\u001b[0;34m\u001b[0m\u001b[0;34m\u001b[0m\u001b[0m\n",
      "\u001b[0;32m/Library/Frameworks/Python.framework/Versions/3.6/lib/python3.6/site-packages/xlrd/sheet.py\u001b[0m in \u001b[0;36mput_cell_unragged\u001b[0;34m(self, rowx, colx, ctype, value, xf_index)\u001b[0m\n\u001b[1;32m    704\u001b[0m             \u001b[0;31m# self.extend_cells(rowx+1, colx+1)\u001b[0m\u001b[0;34m\u001b[0m\u001b[0;34m\u001b[0m\u001b[0m\n\u001b[1;32m    705\u001b[0m             \u001b[0;31m# self._put_cell_exceptions += 1\u001b[0m\u001b[0;34m\u001b[0m\u001b[0;34m\u001b[0m\u001b[0m\n\u001b[0;32m--> 706\u001b[0;31m             \u001b[0mnr\u001b[0m \u001b[0;34m=\u001b[0m \u001b[0mrowx\u001b[0m \u001b[0;34m+\u001b[0m \u001b[0;36m1\u001b[0m\u001b[0;34m\u001b[0m\u001b[0m\n\u001b[0m\u001b[1;32m    707\u001b[0m             \u001b[0mnc\u001b[0m \u001b[0;34m=\u001b[0m \u001b[0mcolx\u001b[0m \u001b[0;34m+\u001b[0m \u001b[0;36m1\u001b[0m\u001b[0;34m\u001b[0m\u001b[0m\n\u001b[1;32m    708\u001b[0m             \u001b[0;32massert\u001b[0m \u001b[0;36m1\u001b[0m \u001b[0;34m<=\u001b[0m \u001b[0mnc\u001b[0m \u001b[0;34m<=\u001b[0m \u001b[0mself\u001b[0m\u001b[0;34m.\u001b[0m\u001b[0mutter_max_cols\u001b[0m\u001b[0;34m\u001b[0m\u001b[0m\n",
      "\u001b[0;31mKeyboardInterrupt\u001b[0m: "
     ]
    }
   ],
   "source": [
    "euc = pd.read_csv(\"../datasets/EUC_geocoded_clean.csv\")\n",
    "mob = pd.read_excel(\"../datasets/Student_Mobility_2013-14.xlsx\")"
   ]
  },
  {
   "cell_type": "code",
   "execution_count": null,
   "metadata": {
    "ExecuteTime": {
     "end_time": "2019-12-16T17:44:07.714186Z",
     "start_time": "2019-12-16T17:43:57.750Z"
    }
   },
   "outputs": [],
   "source": [
    "# Select only the students that are SMS mobility type\n",
    "mob = mob[mob.MobilityType == \"Mob-SMS\"]"
   ]
  },
  {
   "cell_type": "code",
   "execution_count": null,
   "metadata": {
    "ExecuteTime": {
     "end_time": "2019-12-16T17:44:07.715628Z",
     "start_time": "2019-12-16T17:43:57.950Z"
    }
   },
   "outputs": [],
   "source": [
    "# Select only the columns which need to be used\n",
    "mob = mob[[\"ParticipantGender\", \"SendingPartnerErasmusID\", \"HostingPartnerErasmusID\"]]"
   ]
  },
  {
   "cell_type": "code",
   "execution_count": null,
   "metadata": {
    "ExecuteTime": {
     "end_time": "2019-12-16T17:44:07.717549Z",
     "start_time": "2019-12-16T17:43:58.143Z"
    }
   },
   "outputs": [],
   "source": [
    "merge = mob.merge(euc, left_on=\"SendingPartnerErasmusID\", right_on=\"Institutional code\", how=\"inner\")"
   ]
  },
  {
   "cell_type": "code",
   "execution_count": null,
   "metadata": {
    "ExecuteTime": {
     "end_time": "2019-12-16T17:44:07.719263Z",
     "start_time": "2019-12-16T17:43:58.318Z"
    }
   },
   "outputs": [],
   "source": [
    "merge = merge.merge(euc, left_on=\"HostingPartnerErasmusID\", right_on=\"Institutional code\", how=\"inner\", \n",
    "                    suffixes={\"Sending\", \"Hosting\"})"
   ]
  },
  {
   "cell_type": "code",
   "execution_count": null,
   "metadata": {
    "ExecuteTime": {
     "end_time": "2019-12-16T17:44:07.722255Z",
     "start_time": "2019-12-16T17:43:58.511Z"
    }
   },
   "outputs": [],
   "source": [
    "print(\"Lost {:0.3f}% in the merging.\".format((100 - (len(merge) / len(mob))*100)))"
   ]
  },
  {
   "cell_type": "code",
   "execution_count": null,
   "metadata": {
    "ExecuteTime": {
     "end_time": "2019-12-16T17:44:07.724559Z",
     "start_time": "2019-12-16T17:44:00.142Z"
    }
   },
   "outputs": [],
   "source": [
    "cmerge = merge[[\"CountryHosting\", \"CountrySending\" ,\"coordinatesHosting\", \"coordinatesSending\", \"ParticipantGender\"]].copy()"
   ]
  },
  {
   "cell_type": "code",
   "execution_count": null,
   "metadata": {
    "ExecuteTime": {
     "end_time": "2019-12-16T17:44:07.726193Z",
     "start_time": "2019-12-16T17:44:00.894Z"
    }
   },
   "outputs": [],
   "source": [
    "cmerge.coordinatesHosting = cmerge.coordinatesHosting.str.strip(\"()\").str.split(\",\")\n",
    "cmerge.coordinatesSending = cmerge.coordinatesSending.str.strip(\"()\").str.split(\",\")"
   ]
  },
  {
   "cell_type": "code",
   "execution_count": null,
   "metadata": {
    "ExecuteTime": {
     "end_time": "2019-12-16T17:44:07.727636Z",
     "start_time": "2019-12-16T17:44:01.407Z"
    }
   },
   "outputs": [],
   "source": [
    "cmerge[\"latHosting\"] = cmerge.coordinatesHosting.apply(lambda x: float(x[0]))\n",
    "cmerge[\"lonHosting\"] = cmerge.coordinatesHosting.apply(lambda x: float(x[1]))\n",
    "cmerge[\"latSending\"] = cmerge.coordinatesSending.apply(lambda x: float(x[0]))\n",
    "cmerge[\"lonSending\"] = cmerge.coordinatesSending.apply(lambda x: float(x[1]))"
   ]
  },
  {
   "cell_type": "code",
   "execution_count": null,
   "metadata": {
    "ExecuteTime": {
     "end_time": "2019-12-16T17:44:07.729343Z",
     "start_time": "2019-12-16T17:44:01.982Z"
    }
   },
   "outputs": [],
   "source": [
    "from geopy import distance\n",
    "\n",
    "cmerge['km'] = cmerge.apply(lambda row: distance.distance(\n",
    "        (row[\"latHosting\"], row[\"lonHosting\"]), (row[\"latSending\"], row[\"lonSending\"])).km, axis=1\n",
    ")"
   ]
  },
  {
   "cell_type": "code",
   "execution_count": null,
   "metadata": {
    "ExecuteTime": {
     "end_time": "2019-12-16T17:44:07.731101Z",
     "start_time": "2019-12-16T17:44:03.670Z"
    }
   },
   "outputs": [],
   "source": [
    "prod = cmerge[[\"CountryHosting\", \"CountrySending\",\"coordinatesSending\", \"coordinatesHosting\", \"km\", \"ParticipantGender\"]]"
   ]
  },
  {
   "cell_type": "code",
   "execution_count": 48,
   "metadata": {
    "ExecuteTime": {
     "end_time": "2019-12-11T11:12:57.150940Z",
     "start_time": "2019-12-11T11:12:55.784488Z"
    }
   },
   "outputs": [],
   "source": [
    "prod.to_csv(\"../checkpoints/02_corrected/data_submission/final_datasets/geocodedMobility.csv\")"
   ]
  },
  {
   "cell_type": "code",
   "execution_count": 16,
   "metadata": {
    "ExecuteTime": {
     "end_time": "2019-10-14T23:27:30.986746Z",
     "start_time": "2019-10-14T23:27:30.965618Z"
    }
   },
   "outputs": [],
   "source": [
    "cmerge = cmerge.drop(columns=[\"coordinatesHosting\", \"coordinatesSending\"])"
   ]
  },
  {
   "cell_type": "code",
   "execution_count": 200,
   "metadata": {
    "ExecuteTime": {
     "end_time": "2019-10-14T15:24:30.218258Z",
     "start_time": "2019-10-14T15:24:28.451861Z"
    }
   },
   "outputs": [],
   "source": [
    "cmerge.to_csv(\"finished_questions/travel_distance/distance_raw.csv\", index=False)"
   ]
  },
  {
   "cell_type": "code",
   "execution_count": 17,
   "metadata": {
    "ExecuteTime": {
     "end_time": "2019-10-14T23:27:30.998131Z",
     "start_time": "2019-10-14T23:27:30.988761Z"
    }
   },
   "outputs": [],
   "source": [
    "production = cmerge.copy()"
   ]
  },
  {
   "cell_type": "code",
   "execution_count": 18,
   "metadata": {
    "ExecuteTime": {
     "end_time": "2019-10-14T23:27:31.007355Z",
     "start_time": "2019-10-14T23:27:31.000180Z"
    }
   },
   "outputs": [],
   "source": [
    "production = production[[\"CountrySending\", \"km\"]]"
   ]
  },
  {
   "cell_type": "code",
   "execution_count": 217,
   "metadata": {
    "ExecuteTime": {
     "end_time": "2019-10-14T15:30:00.063502Z",
     "start_time": "2019-10-14T15:30:00.060445Z"
    }
   },
   "outputs": [],
   "source": [
    "from matplotlib import cm"
   ]
  },
  {
   "cell_type": "code",
   "execution_count": 219,
   "metadata": {
    "ExecuteTime": {
     "end_time": "2019-10-14T15:30:17.210947Z",
     "start_time": "2019-10-14T15:30:17.204359Z"
    }
   },
   "outputs": [
    {
     "data": {
      "text/plain": [
       "(0.0, 0.0, 0.517825311942959, 1.0)"
      ]
     },
     "execution_count": 219,
     "metadata": {},
     "output_type": "execute_result"
    }
   ],
   "source": [
    "cm.jet(len)"
   ]
  },
  {
   "cell_type": "code",
   "execution_count": 18,
   "metadata": {
    "ExecuteTime": {
     "end_time": "2019-10-17T13:27:09.049551Z",
     "start_time": "2019-10-17T13:27:09.015577Z"
    }
   },
   "outputs": [],
   "source": [
    "gb = prod.groupby(by=\"CountrySending\").mean().sort_values(by=\"km\")"
   ]
  },
  {
   "cell_type": "code",
   "execution_count": 19,
   "metadata": {
    "ExecuteTime": {
     "end_time": "2019-10-17T13:27:15.088233Z",
     "start_time": "2019-10-17T13:27:15.078565Z"
    }
   },
   "outputs": [
    {
     "data": {
      "text/html": [
       "<div>\n",
       "<style scoped>\n",
       "    .dataframe tbody tr th:only-of-type {\n",
       "        vertical-align: middle;\n",
       "    }\n",
       "\n",
       "    .dataframe tbody tr th {\n",
       "        vertical-align: top;\n",
       "    }\n",
       "\n",
       "    .dataframe thead th {\n",
       "        text-align: right;\n",
       "    }\n",
       "</style>\n",
       "<table border=\"1\" class=\"dataframe\">\n",
       "  <thead>\n",
       "    <tr style=\"text-align: right;\">\n",
       "      <th></th>\n",
       "      <th>km</th>\n",
       "    </tr>\n",
       "    <tr>\n",
       "      <th>CountrySending</th>\n",
       "      <th></th>\n",
       "    </tr>\n",
       "  </thead>\n",
       "  <tbody>\n",
       "    <tr>\n",
       "      <td>CH</td>\n",
       "      <td>761.182466</td>\n",
       "    </tr>\n",
       "    <tr>\n",
       "      <td>AT</td>\n",
       "      <td>923.554227</td>\n",
       "    </tr>\n",
       "    <tr>\n",
       "      <td>HR</td>\n",
       "      <td>953.885824</td>\n",
       "    </tr>\n",
       "    <tr>\n",
       "      <td>LI</td>\n",
       "      <td>969.681368</td>\n",
       "    </tr>\n",
       "    <tr>\n",
       "      <td>NL</td>\n",
       "      <td>1005.217117</td>\n",
       "    </tr>\n",
       "    <tr>\n",
       "      <td>DE</td>\n",
       "      <td>1048.100477</td>\n",
       "    </tr>\n",
       "    <tr>\n",
       "      <td>SI</td>\n",
       "      <td>1063.016421</td>\n",
       "    </tr>\n",
       "    <tr>\n",
       "      <td>BE</td>\n",
       "      <td>1075.506918</td>\n",
       "    </tr>\n",
       "    <tr>\n",
       "      <td>FR</td>\n",
       "      <td>1075.932036</td>\n",
       "    </tr>\n",
       "    <tr>\n",
       "      <td>DK</td>\n",
       "      <td>1106.314311</td>\n",
       "    </tr>\n",
       "    <tr>\n",
       "      <td>SK</td>\n",
       "      <td>1111.844049</td>\n",
       "    </tr>\n",
       "    <tr>\n",
       "      <td>CZ</td>\n",
       "      <td>1119.052804</td>\n",
       "    </tr>\n",
       "    <tr>\n",
       "      <td>LU</td>\n",
       "      <td>1129.545559</td>\n",
       "    </tr>\n",
       "    <tr>\n",
       "      <td>UK</td>\n",
       "      <td>1132.992601</td>\n",
       "    </tr>\n",
       "    <tr>\n",
       "      <td>HU</td>\n",
       "      <td>1144.777799</td>\n",
       "    </tr>\n",
       "    <tr>\n",
       "      <td>IT</td>\n",
       "      <td>1208.395820</td>\n",
       "    </tr>\n",
       "    <tr>\n",
       "      <td>IE</td>\n",
       "      <td>1308.428659</td>\n",
       "    </tr>\n",
       "    <tr>\n",
       "      <td>SE</td>\n",
       "      <td>1389.009390</td>\n",
       "    </tr>\n",
       "    <tr>\n",
       "      <td>BG</td>\n",
       "      <td>1501.376927</td>\n",
       "    </tr>\n",
       "    <tr>\n",
       "      <td>NO</td>\n",
       "      <td>1511.555240</td>\n",
       "    </tr>\n",
       "    <tr>\n",
       "      <td>LV</td>\n",
       "      <td>1559.487650</td>\n",
       "    </tr>\n",
       "    <tr>\n",
       "      <td>GR</td>\n",
       "      <td>1580.435895</td>\n",
       "    </tr>\n",
       "    <tr>\n",
       "      <td>RO</td>\n",
       "      <td>1590.589537</td>\n",
       "    </tr>\n",
       "    <tr>\n",
       "      <td>ES</td>\n",
       "      <td>1597.217212</td>\n",
       "    </tr>\n",
       "    <tr>\n",
       "      <td>PL</td>\n",
       "      <td>1597.965153</td>\n",
       "    </tr>\n",
       "    <tr>\n",
       "      <td>EE</td>\n",
       "      <td>1623.957316</td>\n",
       "    </tr>\n",
       "    <tr>\n",
       "      <td>LT</td>\n",
       "      <td>1651.139840</td>\n",
       "    </tr>\n",
       "    <tr>\n",
       "      <td>MT</td>\n",
       "      <td>1772.650258</td>\n",
       "    </tr>\n",
       "    <tr>\n",
       "      <td>PT</td>\n",
       "      <td>1868.821828</td>\n",
       "    </tr>\n",
       "    <tr>\n",
       "      <td>TR</td>\n",
       "      <td>1903.350142</td>\n",
       "    </tr>\n",
       "    <tr>\n",
       "      <td>FI</td>\n",
       "      <td>1929.270996</td>\n",
       "    </tr>\n",
       "    <tr>\n",
       "      <td>CY</td>\n",
       "      <td>2493.756771</td>\n",
       "    </tr>\n",
       "    <tr>\n",
       "      <td>IS</td>\n",
       "      <td>2525.261575</td>\n",
       "    </tr>\n",
       "  </tbody>\n",
       "</table>\n",
       "</div>"
      ],
      "text/plain": [
       "                         km\n",
       "CountrySending             \n",
       "CH               761.182466\n",
       "AT               923.554227\n",
       "HR               953.885824\n",
       "LI               969.681368\n",
       "NL              1005.217117\n",
       "DE              1048.100477\n",
       "SI              1063.016421\n",
       "BE              1075.506918\n",
       "FR              1075.932036\n",
       "DK              1106.314311\n",
       "SK              1111.844049\n",
       "CZ              1119.052804\n",
       "LU              1129.545559\n",
       "UK              1132.992601\n",
       "HU              1144.777799\n",
       "IT              1208.395820\n",
       "IE              1308.428659\n",
       "SE              1389.009390\n",
       "BG              1501.376927\n",
       "NO              1511.555240\n",
       "LV              1559.487650\n",
       "GR              1580.435895\n",
       "RO              1590.589537\n",
       "ES              1597.217212\n",
       "PL              1597.965153\n",
       "EE              1623.957316\n",
       "LT              1651.139840\n",
       "MT              1772.650258\n",
       "PT              1868.821828\n",
       "TR              1903.350142\n",
       "FI              1929.270996\n",
       "CY              2493.756771\n",
       "IS              2525.261575"
      ]
     },
     "execution_count": 19,
     "metadata": {},
     "output_type": "execute_result"
    }
   ],
   "source": [
    "gb "
   ]
  },
  {
   "cell_type": "code",
   "execution_count": 226,
   "metadata": {
    "ExecuteTime": {
     "end_time": "2019-10-14T15:32:10.265643Z",
     "start_time": "2019-10-14T15:32:10.260834Z"
    }
   },
   "outputs": [],
   "source": [
    "cols = []\n",
    "for i in range(len(gb)):\n",
    "    cols.append(cm.jet(i))"
   ]
  },
  {
   "cell_type": "code",
   "execution_count": 21,
   "metadata": {
    "ExecuteTime": {
     "end_time": "2019-10-14T23:31:21.427370Z",
     "start_time": "2019-10-14T23:31:21.412522Z"
    }
   },
   "outputs": [],
   "source": [
    "mean = production.groupby(by=\"CountrySending\").mean()"
   ]
  },
  {
   "cell_type": "code",
   "execution_count": 22,
   "metadata": {
    "ExecuteTime": {
     "end_time": "2019-10-14T23:31:29.045711Z",
     "start_time": "2019-10-14T23:31:29.028464Z"
    }
   },
   "outputs": [],
   "source": [
    "std = production.groupby(by=\"CountrySending\").std()"
   ]
  },
  {
   "cell_type": "code",
   "execution_count": 27,
   "metadata": {
    "ExecuteTime": {
     "end_time": "2019-10-14T23:32:06.782678Z",
     "start_time": "2019-10-14T23:32:06.777840Z"
    }
   },
   "outputs": [],
   "source": [
    "mean[\"std\"] = std.km"
   ]
  },
  {
   "cell_type": "code",
   "execution_count": 31,
   "metadata": {
    "ExecuteTime": {
     "end_time": "2019-10-14T23:33:47.083718Z",
     "start_time": "2019-10-14T23:33:47.078142Z"
    }
   },
   "outputs": [],
   "source": [
    "mean.rename(columns={\"km\": \"km_distance\", \"std\": \"km_deviation\"}).to_csv(\"../datasets/country_distance.csv\", index=True)"
   ]
  },
  {
   "cell_type": "code",
   "execution_count": 240,
   "metadata": {
    "ExecuteTime": {
     "end_time": "2019-10-14T15:40:14.581237Z",
     "start_time": "2019-10-14T15:40:14.057317Z"
    }
   },
   "outputs": [
    {
     "data": {
      "text/plain": [
       "<matplotlib.axes._subplots.AxesSubplot at 0x146e9af98>"
      ]
     },
     "execution_count": 240,
     "metadata": {},
     "output_type": "execute_result"
    },
    {
     "data": {
      "image/png": "[encoded data removed]",
      "text/plain": [
       "<Figure size 864x432 with 1 Axes>"
      ]
     },
     "metadata": {
      "needs_background": "light"
     },
     "output_type": "display_data"
    }
   ],
   "source": [
    "fig, ax = plt.subplots(figsize=(12, 6))\n",
    "production.groupby(by=\"CountrySending\").mean().sort_values(by=\"km\").plot(kind=\"bar\", ax=ax, colormap='summer')"
   ]
  },
  {
   "cell_type": "code",
   "execution_count": 27,
   "metadata": {
    "ExecuteTime": {
     "end_time": "2019-10-17T15:17:27.214989Z",
     "start_time": "2019-10-17T15:17:26.127988Z"
    }
   },
   "outputs": [
    {
     "data": {
      "image/png": "[encoded data removed]",
      "text/plain": [
       "<Figure size 864x432 with 1 Axes>"
      ]
     },
     "metadata": {
      "needs_background": "light"
     },
     "output_type": "display_data"
    }
   ],
   "source": [
    "fig, ax = plt.subplots(figsize=(12, 6))\n",
    "prod.boxplot(column=\"km\", by=\"CountrySending\", ax=ax)\n",
    "fig.suptitle('')\n",
    "ax.set_title(\"Distance travelede from home to target university\")\n",
    "ax.set_xlabel(\"Sending country\")\n",
    "ax.set_ylabel(\"Distance from home to target university\")\n",
    "plt.show()"
   ]
  },
  {
   "cell_type": "code",
   "execution_count": 7,
   "metadata": {
    "ExecuteTime": {
     "end_time": "2019-12-16T17:44:19.454677Z",
     "start_time": "2019-12-16T17:44:19.451544Z"
    }
   },
   "outputs": [],
   "source": [
    "import pandas as pd"
   ]
  },
  {
   "cell_type": "code",
   "execution_count": 9,
   "metadata": {
    "ExecuteTime": {
     "end_time": "2019-12-16T17:44:29.852688Z",
     "start_time": "2019-12-16T17:44:29.644316Z"
    }
   },
   "outputs": [],
   "source": [
    "df = pd.read_csv(\"../checkpoints/02_corrected/data_submission/final_datasets/geocodedMobility.csv\")"
   ]
  },
  {
   "cell_type": "code",
   "execution_count": 17,
   "metadata": {
    "ExecuteTime": {
     "end_time": "2019-12-16T17:46:15.254358Z",
     "start_time": "2019-12-16T17:46:15.190759Z"
    }
   },
   "outputs": [
    {
     "data": {
      "text/html": [
       "<div>\n",
       "<style scoped>\n",
       "    .dataframe tbody tr th:only-of-type {\n",
       "        vertical-align: middle;\n",
       "    }\n",
       "\n",
       "    .dataframe tbody tr th {\n",
       "        vertical-align: top;\n",
       "    }\n",
       "\n",
       "    .dataframe thead th {\n",
       "        text-align: right;\n",
       "    }\n",
       "</style>\n",
       "<table border=\"1\" class=\"dataframe\">\n",
       "  <thead>\n",
       "    <tr style=\"text-align: right;\">\n",
       "      <th></th>\n",
       "      <th>Number</th>\n",
       "      <th>CountryHosting</th>\n",
       "      <th>CountrySending</th>\n",
       "      <th>coordinatesSending</th>\n",
       "      <th>coordinatesHosting</th>\n",
       "      <th>km</th>\n",
       "      <th>ParticipantGender</th>\n",
       "    </tr>\n",
       "  </thead>\n",
       "  <tbody>\n",
       "    <tr>\n",
       "      <th>194533</th>\n",
       "      <td>194533</td>\n",
       "      <td>AT</td>\n",
       "      <td>HU</td>\n",
       "      <td>['47.680273', ' 16.5771423']</td>\n",
       "      <td>['47.8294118', ' 16.5350525']</td>\n",
       "      <td>16.879708</td>\n",
       "      <td>F</td>\n",
       "    </tr>\n",
       "    <tr>\n",
       "      <th>194534</th>\n",
       "      <td>194534</td>\n",
       "      <td>AT</td>\n",
       "      <td>HU</td>\n",
       "      <td>['47.680273', ' 16.5771423']</td>\n",
       "      <td>['47.8294118', ' 16.5350525']</td>\n",
       "      <td>16.879708</td>\n",
       "      <td>F</td>\n",
       "    </tr>\n",
       "    <tr>\n",
       "      <th>156887</th>\n",
       "      <td>156887</td>\n",
       "      <td>HU</td>\n",
       "      <td>AT</td>\n",
       "      <td>['47.8294118', ' 16.5350525']</td>\n",
       "      <td>['47.680273', ' 16.5771423']</td>\n",
       "      <td>16.879708</td>\n",
       "      <td>M</td>\n",
       "    </tr>\n",
       "    <tr>\n",
       "      <th>206738</th>\n",
       "      <td>206738</td>\n",
       "      <td>AT</td>\n",
       "      <td>HU</td>\n",
       "      <td>['47.680273', ' 16.5771423']</td>\n",
       "      <td>['47.8295268', ' 16.5337338']</td>\n",
       "      <td>16.911019</td>\n",
       "      <td>F</td>\n",
       "    </tr>\n",
       "    <tr>\n",
       "      <th>204535</th>\n",
       "      <td>204535</td>\n",
       "      <td>DE</td>\n",
       "      <td>FR</td>\n",
       "      <td>['48.5790692', ' 7.766454499999999']</td>\n",
       "      <td>['48.458828', ' 7.942094999999999']</td>\n",
       "      <td>18.631605</td>\n",
       "      <td>M</td>\n",
       "    </tr>\n",
       "    <tr>\n",
       "      <th>...</th>\n",
       "      <td>...</td>\n",
       "      <td>...</td>\n",
       "      <td>...</td>\n",
       "      <td>...</td>\n",
       "      <td>...</td>\n",
       "      <td>...</td>\n",
       "      <td>...</td>\n",
       "    </tr>\n",
       "    <tr>\n",
       "      <th>163525</th>\n",
       "      <td>163525</td>\n",
       "      <td>LU</td>\n",
       "      <td>FR</td>\n",
       "      <td>['-22.2631296', ' 166.4031554']</td>\n",
       "      <td>['49.504254', ' 5.948386']</td>\n",
       "      <td>16532.130364</td>\n",
       "      <td>F</td>\n",
       "    </tr>\n",
       "    <tr>\n",
       "      <th>163526</th>\n",
       "      <td>163526</td>\n",
       "      <td>LU</td>\n",
       "      <td>FR</td>\n",
       "      <td>['-22.2631296', ' 166.4031554']</td>\n",
       "      <td>['49.504254', ' 5.948386']</td>\n",
       "      <td>16532.130364</td>\n",
       "      <td>F</td>\n",
       "    </tr>\n",
       "    <tr>\n",
       "      <th>163527</th>\n",
       "      <td>163527</td>\n",
       "      <td>LU</td>\n",
       "      <td>FR</td>\n",
       "      <td>['-22.2631296', ' 166.4031554']</td>\n",
       "      <td>['49.504254', ' 5.948386']</td>\n",
       "      <td>16532.130364</td>\n",
       "      <td>F</td>\n",
       "    </tr>\n",
       "    <tr>\n",
       "      <th>160944</th>\n",
       "      <td>160944</td>\n",
       "      <td>FR</td>\n",
       "      <td>DE</td>\n",
       "      <td>['47.689426', ' 9.1868777']</td>\n",
       "      <td>['-22.2631296', ' 166.4031554']</td>\n",
       "      <td>16534.164957</td>\n",
       "      <td>F</td>\n",
       "    </tr>\n",
       "    <tr>\n",
       "      <th>160945</th>\n",
       "      <td>160945</td>\n",
       "      <td>FR</td>\n",
       "      <td>DE</td>\n",
       "      <td>['47.689426', ' 9.1868777']</td>\n",
       "      <td>['-22.2631296', ' 166.4031554']</td>\n",
       "      <td>16534.164957</td>\n",
       "      <td>M</td>\n",
       "    </tr>\n",
       "  </tbody>\n",
       "</table>\n",
       "<p>207790 rows × 7 columns</p>\n",
       "</div>"
      ],
      "text/plain": [
       "        Number CountryHosting CountrySending  \\\n",
       "194533  194533             AT             HU   \n",
       "194534  194534             AT             HU   \n",
       "156887  156887             HU             AT   \n",
       "206738  206738             AT             HU   \n",
       "204535  204535             DE             FR   \n",
       "...        ...            ...            ...   \n",
       "163525  163525             LU             FR   \n",
       "163526  163526             LU             FR   \n",
       "163527  163527             LU             FR   \n",
       "160944  160944             FR             DE   \n",
       "160945  160945             FR             DE   \n",
       "\n",
       "                          coordinatesSending  \\\n",
       "194533          ['47.680273', ' 16.5771423']   \n",
       "194534          ['47.680273', ' 16.5771423']   \n",
       "156887         ['47.8294118', ' 16.5350525']   \n",
       "206738          ['47.680273', ' 16.5771423']   \n",
       "204535  ['48.5790692', ' 7.766454499999999']   \n",
       "...                                      ...   \n",
       "163525       ['-22.2631296', ' 166.4031554']   \n",
       "163526       ['-22.2631296', ' 166.4031554']   \n",
       "163527       ['-22.2631296', ' 166.4031554']   \n",
       "160944           ['47.689426', ' 9.1868777']   \n",
       "160945           ['47.689426', ' 9.1868777']   \n",
       "\n",
       "                         coordinatesHosting            km ParticipantGender  \n",
       "194533        ['47.8294118', ' 16.5350525']     16.879708                 F  \n",
       "194534        ['47.8294118', ' 16.5350525']     16.879708                 F  \n",
       "156887         ['47.680273', ' 16.5771423']     16.879708                 M  \n",
       "206738        ['47.8295268', ' 16.5337338']     16.911019                 F  \n",
       "204535  ['48.458828', ' 7.942094999999999']     18.631605                 M  \n",
       "...                                     ...           ...               ...  \n",
       "163525           ['49.504254', ' 5.948386']  16532.130364                 F  \n",
       "163526           ['49.504254', ' 5.948386']  16532.130364                 F  \n",
       "163527           ['49.504254', ' 5.948386']  16532.130364                 F  \n",
       "160944      ['-22.2631296', ' 166.4031554']  16534.164957                 F  \n",
       "160945      ['-22.2631296', ' 166.4031554']  16534.164957                 M  \n",
       "\n",
       "[207790 rows x 7 columns]"
      ]
     },
     "execution_count": 17,
     "metadata": {},
     "output_type": "execute_result"
    }
   ],
   "source": [
    "df.sort_values(by=\"km\")"
   ]
  },
  {
   "cell_type": "code",
   "execution_count": 15,
   "metadata": {
    "ExecuteTime": {
     "end_time": "2019-12-16T17:45:30.537776Z",
     "start_time": "2019-12-16T17:45:30.505472Z"
    }
   },
   "outputs": [
    {
     "data": {
      "text/html": [
       "<div>\n",
       "<style scoped>\n",
       "    .dataframe tbody tr th:only-of-type {\n",
       "        vertical-align: middle;\n",
       "    }\n",
       "\n",
       "    .dataframe tbody tr th {\n",
       "        vertical-align: top;\n",
       "    }\n",
       "\n",
       "    .dataframe thead th {\n",
       "        text-align: right;\n",
       "    }\n",
       "</style>\n",
       "<table border=\"1\" class=\"dataframe\">\n",
       "  <thead>\n",
       "    <tr style=\"text-align: right;\">\n",
       "      <th></th>\n",
       "      <th>Number</th>\n",
       "      <th>CountryHosting</th>\n",
       "      <th>CountrySending</th>\n",
       "      <th>coordinatesSending</th>\n",
       "      <th>coordinatesHosting</th>\n",
       "      <th>km</th>\n",
       "      <th>ParticipantGender</th>\n",
       "    </tr>\n",
       "  </thead>\n",
       "  <tbody>\n",
       "    <tr>\n",
       "      <th>88</th>\n",
       "      <td>88</td>\n",
       "      <td>NO</td>\n",
       "      <td>SK</td>\n",
       "      <td>['48.1257816', ' 17.1332155']</td>\n",
       "      <td>['59.13876190000001', ' 9.6721566']</td>\n",
       "      <td>1319.408743</td>\n",
       "      <td>M</td>\n",
       "    </tr>\n",
       "    <tr>\n",
       "      <th>89</th>\n",
       "      <td>89</td>\n",
       "      <td>NO</td>\n",
       "      <td>SK</td>\n",
       "      <td>['48.1257816', ' 17.1332155']</td>\n",
       "      <td>['59.13876190000001', ' 9.6721566']</td>\n",
       "      <td>1319.408743</td>\n",
       "      <td>F</td>\n",
       "    </tr>\n",
       "    <tr>\n",
       "      <th>90</th>\n",
       "      <td>90</td>\n",
       "      <td>NO</td>\n",
       "      <td>SK</td>\n",
       "      <td>['48.14174939999999', ' 17.1074531']</td>\n",
       "      <td>['59.13876190000001', ' 9.6721566']</td>\n",
       "      <td>1317.106651</td>\n",
       "      <td>F</td>\n",
       "    </tr>\n",
       "    <tr>\n",
       "      <th>91</th>\n",
       "      <td>91</td>\n",
       "      <td>NO</td>\n",
       "      <td>SK</td>\n",
       "      <td>['49.2040671', ' 18.7548664']</td>\n",
       "      <td>['59.13876190000001', ' 9.6721566']</td>\n",
       "      <td>1252.269986</td>\n",
       "      <td>M</td>\n",
       "    </tr>\n",
       "    <tr>\n",
       "      <th>92</th>\n",
       "      <td>92</td>\n",
       "      <td>NO</td>\n",
       "      <td>SK</td>\n",
       "      <td>['49.2040671', ' 18.7548664']</td>\n",
       "      <td>['59.13876190000001', ' 9.6721566']</td>\n",
       "      <td>1252.269986</td>\n",
       "      <td>M</td>\n",
       "    </tr>\n",
       "    <tr>\n",
       "      <th>...</th>\n",
       "      <td>...</td>\n",
       "      <td>...</td>\n",
       "      <td>...</td>\n",
       "      <td>...</td>\n",
       "      <td>...</td>\n",
       "      <td>...</td>\n",
       "      <td>...</td>\n",
       "    </tr>\n",
       "    <tr>\n",
       "      <th>207673</th>\n",
       "      <td>207673</td>\n",
       "      <td>PL</td>\n",
       "      <td>SK</td>\n",
       "      <td>['49.0793883', ' 19.2992225']</td>\n",
       "      <td>['50.0625819', ' 19.9488975']</td>\n",
       "      <td>119.019872</td>\n",
       "      <td>F</td>\n",
       "    </tr>\n",
       "    <tr>\n",
       "      <th>207674</th>\n",
       "      <td>207674</td>\n",
       "      <td>PL</td>\n",
       "      <td>SK</td>\n",
       "      <td>['49.0793883', ' 19.2992225']</td>\n",
       "      <td>['50.8102127', ' 19.1162443']</td>\n",
       "      <td>192.963417</td>\n",
       "      <td>M</td>\n",
       "    </tr>\n",
       "    <tr>\n",
       "      <th>207675</th>\n",
       "      <td>207675</td>\n",
       "      <td>BG</td>\n",
       "      <td>SK</td>\n",
       "      <td>['48.5723721', ' 19.117315']</td>\n",
       "      <td>['42.6537179', ' 23.3586361']</td>\n",
       "      <td>736.035706</td>\n",
       "      <td>M</td>\n",
       "    </tr>\n",
       "    <tr>\n",
       "      <th>207676</th>\n",
       "      <td>207676</td>\n",
       "      <td>CZ</td>\n",
       "      <td>SK</td>\n",
       "      <td>['48.15911130000001', ' 17.1635265']</td>\n",
       "      <td>['50.0581617', ' 14.4323923']</td>\n",
       "      <td>290.421640</td>\n",
       "      <td>F</td>\n",
       "    </tr>\n",
       "    <tr>\n",
       "      <th>207679</th>\n",
       "      <td>207679</td>\n",
       "      <td>FR</td>\n",
       "      <td>SK</td>\n",
       "      <td>['48.84714719999999', ' 17.232719']</td>\n",
       "      <td>['45.2047438', ' 5.737802200000001']</td>\n",
       "      <td>961.787203</td>\n",
       "      <td>M</td>\n",
       "    </tr>\n",
       "  </tbody>\n",
       "</table>\n",
       "<p>2529 rows × 7 columns</p>\n",
       "</div>"
      ],
      "text/plain": [
       "        Number CountryHosting CountrySending  \\\n",
       "88          88             NO             SK   \n",
       "89          89             NO             SK   \n",
       "90          90             NO             SK   \n",
       "91          91             NO             SK   \n",
       "92          92             NO             SK   \n",
       "...        ...            ...            ...   \n",
       "207673  207673             PL             SK   \n",
       "207674  207674             PL             SK   \n",
       "207675  207675             BG             SK   \n",
       "207676  207676             CZ             SK   \n",
       "207679  207679             FR             SK   \n",
       "\n",
       "                          coordinatesSending  \\\n",
       "88             ['48.1257816', ' 17.1332155']   \n",
       "89             ['48.1257816', ' 17.1332155']   \n",
       "90      ['48.14174939999999', ' 17.1074531']   \n",
       "91             ['49.2040671', ' 18.7548664']   \n",
       "92             ['49.2040671', ' 18.7548664']   \n",
       "...                                      ...   \n",
       "207673         ['49.0793883', ' 19.2992225']   \n",
       "207674         ['49.0793883', ' 19.2992225']   \n",
       "207675          ['48.5723721', ' 19.117315']   \n",
       "207676  ['48.15911130000001', ' 17.1635265']   \n",
       "207679   ['48.84714719999999', ' 17.232719']   \n",
       "\n",
       "                          coordinatesHosting           km ParticipantGender  \n",
       "88       ['59.13876190000001', ' 9.6721566']  1319.408743                 M  \n",
       "89       ['59.13876190000001', ' 9.6721566']  1319.408743                 F  \n",
       "90       ['59.13876190000001', ' 9.6721566']  1317.106651                 F  \n",
       "91       ['59.13876190000001', ' 9.6721566']  1252.269986                 M  \n",
       "92       ['59.13876190000001', ' 9.6721566']  1252.269986                 M  \n",
       "...                                      ...          ...               ...  \n",
       "207673         ['50.0625819', ' 19.9488975']   119.019872                 F  \n",
       "207674         ['50.8102127', ' 19.1162443']   192.963417                 M  \n",
       "207675         ['42.6537179', ' 23.3586361']   736.035706                 M  \n",
       "207676         ['50.0581617', ' 14.4323923']   290.421640                 F  \n",
       "207679  ['45.2047438', ' 5.737802200000001']   961.787203                 M  \n",
       "\n",
       "[2529 rows x 7 columns]"
      ]
     },
     "execution_count": 15,
     "metadata": {},
     "output_type": "execute_result"
    }
   ],
   "source": [
    "df[df.CountrySending == \"SK\"]"
   ]
  },
  {
   "cell_type": "code",
   "execution_count": null,
   "metadata": {},
   "outputs": [],
   "source": []
  }
 ],
 "metadata": {
  "kernelspec": {
   "display_name": "Python 3",
   "language": "python",
   "name": "python3"
  },
  "language_info": {
   "codemirror_mode": {
    "name": "ipython",
    "version": 3
   },
   "file_extension": ".py",
   "mimetype": "text/x-python",
   "name": "python",
   "nbconvert_exporter": "python",
   "pygments_lexer": "ipython3",
   "version": "3.6.1"
  }
 },
 "nbformat": 4,
 "nbformat_minor": 2
}
