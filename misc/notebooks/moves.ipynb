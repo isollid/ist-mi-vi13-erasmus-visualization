{
 "cells": [
  {
   "cell_type": "code",
   "execution_count": 1,
   "metadata": {
    "ExecuteTime": {
     "end_time": "2019-10-15T09:48:52.521193Z",
     "start_time": "2019-10-15T09:48:51.738483Z"
    }
   },
   "outputs": [],
   "source": [
    "import pandas as pd\n",
    "import numpy as np"
   ]
  },
  {
   "cell_type": "code",
   "execution_count": 2,
   "metadata": {
    "ExecuteTime": {
     "end_time": "2019-10-15T09:49:52.884474Z",
     "start_time": "2019-10-15T09:48:52.524052Z"
    }
   },
   "outputs": [],
   "source": [
    "mob = pd.read_excel(\"../datasets/Student_Mobility_2013-14.xlsx\")\n",
    "euc = pd.read_csv(\"../datasets/EUC_geocoded_clean.csv\")"
   ]
  },
  {
   "cell_type": "code",
   "execution_count": 3,
   "metadata": {
    "ExecuteTime": {
     "end_time": "2019-10-15T09:49:53.040703Z",
     "start_time": "2019-10-15T09:49:52.887618Z"
    }
   },
   "outputs": [],
   "source": [
    "mob = mob[mob.MobilityType == \"Mob-SMS\"]"
   ]
  },
  {
   "cell_type": "code",
   "execution_count": 4,
   "metadata": {
    "ExecuteTime": {
     "end_time": "2019-10-15T09:49:53.080365Z",
     "start_time": "2019-10-15T09:49:53.043768Z"
    }
   },
   "outputs": [],
   "source": [
    "mob = mob[[\"SendingPartnerErasmusID\", \"HostingPartnerErasmusID\", \"SendingCountry\", \"ReceivingCountry\"]]"
   ]
  },
  {
   "cell_type": "code",
   "execution_count": 5,
   "metadata": {
    "ExecuteTime": {
     "end_time": "2019-10-15T09:49:53.087057Z",
     "start_time": "2019-10-15T09:49:53.082560Z"
    }
   },
   "outputs": [],
   "source": [
    "euc = euc[[\"Institutional code\", \"coordinates\", \"Name of Organisation\"]]"
   ]
  },
  {
   "cell_type": "code",
   "execution_count": 6,
   "metadata": {
    "ExecuteTime": {
     "end_time": "2019-10-15T09:49:53.177399Z",
     "start_time": "2019-10-15T09:49:53.089000Z"
    }
   },
   "outputs": [],
   "source": [
    "mob = mob.merge(euc, left_on=\"SendingPartnerErasmusID\", right_on=\"Institutional code\").drop(columns=[\"Institutional code\"])"
   ]
  },
  {
   "cell_type": "code",
   "execution_count": 7,
   "metadata": {
    "ExecuteTime": {
     "end_time": "2019-10-15T09:49:53.272035Z",
     "start_time": "2019-10-15T09:49:53.179460Z"
    }
   },
   "outputs": [],
   "source": [
    "mob = mob.merge(euc, left_on=\"HostingPartnerErasmusID\", right_on=\"Institutional code\", suffixes=(\"_send\", \"_host\")).drop(columns=[\"Institutional code\"])"
   ]
  },
  {
   "cell_type": "code",
   "execution_count": 8,
   "metadata": {
    "ExecuteTime": {
     "end_time": "2019-10-15T09:49:53.291743Z",
     "start_time": "2019-10-15T09:49:53.275354Z"
    }
   },
   "outputs": [],
   "source": [
    "mob = mob.drop(columns=[\"SendingPartnerErasmusID\", \"HostingPartnerErasmusID\"])"
   ]
  },
  {
   "cell_type": "code",
   "execution_count": 9,
   "metadata": {
    "ExecuteTime": {
     "end_time": "2019-10-15T09:49:53.330066Z",
     "start_time": "2019-10-15T09:49:53.304800Z"
    }
   },
   "outputs": [
    {
     "data": {
      "text/html": [
       "<div>\n",
       "<style scoped>\n",
       "    .dataframe tbody tr th:only-of-type {\n",
       "        vertical-align: middle;\n",
       "    }\n",
       "\n",
       "    .dataframe tbody tr th {\n",
       "        vertical-align: top;\n",
       "    }\n",
       "\n",
       "    .dataframe thead th {\n",
       "        text-align: right;\n",
       "    }\n",
       "</style>\n",
       "<table border=\"1\" class=\"dataframe\">\n",
       "  <thead>\n",
       "    <tr style=\"text-align: right;\">\n",
       "      <th></th>\n",
       "      <th>SendingCountry</th>\n",
       "      <th>ReceivingCountry</th>\n",
       "      <th>coordinates_send</th>\n",
       "      <th>Name of Organisation_send</th>\n",
       "      <th>coordinates_host</th>\n",
       "      <th>Name of Organisation_host</th>\n",
       "    </tr>\n",
       "  </thead>\n",
       "  <tbody>\n",
       "    <tr>\n",
       "      <td>0</td>\n",
       "      <td>AT</td>\n",
       "      <td>NO</td>\n",
       "      <td>(48.00849239999999, 16.2552558)</td>\n",
       "      <td>PAEDAGOGISCHE HOCHSCHULE NIEDEROESTERREICH</td>\n",
       "      <td>(59.13876190000001, 9.6721566)</td>\n",
       "      <td>HOGSKOLEN I TELEMARK</td>\n",
       "    </tr>\n",
       "    <tr>\n",
       "      <td>1</td>\n",
       "      <td>AT</td>\n",
       "      <td>NO</td>\n",
       "      <td>(48.00849239999999, 16.2552558)</td>\n",
       "      <td>PAEDAGOGISCHE HOCHSCHULE NIEDEROESTERREICH</td>\n",
       "      <td>(59.13876190000001, 9.6721566)</td>\n",
       "      <td>HOGSKOLEN I TELEMARK</td>\n",
       "    </tr>\n",
       "    <tr>\n",
       "      <td>2</td>\n",
       "      <td>AT</td>\n",
       "      <td>NO</td>\n",
       "      <td>(48.00849239999999, 16.2552558)</td>\n",
       "      <td>PAEDAGOGISCHE HOCHSCHULE NIEDEROESTERREICH</td>\n",
       "      <td>(59.13876190000001, 9.6721566)</td>\n",
       "      <td>HOGSKOLEN I TELEMARK</td>\n",
       "    </tr>\n",
       "    <tr>\n",
       "      <td>3</td>\n",
       "      <td>AT</td>\n",
       "      <td>NO</td>\n",
       "      <td>(48.00849239999999, 16.2552558)</td>\n",
       "      <td>PAEDAGOGISCHE HOCHSCHULE NIEDEROESTERREICH</td>\n",
       "      <td>(59.13876190000001, 9.6721566)</td>\n",
       "      <td>HOGSKOLEN I TELEMARK</td>\n",
       "    </tr>\n",
       "    <tr>\n",
       "      <td>4</td>\n",
       "      <td>AT</td>\n",
       "      <td>NO</td>\n",
       "      <td>(48.2365448, 16.337579)</td>\n",
       "      <td>UNIVERSITAT FUR BODENKULTUR WIEN</td>\n",
       "      <td>(59.13876190000001, 9.6721566)</td>\n",
       "      <td>HOGSKOLEN I TELEMARK</td>\n",
       "    </tr>\n",
       "    <tr>\n",
       "      <td>...</td>\n",
       "      <td>...</td>\n",
       "      <td>...</td>\n",
       "      <td>...</td>\n",
       "      <td>...</td>\n",
       "      <td>...</td>\n",
       "      <td>...</td>\n",
       "    </tr>\n",
       "    <tr>\n",
       "      <td>207785</td>\n",
       "      <td>TR</td>\n",
       "      <td>PL</td>\n",
       "      <td>(38.029533, 32.506051)</td>\n",
       "      <td>SELCUK UNIVERSITESI</td>\n",
       "      <td>(51.2700959, 22.5694099)</td>\n",
       "      <td>WYZSZA SZKOLA PRZEDSIEBIORCZOSCI I ADMINISTRAC...</td>\n",
       "    </tr>\n",
       "    <tr>\n",
       "      <td>207786</td>\n",
       "      <td>TR</td>\n",
       "      <td>PL</td>\n",
       "      <td>(38.029533, 32.506051)</td>\n",
       "      <td>SELCUK UNIVERSITESI</td>\n",
       "      <td>(51.2700959, 22.5694099)</td>\n",
       "      <td>WYZSZA SZKOLA PRZEDSIEBIORCZOSCI I ADMINISTRAC...</td>\n",
       "    </tr>\n",
       "    <tr>\n",
       "      <td>207787</td>\n",
       "      <td>TR</td>\n",
       "      <td>PL</td>\n",
       "      <td>(38.029533, 32.506051)</td>\n",
       "      <td>SELCUK UNIVERSITESI</td>\n",
       "      <td>(51.2700959, 22.5694099)</td>\n",
       "      <td>WYZSZA SZKOLA PRZEDSIEBIORCZOSCI I ADMINISTRAC...</td>\n",
       "    </tr>\n",
       "    <tr>\n",
       "      <td>207788</td>\n",
       "      <td>TR</td>\n",
       "      <td>RO</td>\n",
       "      <td>(40.9919149, 28.7975316)</td>\n",
       "      <td>ISTANBUL AYDIN UNIVERSITY</td>\n",
       "      <td>(44.4401482, 26.0589913)</td>\n",
       "      <td>UNIVERSITATEA ECOLOGICA DIN BUCURESTI</td>\n",
       "    </tr>\n",
       "    <tr>\n",
       "      <td>207789</td>\n",
       "      <td>TR</td>\n",
       "      <td>PL</td>\n",
       "      <td>(40.9919149, 28.7975316)</td>\n",
       "      <td>ISTANBUL AYDIN UNIVERSITY</td>\n",
       "      <td>(52.2485016, 21.0825281)</td>\n",
       "      <td>VIAMODA SZKOLA WYZSZA</td>\n",
       "    </tr>\n",
       "  </tbody>\n",
       "</table>\n",
       "<p>207790 rows × 6 columns</p>\n",
       "</div>"
      ],
      "text/plain": [
       "       SendingCountry ReceivingCountry                 coordinates_send  \\\n",
       "0                  AT               NO  (48.00849239999999, 16.2552558)   \n",
       "1                  AT               NO  (48.00849239999999, 16.2552558)   \n",
       "2                  AT               NO  (48.00849239999999, 16.2552558)   \n",
       "3                  AT               NO  (48.00849239999999, 16.2552558)   \n",
       "4                  AT               NO          (48.2365448, 16.337579)   \n",
       "...               ...              ...                              ...   \n",
       "207785             TR               PL           (38.029533, 32.506051)   \n",
       "207786             TR               PL           (38.029533, 32.506051)   \n",
       "207787             TR               PL           (38.029533, 32.506051)   \n",
       "207788             TR               RO         (40.9919149, 28.7975316)   \n",
       "207789             TR               PL         (40.9919149, 28.7975316)   \n",
       "\n",
       "                         Name of Organisation_send  \\\n",
       "0       PAEDAGOGISCHE HOCHSCHULE NIEDEROESTERREICH   \n",
       "1       PAEDAGOGISCHE HOCHSCHULE NIEDEROESTERREICH   \n",
       "2       PAEDAGOGISCHE HOCHSCHULE NIEDEROESTERREICH   \n",
       "3       PAEDAGOGISCHE HOCHSCHULE NIEDEROESTERREICH   \n",
       "4                 UNIVERSITAT FUR BODENKULTUR WIEN   \n",
       "...                                            ...   \n",
       "207785                         SELCUK UNIVERSITESI   \n",
       "207786                         SELCUK UNIVERSITESI   \n",
       "207787                         SELCUK UNIVERSITESI   \n",
       "207788                   ISTANBUL AYDIN UNIVERSITY   \n",
       "207789                   ISTANBUL AYDIN UNIVERSITY   \n",
       "\n",
       "                      coordinates_host  \\\n",
       "0       (59.13876190000001, 9.6721566)   \n",
       "1       (59.13876190000001, 9.6721566)   \n",
       "2       (59.13876190000001, 9.6721566)   \n",
       "3       (59.13876190000001, 9.6721566)   \n",
       "4       (59.13876190000001, 9.6721566)   \n",
       "...                                ...   \n",
       "207785        (51.2700959, 22.5694099)   \n",
       "207786        (51.2700959, 22.5694099)   \n",
       "207787        (51.2700959, 22.5694099)   \n",
       "207788        (44.4401482, 26.0589913)   \n",
       "207789        (52.2485016, 21.0825281)   \n",
       "\n",
       "                                Name of Organisation_host  \n",
       "0                                    HOGSKOLEN I TELEMARK  \n",
       "1                                    HOGSKOLEN I TELEMARK  \n",
       "2                                    HOGSKOLEN I TELEMARK  \n",
       "3                                    HOGSKOLEN I TELEMARK  \n",
       "4                                    HOGSKOLEN I TELEMARK  \n",
       "...                                                   ...  \n",
       "207785  WYZSZA SZKOLA PRZEDSIEBIORCZOSCI I ADMINISTRAC...  \n",
       "207786  WYZSZA SZKOLA PRZEDSIEBIORCZOSCI I ADMINISTRAC...  \n",
       "207787  WYZSZA SZKOLA PRZEDSIEBIORCZOSCI I ADMINISTRAC...  \n",
       "207788              UNIVERSITATEA ECOLOGICA DIN BUCURESTI  \n",
       "207789                              VIAMODA SZKOLA WYZSZA  \n",
       "\n",
       "[207790 rows x 6 columns]"
      ]
     },
     "execution_count": 9,
     "metadata": {},
     "output_type": "execute_result"
    }
   ],
   "source": [
    "mob"
   ]
  },
  {
   "cell_type": "code",
   "execution_count": 29,
   "metadata": {
    "ExecuteTime": {
     "end_time": "2019-10-15T00:43:28.571794Z",
     "start_time": "2019-10-15T00:43:27.615794Z"
    }
   },
   "outputs": [],
   "source": [
    "mob.to_csv(\"../datasets/student_flow_coordinates.csv\", index=False)"
   ]
  },
  {
   "cell_type": "code",
   "execution_count": null,
   "metadata": {},
   "outputs": [],
   "source": []
  }
 ],
 "metadata": {
  "kernelspec": {
   "display_name": "Python 3",
   "language": "python",
   "name": "python3"
  },
  "language_info": {
   "codemirror_mode": {
    "name": "ipython",
    "version": 3
   },
   "file_extension": ".py",
   "mimetype": "text/x-python",
   "name": "python",
   "nbconvert_exporter": "python",
   "pygments_lexer": "ipython3",
   "version": "3.6.1"
  }
 },
 "nbformat": 4,
 "nbformat_minor": 2
}
