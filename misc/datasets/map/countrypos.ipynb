{
 "cells": [
  {
   "cell_type": "markdown",
   "metadata": {},
   "source": [
    "# Country positions\n",
    "Obtain the median coordinates per each country for the big arrows to show"
   ]
  },
  {
   "cell_type": "code",
   "execution_count": 1,
   "metadata": {
    "ExecuteTime": {
     "end_time": "2019-11-15T17:39:19.451417Z",
     "start_time": "2019-11-15T17:39:18.475709Z"
    }
   },
   "outputs": [],
   "source": [
    "import pandas as pd\n",
    "%matplotlib inline"
   ]
  },
  {
   "cell_type": "code",
   "execution_count": 3,
   "metadata": {
    "ExecuteTime": {
     "end_time": "2019-11-15T17:40:19.914510Z",
     "start_time": "2019-11-15T17:40:19.644767Z"
    }
   },
   "outputs": [],
   "source": [
    "df = pd.read_csv(\"../student_flow_coordinates.csv\")"
   ]
  },
  {
   "cell_type": "code",
   "execution_count": 15,
   "metadata": {
    "ExecuteTime": {
     "end_time": "2019-11-15T17:44:02.300363Z",
     "start_time": "2019-11-15T17:44:02.281217Z"
    }
   },
   "outputs": [],
   "source": [
    "send = df[[\"SendingCountry\", \"coordinates_send\"]].copy()\n",
    "recv = df[[\"ReceivingCountry\", \"coordinates_host\"]].copy()"
   ]
  },
  {
   "cell_type": "code",
   "execution_count": 19,
   "metadata": {
    "ExecuteTime": {
     "end_time": "2019-11-15T17:44:35.179029Z",
     "start_time": "2019-11-15T17:44:34.279655Z"
    }
   },
   "outputs": [],
   "source": [
    "# (long, lat)\n",
    "send[\"long\"] = send.coordinates_send.apply(lambda x: float(x.strip(\"()\").split(\", \")[0].strip()))\n",
    "send[\"lat\"] = send.coordinates_send.apply(lambda x: float(x.strip(\"()\").split(\", \")[1].strip()))\n",
    "\n",
    "recv[\"long\"] = recv.coordinates_host.apply(lambda x: float(x.strip(\"()\").split(\", \")[0].strip()))\n",
    "recv[\"lat\"] = recv.coordinates_host.apply(lambda x: float(x.strip(\"()\").split(\", \")[1].strip()))"
   ]
  },
  {
   "cell_type": "code",
   "execution_count": 23,
   "metadata": {
    "ExecuteTime": {
     "end_time": "2019-11-15T17:46:59.382556Z",
     "start_time": "2019-11-15T17:46:59.368862Z"
    }
   },
   "outputs": [],
   "source": [
    "# Only get the institution coords\n",
    "send = send[[\"SendingCountry\", \"long\", \"lat\"]].rename(columns={\"SendingCountry\": \"country\"})\n",
    "recv = recv[[\"ReceivingCountry\", \"long\", \"lat\"]].rename(columns={\"ReceivingCountry\": \"country\"})"
   ]
  },
  {
   "cell_type": "code",
   "execution_count": 29,
   "metadata": {
    "ExecuteTime": {
     "end_time": "2019-11-15T17:48:30.331742Z",
     "start_time": "2019-11-15T17:48:30.321259Z"
    }
   },
   "outputs": [],
   "source": [
    "merge = send.append(recv)"
   ]
  },
  {
   "cell_type": "code",
   "execution_count": 35,
   "metadata": {
    "ExecuteTime": {
     "end_time": "2019-11-15T17:50:37.503382Z",
     "start_time": "2019-11-15T17:50:37.471251Z"
    }
   },
   "outputs": [],
   "source": [
    "countrypos = merge.groupby(\"country\").median()"
   ]
  },
  {
   "cell_type": "code",
   "execution_count": 36,
   "metadata": {
    "ExecuteTime": {
     "end_time": "2019-11-15T17:51:54.562646Z",
     "start_time": "2019-11-15T17:51:54.556049Z"
    }
   },
   "outputs": [],
   "source": [
    "countrypos.to_csv(\"../../src/data/map/countrypos.csv\")"
   ]
  },
  {
   "cell_type": "raw",
   "metadata": {
    "ExecuteTime": {
     "end_time": "2019-11-15T17:51:59.627668Z",
     "start_time": "2019-11-15T17:51:57.427819Z"
    }
   },
   "source": [
    "!open ../../src/data/map/countrypos.csv"
   ]
  }
 ],
 "metadata": {
  "kernelspec": {
   "display_name": "Python 3",
   "language": "python",
   "name": "python3"
  },
  "language_info": {
   "codemirror_mode": {
    "name": "ipython",
    "version": 3
   },
   "file_extension": ".py",
   "mimetype": "text/x-python",
   "name": "python",
   "nbconvert_exporter": "python",
   "pygments_lexer": "ipython3",
   "version": "3.6.1"
  }
 },
 "nbformat": 4,
 "nbformat_minor": 2
}
