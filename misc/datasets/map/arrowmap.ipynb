{
 "cells": [
  {
   "cell_type": "code",
   "execution_count": 15,
   "metadata": {
    "ExecuteTime": {
     "end_time": "2019-11-30T13:43:10.370877Z",
     "start_time": "2019-11-30T13:43:10.367825Z"
    }
   },
   "outputs": [],
   "source": [
    "import pandas as pd"
   ]
  },
  {
   "cell_type": "code",
   "execution_count": 38,
   "metadata": {
    "ExecuteTime": {
     "end_time": "2019-11-30T13:44:06.045916Z",
     "start_time": "2019-11-30T13:44:05.796326Z"
    }
   },
   "outputs": [],
   "source": [
    "df = pd.read_csv(\"../student_flow_coordinates.csv\")"
   ]
  },
  {
   "cell_type": "code",
   "execution_count": 39,
   "metadata": {
    "ExecuteTime": {
     "end_time": "2019-11-30T13:44:06.204781Z",
     "start_time": "2019-11-30T13:44:06.048416Z"
    }
   },
   "outputs": [],
   "source": [
    "df = df.groupby(df.columns.tolist()).size().reset_index().rename(columns={0:'count'})"
   ]
  },
  {
   "cell_type": "raw",
   "metadata": {
    "ExecuteTime": {
     "end_time": "2019-11-30T13:43:13.134752Z",
     "start_time": "2019-11-30T13:43:13.126653Z"
    }
   },
   "source": [
    "df = df.drop(columns=[\"Name of Organisation_send\", \"Name of Organisation_host\"])"
   ]
  },
  {
   "cell_type": "code",
   "execution_count": 40,
   "metadata": {
    "ExecuteTime": {
     "end_time": "2019-11-30T13:44:06.256323Z",
     "start_time": "2019-11-30T13:44:06.247122Z"
    }
   },
   "outputs": [],
   "source": [
    "df = df.rename(columns={\"coordinates_send\": \"send\", \"coordinates_host\": \"receive\"})"
   ]
  },
  {
   "cell_type": "code",
   "execution_count": 41,
   "metadata": {
    "ExecuteTime": {
     "end_time": "2019-11-30T13:44:06.561935Z",
     "start_time": "2019-11-30T13:44:06.412771Z"
    }
   },
   "outputs": [],
   "source": [
    "df[\"sendLat\"] = df.send.apply(lambda x: x.split(\",\")[0].lstrip(\"(\").strip())\n",
    "df[\"sendLon\"] = df.send.apply(lambda x: x.split(\",\")[1].rstrip(\")\").strip())"
   ]
  },
  {
   "cell_type": "code",
   "execution_count": 42,
   "metadata": {
    "ExecuteTime": {
     "end_time": "2019-11-30T13:44:06.727818Z",
     "start_time": "2019-11-30T13:44:06.579063Z"
    }
   },
   "outputs": [],
   "source": [
    "df[\"receiveLat\"] = df.receive.apply(lambda x: x.split(\",\")[0].lstrip(\"(\").strip())\n",
    "df[\"receiveLon\"] = df.receive.apply(lambda x: x.split(\",\")[1].rstrip(\")\").strip())"
   ]
  },
  {
   "cell_type": "code",
   "execution_count": 43,
   "metadata": {
    "ExecuteTime": {
     "end_time": "2019-11-30T13:44:07.252447Z",
     "start_time": "2019-11-30T13:44:07.221510Z"
    }
   },
   "outputs": [],
   "source": [
    "df = df.drop(columns=[\"send\", \"receive\"])"
   ]
  },
  {
   "cell_type": "code",
   "execution_count": 44,
   "metadata": {
    "ExecuteTime": {
     "end_time": "2019-11-30T13:44:07.522393Z",
     "start_time": "2019-11-30T13:44:07.508669Z"
    }
   },
   "outputs": [],
   "source": [
    "ci = pd.read_csv(\"../geonames.org/countryInfo.txt\", delimiter=\"\\t\")\n",
    "ci = ci[[\"ISO\", \"ISO-Numeric\"]].rename(columns={\"Country\": \"name\", \"ISO-Numeric\": \"numeric\"})"
   ]
  },
  {
   "cell_type": "code",
   "execution_count": 45,
   "metadata": {
    "ExecuteTime": {
     "end_time": "2019-11-30T13:44:07.946896Z",
     "start_time": "2019-11-30T13:44:07.803516Z"
    }
   },
   "outputs": [],
   "source": [
    "df = df.merge(ci, left_on=\"SendingCountry\", right_on=\"ISO\", how=\"left\").drop(columns=[\"ISO\"])\\\n",
    "        .rename(columns={\"numeric\": \"sendingNumeric\"})\n",
    "df = df.merge(ci, left_on=\"ReceivingCountry\", right_on=\"ISO\", how=\"left\").drop(columns=[\"ISO\"])\\\n",
    "        .rename(columns={\"numeric\": \"receivingNumeric\"})"
   ]
  },
  {
   "cell_type": "code",
   "execution_count": 46,
   "metadata": {
    "ExecuteTime": {
     "end_time": "2019-11-30T13:44:08.079282Z",
     "start_time": "2019-11-30T13:44:08.062598Z"
    }
   },
   "outputs": [],
   "source": [
    "df = df.rename(columns={\"SendingCountry\": \"sendingCode\", \"ReceivingCountry\": \"receivingCode\"})"
   ]
  },
  {
   "cell_type": "code",
   "execution_count": 47,
   "metadata": {
    "ExecuteTime": {
     "end_time": "2019-11-30T13:44:08.522056Z",
     "start_time": "2019-11-30T13:44:08.462530Z"
    }
   },
   "outputs": [],
   "source": [
    "df.sendingCode = df.sendingCode.str.lower()\n",
    "df.receivingCode = df.receivingCode.str.lower()"
   ]
  },
  {
   "cell_type": "raw",
   "metadata": {
    "ExecuteTime": {
     "end_time": "2019-11-09T18:11:39.774817Z",
     "start_time": "2019-11-09T18:11:39.767175Z"
    }
   },
   "source": [
    "df = df.drop(columns=[\"SendingCountry\", \"ReceivingCountry\"])"
   ]
  },
  {
   "cell_type": "raw",
   "metadata": {
    "ExecuteTime": {
     "end_time": "2019-11-09T18:12:20.071179Z",
     "start_time": "2019-11-09T18:12:19.883436Z"
    }
   },
   "source": [
    "def padleft(x):\n",
    "    while len(x) < 3:\n",
    "        x = \"0\" + x\n",
    "    return x\n",
    "\n",
    "df.sendingNumeric = df.sendingNumeric.astype(str).apply(lambda x: padleft(x))\n",
    "df.receivingNumeric = df.receivingNumeric.astype(str).apply(lambda x: padleft(x))"
   ]
  },
  {
   "cell_type": "raw",
   "metadata": {
    "ExecuteTime": {
     "end_time": "2019-11-25T12:51:35.746001Z",
     "start_time": "2019-11-25T12:51:35.267847Z"
    }
   },
   "source": [
    "df.to_csv(\"../../src/data/map/coordinates.csv\", index=False)"
   ]
  },
  {
   "cell_type": "markdown",
   "metadata": {},
   "source": [
    "**Check the weird ougoing data.**"
   ]
  },
  {
   "cell_type": "code",
   "execution_count": 71,
   "metadata": {
    "ExecuteTime": {
     "end_time": "2019-11-30T14:08:34.598223Z",
     "start_time": "2019-11-30T14:08:34.572309Z"
    }
   },
   "outputs": [],
   "source": [
    "[lat_a, lon_a] = [72.584117,40.366053]\n",
    "[lat_b, lon_b] = [25.679281, -36.758695]\n",
    "\n",
    "de = df[df.sendingCode == \"de\"].copy()\n",
    "de[\"receiveLat\"] = de.receiveLat.astype(float)\n",
    "de[\"receiveLon\"] = de.receiveLon.astype(float)\n",
    "\n",
    "# Reunion\n",
    "# French Guiana\n",
    "# New Caledonia\n",
    "\n",
    "res = de[~(((lat_b < de.receiveLat) & (de.receiveLat < lat_a)) & ((lon_b < de.receiveLon) & (de.receiveLon < lon_a)))]"
   ]
  },
  {
   "cell_type": "code",
   "execution_count": 75,
   "metadata": {
    "ExecuteTime": {
     "end_time": "2019-11-30T14:09:30.092157Z",
     "start_time": "2019-11-30T14:09:30.034021Z"
    }
   },
   "outputs": [],
   "source": [
    "res[[\"Name of Organisation_host\", \"count\"]].to_clipboard(index=False)"
   ]
  }
 ],
 "metadata": {
  "kernelspec": {
   "display_name": "Python 3",
   "language": "python",
   "name": "python3"
  },
  "language_info": {
   "codemirror_mode": {
    "name": "ipython",
    "version": 3
   },
   "file_extension": ".py",
   "mimetype": "text/x-python",
   "name": "python",
   "nbconvert_exporter": "python",
   "pygments_lexer": "ipython3",
   "version": "3.6.1"
  }
 },
 "nbformat": 4,
 "nbformat_minor": 2
}
