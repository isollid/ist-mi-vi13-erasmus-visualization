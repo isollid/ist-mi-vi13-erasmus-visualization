{
 "cells": [
  {
   "cell_type": "markdown",
   "metadata": {},
   "source": [
    "# Student flow correlation matrix\n",
    "Calculate a 2D array of incoming and outgoing countries\n",
    "\n",
    "\n",
    "| country | CZ   | SK   | DE   |\n",
    "|---------|------|------|------|\n",
    "| CZ      | 0    |CZ->SK|CZ->DE|\n",
    "| SK      |SK->CZ| 0    |SK->DE|\n",
    "| DE      |DE->CZ|DE->SK| 0    |"
   ]
  },
  {
   "cell_type": "code",
   "execution_count": 1,
   "metadata": {
    "ExecuteTime": {
     "end_time": "2019-12-14T17:46:02.289045Z",
     "start_time": "2019-12-14T17:46:00.854760Z"
    }
   },
   "outputs": [],
   "source": [
    "import pandas as pd\n",
    "import matplotlib.pyplot as plt\n",
    "import numpy as np\n",
    "import seaborn as sns\n",
    "\n",
    "%matplotlib inline"
   ]
  },
  {
   "cell_type": "code",
   "execution_count": 2,
   "metadata": {
    "ExecuteTime": {
     "end_time": "2019-12-14T17:47:06.051579Z",
     "start_time": "2019-12-14T17:46:02.291676Z"
    }
   },
   "outputs": [],
   "source": [
    "df = pd.read_excel(\"../Student_Mobility_2013-14.xlsx\")\n",
    "df = df[df.MobilityType == \"Mob-SMS\"]"
   ]
  },
  {
   "cell_type": "code",
   "execution_count": 8,
   "metadata": {
    "ExecuteTime": {
     "end_time": "2019-12-14T17:48:02.607038Z",
     "start_time": "2019-12-14T17:48:02.589654Z"
    }
   },
   "outputs": [
    {
     "data": {
      "text/plain": [
       "0"
      ]
     },
     "execution_count": 8,
     "metadata": {},
     "output_type": "execute_result"
    }
   ],
   "source": [
    "df[df.ReceivingCountry == \"MK\"].count().Action"
   ]
  },
  {
   "cell_type": "code",
   "execution_count": 9,
   "metadata": {
    "ExecuteTime": {
     "end_time": "2019-12-14T17:48:05.064004Z",
     "start_time": "2019-12-14T17:48:05.045887Z"
    }
   },
   "outputs": [
    {
     "data": {
      "text/plain": [
       "89"
      ]
     },
     "execution_count": 9,
     "metadata": {},
     "output_type": "execute_result"
    }
   ],
   "source": [
    "df[df.SendingCountry == \"MK\"].count().Action"
   ]
  },
  {
   "cell_type": "code",
   "execution_count": 10,
   "metadata": {
    "ExecuteTime": {
     "end_time": "2019-12-14T17:48:39.429228Z",
     "start_time": "2019-12-14T17:48:39.370233Z"
    }
   },
   "outputs": [],
   "source": [
    "res = df[[\"SendingCountry\", \"ReceivingCountry\", \"MobiilityID\"]]\\\n",
    "    .groupby(by=[\"SendingCountry\", \"ReceivingCountry\"]).count().unstack().fillna(0)"
   ]
  },
  {
   "cell_type": "code",
   "execution_count": 11,
   "metadata": {
    "ExecuteTime": {
     "end_time": "2019-12-14T17:48:40.838739Z",
     "start_time": "2019-12-14T17:48:40.835127Z"
    }
   },
   "outputs": [],
   "source": [
    "res.columns = [col[1] for col in res.columns]"
   ]
  },
  {
   "cell_type": "code",
   "execution_count": 12,
   "metadata": {
    "ExecuteTime": {
     "end_time": "2019-12-14T17:48:41.542036Z",
     "start_time": "2019-12-14T17:48:41.539166Z"
    }
   },
   "outputs": [],
   "source": [
    "res.index.name = \"sending\""
   ]
  },
  {
   "cell_type": "raw",
   "metadata": {
    "ExecuteTime": {
     "end_time": "2019-12-04T18:19:55.245783Z",
     "start_time": "2019-12-04T18:19:55.208073Z"
    }
   },
   "source": [
    "# PT sent in total\n",
    "df[[\"SendingCountry\", \"MobiilityID\"]].groupby(by=[\"SendingCountry\"]).count().T.PT\n",
    "\n",
    "# PT received in total\n",
    "df[[\"ReceivingCountry\", \"MobiilityID\"]].groupby(by=[\"ReceivingCountry\"]).count().T.PT"
   ]
  },
  {
   "cell_type": "code",
   "execution_count": 13,
   "metadata": {
    "ExecuteTime": {
     "end_time": "2019-12-14T17:48:53.335506Z",
     "start_time": "2019-12-14T17:48:53.332448Z"
    }
   },
   "outputs": [],
   "source": [
    "res = res.T"
   ]
  },
  {
   "cell_type": "code",
   "execution_count": 16,
   "metadata": {
    "ExecuteTime": {
     "end_time": "2019-12-14T17:50:49.976750Z",
     "start_time": "2019-12-14T17:50:49.972398Z"
    }
   },
   "outputs": [
    {
     "name": "stdout",
     "output_type": "stream",
     "text": [
      "Sum of row MK 0.0\n"
     ]
    }
   ],
   "source": [
    "# How many students has MK received (incoming)\n",
    "# V řádku MK jsou příchozí do MK\n",
    "print(\"Sum of row MK\", np.sum(res[res.index == \"MK\"].values))"
   ]
  },
  {
   "cell_type": "code",
   "execution_count": 15,
   "metadata": {
    "ExecuteTime": {
     "end_time": "2019-12-14T17:49:16.306573Z",
     "start_time": "2019-12-14T17:49:16.302413Z"
    }
   },
   "outputs": [
    {
     "name": "stdout",
     "output_type": "stream",
     "text": [
      "Sum of columnt MK 89.0\n"
     ]
    }
   ],
   "source": [
    "# How many students has MK sent (outgoing)\n",
    "# Ve sloupci MK jsou odchozí z MK\n",
    "print(\"Sum of columnt MK\", sum(res.MK))"
   ]
  },
  {
   "cell_type": "code",
   "execution_count": 9,
   "metadata": {
    "ExecuteTime": {
     "end_time": "2019-12-14T15:29:16.662539Z",
     "start_time": "2019-12-14T15:29:16.659572Z"
    }
   },
   "outputs": [],
   "source": [
    "res = res.astype(int)"
   ]
  },
  {
   "cell_type": "code",
   "execution_count": 10,
   "metadata": {
    "ExecuteTime": {
     "end_time": "2019-12-14T15:29:16.669353Z",
     "start_time": "2019-12-14T15:29:16.664936Z"
    }
   },
   "outputs": [],
   "source": [
    "# lowercase columns\n",
    "res.columns = map(str.lower, res.columns)"
   ]
  },
  {
   "cell_type": "code",
   "execution_count": 11,
   "metadata": {
    "ExecuteTime": {
     "end_time": "2019-12-14T15:29:16.674152Z",
     "start_time": "2019-12-14T15:29:16.671264Z"
    }
   },
   "outputs": [],
   "source": [
    "# lowercase index\n",
    "res.index = map(str.lower, res.index)"
   ]
  },
  {
   "cell_type": "code",
   "execution_count": 12,
   "metadata": {
    "ExecuteTime": {
     "end_time": "2019-12-14T15:29:16.678405Z",
     "start_time": "2019-12-14T15:29:16.675993Z"
    }
   },
   "outputs": [],
   "source": [
    "res.index.name = \"country\""
   ]
  },
  {
   "cell_type": "raw",
   "metadata": {
    "ExecuteTime": {
     "end_time": "2019-12-04T18:30:36.542576Z",
     "start_time": "2019-12-04T18:30:36.534133Z"
    }
   },
   "source": [
    "res.to_csv(\"../../src/data/map/corstudentcount.csv\")"
   ]
  },
  {
   "cell_type": "code",
   "execution_count": 72,
   "metadata": {
    "ExecuteTime": {
     "end_time": "2019-12-04T18:30:37.955304Z",
     "start_time": "2019-12-04T18:30:37.316908Z"
    }
   },
   "outputs": [
    {
     "data": {
      "image/png": "[encoded data removed]",
      "text/plain": [
       "<Figure size 720x720 with 1 Axes>"
      ]
     },
     "metadata": {},
     "output_type": "display_data"
    }
   ],
   "source": [
    "fig, ax = plt.subplots(figsize=(10, 10))\n",
    "fig.patch.set_facecolor('white')\n",
    "ax.matshow(res, cmap=plt.get_cmap('Blues'))\n",
    "ax.set_xticks(np.arange(0, len(res.columns.values)))\n",
    "ax.set_yticks(np.arange(0, len(res.index.values)))\n",
    "ax.set_yticklabels(res.index.values)\n",
    "ax.set_xticklabels(res.columns.values)\n",
    "ax.xaxis.set_label_position('top') \n",
    "ax.set_ylabel(\"country has sent to\")\n",
    "ax.set_xlabel(\"country has received from\")\n",
    "plt.show()"
   ]
  },
  {
   "cell_type": "code",
   "execution_count": 15,
   "metadata": {
    "ExecuteTime": {
     "end_time": "2019-12-14T15:38:56.661467Z",
     "start_time": "2019-12-14T15:38:56.656391Z"
    }
   },
   "outputs": [],
   "source": [
    "from sklearn import preprocessing\n",
    "\n",
    "x = res.values #returns a numpy array\n",
    "min_max_scaler = preprocessing.MinMaxScaler()\n",
    "x_scaled = min_max_scaler.fit_transform(x)\n",
    "scaled = pd.DataFrame(x_scaled, columns=res.columns)"
   ]
  },
  {
   "cell_type": "code",
   "execution_count": 22,
   "metadata": {
    "ExecuteTime": {
     "end_time": "2019-12-14T15:39:41.122623Z",
     "start_time": "2019-12-14T15:39:40.446052Z"
    }
   },
   "outputs": [
    {
     "data": {
      "image/png": "[encoded data removed]",
      "text/plain": [
       "<Figure size 720x720 with 1 Axes>"
      ]
     },
     "metadata": {},
     "output_type": "display_data"
    }
   ],
   "source": [
    "fig, ax = plt.subplots(figsize=(10, 10))\n",
    "fig.patch.set_facecolor('white')\n",
    "ax.matshow(scaled, cmap=plt.get_cmap('Blues'))\n",
    "ax.set_xticks(np.arange(0, len(res.columns.values)))\n",
    "ax.set_yticks(np.arange(0, len(res.index.values)))\n",
    "ax.set_yticklabels(res.index.values)\n",
    "ax.set_xticklabels(res.columns.values)\n",
    "ax.xaxis.set_label_position('top') \n",
    "ax.set_ylabel(\"country has sent to\")\n",
    "ax.set_xlabel(\"country has received from\")\n",
    "plt.show()"
   ]
  },
  {
   "cell_type": "code",
   "execution_count": null,
   "metadata": {},
   "outputs": [],
   "source": []
  }
 ],
 "metadata": {
  "kernelspec": {
   "display_name": "Python 3",
   "language": "python",
   "name": "python3"
  },
  "language_info": {
   "codemirror_mode": {
    "name": "ipython",
    "version": 3
   },
   "file_extension": ".py",
   "mimetype": "text/x-python",
   "name": "python",
   "nbconvert_exporter": "python",
   "pygments_lexer": "ipython3",
   "version": "3.6.1"
  }
 },
 "nbformat": 4,
 "nbformat_minor": 2
}
