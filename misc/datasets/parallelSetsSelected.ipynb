{
 "cells": [
  {
   "cell_type": "code",
   "execution_count": 1,
   "metadata": {
    "ExecuteTime": {
     "end_time": "2019-11-14T16:50:54.080361Z",
     "start_time": "2019-11-14T16:50:52.596675Z"
    }
   },
   "outputs": [],
   "source": [
    "import pandas as pd\n",
    "import matplotlib.pyplot as plt\n",
    "import numpy as np\n",
    "import seaborn as sns\n",
    "\n",
    "%matplotlib inline"
   ]
  },
  {
   "cell_type": "code",
   "execution_count": 23,
   "metadata": {
    "ExecuteTime": {
     "end_time": "2019-11-14T16:58:31.893296Z",
     "start_time": "2019-11-14T16:57:31.529247Z"
    }
   },
   "outputs": [],
   "source": [
    "df = pd.read_excel(\"../Student_Mobility_2013-14.xlsx\")\n",
    "df = df[df.MobilityType == \"Mob-SMS\"]"
   ]
  },
  {
   "cell_type": "code",
   "execution_count": 26,
   "metadata": {
    "ExecuteTime": {
     "end_time": "2019-11-14T17:01:04.206106Z",
     "start_time": "2019-11-14T17:01:04.194709Z"
    }
   },
   "outputs": [],
   "source": [
    "df = df[[\"SendingCountry\", \"ReceivingCountry\", \"LevelOfStudy\", \"MobiilityID\"]]"
   ]
  },
  {
   "cell_type": "code",
   "execution_count": 58,
   "metadata": {
    "ExecuteTime": {
     "end_time": "2019-11-14T17:18:12.182938Z",
     "start_time": "2019-11-14T17:18:12.124509Z"
    }
   },
   "outputs": [],
   "source": [
    "receive = df.groupby(by=[\"ReceivingCountry\", \"SendingCountry\", \"LevelOfStudy\"]).count().unstack().fillna(0)\n",
    "receive = receive.reset_index(level=1)\n",
    "receive.columns = [\"SendingCountry\", \"First Cycle\", \"Second Cycle\", \"Short Cycle\", \"Third Cycle\"]"
   ]
  },
  {
   "cell_type": "code",
   "execution_count": 59,
   "metadata": {
    "ExecuteTime": {
     "end_time": "2019-11-14T17:18:14.763964Z",
     "start_time": "2019-11-14T17:18:14.708774Z"
    }
   },
   "outputs": [],
   "source": [
    "send = df.groupby(by=[\"SendingCountry\", \"ReceivingCountry\", \"LevelOfStudy\"]).count().unstack().fillna(0)\n",
    "send = send.reset_index(level=1)\n",
    "send.columns = [\"ReceivingCountry\", \"First Cycle\", \"Second Cycle\", \"Short Cycle\", \"Third Cycle\"]"
   ]
  },
  {
   "cell_type": "code",
   "execution_count": 60,
   "metadata": {
    "ExecuteTime": {
     "end_time": "2019-11-14T17:18:25.625728Z",
     "start_time": "2019-11-14T17:18:25.610373Z"
    }
   },
   "outputs": [
    {
     "data": {
      "text/html": [
       "<div>\n",
       "<style scoped>\n",
       "    .dataframe tbody tr th:only-of-type {\n",
       "        vertical-align: middle;\n",
       "    }\n",
       "\n",
       "    .dataframe tbody tr th {\n",
       "        vertical-align: top;\n",
       "    }\n",
       "\n",
       "    .dataframe thead th {\n",
       "        text-align: right;\n",
       "    }\n",
       "</style>\n",
       "<table border=\"1\" class=\"dataframe\">\n",
       "  <thead>\n",
       "    <tr style=\"text-align: right;\">\n",
       "      <th></th>\n",
       "      <th>SendingCountry</th>\n",
       "      <th>First Cycle</th>\n",
       "      <th>Second Cycle</th>\n",
       "      <th>Short Cycle</th>\n",
       "      <th>Third Cycle</th>\n",
       "    </tr>\n",
       "    <tr>\n",
       "      <th>ReceivingCountry</th>\n",
       "      <th></th>\n",
       "      <th></th>\n",
       "      <th></th>\n",
       "      <th></th>\n",
       "      <th></th>\n",
       "    </tr>\n",
       "  </thead>\n",
       "  <tbody>\n",
       "    <tr>\n",
       "      <th>AT</th>\n",
       "      <td>BE</td>\n",
       "      <td>81.0</td>\n",
       "      <td>71.0</td>\n",
       "      <td>0.0</td>\n",
       "      <td>0.0</td>\n",
       "    </tr>\n",
       "    <tr>\n",
       "      <th>AT</th>\n",
       "      <td>BG</td>\n",
       "      <td>39.0</td>\n",
       "      <td>21.0</td>\n",
       "      <td>0.0</td>\n",
       "      <td>4.0</td>\n",
       "    </tr>\n",
       "    <tr>\n",
       "      <th>AT</th>\n",
       "      <td>CH</td>\n",
       "      <td>78.0</td>\n",
       "      <td>41.0</td>\n",
       "      <td>0.0</td>\n",
       "      <td>1.0</td>\n",
       "    </tr>\n",
       "    <tr>\n",
       "      <th>AT</th>\n",
       "      <td>CY</td>\n",
       "      <td>9.0</td>\n",
       "      <td>0.0</td>\n",
       "      <td>0.0</td>\n",
       "      <td>0.0</td>\n",
       "    </tr>\n",
       "    <tr>\n",
       "      <th>AT</th>\n",
       "      <td>CZ</td>\n",
       "      <td>83.0</td>\n",
       "      <td>198.0</td>\n",
       "      <td>0.0</td>\n",
       "      <td>9.0</td>\n",
       "    </tr>\n",
       "    <tr>\n",
       "      <th>...</th>\n",
       "      <td>...</td>\n",
       "      <td>...</td>\n",
       "      <td>...</td>\n",
       "      <td>...</td>\n",
       "      <td>...</td>\n",
       "    </tr>\n",
       "    <tr>\n",
       "      <th>TR</th>\n",
       "      <td>PT</td>\n",
       "      <td>99.0</td>\n",
       "      <td>19.0</td>\n",
       "      <td>0.0</td>\n",
       "      <td>0.0</td>\n",
       "    </tr>\n",
       "    <tr>\n",
       "      <th>TR</th>\n",
       "      <td>RO</td>\n",
       "      <td>143.0</td>\n",
       "      <td>39.0</td>\n",
       "      <td>0.0</td>\n",
       "      <td>2.0</td>\n",
       "    </tr>\n",
       "    <tr>\n",
       "      <th>TR</th>\n",
       "      <td>SE</td>\n",
       "      <td>55.0</td>\n",
       "      <td>6.0</td>\n",
       "      <td>0.0</td>\n",
       "      <td>0.0</td>\n",
       "    </tr>\n",
       "    <tr>\n",
       "      <th>TR</th>\n",
       "      <td>SI</td>\n",
       "      <td>33.0</td>\n",
       "      <td>12.0</td>\n",
       "      <td>0.0</td>\n",
       "      <td>1.0</td>\n",
       "    </tr>\n",
       "    <tr>\n",
       "      <th>TR</th>\n",
       "      <td>SK</td>\n",
       "      <td>27.0</td>\n",
       "      <td>41.0</td>\n",
       "      <td>0.0</td>\n",
       "      <td>1.0</td>\n",
       "    </tr>\n",
       "  </tbody>\n",
       "</table>\n",
       "<p>928 rows × 5 columns</p>\n",
       "</div>"
      ],
      "text/plain": [
       "                 SendingCountry  First Cycle  Second Cycle  Short Cycle  \\\n",
       "ReceivingCountry                                                          \n",
       "AT                           BE         81.0          71.0          0.0   \n",
       "AT                           BG         39.0          21.0          0.0   \n",
       "AT                           CH         78.0          41.0          0.0   \n",
       "AT                           CY          9.0           0.0          0.0   \n",
       "AT                           CZ         83.0         198.0          0.0   \n",
       "...                         ...          ...           ...          ...   \n",
       "TR                           PT         99.0          19.0          0.0   \n",
       "TR                           RO        143.0          39.0          0.0   \n",
       "TR                           SE         55.0           6.0          0.0   \n",
       "TR                           SI         33.0          12.0          0.0   \n",
       "TR                           SK         27.0          41.0          0.0   \n",
       "\n",
       "                  Third Cycle  \n",
       "ReceivingCountry               \n",
       "AT                        0.0  \n",
       "AT                        4.0  \n",
       "AT                        1.0  \n",
       "AT                        0.0  \n",
       "AT                        9.0  \n",
       "...                       ...  \n",
       "TR                        0.0  \n",
       "TR                        2.0  \n",
       "TR                        0.0  \n",
       "TR                        1.0  \n",
       "TR                        1.0  \n",
       "\n",
       "[928 rows x 5 columns]"
      ]
     },
     "execution_count": 60,
     "metadata": {},
     "output_type": "execute_result"
    }
   ],
   "source": [
    "receive"
   ]
  }
 ],
 "metadata": {
  "kernelspec": {
   "display_name": "Python 3",
   "language": "python",
   "name": "python3"
  },
  "language_info": {
   "codemirror_mode": {
    "name": "ipython",
    "version": 3
   },
   "file_extension": ".py",
   "mimetype": "text/x-python",
   "name": "python",
   "nbconvert_exporter": "python",
   "pygments_lexer": "ipython3",
   "version": "3.6.1"
  }
 },
 "nbformat": 4,
 "nbformat_minor": 2
}
