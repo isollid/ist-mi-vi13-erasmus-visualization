{
 "cells": [
  {
   "cell_type": "code",
   "execution_count": 1,
   "metadata": {
    "ExecuteTime": {
     "end_time": "2019-09-28T11:15:21.627125Z",
     "start_time": "2019-09-28T11:15:20.997242Z"
    }
   },
   "outputs": [],
   "source": [
    "import numpy as np\n",
    "import pandas as pd"
   ]
  },
  {
   "cell_type": "code",
   "execution_count": 2,
   "metadata": {
    "ExecuteTime": {
     "end_time": "2019-09-28T11:17:07.436597Z",
     "start_time": "2019-09-28T11:16:04.913531Z"
    }
   },
   "outputs": [],
   "source": [
    "df = pd.read_excel(\"Student_Mobility_2013-14.xlsx\")"
   ]
  },
  {
   "cell_type": "code",
   "execution_count": 6,
   "metadata": {
    "ExecuteTime": {
     "end_time": "2019-09-28T11:26:17.238213Z",
     "start_time": "2019-09-28T11:26:16.895749Z"
    }
   },
   "outputs": [
    {
     "name": "stdout",
     "output_type": "stream",
     "text": [
      "<class 'pandas.core.frame.DataFrame'>\n",
      "RangeIndex: 272497 entries, 0 to 272496\n",
      "Data columns (total 27 columns):\n",
      "Action                     272497 non-null object\n",
      "CallYear                   272497 non-null int64\n",
      "ProjectNumber              272497 non-null object\n",
      "MobiilityID                272497 non-null object\n",
      "SendingCountry             272497 non-null object\n",
      "ReceivingCountry           272497 non-null object\n",
      "MobilityType               272497 non-null object\n",
      "SpecialNeeds               272497 non-null float64\n",
      "SubjectAreaCode            272497 non-null int64\n",
      "SubjectAreaName            272497 non-null object\n",
      "CombinedMobilityYesNo      212208 non-null object\n",
      "StartDate                  272497 non-null object\n",
      "EndDate                    272497 non-null object\n",
      "DurationInMonths           272497 non-null int64\n",
      "DurationInDays             272497 non-null int64\n",
      "SubsistenceTravel          272497 non-null float64\n",
      "LevelOfStudy               272497 non-null object\n",
      "ParticipantID              222033 non-null object\n",
      "ParticipantGender          272497 non-null object\n",
      "ParticipantType            272497 non-null object\n",
      "Language                   272497 non-null object\n",
      "SendingPartnerErasmusID    272497 non-null object\n",
      "SendingPartnerName         272497 non-null object\n",
      "HostingPartnerErasmusID    218225 non-null object\n",
      "HostingPartnerName         272497 non-null object\n",
      "HostingPartnerCountry      272497 non-null object\n",
      "HostingPartnerCity         272484 non-null object\n",
      "dtypes: float64(2), int64(4), object(21)\n",
      "memory usage: 56.1+ MB\n"
     ]
    }
   ],
   "source": [
    "df.info()"
   ]
  },
  {
   "cell_type": "code",
   "execution_count": 8,
   "metadata": {
    "ExecuteTime": {
     "end_time": "2019-09-28T11:27:17.514272Z",
     "start_time": "2019-09-28T11:27:17.451257Z"
    }
   },
   "outputs": [],
   "source": [
    "df.head(10).to_clipboard()"
   ]
  },
  {
   "cell_type": "code",
   "execution_count": null,
   "metadata": {},
   "outputs": [],
   "source": [
    "\tAction\tCallYear\tProjectNumber\tMobiilityID\tSendingCountry\tReceivingCountry\tMobilityType\tSpecialNeeds\tSubjectAreaCode\tSubjectAreaName\tCombinedMobilityYesNo\tStartDate\tEndDate\tDurationInMonths\tDurationInDays\tSubsistenceTravel\tLevelOfStudy\tParticipantID\tParticipantGender\tParticipantType\tLanguage\tSendingPartnerErasmusID\tSendingPartnerName\tHostingPartnerErasmusID\tHostingPartnerName\tHostingPartnerCountry\tHostingPartnerCity\n",
    "0\tERA02\t2013\t2013-1-AT1-ERA02-09538\tWI0110-ER-1314\tAT\tNO\tMob-SMS\t0.0\t140\tTeacher training and education science (broad programmes)\tNO\t08-AUG-2013 00.00.00\t20-JUN-2014 00.00.00\t10\t0\t3680.0\tSecond Cycle\t91781\tF\tStudents\tEN\tA  BADEN01\tPÃ¤dagogische Hochschule NiederÃ¶sterreich\tN  PORSGRU01\tHOGSKOLEN I TELEMARK\tNO\tPorsgrunn\n",
    "1\tERA02\t2013\t2013-1-AT1-ERA02-09538\tWI0170-ER-1314\tAT\tNO\tMob-SMS\t0.0\t140\tTeacher training and education science (broad programmes)\tNO\t19-AUG-2013 00.00.00\t20-DEC-2013 00.00.00\t4\t0\t1472.0\tSecond Cycle\t91857\tF\tStudents\tEN\tA  BADEN01\tPÃ¤dagogische Hochschule NiederÃ¶sterreich\tN  PORSGRU01\tHOGSKOLEN I TELEMARK\tNO\tPorsgrunn\n",
    "2\tERA02\t2013\t2013-1-AT1-ERA02-09538\tWI0184-ER-1314\tAT\tNO\tMob-SMS\t0.0\t140\tTeacher training and education science (broad programmes)\tNO\t08-AUG-2013 00.00.00\t20-JUN-2014 00.00.00\t10\t0\t3680.0\tSecond Cycle\t91773\tM\tStudents\tEN\tA  BADEN01\tPÃ¤dagogische Hochschule NiederÃ¶sterreich\tN  PORSGRU01\tHOGSKOLEN I TELEMARK\tNO\tPorsgrunn\n",
    "3\tERA02\t2013\t2013-1-AT1-ERA02-09538\tWI0842-ER-1314\tAT\tIE\tMob-SMS\t0.0\t140\tTeacher training and education science (broad programmes)\tNO\t16-SEP-2013 00.00.00\t18-DEC-2013 00.00.00\t3\t0\t900.0\tSecond Cycle\t91988\tF\tStudents\tEN\tA  BADEN01\tPÃ¤dagogische Hochschule NiederÃ¶sterreich\tIRLDUBLIN10\tMATER DEI INSTITUTE OF EDUCATION \tIE\tDUBLIN\n",
    "4\tERA02\t2013\t2013-1-AT1-ERA02-09538\tWI0897-ER-1314\tAT\tES\tMob-SMS\t0.0\t140\tTeacher training and education science (broad programmes)\tNO\t02-SEP-2013 00.00.00\t01-FEB-2014 00.00.00\t5\t0\t1500.0\tSecond Cycle\t81662\tF\tStudents\tES\tA  BADEN01\tPÃ¤dagogische Hochschule NiederÃ¶sterreich\tE  LAS-PAL01\tUNIVERSIDAD DE LAS PALMAS DE GRAN CANARIA\tES\tLAS PALMAS DE GRAN CANARIA\n",
    "5\tERA02\t2013\t2013-1-AT1-ERA02-09538\tWI0984-ER-1314\tAT\tIE\tMob-SMS\t0.0\t140\tTeacher training and education science (broad programmes)\tNO\t16-SEP-2013 00.00.00\t18-DEC-2013 00.00.00\t3\t0\t900.0\tSecond Cycle\t92252\tF\tStudents\tEN\tA  BADEN01\tPÃ¤dagogische Hochschule NiederÃ¶sterreich\tIRLDUBLIN10\tMATER DEI INSTITUTE OF EDUCATION \tIE\tDUBLIN\n",
    "6\tERA02\t2013\t2013-1-AT1-ERA02-09538\tWI1037-ER-1314\tAT\tIE\tMob-SMS\t0.0\t140\tTeacher training and education science (broad programmes)\tNO\t13-SEP-2013 00.00.00\t15-DEC-2013 00.00.00\t3\t0\t0.0\tSecond Cycle\t92127\tF\tStudents\tEN\tA  BADEN01\tPÃ¤dagogische Hochschule NiederÃ¶sterreich\tIRLDUBLIN10\tMATER DEI INSTITUTE OF EDUCATION \tIE\tDUBLIN\n",
    "7\tERA02\t2013\t2013-1-AT1-ERA02-09538\tWI1177-ER-1314\tAT\tIE\tMob-SMS\t0.0\t140\tTeacher training and education science (broad programmes)\tNO\t22-SEP-2013 00.00.00\t16-MAY-2014 00.00.00\t7\t0\t2400.0\tSecond Cycle\t91845\tF\tStudents\tEN\tA  BADEN01\tPÃ¤dagogische Hochschule NiederÃ¶sterreich\tIRLDUBLIN07\tST PATRICK'S COLLEGE DRUMCONDRA (COLAISTE PHADRAIG DROIM CONRACH) \tIE\tDUBLIN\n",
    "8\tERA02\t2013\t2013-1-AT1-ERA02-09538\tWI1185-ER-1314\tAT\tES\tMob-SMS\t0.0\t140\tTeacher training and education science (broad programmes)\tNO\t30-SEP-2013 00.00.00\t28-JAN-2014 00.00.00\t4\t0\t1200.0\tSecond Cycle\t92305\tF\tStudents\tES\tA  BADEN01\tPÃ¤dagogische Hochschule NiederÃ¶sterreich\tE  SEVILLA01\tUNIVERSIDAD DE SEVILLA\tES\tSEVILLA\n",
    "9\tERA02\t2013\t2013-1-AT1-ERA02-09538\tWI1898-ER-1314\tAT\tNO\tMob-SMS\t0.0\t140\tTeacher training and education science (broad programmes)\tNO\t04-JAN-2014 00.00.00\t20-JUN-2014 00.00.00\t5\t0\t0.0\tSecond Cycle\t100070\tF\tStudents\tEN\tA  BADEN01\tPÃ¤dagogische Hochschule NiederÃ¶sterreich\tN  PORSGRU01\tHOGSKOLEN I TELEMARK\tNO\tPorsgrunn\n"
   ]
  }
 ],
 "metadata": {
  "kernelspec": {
   "display_name": "Python 3",
   "language": "python",
   "name": "python3"
  },
  "language_info": {
   "codemirror_mode": {
    "name": "ipython",
    "version": 3
   },
   "file_extension": ".py",
   "mimetype": "text/x-python",
   "name": "python",
   "nbconvert_exporter": "python",
   "pygments_lexer": "ipython3",
   "version": "3.6.1"
  }
 },
 "nbformat": 4,
 "nbformat_minor": 2
}
