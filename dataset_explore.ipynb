{
 "cells": [
  {
   "cell_type": "code",
   "execution_count": 1,
   "metadata": {
    "ExecuteTime": {
     "end_time": "2019-09-28T15:18:32.847492Z",
     "start_time": "2019-09-28T15:18:32.187490Z"
    }
   },
   "outputs": [],
   "source": [
    "import numpy as np\n",
    "import pandas as pd"
   ]
  },
  {
   "cell_type": "code",
   "execution_count": 2,
   "metadata": {
    "ExecuteTime": {
     "end_time": "2019-09-28T15:19:32.436461Z",
     "start_time": "2019-09-28T15:18:32.850189Z"
    }
   },
   "outputs": [],
   "source": [
    "df = pd.read_excel(\"Student_Mobility_2013-14.xlsx\")"
   ]
  },
  {
   "cell_type": "code",
   "execution_count": 3,
   "metadata": {
    "ExecuteTime": {
     "end_time": "2019-09-28T15:19:32.834573Z",
     "start_time": "2019-09-28T15:19:32.439606Z"
    }
   },
   "outputs": [
    {
     "name": "stdout",
     "output_type": "stream",
     "text": [
      "<class 'pandas.core.frame.DataFrame'>\n",
      "RangeIndex: 272497 entries, 0 to 272496\n",
      "Data columns (total 27 columns):\n",
      "Action                     272497 non-null object\n",
      "CallYear                   272497 non-null int64\n",
      "ProjectNumber              272497 non-null object\n",
      "MobiilityID                272497 non-null object\n",
      "SendingCountry             272497 non-null object\n",
      "ReceivingCountry           272497 non-null object\n",
      "MobilityType               272497 non-null object\n",
      "SpecialNeeds               272497 non-null float64\n",
      "SubjectAreaCode            272497 non-null int64\n",
      "SubjectAreaName            272497 non-null object\n",
      "CombinedMobilityYesNo      212208 non-null object\n",
      "StartDate                  272497 non-null object\n",
      "EndDate                    272497 non-null object\n",
      "DurationInMonths           272497 non-null int64\n",
      "DurationInDays             272497 non-null int64\n",
      "SubsistenceTravel          272497 non-null float64\n",
      "LevelOfStudy               272497 non-null object\n",
      "ParticipantID              222033 non-null object\n",
      "ParticipantGender          272497 non-null object\n",
      "ParticipantType            272497 non-null object\n",
      "Language                   272497 non-null object\n",
      "SendingPartnerErasmusID    272497 non-null object\n",
      "SendingPartnerName         272497 non-null object\n",
      "HostingPartnerErasmusID    218225 non-null object\n",
      "HostingPartnerName         272497 non-null object\n",
      "HostingPartnerCountry      272497 non-null object\n",
      "HostingPartnerCity         272484 non-null object\n",
      "dtypes: float64(2), int64(4), object(21)\n",
      "memory usage: 56.1+ MB\n"
     ]
    }
   ],
   "source": [
    "df.info()"
   ]
  },
  {
   "cell_type": "code",
   "execution_count": 4,
   "metadata": {
    "ExecuteTime": {
     "end_time": "2019-09-28T15:19:32.908136Z",
     "start_time": "2019-09-28T15:19:32.837706Z"
    }
   },
   "outputs": [],
   "source": [
    "df.sample(10).to_clipboard()"
   ]
  },
  {
   "cell_type": "code",
   "execution_count": 5,
   "metadata": {
    "ExecuteTime": {
     "end_time": "2019-09-28T15:19:32.922476Z",
     "start_time": "2019-09-28T15:19:32.910824Z"
    }
   },
   "outputs": [
    {
     "data": {
      "text/plain": [
       "'Action, CallYear, ProjectNumber, MobiilityID, SendingCountry, ReceivingCountry, MobilityType, SpecialNeeds, SubjectAreaCode, SubjectAreaName, CombinedMobilityYesNo, StartDate, EndDate, DurationInMonths, DurationInDays, SubsistenceTravel, LevelOfStudy, ParticipantID, ParticipantGender, ParticipantType, Language, SendingPartnerErasmusID, SendingPartnerName, HostingPartnerErasmusID, HostingPartnerName, HostingPartnerCountry, HostingPartnerCity'"
      ]
     },
     "execution_count": 5,
     "metadata": {},
     "output_type": "execute_result"
    }
   ],
   "source": [
    "\", \".join(df.columns.values)"
   ]
  },
  {
   "cell_type": "code",
   "execution_count": 6,
   "metadata": {
    "ExecuteTime": {
     "end_time": "2019-09-28T15:19:33.160860Z",
     "start_time": "2019-09-28T15:19:32.925223Z"
    }
   },
   "outputs": [],
   "source": [
    "import matplotlib.pyplot as plt\n",
    "%matplotlib inline"
   ]
  },
  {
   "cell_type": "code",
   "execution_count": 7,
   "metadata": {
    "ExecuteTime": {
     "end_time": "2019-09-28T15:19:33.429071Z",
     "start_time": "2019-09-28T15:19:33.163288Z"
    }
   },
   "outputs": [
    {
     "data": {
      "text/plain": [
       "<matplotlib.axes._subplots.AxesSubplot at 0x127627438>"
      ]
     },
     "execution_count": 7,
     "metadata": {},
     "output_type": "execute_result"
    },
    {
     "data": {
      "image/png": "[encoded data removed]",
      "text/plain": [
       "<Figure size 432x288 with 1 Axes>"
      ]
     },
     "metadata": {
      "needs_background": "light"
     },
     "output_type": "display_data"
    }
   ],
   "source": [
    "df.DurationInMonths.value_counts().sort_index().plot(kind=\"bar\")"
   ]
  },
  {
   "cell_type": "code",
   "execution_count": 8,
   "metadata": {
    "ExecuteTime": {
     "end_time": "2019-09-28T15:19:33.632135Z",
     "start_time": "2019-09-28T15:19:33.431161Z"
    }
   },
   "outputs": [
    {
     "data": {
      "text/plain": [
       "<matplotlib.axes._subplots.AxesSubplot at 0x12c59fb38>"
      ]
     },
     "execution_count": 8,
     "metadata": {},
     "output_type": "execute_result"
    },
    {
     "data": {
      "image/png": "[encoded data removed]",
      "text/plain": [
       "<Figure size 432x288 with 1 Axes>"
      ]
     },
     "metadata": {
      "needs_background": "light"
     },
     "output_type": "display_data"
    }
   ],
   "source": [
    "df.DurationInDays.value_counts().sort_index().plot(kind=\"bar\")"
   ]
  },
  {
   "cell_type": "raw",
   "metadata": {},
   "source": [
    "Action                     272497 non-null object\n",
    "CallYear                   272497 non-null int64\n",
    "ProjectNumber              272497 non-null object\n",
    "MobiilityID                272497 non-null object\n",
    "SendingCountry             272497 non-null object\n",
    "ReceivingCountry           272497 non-null object\n",
    "MobilityType               272497 non-null object\n",
    "SpecialNeeds               272497 non-null float64\n",
    "SubjectAreaCode            272497 non-null int64\n",
    "SubjectAreaName            272497 non-null object\n",
    "CombinedMobilityYesNo      212208 non-null object\n",
    "StartDate                  272497 non-null object\n",
    "EndDate                    272497 non-null object\n",
    "DurationInMonths           272497 non-null int64\n",
    "DurationInDays             272497 non-null int64\n",
    "SubsistenceTravel          272497 non-null float64\n",
    "LevelOfStudy               272497 non-null object\n",
    "ParticipantID              222033 non-null object\n",
    "ParticipantGender          272497 non-null object\n",
    "ParticipantType            272497 non-null object\n",
    "Language                   272497 non-null object\n",
    "SendingPartnerErasmusID    272497 non-null object\n",
    "SendingPartnerName         272497 non-null object\n",
    "HostingPartnerErasmusID    218225 non-null object\n",
    "HostingPartnerName         272497 non-null object\n",
    "HostingPartnerCountry      272497 non-null object\n",
    "HostingPartnerCity         272484 non-null object"
   ]
  },
  {
   "cell_type": "code",
   "execution_count": 11,
   "metadata": {
    "ExecuteTime": {
     "end_time": "2019-09-28T15:19:55.417286Z",
     "start_time": "2019-09-28T15:19:55.385494Z"
    }
   },
   "outputs": [
    {
     "data": {
      "text/plain": [
       "Students    272497\n",
       "Name: ParticipantType, dtype: int64"
      ]
     },
     "execution_count": 11,
     "metadata": {},
     "output_type": "execute_result"
    }
   ],
   "source": [
    "df.ParticipantType.value_counts()"
   ]
  },
  {
   "cell_type": "code",
   "execution_count": 12,
   "metadata": {
    "ExecuteTime": {
     "end_time": "2019-09-28T15:20:22.594952Z",
     "start_time": "2019-09-28T15:20:22.566253Z"
    }
   },
   "outputs": [
    {
     "data": {
      "text/plain": [
       "NO     211241\n",
       "YES       967\n",
       "Name: CombinedMobilityYesNo, dtype: int64"
      ]
     },
     "execution_count": 12,
     "metadata": {},
     "output_type": "execute_result"
    }
   ],
   "source": [
    "df.CombinedMobilityYesNo.value_counts()"
   ]
  },
  {
   "cell_type": "code",
   "execution_count": 14,
   "metadata": {
    "ExecuteTime": {
     "end_time": "2019-09-28T15:20:52.817702Z",
     "start_time": "2019-09-28T15:20:52.789471Z"
    }
   },
   "outputs": [
    {
     "data": {
      "text/plain": [
       "count    272497.000000\n",
       "mean       1577.552629\n",
       "std         939.550481\n",
       "min           0.000000\n",
       "25%         993.290000\n",
       "50%        1380.000000\n",
       "75%        1955.800000\n",
       "max       11268.000000\n",
       "Name: SubsistenceTravel, dtype: float64"
      ]
     },
     "execution_count": 14,
     "metadata": {},
     "output_type": "execute_result"
    }
   ],
   "source": [
    "df.SubsistenceTravel.describe()"
   ]
  },
  {
   "cell_type": "code",
   "execution_count": null,
   "metadata": {},
   "outputs": [],
   "source": []
  }
 ],
 "metadata": {
  "kernelspec": {
   "display_name": "Python 3",
   "language": "python",
   "name": "python3"
  },
  "language_info": {
   "codemirror_mode": {
    "name": "ipython",
    "version": 3
   },
   "file_extension": ".py",
   "mimetype": "text/x-python",
   "name": "python",
   "nbconvert_exporter": "python",
   "pygments_lexer": "ipython3",
   "version": "3.6.1"
  }
 },
 "nbformat": 4,
 "nbformat_minor": 2
}
